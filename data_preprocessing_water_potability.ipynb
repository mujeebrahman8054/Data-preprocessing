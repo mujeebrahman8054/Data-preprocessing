{
  "nbformat": 4,
  "nbformat_minor": 0,
  "metadata": {
    "colab": {
      "name": "data preprocessing water potability.ipynb",
      "provenance": [],
      "collapsed_sections": []
    },
    "kernelspec": {
      "name": "python3",
      "display_name": "Python 3"
    },
    "language_info": {
      "name": "python"
    }
  },
  "cells": [
    {
      "cell_type": "code",
      "execution_count": null,
      "metadata": {
        "id": "0q4ZL8oejZEW"
      },
      "outputs": [],
      "source": [
        "import numpy as np\n",
        "import pandas as pd\n",
        "import matplotlib.pyplot as plt\n",
        "import seaborn as sns"
      ]
    },
    {
      "cell_type": "code",
      "source": [
        "data=pd.read_csv('/content/drive/MyDrive/water_potability.csv')"
      ],
      "metadata": {
        "id": "rCseaPUYjnpE"
      },
      "execution_count": null,
      "outputs": []
    },
    {
      "cell_type": "code",
      "source": [
        "data.head()"
      ],
      "metadata": {
        "colab": {
          "base_uri": "https://localhost:8080/",
          "height": 206
        },
        "id": "fCXyO3Swj4rx",
        "outputId": "3baf317f-1c9f-4a88-993e-258eb3d2031a"
      },
      "execution_count": null,
      "outputs": [
        {
          "output_type": "execute_result",
          "data": {
            "text/plain": [
              "         ph    Hardness        Solids  Chloramines     Sulfate  Conductivity  \\\n",
              "0       NaN  204.890455  20791.318981     7.300212  368.516441    564.308654   \n",
              "1  3.716080  129.422921  18630.057858     6.635246         NaN    592.885359   \n",
              "2  8.099124  224.236259  19909.541732     9.275884         NaN    418.606213   \n",
              "3  8.316766  214.373394  22018.417441     8.059332  356.886136    363.266516   \n",
              "4  9.092223  181.101509  17978.986339     6.546600  310.135738    398.410813   \n",
              "\n",
              "   Organic_carbon  Trihalomethanes  Turbidity  Potability  \n",
              "0       10.379783        86.990970   2.963135           0  \n",
              "1       15.180013        56.329076   4.500656           0  \n",
              "2       16.868637        66.420093   3.055934           0  \n",
              "3       18.436524       100.341674   4.628771           0  \n",
              "4       11.558279        31.997993   4.075075           0  "
            ],
            "text/html": [
              "\n",
              "  <div id=\"df-0d9595a6-d4d1-4304-a655-e48e8a936714\">\n",
              "    <div class=\"colab-df-container\">\n",
              "      <div>\n",
              "<style scoped>\n",
              "    .dataframe tbody tr th:only-of-type {\n",
              "        vertical-align: middle;\n",
              "    }\n",
              "\n",
              "    .dataframe tbody tr th {\n",
              "        vertical-align: top;\n",
              "    }\n",
              "\n",
              "    .dataframe thead th {\n",
              "        text-align: right;\n",
              "    }\n",
              "</style>\n",
              "<table border=\"1\" class=\"dataframe\">\n",
              "  <thead>\n",
              "    <tr style=\"text-align: right;\">\n",
              "      <th></th>\n",
              "      <th>ph</th>\n",
              "      <th>Hardness</th>\n",
              "      <th>Solids</th>\n",
              "      <th>Chloramines</th>\n",
              "      <th>Sulfate</th>\n",
              "      <th>Conductivity</th>\n",
              "      <th>Organic_carbon</th>\n",
              "      <th>Trihalomethanes</th>\n",
              "      <th>Turbidity</th>\n",
              "      <th>Potability</th>\n",
              "    </tr>\n",
              "  </thead>\n",
              "  <tbody>\n",
              "    <tr>\n",
              "      <th>0</th>\n",
              "      <td>NaN</td>\n",
              "      <td>204.890455</td>\n",
              "      <td>20791.318981</td>\n",
              "      <td>7.300212</td>\n",
              "      <td>368.516441</td>\n",
              "      <td>564.308654</td>\n",
              "      <td>10.379783</td>\n",
              "      <td>86.990970</td>\n",
              "      <td>2.963135</td>\n",
              "      <td>0</td>\n",
              "    </tr>\n",
              "    <tr>\n",
              "      <th>1</th>\n",
              "      <td>3.716080</td>\n",
              "      <td>129.422921</td>\n",
              "      <td>18630.057858</td>\n",
              "      <td>6.635246</td>\n",
              "      <td>NaN</td>\n",
              "      <td>592.885359</td>\n",
              "      <td>15.180013</td>\n",
              "      <td>56.329076</td>\n",
              "      <td>4.500656</td>\n",
              "      <td>0</td>\n",
              "    </tr>\n",
              "    <tr>\n",
              "      <th>2</th>\n",
              "      <td>8.099124</td>\n",
              "      <td>224.236259</td>\n",
              "      <td>19909.541732</td>\n",
              "      <td>9.275884</td>\n",
              "      <td>NaN</td>\n",
              "      <td>418.606213</td>\n",
              "      <td>16.868637</td>\n",
              "      <td>66.420093</td>\n",
              "      <td>3.055934</td>\n",
              "      <td>0</td>\n",
              "    </tr>\n",
              "    <tr>\n",
              "      <th>3</th>\n",
              "      <td>8.316766</td>\n",
              "      <td>214.373394</td>\n",
              "      <td>22018.417441</td>\n",
              "      <td>8.059332</td>\n",
              "      <td>356.886136</td>\n",
              "      <td>363.266516</td>\n",
              "      <td>18.436524</td>\n",
              "      <td>100.341674</td>\n",
              "      <td>4.628771</td>\n",
              "      <td>0</td>\n",
              "    </tr>\n",
              "    <tr>\n",
              "      <th>4</th>\n",
              "      <td>9.092223</td>\n",
              "      <td>181.101509</td>\n",
              "      <td>17978.986339</td>\n",
              "      <td>6.546600</td>\n",
              "      <td>310.135738</td>\n",
              "      <td>398.410813</td>\n",
              "      <td>11.558279</td>\n",
              "      <td>31.997993</td>\n",
              "      <td>4.075075</td>\n",
              "      <td>0</td>\n",
              "    </tr>\n",
              "  </tbody>\n",
              "</table>\n",
              "</div>\n",
              "      <button class=\"colab-df-convert\" onclick=\"convertToInteractive('df-0d9595a6-d4d1-4304-a655-e48e8a936714')\"\n",
              "              title=\"Convert this dataframe to an interactive table.\"\n",
              "              style=\"display:none;\">\n",
              "        \n",
              "  <svg xmlns=\"http://www.w3.org/2000/svg\" height=\"24px\"viewBox=\"0 0 24 24\"\n",
              "       width=\"24px\">\n",
              "    <path d=\"M0 0h24v24H0V0z\" fill=\"none\"/>\n",
              "    <path d=\"M18.56 5.44l.94 2.06.94-2.06 2.06-.94-2.06-.94-.94-2.06-.94 2.06-2.06.94zm-11 1L8.5 8.5l.94-2.06 2.06-.94-2.06-.94L8.5 2.5l-.94 2.06-2.06.94zm10 10l.94 2.06.94-2.06 2.06-.94-2.06-.94-.94-2.06-.94 2.06-2.06.94z\"/><path d=\"M17.41 7.96l-1.37-1.37c-.4-.4-.92-.59-1.43-.59-.52 0-1.04.2-1.43.59L10.3 9.45l-7.72 7.72c-.78.78-.78 2.05 0 2.83L4 21.41c.39.39.9.59 1.41.59.51 0 1.02-.2 1.41-.59l7.78-7.78 2.81-2.81c.8-.78.8-2.07 0-2.86zM5.41 20L4 18.59l7.72-7.72 1.47 1.35L5.41 20z\"/>\n",
              "  </svg>\n",
              "      </button>\n",
              "      \n",
              "  <style>\n",
              "    .colab-df-container {\n",
              "      display:flex;\n",
              "      flex-wrap:wrap;\n",
              "      gap: 12px;\n",
              "    }\n",
              "\n",
              "    .colab-df-convert {\n",
              "      background-color: #E8F0FE;\n",
              "      border: none;\n",
              "      border-radius: 50%;\n",
              "      cursor: pointer;\n",
              "      display: none;\n",
              "      fill: #1967D2;\n",
              "      height: 32px;\n",
              "      padding: 0 0 0 0;\n",
              "      width: 32px;\n",
              "    }\n",
              "\n",
              "    .colab-df-convert:hover {\n",
              "      background-color: #E2EBFA;\n",
              "      box-shadow: 0px 1px 2px rgba(60, 64, 67, 0.3), 0px 1px 3px 1px rgba(60, 64, 67, 0.15);\n",
              "      fill: #174EA6;\n",
              "    }\n",
              "\n",
              "    [theme=dark] .colab-df-convert {\n",
              "      background-color: #3B4455;\n",
              "      fill: #D2E3FC;\n",
              "    }\n",
              "\n",
              "    [theme=dark] .colab-df-convert:hover {\n",
              "      background-color: #434B5C;\n",
              "      box-shadow: 0px 1px 3px 1px rgba(0, 0, 0, 0.15);\n",
              "      filter: drop-shadow(0px 1px 2px rgba(0, 0, 0, 0.3));\n",
              "      fill: #FFFFFF;\n",
              "    }\n",
              "  </style>\n",
              "\n",
              "      <script>\n",
              "        const buttonEl =\n",
              "          document.querySelector('#df-0d9595a6-d4d1-4304-a655-e48e8a936714 button.colab-df-convert');\n",
              "        buttonEl.style.display =\n",
              "          google.colab.kernel.accessAllowed ? 'block' : 'none';\n",
              "\n",
              "        async function convertToInteractive(key) {\n",
              "          const element = document.querySelector('#df-0d9595a6-d4d1-4304-a655-e48e8a936714');\n",
              "          const dataTable =\n",
              "            await google.colab.kernel.invokeFunction('convertToInteractive',\n",
              "                                                     [key], {});\n",
              "          if (!dataTable) return;\n",
              "\n",
              "          const docLinkHtml = 'Like what you see? Visit the ' +\n",
              "            '<a target=\"_blank\" href=https://colab.research.google.com/notebooks/data_table.ipynb>data table notebook</a>'\n",
              "            + ' to learn more about interactive tables.';\n",
              "          element.innerHTML = '';\n",
              "          dataTable['output_type'] = 'display_data';\n",
              "          await google.colab.output.renderOutput(dataTable, element);\n",
              "          const docLink = document.createElement('div');\n",
              "          docLink.innerHTML = docLinkHtml;\n",
              "          element.appendChild(docLink);\n",
              "        }\n",
              "      </script>\n",
              "    </div>\n",
              "  </div>\n",
              "  "
            ]
          },
          "metadata": {},
          "execution_count": 48
        }
      ]
    },
    {
      "cell_type": "code",
      "source": [
        "data.info"
      ],
      "metadata": {
        "colab": {
          "base_uri": "https://localhost:8080/"
        },
        "id": "lcVK2SmCj7YB",
        "outputId": "d28a14b5-5238-4ad9-b869-ed818dbed930"
      },
      "execution_count": null,
      "outputs": [
        {
          "output_type": "execute_result",
          "data": {
            "text/plain": [
              "<bound method DataFrame.info of             ph    Hardness        Solids  Chloramines     Sulfate  \\\n",
              "0          NaN  204.890455  20791.318981     7.300212  368.516441   \n",
              "1     3.716080  129.422921  18630.057858     6.635246         NaN   \n",
              "2     8.099124  224.236259  19909.541732     9.275884         NaN   \n",
              "3     8.316766  214.373394  22018.417441     8.059332  356.886136   \n",
              "4     9.092223  181.101509  17978.986339     6.546600  310.135738   \n",
              "...        ...         ...           ...          ...         ...   \n",
              "3271  4.668102  193.681735  47580.991603     7.166639  359.948574   \n",
              "3272  7.808856  193.553212  17329.802160     8.061362         NaN   \n",
              "3273  9.419510  175.762646  33155.578218     7.350233         NaN   \n",
              "3274  5.126763  230.603758  11983.869376     6.303357         NaN   \n",
              "3275  7.874671  195.102299  17404.177061     7.509306         NaN   \n",
              "\n",
              "      Conductivity  Organic_carbon  Trihalomethanes  Turbidity  Potability  \n",
              "0       564.308654       10.379783        86.990970   2.963135           0  \n",
              "1       592.885359       15.180013        56.329076   4.500656           0  \n",
              "2       418.606213       16.868637        66.420093   3.055934           0  \n",
              "3       363.266516       18.436524       100.341674   4.628771           0  \n",
              "4       398.410813       11.558279        31.997993   4.075075           0  \n",
              "...            ...             ...              ...        ...         ...  \n",
              "3271    526.424171       13.894419        66.687695   4.435821           1  \n",
              "3272    392.449580       19.903225              NaN   2.798243           1  \n",
              "3273    432.044783       11.039070        69.845400   3.298875           1  \n",
              "3274    402.883113       11.168946        77.488213   4.708658           1  \n",
              "3275    327.459760       16.140368        78.698446   2.309149           1  \n",
              "\n",
              "[3276 rows x 10 columns]>"
            ]
          },
          "metadata": {},
          "execution_count": 49
        }
      ]
    },
    {
      "cell_type": "code",
      "source": [
        "data.isna().sum()"
      ],
      "metadata": {
        "colab": {
          "base_uri": "https://localhost:8080/"
        },
        "id": "p6ifsqwnkH37",
        "outputId": "0891dfc2-9413-4bff-9de6-08bbd6095a45"
      },
      "execution_count": null,
      "outputs": [
        {
          "output_type": "execute_result",
          "data": {
            "text/plain": [
              "ph                 491\n",
              "Hardness             0\n",
              "Solids               0\n",
              "Chloramines          0\n",
              "Sulfate            781\n",
              "Conductivity         0\n",
              "Organic_carbon       0\n",
              "Trihalomethanes    162\n",
              "Turbidity            0\n",
              "Potability           0\n",
              "dtype: int64"
            ]
          },
          "metadata": {},
          "execution_count": 50
        }
      ]
    },
    {
      "cell_type": "code",
      "source": [
        "data.dtypes"
      ],
      "metadata": {
        "colab": {
          "base_uri": "https://localhost:8080/"
        },
        "id": "Lp5y1bxgkxqG",
        "outputId": "feb284ee-1cb1-4087-aa0c-fae75e3a9033"
      },
      "execution_count": null,
      "outputs": [
        {
          "output_type": "execute_result",
          "data": {
            "text/plain": [
              "ph                 float64\n",
              "Hardness           float64\n",
              "Solids             float64\n",
              "Chloramines        float64\n",
              "Sulfate            float64\n",
              "Conductivity       float64\n",
              "Organic_carbon     float64\n",
              "Trihalomethanes    float64\n",
              "Turbidity          float64\n",
              "Potability           int64\n",
              "dtype: object"
            ]
          },
          "metadata": {},
          "execution_count": 51
        }
      ]
    },
    {
      "cell_type": "code",
      "source": [
        "for i in ['ph','Sulfate','Trihalomethanes']:\n",
        "  data[i]=data[i].fillna(data[i].median())"
      ],
      "metadata": {
        "id": "z7r5s903lOwm"
      },
      "execution_count": null,
      "outputs": []
    },
    {
      "cell_type": "code",
      "source": [
        "data.isna().sum()"
      ],
      "metadata": {
        "colab": {
          "base_uri": "https://localhost:8080/"
        },
        "id": "qMoDB9bwl0V7",
        "outputId": "2e6f9968-ba31-47d2-98d9-30db26a546fb"
      },
      "execution_count": null,
      "outputs": [
        {
          "output_type": "execute_result",
          "data": {
            "text/plain": [
              "ph                 0\n",
              "Hardness           0\n",
              "Solids             0\n",
              "Chloramines        0\n",
              "Sulfate            0\n",
              "Conductivity       0\n",
              "Organic_carbon     0\n",
              "Trihalomethanes    0\n",
              "Turbidity          0\n",
              "Potability         0\n",
              "dtype: int64"
            ]
          },
          "metadata": {},
          "execution_count": 53
        }
      ]
    },
    {
      "cell_type": "code",
      "source": [
        "data.head()"
      ],
      "metadata": {
        "colab": {
          "base_uri": "https://localhost:8080/",
          "height": 206
        },
        "id": "EZ9QMxkBnHeN",
        "outputId": "e90b6bc9-e6b2-4c26-bdc1-7ea6cf31e3e6"
      },
      "execution_count": null,
      "outputs": [
        {
          "output_type": "execute_result",
          "data": {
            "text/plain": [
              "         ph    Hardness        Solids  Chloramines     Sulfate  Conductivity  \\\n",
              "0  7.036752  204.890455  20791.318981     7.300212  368.516441    564.308654   \n",
              "1  3.716080  129.422921  18630.057858     6.635246  333.073546    592.885359   \n",
              "2  8.099124  224.236259  19909.541732     9.275884  333.073546    418.606213   \n",
              "3  8.316766  214.373394  22018.417441     8.059332  356.886136    363.266516   \n",
              "4  9.092223  181.101509  17978.986339     6.546600  310.135738    398.410813   \n",
              "\n",
              "   Organic_carbon  Trihalomethanes  Turbidity  Potability  \n",
              "0       10.379783        86.990970   2.963135           0  \n",
              "1       15.180013        56.329076   4.500656           0  \n",
              "2       16.868637        66.420093   3.055934           0  \n",
              "3       18.436524       100.341674   4.628771           0  \n",
              "4       11.558279        31.997993   4.075075           0  "
            ],
            "text/html": [
              "\n",
              "  <div id=\"df-feaeb9c3-3102-4d21-8f11-cf5ce32c3f6c\">\n",
              "    <div class=\"colab-df-container\">\n",
              "      <div>\n",
              "<style scoped>\n",
              "    .dataframe tbody tr th:only-of-type {\n",
              "        vertical-align: middle;\n",
              "    }\n",
              "\n",
              "    .dataframe tbody tr th {\n",
              "        vertical-align: top;\n",
              "    }\n",
              "\n",
              "    .dataframe thead th {\n",
              "        text-align: right;\n",
              "    }\n",
              "</style>\n",
              "<table border=\"1\" class=\"dataframe\">\n",
              "  <thead>\n",
              "    <tr style=\"text-align: right;\">\n",
              "      <th></th>\n",
              "      <th>ph</th>\n",
              "      <th>Hardness</th>\n",
              "      <th>Solids</th>\n",
              "      <th>Chloramines</th>\n",
              "      <th>Sulfate</th>\n",
              "      <th>Conductivity</th>\n",
              "      <th>Organic_carbon</th>\n",
              "      <th>Trihalomethanes</th>\n",
              "      <th>Turbidity</th>\n",
              "      <th>Potability</th>\n",
              "    </tr>\n",
              "  </thead>\n",
              "  <tbody>\n",
              "    <tr>\n",
              "      <th>0</th>\n",
              "      <td>7.036752</td>\n",
              "      <td>204.890455</td>\n",
              "      <td>20791.318981</td>\n",
              "      <td>7.300212</td>\n",
              "      <td>368.516441</td>\n",
              "      <td>564.308654</td>\n",
              "      <td>10.379783</td>\n",
              "      <td>86.990970</td>\n",
              "      <td>2.963135</td>\n",
              "      <td>0</td>\n",
              "    </tr>\n",
              "    <tr>\n",
              "      <th>1</th>\n",
              "      <td>3.716080</td>\n",
              "      <td>129.422921</td>\n",
              "      <td>18630.057858</td>\n",
              "      <td>6.635246</td>\n",
              "      <td>333.073546</td>\n",
              "      <td>592.885359</td>\n",
              "      <td>15.180013</td>\n",
              "      <td>56.329076</td>\n",
              "      <td>4.500656</td>\n",
              "      <td>0</td>\n",
              "    </tr>\n",
              "    <tr>\n",
              "      <th>2</th>\n",
              "      <td>8.099124</td>\n",
              "      <td>224.236259</td>\n",
              "      <td>19909.541732</td>\n",
              "      <td>9.275884</td>\n",
              "      <td>333.073546</td>\n",
              "      <td>418.606213</td>\n",
              "      <td>16.868637</td>\n",
              "      <td>66.420093</td>\n",
              "      <td>3.055934</td>\n",
              "      <td>0</td>\n",
              "    </tr>\n",
              "    <tr>\n",
              "      <th>3</th>\n",
              "      <td>8.316766</td>\n",
              "      <td>214.373394</td>\n",
              "      <td>22018.417441</td>\n",
              "      <td>8.059332</td>\n",
              "      <td>356.886136</td>\n",
              "      <td>363.266516</td>\n",
              "      <td>18.436524</td>\n",
              "      <td>100.341674</td>\n",
              "      <td>4.628771</td>\n",
              "      <td>0</td>\n",
              "    </tr>\n",
              "    <tr>\n",
              "      <th>4</th>\n",
              "      <td>9.092223</td>\n",
              "      <td>181.101509</td>\n",
              "      <td>17978.986339</td>\n",
              "      <td>6.546600</td>\n",
              "      <td>310.135738</td>\n",
              "      <td>398.410813</td>\n",
              "      <td>11.558279</td>\n",
              "      <td>31.997993</td>\n",
              "      <td>4.075075</td>\n",
              "      <td>0</td>\n",
              "    </tr>\n",
              "  </tbody>\n",
              "</table>\n",
              "</div>\n",
              "      <button class=\"colab-df-convert\" onclick=\"convertToInteractive('df-feaeb9c3-3102-4d21-8f11-cf5ce32c3f6c')\"\n",
              "              title=\"Convert this dataframe to an interactive table.\"\n",
              "              style=\"display:none;\">\n",
              "        \n",
              "  <svg xmlns=\"http://www.w3.org/2000/svg\" height=\"24px\"viewBox=\"0 0 24 24\"\n",
              "       width=\"24px\">\n",
              "    <path d=\"M0 0h24v24H0V0z\" fill=\"none\"/>\n",
              "    <path d=\"M18.56 5.44l.94 2.06.94-2.06 2.06-.94-2.06-.94-.94-2.06-.94 2.06-2.06.94zm-11 1L8.5 8.5l.94-2.06 2.06-.94-2.06-.94L8.5 2.5l-.94 2.06-2.06.94zm10 10l.94 2.06.94-2.06 2.06-.94-2.06-.94-.94-2.06-.94 2.06-2.06.94z\"/><path d=\"M17.41 7.96l-1.37-1.37c-.4-.4-.92-.59-1.43-.59-.52 0-1.04.2-1.43.59L10.3 9.45l-7.72 7.72c-.78.78-.78 2.05 0 2.83L4 21.41c.39.39.9.59 1.41.59.51 0 1.02-.2 1.41-.59l7.78-7.78 2.81-2.81c.8-.78.8-2.07 0-2.86zM5.41 20L4 18.59l7.72-7.72 1.47 1.35L5.41 20z\"/>\n",
              "  </svg>\n",
              "      </button>\n",
              "      \n",
              "  <style>\n",
              "    .colab-df-container {\n",
              "      display:flex;\n",
              "      flex-wrap:wrap;\n",
              "      gap: 12px;\n",
              "    }\n",
              "\n",
              "    .colab-df-convert {\n",
              "      background-color: #E8F0FE;\n",
              "      border: none;\n",
              "      border-radius: 50%;\n",
              "      cursor: pointer;\n",
              "      display: none;\n",
              "      fill: #1967D2;\n",
              "      height: 32px;\n",
              "      padding: 0 0 0 0;\n",
              "      width: 32px;\n",
              "    }\n",
              "\n",
              "    .colab-df-convert:hover {\n",
              "      background-color: #E2EBFA;\n",
              "      box-shadow: 0px 1px 2px rgba(60, 64, 67, 0.3), 0px 1px 3px 1px rgba(60, 64, 67, 0.15);\n",
              "      fill: #174EA6;\n",
              "    }\n",
              "\n",
              "    [theme=dark] .colab-df-convert {\n",
              "      background-color: #3B4455;\n",
              "      fill: #D2E3FC;\n",
              "    }\n",
              "\n",
              "    [theme=dark] .colab-df-convert:hover {\n",
              "      background-color: #434B5C;\n",
              "      box-shadow: 0px 1px 3px 1px rgba(0, 0, 0, 0.15);\n",
              "      filter: drop-shadow(0px 1px 2px rgba(0, 0, 0, 0.3));\n",
              "      fill: #FFFFFF;\n",
              "    }\n",
              "  </style>\n",
              "\n",
              "      <script>\n",
              "        const buttonEl =\n",
              "          document.querySelector('#df-feaeb9c3-3102-4d21-8f11-cf5ce32c3f6c button.colab-df-convert');\n",
              "        buttonEl.style.display =\n",
              "          google.colab.kernel.accessAllowed ? 'block' : 'none';\n",
              "\n",
              "        async function convertToInteractive(key) {\n",
              "          const element = document.querySelector('#df-feaeb9c3-3102-4d21-8f11-cf5ce32c3f6c');\n",
              "          const dataTable =\n",
              "            await google.colab.kernel.invokeFunction('convertToInteractive',\n",
              "                                                     [key], {});\n",
              "          if (!dataTable) return;\n",
              "\n",
              "          const docLinkHtml = 'Like what you see? Visit the ' +\n",
              "            '<a target=\"_blank\" href=https://colab.research.google.com/notebooks/data_table.ipynb>data table notebook</a>'\n",
              "            + ' to learn more about interactive tables.';\n",
              "          element.innerHTML = '';\n",
              "          dataTable['output_type'] = 'display_data';\n",
              "          await google.colab.output.renderOutput(dataTable, element);\n",
              "          const docLink = document.createElement('div');\n",
              "          docLink.innerHTML = docLinkHtml;\n",
              "          element.appendChild(docLink);\n",
              "        }\n",
              "      </script>\n",
              "    </div>\n",
              "  </div>\n",
              "  "
            ]
          },
          "metadata": {},
          "execution_count": 54
        }
      ]
    },
    {
      "cell_type": "code",
      "source": [
        "plt.boxplot(data['ph'])\n",
        "plt.title('Box plot of ph')"
      ],
      "metadata": {
        "colab": {
          "base_uri": "https://localhost:8080/",
          "height": 298
        },
        "id": "PJXkAlwjnKT3",
        "outputId": "6a7ca99a-1c93-4f36-aed7-6756255038ab"
      },
      "execution_count": null,
      "outputs": [
        {
          "output_type": "execute_result",
          "data": {
            "text/plain": [
              "Text(0.5, 1.0, 'Box plot of ph')"
            ]
          },
          "metadata": {},
          "execution_count": 55
        },
        {
          "output_type": "display_data",
          "data": {
            "text/plain": [
              "<Figure size 432x288 with 1 Axes>"
            ],
            "image/png": "[encoded data removed]"
          },
          "metadata": {
            "needs_background": "light"
          }
        }
      ]
    },
    {
      "cell_type": "code",
      "source": [
        "q1=np.percentile(data['ph'],25,interpolation='midpoint')\n",
        "q2=np.percentile(data['ph'],50,interpolation='midpoint')\n",
        "q3=np.percentile(data['ph'],75,interpolation='midpoint')\n",
        "print(q1)\n",
        "print(q2)\n",
        "print(q3)"
      ],
      "metadata": {
        "colab": {
          "base_uri": "https://localhost:8080/"
        },
        "id": "oGyKeckonVzP",
        "outputId": "9e911c53-c67e-43fe-e15e-9d61d5e1b90b"
      },
      "execution_count": null,
      "outputs": [
        {
          "output_type": "stream",
          "name": "stdout",
          "text": [
            "6.277602788378159\n",
            "7.036752103833548\n",
            "7.8703176409554345\n"
          ]
        }
      ]
    },
    {
      "cell_type": "code",
      "source": [
        "iqr=q3-q1\n",
        "low_limit=q1-1.5*iqr\n",
        "up_limit=q3+1.5*iqr\n",
        "\n",
        "print(low_limit)\n",
        "print(up_limit)"
      ],
      "metadata": {
        "colab": {
          "base_uri": "https://localhost:8080/"
        },
        "id": "f6n6BL6SndjM",
        "outputId": "9f8295ad-b90a-422e-99ee-638482a3aba2"
      },
      "execution_count": null,
      "outputs": [
        {
          "output_type": "stream",
          "name": "stdout",
          "text": [
            "3.888530509512246\n",
            "10.259389919821349\n"
          ]
        }
      ]
    },
    {
      "cell_type": "code",
      "source": [
        "outlier=[]\n",
        "for X in data['ph']:\n",
        "   if((X>up_limit) or (X<low_limit)):\n",
        "     outlier.append(X)\n",
        "\n",
        "outlier"
      ],
      "metadata": {
        "colab": {
          "base_uri": "https://localhost:8080/"
        },
        "id": "mPzQc0kBvsZR",
        "outputId": "988fdc67-e4fd-4187-d70b-8e5c1a9f8dbc"
      },
      "execution_count": null,
      "outputs": [
        {
          "output_type": "execute_result",
          "data": {
            "text/plain": [
              "[3.71608007538699,\n",
              " 11.180284470721592,\n",
              " 3.4450618643852127,\n",
              " 10.43329098280438,\n",
              " 3.641629777473381,\n",
              " 10.68296642580598,\n",
              " 10.560744636218196,\n",
              " 3.514545528745279,\n",
              " 3.72250048593372,\n",
              " 1.844538366498842,\n",
              " 2.612035914817261,\n",
              " 3.388090610523891,\n",
              " 10.308477656813704,\n",
              " 11.180694664461903,\n",
              " 3.719791644371925,\n",
              " 11.26782838471403,\n",
              " 3.664710561719395,\n",
              " 13.175401724233025,\n",
              " 10.761897799889317,\n",
              " 10.356118827208377,\n",
              " 3.882631081313793,\n",
              " 11.301793996392291,\n",
              " 3.657123132566738,\n",
              " 3.551579176967154,\n",
              " 2.798549098862777,\n",
              " 10.272444272154384,\n",
              " 10.46450247726032,\n",
              " 10.316400384553162,\n",
              " 3.841205038045167,\n",
              " 3.41035967073924,\n",
              " 10.509668629307154,\n",
              " 3.623165848258656,\n",
              " 1.757037115490783,\n",
              " 3.681076270548827,\n",
              " 3.633162828862528,\n",
              " 10.26843050116335,\n",
              " 0.2274990502021987,\n",
              " 3.4264503676355647,\n",
              " 10.53809844277246,\n",
              " 11.89807802974039,\n",
              " 10.268414718941344,\n",
              " 10.90507641006552,\n",
              " 0.9899122128791388,\n",
              " 10.695532491586295,\n",
              " 10.632909606071516,\n",
              " 10.282067974894762,\n",
              " 10.678056255643256,\n",
              " 10.386132934434618,\n",
              " 10.811289500397242,\n",
              " 10.581385987628256,\n",
              " 11.0278798626952,\n",
              " 3.3445885334830234,\n",
              " 10.774318090075074,\n",
              " 10.41504401364904,\n",
              " 11.24450714270002,\n",
              " 10.486808416025616,\n",
              " 3.7921257317804,\n",
              " 3.637170625355805,\n",
              " 10.55027327313621,\n",
              " 2.690831240408815,\n",
              " 3.783043638411448,\n",
              " 3.84681432776782,\n",
              " 3.433874059145088,\n",
              " 12.246928068519756,\n",
              " 2.5692435620279186,\n",
              " 11.53488049111763,\n",
              " 10.378108203556572,\n",
              " 3.5908223640059966,\n",
              " 10.301571270693753,\n",
              " 3.434855759978651,\n",
              " 10.848130421433211,\n",
              " 10.351742528378832,\n",
              " 3.8788793890688,\n",
              " 3.8464539500942263,\n",
              " 13.999999999999998,\n",
              " 10.28412608414158,\n",
              " 11.568767965914164,\n",
              " 3.717703934990307,\n",
              " 3.715171359884693,\n",
              " 10.504760200011273,\n",
              " 3.6919326929347136,\n",
              " 2.803563057437167,\n",
              " 2.5581027992200664,\n",
              " 10.577930500044534,\n",
              " 10.391942387040755,\n",
              " 3.798391049424724,\n",
              " 11.235425957161038,\n",
              " 10.628820911367818,\n",
              " 10.524601982194516,\n",
              " 2.974429410478532,\n",
              " 10.490744032724807,\n",
              " 2.538115773481364,\n",
              " 3.800431282307122,\n",
              " 2.9454690611226875,\n",
              " 11.069456289054555,\n",
              " 10.887304994821244,\n",
              " 3.14871228517616,\n",
              " 11.219134743203494,\n",
              " 3.854617678402051,\n",
              " 3.2309731059187423,\n",
              " 11.907739829669833,\n",
              " 3.4223941642163864,\n",
              " 10.600589992057158,\n",
              " 2.376768075959951,\n",
              " 3.6768449933847727,\n",
              " 3.2728200975185464,\n",
              " 13.54124023656798,\n",
              " 10.94747263615245,\n",
              " 3.762097646306431,\n",
              " 3.795132905042617,\n",
              " 13.349888560662292,\n",
              " 1.4317815547427415,\n",
              " 10.851860346886728,\n",
              " 3.2616697873910208,\n",
              " 11.563169064627823,\n",
              " 0.975577989772022,\n",
              " 2.9251743203391,\n",
              " 10.893484732796878,\n",
              " 11.496702452694173,\n",
              " 10.933110723500878,\n",
              " 3.832917408963562,\n",
              " 3.730128006866974,\n",
              " 3.678431807207628,\n",
              " 3.1020755653395566,\n",
              " 10.33127327592513,\n",
              " 0.0,\n",
              " 11.496858885301972,\n",
              " 11.62114013448698,\n",
              " 10.337670863581334,\n",
              " 10.289379606190511,\n",
              " 11.39054310956363,\n",
              " 10.81783107643296,\n",
              " 2.1285314339651724,\n",
              " 1.985383359263048,\n",
              " 3.3376289979634506,\n",
              " 11.449739296302305,\n",
              " 10.503786538570878,\n",
              " 10.485603647205735,\n",
              " 10.667363934157889,\n",
              " 10.808156938842764,\n",
              " 3.629922064880713,\n",
              " 11.491010908391427]"
            ]
          },
          "metadata": {},
          "execution_count": 58
        }
      ]
    },
    {
      "cell_type": "code",
      "source": [
        "ind1=data['ph']>up_limit\n",
        "data.loc[ind1].index"
      ],
      "metadata": {
        "colab": {
          "base_uri": "https://localhost:8080/"
        },
        "id": "lvfJABpqv3Mz",
        "outputId": "c9ba1b1f-6f2b-4837-b882-ac3308fd3b65"
      },
      "execution_count": null,
      "outputs": [
        {
          "output_type": "execute_result",
          "data": {
            "text/plain": [
              "Int64Index([   9,   32,   47,   54,  125,  128,  204,  263,  278,  283,  317,\n",
              "             376,  446,  469,  647,  725,  768,  783,  795,  805,  871,  886,\n",
              "             908,  924,  935,  939,  957, 1023, 1155, 1158, 1162, 1164, 1227,\n",
              "            1303, 1353, 1412, 1441, 1449, 1451, 2075, 2082, 2096, 2119, 2212,\n",
              "            2230, 2263, 2280, 2282, 2336, 2478, 2512, 2586, 2646, 2670, 2868,\n",
              "            2876, 2895, 2901, 2925, 2943, 2945, 2970, 2997, 3017, 3020, 3021,\n",
              "            3060, 3078, 3081, 3108, 3142, 3233, 3246, 3249, 3269],\n",
              "           dtype='int64')"
            ]
          },
          "metadata": {},
          "execution_count": 59
        }
      ]
    },
    {
      "cell_type": "code",
      "source": [
        "data.drop([9,   32,   47,   54,  125,  128,  204,  263,  278,  283,  317,\n",
        "             376,  446,  469,  647,  725,  768,  783,  795,  805,  871,  886,\n",
        "             908,  924,  935,  939,  957, 1023, 1155, 1158, 1162, 1164, 1227,\n",
        "            1303, 1353, 1412, 1441, 1449, 1451, 2075, 2082, 2096, 2119, 2212,\n",
        "            2230, 2263, 2280, 2282, 2336, 2478, 2512, 2586, 2646, 2670, 2868,\n",
        "            2876, 2895, 2901, 2925, 2943, 2945, 2970, 2997, 3017, 3020, 3021,\n",
        "            3060, 3078, 3081, 3108, 3142, 3233, 3246, 3249, 3269],inplace=True)"
      ],
      "metadata": {
        "id": "wnA5vp-4wCQ2"
      },
      "execution_count": null,
      "outputs": []
    },
    {
      "cell_type": "code",
      "source": [
        "#data.drop(data.loc[ind1].index)"
      ],
      "metadata": {
        "id": "oqSJX-X82cVN"
      },
      "execution_count": null,
      "outputs": []
    },
    {
      "cell_type": "code",
      "source": [
        "ind2=data['ph']<low_limit\n",
        "data.loc[ind2].index"
      ],
      "metadata": {
        "colab": {
          "base_uri": "https://localhost:8080/"
        },
        "id": "fL7gNkkCwOE_",
        "outputId": "e61fd61d-8b7e-46ce-ec1c-c2fbf4009d86"
      },
      "execution_count": null,
      "outputs": [
        {
          "output_type": "execute_result",
          "data": {
            "text/plain": [
              "Int64Index([   1,   26,   36,   76,   77,   80,  104,  113,  194,  234,  285,\n",
              "             326,  347,  354,  540,  546,  681,  692,  712,  721,  726,  756,\n",
              "             810, 1068, 1165, 1182, 1231, 1244, 1269, 1301, 1343, 1414, 1448,\n",
              "            1851, 2053, 2099, 2112, 2141, 2165, 2189, 2261, 2300, 2343, 2400,\n",
              "            2473, 2546, 2612, 2631, 2655, 2681, 2694, 2699, 2891, 2892, 2899,\n",
              "            2907, 2928, 2932, 2986, 2987, 2989, 2993, 3014, 3088, 3094, 3107,\n",
              "            3261],\n",
              "           dtype='int64')"
            ]
          },
          "metadata": {},
          "execution_count": 62
        }
      ]
    },
    {
      "cell_type": "code",
      "source": [
        "data.drop([  1,   26,   36,   76,   77,   80,  104,  113,  194,  234,  285,\n",
        "             326,  347,  354,  540,  546,  681,  692,  712,  721,  726,  756,\n",
        "             810, 1068, 1165, 1182, 1231, 1244, 1269, 1301, 1343, 1414, 1448,\n",
        "            1851, 2053, 2099, 2112, 2141, 2165, 2189, 2261, 2300, 2343, 2400,\n",
        "            2473, 2546, 2612, 2631, 2655, 2681, 2694, 2699, 2891, 2892, 2899,\n",
        "            2907, 2928, 2932, 2986, 2987, 2989, 2993, 3014, 3088, 3094, 3107,\n",
        "            3261],inplace=True)"
      ],
      "metadata": {
        "id": "5tnnlh2RwXOw"
      },
      "execution_count": null,
      "outputs": []
    },
    {
      "cell_type": "code",
      "source": [
        "plt.boxplot(data['ph'])\n",
        "plt.title('Box plot of ph')"
      ],
      "metadata": {
        "colab": {
          "base_uri": "https://localhost:8080/",
          "height": 298
        },
        "id": "hfp8xrQGwjmv",
        "outputId": "9f236bf0-09ed-4cca-9229-03ba23d65367"
      },
      "execution_count": null,
      "outputs": [
        {
          "output_type": "execute_result",
          "data": {
            "text/plain": [
              "Text(0.5, 1.0, 'Box plot of ph')"
            ]
          },
          "metadata": {},
          "execution_count": 64
        },
        {
          "output_type": "display_data",
          "data": {
            "text/plain": [
              "<Figure size 432x288 with 1 Axes>"
            ],
            "image/png": "[encoded data removed]"
          },
          "metadata": {
            "needs_background": "light"
          }
        }
      ]
    },
    {
      "cell_type": "code",
      "source": [
        "plt.boxplot(data['Sulfate'])\n",
        "plt.title('box plot of sulfate')"
      ],
      "metadata": {
        "colab": {
          "base_uri": "https://localhost:8080/",
          "height": 298
        },
        "id": "UlmZR5EM3lA-",
        "outputId": "dfb432a3-5dff-4446-d660-567a59c1bc31"
      },
      "execution_count": null,
      "outputs": [
        {
          "output_type": "execute_result",
          "data": {
            "text/plain": [
              "Text(0.5, 1.0, 'box plot of sulfate')"
            ]
          },
          "metadata": {},
          "execution_count": 65
        },
        {
          "output_type": "display_data",
          "data": {
            "text/plain": [
              "<Figure size 432x288 with 1 Axes>"
            ],
            "image/png": "[encoded data removed]"
          },
          "metadata": {
            "needs_background": "light"
          }
        }
      ]
    },
    {
      "cell_type": "code",
      "source": [
        "q1=np.percentile(data['Sulfate'],25,interpolation='midpoint')\n",
        "q2=np.percentile(data['Sulfate'],50,interpolation='midpoint')\n",
        "q3=np.percentile(data['Sulfate'],75,interpolation='midpoint')\n",
        "print(q1)\n",
        "print(q2)\n",
        "print(q3)"
      ],
      "metadata": {
        "colab": {
          "base_uri": "https://localhost:8080/"
        },
        "id": "HIpiBFbg4PZS",
        "outputId": "1e1147ae-8ccd-4ed4-f243-850cb50a9470"
      },
      "execution_count": null,
      "outputs": [
        {
          "output_type": "stream",
          "name": "stdout",
          "text": [
            "317.1272236635249\n",
            "333.073545745888\n",
            "350.44924068259127\n"
          ]
        }
      ]
    },
    {
      "cell_type": "code",
      "source": [
        "iqr=q3-q1\n",
        "low_limit=q1-1.5*iqr\n",
        "up_limit=q3+1.5*iqr\n",
        "\n",
        "print(low_limit)\n",
        "print(up_limit)"
      ],
      "metadata": {
        "colab": {
          "base_uri": "https://localhost:8080/"
        },
        "id": "nX_4drsx4Vxn",
        "outputId": "37ca8239-f598-454a-9b30-48bd12ad8ebc"
      },
      "execution_count": null,
      "outputs": [
        {
          "output_type": "stream",
          "name": "stdout",
          "text": [
            "267.1441981349253\n",
            "400.43226621119084\n"
          ]
        }
      ]
    },
    {
      "cell_type": "code",
      "source": [
        "outlier=[]\n",
        "for X in data['Sulfate']:\n",
        "   if((X>up_limit) or (X<low_limit)):\n",
        "     outlier.append(X)\n",
        "\n",
        "outlier  "
      ],
      "metadata": {
        "colab": {
          "base_uri": "https://localhost:8080/"
        },
        "id": "by3ojzFv4kaq",
        "outputId": "0391ed0d-6b7b-4c90-8f88-4076faa3f4d3"
      },
      "execution_count": null,
      "outputs": [
        {
          "output_type": "execute_result",
          "data": {
            "text/plain": [
              "[247.2008260476431,\n",
              " 266.9084282807846,\n",
              " 426.5435897565111,\n",
              " 241.60753233585075,\n",
              " 433.9522119479901,\n",
              " 240.93672213751188,\n",
              " 424.7879958935085,\n",
              " 261.44479767930693,\n",
              " 258.3128793986873,\n",
              " 259.37332176941635,\n",
              " 234.85269925804803,\n",
              " 416.0834805385996,\n",
              " 187.1707143624393,\n",
              " 432.5563849636954,\n",
              " 247.33541192889663,\n",
              " 192.0335916758116,\n",
              " 180.20674636482343,\n",
              " 243.48594183486807,\n",
              " 259.9799661706749,\n",
              " 255.04319358074315,\n",
              " 233.79258796565057,\n",
              " 412.6901113506213,\n",
              " 259.16496516577706,\n",
              " 258.1911841475428,\n",
              " 262.06455140067135,\n",
              " 256.6300681797868,\n",
              " 444.9705519713224,\n",
              " 414.6367262353186,\n",
              " 182.39737024563613,\n",
              " 217.0006070682694,\n",
              " 407.2965498146374,\n",
              " 187.42413089573412,\n",
              " 404.60998206731705,\n",
              " 253.8305521524881,\n",
              " 209.47105843525284,\n",
              " 258.392682912011,\n",
              " 256.47383860292905,\n",
              " 422.9904130190936,\n",
              " 262.52645596294246,\n",
              " 435.6727646007556,\n",
              " 223.23581613133052,\n",
              " 429.0223118319998,\n",
              " 224.21250304477925,\n",
              " 245.95425295135877,\n",
              " 415.2870721724372,\n",
              " 402.49939282930575,\n",
              " 445.9383911976929,\n",
              " 229.57556091890592,\n",
              " 405.32001567447753,\n",
              " 230.55585580745375,\n",
              " 211.85159230220145,\n",
              " 422.4456807653023,\n",
              " 252.23132963398223,\n",
              " 246.94261132183635,\n",
              " 424.6889940773884,\n",
              " 409.2862102681366,\n",
              " 266.1099928126103,\n",
              " 244.28514512284767,\n",
              " 421.34318649952496,\n",
              " 251.06238395824928,\n",
              " 409.9884607959119,\n",
              " 240.1985047508843,\n",
              " 253.15846862252465,\n",
              " 244.7951979260926,\n",
              " 219.14893472568303,\n",
              " 419.8811751415976,\n",
              " 265.4311206198224,\n",
              " 413.5603780775337,\n",
              " 255.97674557859452,\n",
              " 405.4034233007637,\n",
              " 248.09475894507975,\n",
              " 257.2765540574624,\n",
              " 258.03885201408383,\n",
              " 219.55343679747216,\n",
              " 227.3484603094109,\n",
              " 421.7220244980987,\n",
              " 234.2856214451352,\n",
              " 260.771025560722,\n",
              " 406.0476089009569,\n",
              " 259.00994483668075,\n",
              " 262.0950222276679,\n",
              " 455.4512337131526,\n",
              " 261.2677066187353,\n",
              " 260.26120564084937,\n",
              " 259.2052741242635,\n",
              " 409.380908413492,\n",
              " 415.92789828900055,\n",
              " 400.669601473237,\n",
              " 239.9119021206672,\n",
              " 203.4445207741574,\n",
              " 408.5912084282966,\n",
              " 245.72894850146668,\n",
              " 418.3094305908338,\n",
              " 423.9520283347408,\n",
              " 261.06800576180075,\n",
              " 417.9118369316284,\n",
              " 401.73739204707954,\n",
              " 429.8143221517852,\n",
              " 247.9348552726031,\n",
              " 411.1006916798007,\n",
              " 429.0456197400511,\n",
              " 418.4705513025052,\n",
              " 206.247229446338,\n",
              " 252.46648472775968,\n",
              " 441.5876537823701,\n",
              " 475.7374601531338,\n",
              " 260.42560464845405,\n",
              " 259.5347190007475,\n",
              " 129.00000000000003,\n",
              " 247.1800381287815,\n",
              " 462.4742150404136,\n",
              " 248.3043909176847,\n",
              " 421.4860891671315,\n",
              " 423.8762969891143,\n",
              " 421.3939899810464,\n",
              " 436.2940711606477,\n",
              " 241.44691729106995,\n",
              " 476.5397173325516,\n",
              " 408.24267034225727,\n",
              " 261.2133169865367,\n",
              " 254.72993196834415,\n",
              " 256.59045112674505,\n",
              " 417.6024458054152,\n",
              " 266.8031230536763,\n",
              " 425.71033074346553,\n",
              " 406.0380682312573,\n",
              " 449.2676875055576,\n",
              " 423.1874849381351,\n",
              " 234.6098078374307,\n",
              " 225.5166278231677,\n",
              " 247.6457432305505,\n",
              " 255.5446783507184,\n",
              " 411.58083006043455,\n",
              " 405.1693860001742,\n",
              " 264.28506897579734,\n",
              " 460.1070689926536,\n",
              " 409.50195321714193,\n",
              " 427.1845083490263,\n",
              " 445.3595466581445,\n",
              " 266.5622105144656,\n",
              " 458.441072258561,\n",
              " 400.6917742597565,\n",
              " 415.4508100950871,\n",
              " 404.1043121423805,\n",
              " 404.3430765072107,\n",
              " 214.4608337745459,\n",
              " 256.08951680458495,\n",
              " 248.71196339107,\n",
              " 433.6338999149112,\n",
              " 417.24538778736473,\n",
              " 418.4942436177372,\n",
              " 263.26841625114685,\n",
              " 416.6983846311437,\n",
              " 403.788429906366,\n",
              " 251.3839436816425,\n",
              " 437.5922998268262,\n",
              " 414.85578396069553,\n",
              " 207.89048227407596,\n",
              " 264.91604619167606,\n",
              " 261.3570408464161,\n",
              " 439.7879384247585,\n",
              " 251.44349970246384,\n",
              " 252.10892512246252,\n",
              " 262.9957563531879,\n",
              " 240.89762892316972,\n",
              " 266.6393835960964,\n",
              " 407.3120823862237,\n",
              " 417.3402677215761,\n",
              " 401.2688320163843,\n",
              " 257.4594811240221,\n",
              " 410.3586729981245,\n",
              " 423.0459737672505,\n",
              " 416.5305326507604,\n",
              " 405.2955591337692,\n",
              " 263.90053754071926,\n",
              " 263.453489772792,\n",
              " 264.6435334809822,\n",
              " 265.34711082559403,\n",
              " 416.94919433972905,\n",
              " 232.54881350488503,\n",
              " 447.41796235990216,\n",
              " 237.51745555960457,\n",
              " 402.3134270638057,\n",
              " 405.5273371997452,\n",
              " 406.3289206993476,\n",
              " 408.8559023762276,\n",
              " 205.93509063777853,\n",
              " 408.4178655793511,\n",
              " 408.1232545376626,\n",
              " 427.3778015902359,\n",
              " 416.4952131291,\n",
              " 253.4335055124074,\n",
              " 238.4465643028421,\n",
              " 233.87032745359195,\n",
              " 400.8960233338551,\n",
              " 481.0306423059972,\n",
              " 262.57204204579494,\n",
              " 433.0215060974389,\n",
              " 410.4592723125703,\n",
              " 416.8885268904612,\n",
              " 258.4442941492116,\n",
              " 437.6471625321793,\n",
              " 419.7164116688447,\n",
              " 412.03712025958697,\n",
              " 418.2472281011371,\n",
              " 253.5802344856185,\n",
              " 241.12629768934127,\n",
              " 433.6943202459282,\n",
              " 263.40125835281054,\n",
              " 435.1151885656065,\n",
              " 231.0536871188208,\n",
              " 450.9144544082035,\n",
              " 403.3423898821915,\n",
              " 412.40727797286064,\n",
              " 418.2409428398651,\n",
              " 422.7690683261634,\n",
              " 418.9550102706045,\n",
              " 227.66563528463143,\n",
              " 254.35880116793825,\n",
              " 404.672920868325,\n",
              " 253.48122792295464,\n",
              " 413.10219826509183,\n",
              " 426.1575185722385,\n",
              " 235.7709818536182,\n",
              " 441.8267766287,\n",
              " 424.30212248301314,\n",
              " 440.6355091006933,\n",
              " 263.4827277048108,\n",
              " 411.2852513442516,\n",
              " 257.1486503886936,\n",
              " 244.0862569192538,\n",
              " 409.918701703617,\n",
              " 231.72422478606265,\n",
              " 446.72401618621694,\n",
              " 252.06726719561703,\n",
              " 265.4687493853259,\n",
              " 259.1221313561398,\n",
              " 407.4768487074137,\n",
              " 402.836817024057,\n",
              " 409.5863729956303,\n",
              " 426.5000221524479,\n",
              " 263.8764707538205,\n",
              " 238.8440036875379,\n",
              " 419.2163045218507,\n",
              " 267.0260928274,\n",
              " 416.2627986734816,\n",
              " 405.8298937913429,\n",
              " 406.4761192954583,\n",
              " 407.4179772431136,\n",
              " 413.9140005224453,\n",
              " 254.04097685166928,\n",
              " 264.0528385406219]"
            ]
          },
          "metadata": {},
          "execution_count": 68
        }
      ]
    },
    {
      "cell_type": "code",
      "source": [
        "ind1=data['Sulfate']>up_limit\n",
        "data.loc[ind1].index"
      ],
      "metadata": {
        "colab": {
          "base_uri": "https://localhost:8080/"
        },
        "id": "KfiircQk5Bl_",
        "outputId": "5b4a1c7d-dede-4cf4-c622-ed20b8406931"
      },
      "execution_count": null,
      "outputs": [
        {
          "output_type": "execute_result",
          "data": {
            "text/plain": [
              "Int64Index([   0,    2,    3,    4,    5,    6,    7,    8,   10,   11,\n",
              "            ...\n",
              "            3265, 3266, 3267, 3268, 3270, 3271, 3272, 3273, 3274, 3275],\n",
              "           dtype='int64', length=2882)"
            ]
          },
          "metadata": {},
          "execution_count": 85
        }
      ]
    },
    {
      "cell_type": "code",
      "source": [
        "data.drop([112, 126, 180, 248, 264, 313, 345, 346, 359, 371, 401, 408, 698, 769, 771, 781, 784, 788, 808, 815, 1074, 1082, 1107, \n",
        "           1120, 1132, 1197, 1252, 1292, 1324, 1329, 1333, 1388, 1401, 1458, 1483, 1484, 1491, 1515, 1518, 1519, 1536, 1537, 1563, \n",
        "           1573, 1579, 1590, 1593, 1605, 1606, 1629, 1635, 1638, 1642, 1649, 1702, 1717, 1743, 1746, 1765, 1766, 1773, 1776, 1784, \n",
        "           1793, 1795, 1831, 1836, 1837, 1842, 1848, 1858, 1859, 1888, 2004, 2054, 2059, 2078, 2084, 2102, 2103, 2137, 2156, 2171, \n",
        "           2177, 2194, 2200, 2206, 2214, 2264, 2270, 2314, 2318, 2334, 2341, 2349, 2363, 2398, 2403, 2409, 2574, 2717, 2726, 2727, \n",
        "           2739, 2747, 2752, 2769, 2788, 2795, 2804, 2811, 2820, 2823, 2826, 2849, 2853,\n",
        "           2912, 2923, 2961, 3012, 3026, 3083, 3084, 3090, 3115, 3116],inplace=True)"
      ],
      "metadata": {
        "colab": {
          "base_uri": "https://localhost:8080/",
          "height": 397
        },
        "id": "l4D6CIR95cjK",
        "outputId": "08603602-e2fa-4898-de8a-1d00eb159bab"
      },
      "execution_count": null,
      "outputs": [
        {
          "output_type": "error",
          "ename": "KeyError",
          "evalue": "ignored",
          "traceback": [
            "\u001b[0;31m---------------------------------------------------------------------------\u001b[0m",
            "\u001b[0;31mKeyError\u001b[0m                                  Traceback (most recent call last)",
            "\u001b[0;32m<ipython-input-90-cb88400f1903>\u001b[0m in \u001b[0;36m<module>\u001b[0;34m()\u001b[0m\n\u001b[1;32m      5\u001b[0m            \u001b[0;36m2177\u001b[0m\u001b[0;34m,\u001b[0m \u001b[0;36m2194\u001b[0m\u001b[0;34m,\u001b[0m \u001b[0;36m2200\u001b[0m\u001b[0;34m,\u001b[0m \u001b[0;36m2206\u001b[0m\u001b[0;34m,\u001b[0m \u001b[0;36m2214\u001b[0m\u001b[0;34m,\u001b[0m \u001b[0;36m2264\u001b[0m\u001b[0;34m,\u001b[0m \u001b[0;36m2270\u001b[0m\u001b[0;34m,\u001b[0m \u001b[0;36m2314\u001b[0m\u001b[0;34m,\u001b[0m \u001b[0;36m2318\u001b[0m\u001b[0;34m,\u001b[0m \u001b[0;36m2334\u001b[0m\u001b[0;34m,\u001b[0m \u001b[0;36m2341\u001b[0m\u001b[0;34m,\u001b[0m \u001b[0;36m2349\u001b[0m\u001b[0;34m,\u001b[0m \u001b[0;36m2363\u001b[0m\u001b[0;34m,\u001b[0m \u001b[0;36m2398\u001b[0m\u001b[0;34m,\u001b[0m \u001b[0;36m2403\u001b[0m\u001b[0;34m,\u001b[0m \u001b[0;36m2409\u001b[0m\u001b[0;34m,\u001b[0m \u001b[0;36m2574\u001b[0m\u001b[0;34m,\u001b[0m \u001b[0;36m2717\u001b[0m\u001b[0;34m,\u001b[0m \u001b[0;36m2726\u001b[0m\u001b[0;34m,\u001b[0m \u001b[0;36m2727\u001b[0m\u001b[0;34m,\u001b[0m\u001b[0;34m\u001b[0m\u001b[0;34m\u001b[0m\u001b[0m\n\u001b[1;32m      6\u001b[0m            \u001b[0;36m2739\u001b[0m\u001b[0;34m,\u001b[0m \u001b[0;36m2747\u001b[0m\u001b[0;34m,\u001b[0m \u001b[0;36m2752\u001b[0m\u001b[0;34m,\u001b[0m \u001b[0;36m2769\u001b[0m\u001b[0;34m,\u001b[0m \u001b[0;36m2788\u001b[0m\u001b[0;34m,\u001b[0m \u001b[0;36m2795\u001b[0m\u001b[0;34m,\u001b[0m \u001b[0;36m2804\u001b[0m\u001b[0;34m,\u001b[0m \u001b[0;36m2811\u001b[0m\u001b[0;34m,\u001b[0m \u001b[0;36m2820\u001b[0m\u001b[0;34m,\u001b[0m \u001b[0;36m2823\u001b[0m\u001b[0;34m,\u001b[0m \u001b[0;36m2826\u001b[0m\u001b[0;34m,\u001b[0m \u001b[0;36m2849\u001b[0m\u001b[0;34m,\u001b[0m \u001b[0;36m2853\u001b[0m\u001b[0;34m,\u001b[0m\u001b[0;34m\u001b[0m\u001b[0;34m\u001b[0m\u001b[0m\n\u001b[0;32m----> 7\u001b[0;31m            2912, 2923, 2961, 3012, 3026, 3083, 3084, 3090, 3115, 3116],inplace=True)\n\u001b[0m",
            "\u001b[0;32m/usr/local/lib/python3.7/dist-packages/pandas/util/_decorators.py\u001b[0m in \u001b[0;36mwrapper\u001b[0;34m(*args, **kwargs)\u001b[0m\n\u001b[1;32m    309\u001b[0m                     \u001b[0mstacklevel\u001b[0m\u001b[0;34m=\u001b[0m\u001b[0mstacklevel\u001b[0m\u001b[0;34m,\u001b[0m\u001b[0;34m\u001b[0m\u001b[0;34m\u001b[0m\u001b[0m\n\u001b[1;32m    310\u001b[0m                 )\n\u001b[0;32m--> 311\u001b[0;31m             \u001b[0;32mreturn\u001b[0m \u001b[0mfunc\u001b[0m\u001b[0;34m(\u001b[0m\u001b[0;34m*\u001b[0m\u001b[0margs\u001b[0m\u001b[0;34m,\u001b[0m \u001b[0;34m**\u001b[0m\u001b[0mkwargs\u001b[0m\u001b[0;34m)\u001b[0m\u001b[0;34m\u001b[0m\u001b[0;34m\u001b[0m\u001b[0m\n\u001b[0m\u001b[1;32m    312\u001b[0m \u001b[0;34m\u001b[0m\u001b[0m\n\u001b[1;32m    313\u001b[0m         \u001b[0;32mreturn\u001b[0m \u001b[0mwrapper\u001b[0m\u001b[0;34m\u001b[0m\u001b[0;34m\u001b[0m\u001b[0m\n",
            "\u001b[0;32m/usr/local/lib/python3.7/dist-packages/pandas/core/frame.py\u001b[0m in \u001b[0;36mdrop\u001b[0;34m(self, labels, axis, index, columns, level, inplace, errors)\u001b[0m\n\u001b[1;32m   4911\u001b[0m             \u001b[0mlevel\u001b[0m\u001b[0;34m=\u001b[0m\u001b[0mlevel\u001b[0m\u001b[0;34m,\u001b[0m\u001b[0;34m\u001b[0m\u001b[0;34m\u001b[0m\u001b[0m\n\u001b[1;32m   4912\u001b[0m             \u001b[0minplace\u001b[0m\u001b[0;34m=\u001b[0m\u001b[0minplace\u001b[0m\u001b[0;34m,\u001b[0m\u001b[0;34m\u001b[0m\u001b[0;34m\u001b[0m\u001b[0m\n\u001b[0;32m-> 4913\u001b[0;31m             \u001b[0merrors\u001b[0m\u001b[0;34m=\u001b[0m\u001b[0merrors\u001b[0m\u001b[0;34m,\u001b[0m\u001b[0;34m\u001b[0m\u001b[0;34m\u001b[0m\u001b[0m\n\u001b[0m\u001b[1;32m   4914\u001b[0m         )\n\u001b[1;32m   4915\u001b[0m \u001b[0;34m\u001b[0m\u001b[0m\n",
            "\u001b[0;32m/usr/local/lib/python3.7/dist-packages/pandas/core/generic.py\u001b[0m in \u001b[0;36mdrop\u001b[0;34m(self, labels, axis, index, columns, level, inplace, errors)\u001b[0m\n\u001b[1;32m   4148\u001b[0m         \u001b[0;32mfor\u001b[0m \u001b[0maxis\u001b[0m\u001b[0;34m,\u001b[0m \u001b[0mlabels\u001b[0m \u001b[0;32min\u001b[0m \u001b[0maxes\u001b[0m\u001b[0;34m.\u001b[0m\u001b[0mitems\u001b[0m\u001b[0;34m(\u001b[0m\u001b[0;34m)\u001b[0m\u001b[0;34m:\u001b[0m\u001b[0;34m\u001b[0m\u001b[0;34m\u001b[0m\u001b[0m\n\u001b[1;32m   4149\u001b[0m             \u001b[0;32mif\u001b[0m \u001b[0mlabels\u001b[0m \u001b[0;32mis\u001b[0m \u001b[0;32mnot\u001b[0m \u001b[0;32mNone\u001b[0m\u001b[0;34m:\u001b[0m\u001b[0;34m\u001b[0m\u001b[0;34m\u001b[0m\u001b[0m\n\u001b[0;32m-> 4150\u001b[0;31m                 \u001b[0mobj\u001b[0m \u001b[0;34m=\u001b[0m \u001b[0mobj\u001b[0m\u001b[0;34m.\u001b[0m\u001b[0m_drop_axis\u001b[0m\u001b[0;34m(\u001b[0m\u001b[0mlabels\u001b[0m\u001b[0;34m,\u001b[0m \u001b[0maxis\u001b[0m\u001b[0;34m,\u001b[0m \u001b[0mlevel\u001b[0m\u001b[0;34m=\u001b[0m\u001b[0mlevel\u001b[0m\u001b[0;34m,\u001b[0m \u001b[0merrors\u001b[0m\u001b[0;34m=\u001b[0m\u001b[0merrors\u001b[0m\u001b[0;34m)\u001b[0m\u001b[0;34m\u001b[0m\u001b[0;34m\u001b[0m\u001b[0m\n\u001b[0m\u001b[1;32m   4151\u001b[0m \u001b[0;34m\u001b[0m\u001b[0m\n\u001b[1;32m   4152\u001b[0m         \u001b[0;32mif\u001b[0m \u001b[0minplace\u001b[0m\u001b[0;34m:\u001b[0m\u001b[0;34m\u001b[0m\u001b[0;34m\u001b[0m\u001b[0m\n",
            "\u001b[0;32m/usr/local/lib/python3.7/dist-packages/pandas/core/generic.py\u001b[0m in \u001b[0;36m_drop_axis\u001b[0;34m(self, labels, axis, level, errors)\u001b[0m\n\u001b[1;32m   4183\u001b[0m                 \u001b[0mnew_axis\u001b[0m \u001b[0;34m=\u001b[0m \u001b[0maxis\u001b[0m\u001b[0;34m.\u001b[0m\u001b[0mdrop\u001b[0m\u001b[0;34m(\u001b[0m\u001b[0mlabels\u001b[0m\u001b[0;34m,\u001b[0m \u001b[0mlevel\u001b[0m\u001b[0;34m=\u001b[0m\u001b[0mlevel\u001b[0m\u001b[0;34m,\u001b[0m \u001b[0merrors\u001b[0m\u001b[0;34m=\u001b[0m\u001b[0merrors\u001b[0m\u001b[0;34m)\u001b[0m\u001b[0;34m\u001b[0m\u001b[0;34m\u001b[0m\u001b[0m\n\u001b[1;32m   4184\u001b[0m             \u001b[0;32melse\u001b[0m\u001b[0;34m:\u001b[0m\u001b[0;34m\u001b[0m\u001b[0;34m\u001b[0m\u001b[0m\n\u001b[0;32m-> 4185\u001b[0;31m                 \u001b[0mnew_axis\u001b[0m \u001b[0;34m=\u001b[0m \u001b[0maxis\u001b[0m\u001b[0;34m.\u001b[0m\u001b[0mdrop\u001b[0m\u001b[0;34m(\u001b[0m\u001b[0mlabels\u001b[0m\u001b[0;34m,\u001b[0m \u001b[0merrors\u001b[0m\u001b[0;34m=\u001b[0m\u001b[0merrors\u001b[0m\u001b[0;34m)\u001b[0m\u001b[0;34m\u001b[0m\u001b[0;34m\u001b[0m\u001b[0m\n\u001b[0m\u001b[1;32m   4186\u001b[0m             \u001b[0mresult\u001b[0m \u001b[0;34m=\u001b[0m \u001b[0mself\u001b[0m\u001b[0;34m.\u001b[0m\u001b[0mreindex\u001b[0m\u001b[0;34m(\u001b[0m\u001b[0;34m**\u001b[0m\u001b[0;34m{\u001b[0m\u001b[0maxis_name\u001b[0m\u001b[0;34m:\u001b[0m \u001b[0mnew_axis\u001b[0m\u001b[0;34m}\u001b[0m\u001b[0;34m)\u001b[0m\u001b[0;34m\u001b[0m\u001b[0;34m\u001b[0m\u001b[0m\n\u001b[1;32m   4187\u001b[0m \u001b[0;34m\u001b[0m\u001b[0m\n",
            "\u001b[0;32m/usr/local/lib/python3.7/dist-packages/pandas/core/indexes/base.py\u001b[0m in \u001b[0;36mdrop\u001b[0;34m(self, labels, errors)\u001b[0m\n\u001b[1;32m   6015\u001b[0m         \u001b[0;32mif\u001b[0m \u001b[0mmask\u001b[0m\u001b[0;34m.\u001b[0m\u001b[0many\u001b[0m\u001b[0;34m(\u001b[0m\u001b[0;34m)\u001b[0m\u001b[0;34m:\u001b[0m\u001b[0;34m\u001b[0m\u001b[0;34m\u001b[0m\u001b[0m\n\u001b[1;32m   6016\u001b[0m             \u001b[0;32mif\u001b[0m \u001b[0merrors\u001b[0m \u001b[0;34m!=\u001b[0m \u001b[0;34m\"ignore\"\u001b[0m\u001b[0;34m:\u001b[0m\u001b[0;34m\u001b[0m\u001b[0;34m\u001b[0m\u001b[0m\n\u001b[0;32m-> 6017\u001b[0;31m                 \u001b[0;32mraise\u001b[0m \u001b[0mKeyError\u001b[0m\u001b[0;34m(\u001b[0m\u001b[0;34mf\"{labels[mask]} not found in axis\"\u001b[0m\u001b[0;34m)\u001b[0m\u001b[0;34m\u001b[0m\u001b[0;34m\u001b[0m\u001b[0m\n\u001b[0m\u001b[1;32m   6018\u001b[0m             \u001b[0mindexer\u001b[0m \u001b[0;34m=\u001b[0m \u001b[0mindexer\u001b[0m\u001b[0;34m[\u001b[0m\u001b[0;34m~\u001b[0m\u001b[0mmask\u001b[0m\u001b[0;34m]\u001b[0m\u001b[0;34m\u001b[0m\u001b[0;34m\u001b[0m\u001b[0m\n\u001b[1;32m   6019\u001b[0m         \u001b[0;32mreturn\u001b[0m \u001b[0mself\u001b[0m\u001b[0;34m.\u001b[0m\u001b[0mdelete\u001b[0m\u001b[0;34m(\u001b[0m\u001b[0mindexer\u001b[0m\u001b[0;34m)\u001b[0m\u001b[0;34m\u001b[0m\u001b[0;34m\u001b[0m\u001b[0m\n",
            "\u001b[0;31mKeyError\u001b[0m: '[ 112  126  180  248  264  313  345  346  359  371  401  408  698  769\\n  771  781  784  788  808  815 1074 1082 1107 1120 1132 1197 1252 1292\\n 1324 1329 1333 1388 1401 1458 1483 1484 1491 1515 1518 1519 1536 1537\\n 1563 1573 1579 1590 1593 1605 1606 1629 1635 1638 1642 1649 1702 1717\\n 1743 1746 1765 1766 1773 1776 1784 1793 1795 1831 1836 1837 1842 1848\\n 1858 1859 1888 2004 2054 2059 2078 2084 2102 2103 2137 2156 2171 2177\\n 2194 2200 2206 2214 2264 2270 2314 2318 2334 2341 2349 2363 2398 2403\\n 2409 2574 2717 2726 2727 2739 2747 2752 2769 2788 2795 2804 2811 2820\\n 2823 2826 2849 2853 2912 2923 2961 3012 3026 3083 3084 3090 3115 3116] not found in axis'"
          ]
        }
      ]
    },
    {
      "cell_type": "code",
      "source": [
        "ind2=data['Sulfate']<low_limit\n",
        "data.loc[ind2].index"
      ],
      "metadata": {
        "colab": {
          "base_uri": "https://localhost:8080/"
        },
        "id": "crQofHft5nAC",
        "outputId": "6a7a15c5-9d63-4abc-87f3-9f8d9f13c316"
      },
      "execution_count": null,
      "outputs": [
        {
          "output_type": "execute_result",
          "data": {
            "text/plain": [
              "Int64Index([  51,   84,  118,  130,  199,  206,  216,  227,  253,  270,\n",
              "            ...\n",
              "            2834, 2851, 2857, 2880, 2908, 3018, 3023, 3082, 3162, 3176],\n",
              "           dtype='int64', length=126)"
            ]
          },
          "metadata": {},
          "execution_count": 71
        }
      ]
    },
    {
      "cell_type": "code",
      "source": [
        "data.drop(data.loc[ind2].index,inplace=True)"
      ],
      "metadata": {
        "id": "aWNr_gOx5xem"
      },
      "execution_count": null,
      "outputs": []
    },
    {
      "cell_type": "code",
      "source": [
        "plt.boxplot(data['Sulfate'])\n",
        "plt.title('box plot of sulfate')"
      ],
      "metadata": {
        "colab": {
          "base_uri": "https://localhost:8080/",
          "height": 298
        },
        "id": "zQdQT2p35-YS",
        "outputId": "7f3b9d4f-04f8-4fae-da6f-baa32086084a"
      },
      "execution_count": null,
      "outputs": [
        {
          "output_type": "execute_result",
          "data": {
            "text/plain": [
              "Text(0.5, 1.0, 'box plot of sulfate')"
            ]
          },
          "metadata": {},
          "execution_count": 91
        },
        {
          "output_type": "display_data",
          "data": {
            "text/plain": [
              "<Figure size 432x288 with 1 Axes>"
            ],
            "image/png": "[encoded data removed]"
          },
          "metadata": {
            "needs_background": "light"
          }
        }
      ]
    },
    {
      "cell_type": "code",
      "source": [
        "plt.boxplot(data['Trihalomethanes'])\n",
        "plt.title('box plot of Trihalomethanes')"
      ],
      "metadata": {
        "id": "C8bv20UZ6EEe",
        "colab": {
          "base_uri": "https://localhost:8080/",
          "height": 298
        },
        "outputId": "9ae19eb5-eb83-4cc5-8739-6164325cb8ec"
      },
      "execution_count": null,
      "outputs": [
        {
          "output_type": "execute_result",
          "data": {
            "text/plain": [
              "Text(0.5, 1.0, 'box plot of Trihalomethanes')"
            ]
          },
          "metadata": {},
          "execution_count": 74
        },
        {
          "output_type": "display_data",
          "data": {
            "text/plain": [
              "<Figure size 432x288 with 1 Axes>"
            ],
            "image/png": "[encoded data removed]"
          },
          "metadata": {
            "needs_background": "light"
          }
        }
      ]
    },
    {
      "cell_type": "code",
      "source": [
        "q1=np.percentile(data['Trihalomethanes'],25,interpolation='midpoint')\n",
        "q2=np.percentile(data['Trihalomethanes'],50,interpolation='midpoint')\n",
        "q3=np.percentile(data['Trihalomethanes'],75,interpolation='midpoint')\n",
        "print(q1)\n",
        "print(q2)\n",
        "print(q3)"
      ],
      "metadata": {
        "colab": {
          "base_uri": "https://localhost:8080/"
        },
        "id": "NPeHY-igkHIR",
        "outputId": "c2aa081c-0969-45f4-f90b-fc4bc4cfff6e"
      },
      "execution_count": null,
      "outputs": [
        {
          "output_type": "stream",
          "name": "stdout",
          "text": [
            "56.84292428292124\n",
            "66.62248509808484\n",
            "76.98997365805931\n"
          ]
        }
      ]
    },
    {
      "cell_type": "code",
      "source": [
        "iqr=q3-q1\n",
        "low_limit=q1-1.5*iqr\n",
        "up_limit=q3+1.5*iqr\n",
        "\n",
        "print(low_limit)\n",
        "print(up_limit)"
      ],
      "metadata": {
        "colab": {
          "base_uri": "https://localhost:8080/"
        },
        "id": "IxfkhwBlkaOW",
        "outputId": "5328ae33-d36e-4526-e967-d3834173176a"
      },
      "execution_count": null,
      "outputs": [
        {
          "output_type": "stream",
          "name": "stdout",
          "text": [
            "26.622350220214127\n",
            "107.21054772076643\n"
          ]
        }
      ]
    },
    {
      "cell_type": "code",
      "source": [
        "outlier=[]\n",
        "for X in data['Trihalomethanes']:\n",
        "   if((X>up_limit) or (X<low_limit)):\n",
        "     outlier.append(X)\n",
        "\n",
        "outlier "
      ],
      "metadata": {
        "colab": {
          "base_uri": "https://localhost:8080/"
        },
        "id": "cmHtuVQxkuSm",
        "outputId": "a218cac3-baf6-4e19-e034-b2bdb62e1e5a"
      },
      "execution_count": null,
      "outputs": [
        {
          "output_type": "execute_result",
          "data": {
            "text/plain": [
              "[17.915722569180794,\n",
              " 23.81701990494781,\n",
              " 18.400012185523245,\n",
              " 8.175876384274268,\n",
              " 112.6227330070513,\n",
              " 20.337752642440933,\n",
              " 26.505484036158983,\n",
              " 23.792950469435443,\n",
              " 120.03007700530677,\n",
              " 25.05737465521338,\n",
              " 21.355275176305117,\n",
              " 18.101222170724377,\n",
              " 107.9008419398943,\n",
              " 23.136611018123222,\n",
              " 107.2823286499237,\n",
              " 17.000682933674803,\n",
              " 108.84956802943516,\n",
              " 116.16162156199742,\n",
              " 118.3572747362022,\n",
              " 114.20867137787718,\n",
              " 26.140862695643445,\n",
              " 16.291504596638916,\n",
              " 17.52776496124563,\n",
              " 22.749735036892385,\n",
              " 22.21932677123925,\n",
              " 110.4310803179262,\n",
              " 107.61080622987026,\n",
              " 113.04888566972276,\n",
              " 24.532773339318773,\n",
              " 107.58596693376032,\n",
              " 15.68487680401642,\n",
              " 112.41221043181724,\n",
              " 18.015272358161447,\n",
              " 124.0,\n",
              " 24.91497120838558,\n",
              " 25.061904305979898,\n",
              " 24.73422717774545,\n",
              " 108.2652267903176,\n",
              " 23.07580599653685,\n",
              " 14.343161445011162,\n",
              " 111.11530965742848,\n",
              " 0.7379999999999995,\n",
              " 107.30634311484064,\n",
              " 111.59544769593477,\n",
              " 108.21398129464644,\n",
              " 114.03494570231868]"
            ]
          },
          "metadata": {},
          "execution_count": 77
        }
      ]
    },
    {
      "cell_type": "code",
      "source": [
        "ind1=data['Trihalomethanes']>up_limit\n",
        "data.loc[ind1].index"
      ],
      "metadata": {
        "colab": {
          "base_uri": "https://localhost:8080/"
        },
        "id": "r9C5YQQ3k-fj",
        "outputId": "544cf90a-5f24-4ae3-ae4d-9f63f4113625"
      },
      "execution_count": null,
      "outputs": [
        {
          "output_type": "execute_result",
          "data": {
            "text/plain": [
              "Int64Index([ 350,  531, 1038, 1053, 1081, 1156, 1157, 1316, 1876, 1893, 1962,\n",
              "            2077, 2256, 2376, 2689, 3010, 3101, 3102, 3165, 3184],\n",
              "           dtype='int64')"
            ]
          },
          "metadata": {},
          "execution_count": 78
        }
      ]
    },
    {
      "cell_type": "code",
      "source": [
        "data.drop([350,  531, 1038, 1053, 1081, 1156, 1157, 1316, 1876, 1893, 1962,\n",
        "            2077, 2256, 2376, 2689, 3010, 3101, 3102, 3165, 3184],inplace=True)"
      ],
      "metadata": {
        "id": "fNJYyT2ylrwb"
      },
      "execution_count": null,
      "outputs": []
    },
    {
      "cell_type": "code",
      "source": [
        "ind2=data['Trihalomethanes']<low_limit\n",
        "data.loc[ind2].index"
      ],
      "metadata": {
        "colab": {
          "base_uri": "https://localhost:8080/"
        },
        "id": "IT05EULyl8CT",
        "outputId": "c496e7e2-6c13-4caf-8368-c26e5ec8b9c7"
      },
      "execution_count": null,
      "outputs": [
        {
          "output_type": "execute_result",
          "data": {
            "text/plain": [
              "Int64Index([  61,  133,  245,  330,  374,  377,  518,  630,  719,  951, 1041,\n",
              "            1075, 1337, 1360, 1630, 1699, 1767, 2006, 2121, 2353, 2402, 2490,\n",
              "            2585, 2742, 2949, 3035],\n",
              "           dtype='int64')"
            ]
          },
          "metadata": {},
          "execution_count": 95
        }
      ]
    },
    {
      "cell_type": "code",
      "source": [
        "data.drop([61,  133,  245,  330,  374,  377,  518,  630,  719,  951, 1041,\n",
        "            1075, 1337, 1360, 1630, 1699, 1767, 2006, 2121, 2353, 2402, 2490,\n",
        "            2585, 2742, 2949, 3035],inplace=True)"
      ],
      "metadata": {
        "id": "kjMwuJGamG38"
      },
      "execution_count": null,
      "outputs": []
    },
    {
      "cell_type": "code",
      "source": [
        "plt.boxplot(data['Trihalomethanes'])\n",
        "plt.title('box plot of Trihalomethanes')"
      ],
      "metadata": {
        "colab": {
          "base_uri": "https://localhost:8080/",
          "height": 298
        },
        "id": "LzXIT5B2mUuH",
        "outputId": "24484640-0275-4a47-d8d3-e34242e957be"
      },
      "execution_count": null,
      "outputs": [
        {
          "output_type": "execute_result",
          "data": {
            "text/plain": [
              "Text(0.5, 1.0, 'box plot of Trihalomethanes')"
            ]
          },
          "metadata": {},
          "execution_count": 97
        },
        {
          "output_type": "display_data",
          "data": {
            "text/plain": [
              "<Figure size 432x288 with 1 Axes>"
            ],
            "image/png": "[encoded data removed]"
          },
          "metadata": {
            "needs_background": "light"
          }
        }
      ]
    },
    {
      "cell_type": "code",
      "source": [
        "data=pd.get_dummies(data)\n",
        "data.head()"
      ],
      "metadata": {
        "colab": {
          "base_uri": "https://localhost:8080/",
          "height": 206
        },
        "id": "LKc5E4uamb4D",
        "outputId": "08fe9c1b-9ddc-4909-c8bf-98ccd1656c04"
      },
      "execution_count": null,
      "outputs": [
        {
          "output_type": "execute_result",
          "data": {
            "text/plain": [
              "         ph    Hardness        Solids  Chloramines     Sulfate  Conductivity  \\\n",
              "0  7.036752  204.890455  20791.318981     7.300212  368.516441    564.308654   \n",
              "2  8.099124  224.236259  19909.541732     9.275884  333.073546    418.606213   \n",
              "3  8.316766  214.373394  22018.417441     8.059332  356.886136    363.266516   \n",
              "4  9.092223  181.101509  17978.986339     6.546600  310.135738    398.410813   \n",
              "5  5.584087  188.313324  28748.687739     7.544869  326.678363    280.467916   \n",
              "\n",
              "   Organic_carbon  Trihalomethanes  Turbidity  Potability  \n",
              "0       10.379783        86.990970   2.963135           0  \n",
              "2       16.868637        66.420093   3.055934           0  \n",
              "3       18.436524       100.341674   4.628771           0  \n",
              "4       11.558279        31.997993   4.075075           0  \n",
              "5        8.399735        54.917862   2.559708           0  "
            ],
            "text/html": [
              "\n",
              "  <div id=\"df-44d985ea-9d1c-4024-854f-cdec78c52920\">\n",
              "    <div class=\"colab-df-container\">\n",
              "      <div>\n",
              "<style scoped>\n",
              "    .dataframe tbody tr th:only-of-type {\n",
              "        vertical-align: middle;\n",
              "    }\n",
              "\n",
              "    .dataframe tbody tr th {\n",
              "        vertical-align: top;\n",
              "    }\n",
              "\n",
              "    .dataframe thead th {\n",
              "        text-align: right;\n",
              "    }\n",
              "</style>\n",
              "<table border=\"1\" class=\"dataframe\">\n",
              "  <thead>\n",
              "    <tr style=\"text-align: right;\">\n",
              "      <th></th>\n",
              "      <th>ph</th>\n",
              "      <th>Hardness</th>\n",
              "      <th>Solids</th>\n",
              "      <th>Chloramines</th>\n",
              "      <th>Sulfate</th>\n",
              "      <th>Conductivity</th>\n",
              "      <th>Organic_carbon</th>\n",
              "      <th>Trihalomethanes</th>\n",
              "      <th>Turbidity</th>\n",
              "      <th>Potability</th>\n",
              "    </tr>\n",
              "  </thead>\n",
              "  <tbody>\n",
              "    <tr>\n",
              "      <th>0</th>\n",
              "      <td>7.036752</td>\n",
              "      <td>204.890455</td>\n",
              "      <td>20791.318981</td>\n",
              "      <td>7.300212</td>\n",
              "      <td>368.516441</td>\n",
              "      <td>564.308654</td>\n",
              "      <td>10.379783</td>\n",
              "      <td>86.990970</td>\n",
              "      <td>2.963135</td>\n",
              "      <td>0</td>\n",
              "    </tr>\n",
              "    <tr>\n",
              "      <th>2</th>\n",
              "      <td>8.099124</td>\n",
              "      <td>224.236259</td>\n",
              "      <td>19909.541732</td>\n",
              "      <td>9.275884</td>\n",
              "      <td>333.073546</td>\n",
              "      <td>418.606213</td>\n",
              "      <td>16.868637</td>\n",
              "      <td>66.420093</td>\n",
              "      <td>3.055934</td>\n",
              "      <td>0</td>\n",
              "    </tr>\n",
              "    <tr>\n",
              "      <th>3</th>\n",
              "      <td>8.316766</td>\n",
              "      <td>214.373394</td>\n",
              "      <td>22018.417441</td>\n",
              "      <td>8.059332</td>\n",
              "      <td>356.886136</td>\n",
              "      <td>363.266516</td>\n",
              "      <td>18.436524</td>\n",
              "      <td>100.341674</td>\n",
              "      <td>4.628771</td>\n",
              "      <td>0</td>\n",
              "    </tr>\n",
              "    <tr>\n",
              "      <th>4</th>\n",
              "      <td>9.092223</td>\n",
              "      <td>181.101509</td>\n",
              "      <td>17978.986339</td>\n",
              "      <td>6.546600</td>\n",
              "      <td>310.135738</td>\n",
              "      <td>398.410813</td>\n",
              "      <td>11.558279</td>\n",
              "      <td>31.997993</td>\n",
              "      <td>4.075075</td>\n",
              "      <td>0</td>\n",
              "    </tr>\n",
              "    <tr>\n",
              "      <th>5</th>\n",
              "      <td>5.584087</td>\n",
              "      <td>188.313324</td>\n",
              "      <td>28748.687739</td>\n",
              "      <td>7.544869</td>\n",
              "      <td>326.678363</td>\n",
              "      <td>280.467916</td>\n",
              "      <td>8.399735</td>\n",
              "      <td>54.917862</td>\n",
              "      <td>2.559708</td>\n",
              "      <td>0</td>\n",
              "    </tr>\n",
              "  </tbody>\n",
              "</table>\n",
              "</div>\n",
              "      <button class=\"colab-df-convert\" onclick=\"convertToInteractive('df-44d985ea-9d1c-4024-854f-cdec78c52920')\"\n",
              "              title=\"Convert this dataframe to an interactive table.\"\n",
              "              style=\"display:none;\">\n",
              "        \n",
              "  <svg xmlns=\"http://www.w3.org/2000/svg\" height=\"24px\"viewBox=\"0 0 24 24\"\n",
              "       width=\"24px\">\n",
              "    <path d=\"M0 0h24v24H0V0z\" fill=\"none\"/>\n",
              "    <path d=\"M18.56 5.44l.94 2.06.94-2.06 2.06-.94-2.06-.94-.94-2.06-.94 2.06-2.06.94zm-11 1L8.5 8.5l.94-2.06 2.06-.94-2.06-.94L8.5 2.5l-.94 2.06-2.06.94zm10 10l.94 2.06.94-2.06 2.06-.94-2.06-.94-.94-2.06-.94 2.06-2.06.94z\"/><path d=\"M17.41 7.96l-1.37-1.37c-.4-.4-.92-.59-1.43-.59-.52 0-1.04.2-1.43.59L10.3 9.45l-7.72 7.72c-.78.78-.78 2.05 0 2.83L4 21.41c.39.39.9.59 1.41.59.51 0 1.02-.2 1.41-.59l7.78-7.78 2.81-2.81c.8-.78.8-2.07 0-2.86zM5.41 20L4 18.59l7.72-7.72 1.47 1.35L5.41 20z\"/>\n",
              "  </svg>\n",
              "      </button>\n",
              "      \n",
              "  <style>\n",
              "    .colab-df-container {\n",
              "      display:flex;\n",
              "      flex-wrap:wrap;\n",
              "      gap: 12px;\n",
              "    }\n",
              "\n",
              "    .colab-df-convert {\n",
              "      background-color: #E8F0FE;\n",
              "      border: none;\n",
              "      border-radius: 50%;\n",
              "      cursor: pointer;\n",
              "      display: none;\n",
              "      fill: #1967D2;\n",
              "      height: 32px;\n",
              "      padding: 0 0 0 0;\n",
              "      width: 32px;\n",
              "    }\n",
              "\n",
              "    .colab-df-convert:hover {\n",
              "      background-color: #E2EBFA;\n",
              "      box-shadow: 0px 1px 2px rgba(60, 64, 67, 0.3), 0px 1px 3px 1px rgba(60, 64, 67, 0.15);\n",
              "      fill: #174EA6;\n",
              "    }\n",
              "\n",
              "    [theme=dark] .colab-df-convert {\n",
              "      background-color: #3B4455;\n",
              "      fill: #D2E3FC;\n",
              "    }\n",
              "\n",
              "    [theme=dark] .colab-df-convert:hover {\n",
              "      background-color: #434B5C;\n",
              "      box-shadow: 0px 1px 3px 1px rgba(0, 0, 0, 0.15);\n",
              "      filter: drop-shadow(0px 1px 2px rgba(0, 0, 0, 0.3));\n",
              "      fill: #FFFFFF;\n",
              "    }\n",
              "  </style>\n",
              "\n",
              "      <script>\n",
              "        const buttonEl =\n",
              "          document.querySelector('#df-44d985ea-9d1c-4024-854f-cdec78c52920 button.colab-df-convert');\n",
              "        buttonEl.style.display =\n",
              "          google.colab.kernel.accessAllowed ? 'block' : 'none';\n",
              "\n",
              "        async function convertToInteractive(key) {\n",
              "          const element = document.querySelector('#df-44d985ea-9d1c-4024-854f-cdec78c52920');\n",
              "          const dataTable =\n",
              "            await google.colab.kernel.invokeFunction('convertToInteractive',\n",
              "                                                     [key], {});\n",
              "          if (!dataTable) return;\n",
              "\n",
              "          const docLinkHtml = 'Like what you see? Visit the ' +\n",
              "            '<a target=\"_blank\" href=https://colab.research.google.com/notebooks/data_table.ipynb>data table notebook</a>'\n",
              "            + ' to learn more about interactive tables.';\n",
              "          element.innerHTML = '';\n",
              "          dataTable['output_type'] = 'display_data';\n",
              "          await google.colab.output.renderOutput(dataTable, element);\n",
              "          const docLink = document.createElement('div');\n",
              "          docLink.innerHTML = docLinkHtml;\n",
              "          element.appendChild(docLink);\n",
              "        }\n",
              "      </script>\n",
              "    </div>\n",
              "  </div>\n",
              "  "
            ]
          },
          "metadata": {},
          "execution_count": 98
        }
      ]
    },
    {
      "cell_type": "code",
      "source": [
        "corrmatrix=data.corr()\n",
        "plt.subplots(figsize=(20,8))\n",
        "sns.heatmap(corrmatrix,vmin=0.4,vmax=0.9,annot=True,linewidths=0.2,cmap='YlGnBu')"
      ],
      "metadata": {
        "id": "TAodUXIzmqA7",
        "colab": {
          "base_uri": "https://localhost:8080/",
          "height": 505
        },
        "outputId": "668042e3-694c-4fbd-e1c8-6e00b7a92c91"
      },
      "execution_count": null,
      "outputs": [
        {
          "output_type": "execute_result",
          "data": {
            "text/plain": [
              "<matplotlib.axes._subplots.AxesSubplot at 0x7f921ec8a4d0>"
            ]
          },
          "metadata": {},
          "execution_count": 99
        },
        {
          "output_type": "display_data",
          "data": {
            "text/plain": [
              "<Figure size 1440x576 with 2 Axes>"
            ],
            "image/png": "[encoded data removed]"
          },
          "metadata": {
            "needs_background": "light"
          }
        }
      ]
    },
    {
      "cell_type": "code",
      "source": [
        "y=data['Potability']\n",
        "X=data.drop('Potability',axis=1)"
      ],
      "metadata": {
        "id": "pS5UuUSiL1bd"
      },
      "execution_count": null,
      "outputs": []
    },
    {
      "cell_type": "code",
      "source": [
        "from sklearn.model_selection import train_test_split\n",
        "X_train,X_test,y_train,y_test=train_test_split(X,y,random_state=42,test_size=0.2)"
      ],
      "metadata": {
        "id": "PM7VjrdiMDpI"
      },
      "execution_count": null,
      "outputs": []
    },
    {
      "cell_type": "code",
      "source": [
        "from sklearn import linear_model\n",
        "lr=linear_model.LogisticRegression()\n",
        "model=lr.fit(X_train,y_train)\n",
        "predictions=model.predict(X_test)\n",
        "predictions"
      ],
      "metadata": {
        "colab": {
          "base_uri": "https://localhost:8080/"
        },
        "id": "7JXdPUoOMIAg",
        "outputId": "79c3e999-9ca6-4c95-c0bd-8ae5a6a44002"
      },
      "execution_count": null,
      "outputs": [
        {
          "output_type": "execute_result",
          "data": {
            "text/plain": [
              "array([0, 0, 0, 0, 0, 0, 0, 0, 0, 0, 0, 0, 0, 0, 0, 0, 0, 0, 0, 0, 0, 0,\n",
              "       0, 0, 0, 0, 0, 0, 0, 0, 0, 0, 0, 0, 0, 0, 0, 0, 0, 0, 0, 0, 0, 0,\n",
              "       0, 0, 0, 0, 0, 0, 0, 0, 0, 0, 0, 0, 0, 0, 0, 0, 0, 0, 0, 0, 0, 0,\n",
              "       0, 0, 0, 0, 0, 0, 0, 0, 0, 0, 0, 0, 0, 0, 0, 0, 0, 0, 0, 0, 0, 0,\n",
              "       0, 0, 0, 0, 0, 0, 0, 0, 0, 0, 0, 0, 0, 0, 0, 0, 0, 0, 0, 0, 0, 0,\n",
              "       0, 0, 0, 0, 0, 0, 0, 0, 0, 0, 0, 0, 0, 0, 0, 0, 0, 0, 0, 0, 0, 0,\n",
              "       0, 0, 0, 0, 0, 0, 0, 0, 0, 0, 0, 0, 0, 0, 0, 0, 0, 0, 0, 0, 0, 0,\n",
              "       0, 0, 0, 0, 0, 0, 0, 0, 0, 0, 0, 0, 0, 0, 0, 0, 0, 0, 0, 0, 0, 0,\n",
              "       0, 0, 0, 0, 0, 0, 0, 0, 0, 0, 0, 0, 0, 0, 0, 0, 0, 0, 0, 0, 0, 0,\n",
              "       0, 0, 0, 0, 0, 0, 0, 0, 0, 0, 0, 0, 0, 0, 0, 0, 0, 0, 0, 0, 0, 0,\n",
              "       0, 0, 0, 0, 0, 0, 0, 0, 0, 0, 0, 0, 0, 0, 0, 0, 0, 0, 0, 0, 0, 0,\n",
              "       0, 0, 0, 0, 0, 0, 0, 0, 0, 0, 0, 0, 0, 0, 0, 0, 0, 0, 0, 0, 0, 0,\n",
              "       0, 0, 0, 0, 0, 0, 0, 0, 0, 0, 0, 0, 0, 0, 0, 0, 0, 0, 0, 0, 0, 0,\n",
              "       0, 0, 0, 0, 0, 0, 0, 0, 0, 0, 0, 0, 0, 0, 0, 0, 0, 0, 0, 0, 0, 0,\n",
              "       0, 0, 0, 0, 0, 0, 0, 0, 0, 0, 0, 0, 0, 0, 0, 0, 0, 0, 0, 0, 0, 0,\n",
              "       0, 0, 0, 0, 0, 0, 0, 0, 0, 0, 0, 0, 0, 0, 0, 0, 0, 0, 0, 0, 0, 0,\n",
              "       0, 0, 0, 0, 0, 0, 0, 0, 0, 0, 0, 0, 0, 0, 0, 0, 0, 0, 0, 0, 0, 0,\n",
              "       0, 0, 0, 0, 0, 0, 0, 0, 0, 0, 0, 0, 0, 0, 0, 0, 0, 0, 0, 0, 0, 0,\n",
              "       0, 0, 0, 0, 0, 0, 0, 0, 0, 0, 0, 0, 0, 0, 0, 0, 0, 0, 0, 0, 0, 0,\n",
              "       0, 0, 0, 0, 0, 0, 0, 0, 0, 0, 0, 0, 0, 0, 0, 0, 0, 0, 0, 0, 0, 0,\n",
              "       0, 0, 0, 0, 0, 0, 0, 0, 0, 0, 0, 0, 0, 0, 0, 0, 0, 0, 0, 0, 0, 0,\n",
              "       0, 0, 0, 0, 0, 0, 0, 0, 0, 0, 0, 0, 0, 0, 0, 0, 0, 0, 0, 0, 0, 0,\n",
              "       0, 0, 0, 0, 0, 0, 0, 0, 0, 0, 0, 0, 0, 0, 0, 0, 0, 0, 0, 0, 0, 0,\n",
              "       0, 0, 0, 0, 0, 0, 0, 0, 0, 0, 0, 0, 0, 0, 0, 0, 0, 0, 0, 0, 0, 0,\n",
              "       0, 0, 0, 0, 0, 0, 0, 0, 0, 0, 0, 0, 0, 0, 0, 0, 0, 0, 0, 0, 0, 0,\n",
              "       0, 0, 0, 0, 0, 0, 0, 0, 0, 0, 0, 0, 0, 0, 0, 0, 0, 0])"
            ]
          },
          "metadata": {},
          "execution_count": 102
        }
      ]
    },
    {
      "cell_type": "code",
      "source": [
        "print(y_test)"
      ],
      "metadata": {
        "colab": {
          "base_uri": "https://localhost:8080/"
        },
        "id": "4k8FdePsMNFs",
        "outputId": "139b0c62-1513-400c-d801-e2edca9be64c"
      },
      "execution_count": null,
      "outputs": [
        {
          "output_type": "stream",
          "name": "stdout",
          "text": [
            "490     0\n",
            "1846    0\n",
            "1516    1\n",
            "2615    0\n",
            "2276    0\n",
            "       ..\n",
            "186     0\n",
            "2182    0\n",
            "296     1\n",
            "2045    1\n",
            "1907    1\n",
            "Name: Potability, Length: 568, dtype: int64\n"
          ]
        }
      ]
    },
    {
      "cell_type": "code",
      "source": [
        "from sklearn.metrics import mean_squared_error\n",
        "print('MSC is:',mean_squared_error(y_test,predictions))"
      ],
      "metadata": {
        "colab": {
          "base_uri": "https://localhost:8080/"
        },
        "id": "AdRMN2SFMRsu",
        "outputId": "11e5c15e-d2b6-4a7a-8f79-8ee0fc123de0"
      },
      "execution_count": null,
      "outputs": [
        {
          "output_type": "stream",
          "name": "stdout",
          "text": [
            "MSC is: 0.34683098591549294\n"
          ]
        }
      ]
    },
    {
      "cell_type": "code",
      "source": [
        "from sklearn.metrics import r2_score\n",
        "print('R squared value is :',r2_score(y_test,predictions))"
      ],
      "metadata": {
        "colab": {
          "base_uri": "https://localhost:8080/"
        },
        "id": "T3UxAewcMarm",
        "outputId": "d67ef8aa-e11a-42d1-cef3-301c38070dda"
      },
      "execution_count": null,
      "outputs": [
        {
          "output_type": "stream",
          "name": "stdout",
          "text": [
            "R squared value is : -0.5309973045822105\n"
          ]
        }
      ]
    },
    {
      "cell_type": "code",
      "source": [
        "X.describe()"
      ],
      "metadata": {
        "colab": {
          "base_uri": "https://localhost:8080/",
          "height": 300
        },
        "id": "zNYEv8cUMgVY",
        "outputId": "f05396cd-9cc4-4f3a-d878-73aa1cdef87d"
      },
      "execution_count": null,
      "outputs": [
        {
          "output_type": "execute_result",
          "data": {
            "text/plain": [
              "                ph     Hardness        Solids  Chloramines      Sulfate  \\\n",
              "count  2836.000000  2836.000000   2836.000000  2836.000000  2836.000000   \n",
              "mean      7.071425   197.078371  21789.746988     7.116172   333.560200   \n",
              "std       1.237298    31.126426   8375.000453     1.516075    26.588802   \n",
              "min       3.902476    73.492234    320.942611     1.683993   267.202392   \n",
              "25%       6.336324   178.294976  15732.309141     6.179466   319.375688   \n",
              "50%       7.036752   197.509503  20777.043748     7.121018   333.073546   \n",
              "75%       7.814319   216.418957  27002.973216     8.073607   347.883714   \n",
              "max      10.252816   317.338124  61227.196008    12.912187   400.373526   \n",
              "\n",
              "       Conductivity  Organic_carbon  Trihalomethanes    Turbidity  \n",
              "count   2836.000000     2836.000000      2836.000000  2836.000000  \n",
              "mean     426.275320       14.302979        66.552428     3.957156  \n",
              "std       80.924638        3.302801        14.852799     0.781834  \n",
              "min      181.483754        4.371899        27.559355     1.450000  \n",
              "25%      365.437205       12.066597        57.125641     3.436425  \n",
              "50%      421.926811       14.220645        66.622485     3.939948  \n",
              "75%      482.349100       16.576036        76.666609     4.492202  \n",
              "max      753.342620       28.300000       107.189584     6.739000  "
            ],
            "text/html": [
              "\n",
              "  <div id=\"df-0c389cb1-d74a-4117-8d02-ac31c785f064\">\n",
              "    <div class=\"colab-df-container\">\n",
              "      <div>\n",
              "<style scoped>\n",
              "    .dataframe tbody tr th:only-of-type {\n",
              "        vertical-align: middle;\n",
              "    }\n",
              "\n",
              "    .dataframe tbody tr th {\n",
              "        vertical-align: top;\n",
              "    }\n",
              "\n",
              "    .dataframe thead th {\n",
              "        text-align: right;\n",
              "    }\n",
              "</style>\n",
              "<table border=\"1\" class=\"dataframe\">\n",
              "  <thead>\n",
              "    <tr style=\"text-align: right;\">\n",
              "      <th></th>\n",
              "      <th>ph</th>\n",
              "      <th>Hardness</th>\n",
              "      <th>Solids</th>\n",
              "      <th>Chloramines</th>\n",
              "      <th>Sulfate</th>\n",
              "      <th>Conductivity</th>\n",
              "      <th>Organic_carbon</th>\n",
              "      <th>Trihalomethanes</th>\n",
              "      <th>Turbidity</th>\n",
              "    </tr>\n",
              "  </thead>\n",
              "  <tbody>\n",
              "    <tr>\n",
              "      <th>count</th>\n",
              "      <td>2836.000000</td>\n",
              "      <td>2836.000000</td>\n",
              "      <td>2836.000000</td>\n",
              "      <td>2836.000000</td>\n",
              "      <td>2836.000000</td>\n",
              "      <td>2836.000000</td>\n",
              "      <td>2836.000000</td>\n",
              "      <td>2836.000000</td>\n",
              "      <td>2836.000000</td>\n",
              "    </tr>\n",
              "    <tr>\n",
              "      <th>mean</th>\n",
              "      <td>7.071425</td>\n",
              "      <td>197.078371</td>\n",
              "      <td>21789.746988</td>\n",
              "      <td>7.116172</td>\n",
              "      <td>333.560200</td>\n",
              "      <td>426.275320</td>\n",
              "      <td>14.302979</td>\n",
              "      <td>66.552428</td>\n",
              "      <td>3.957156</td>\n",
              "    </tr>\n",
              "    <tr>\n",
              "      <th>std</th>\n",
              "      <td>1.237298</td>\n",
              "      <td>31.126426</td>\n",
              "      <td>8375.000453</td>\n",
              "      <td>1.516075</td>\n",
              "      <td>26.588802</td>\n",
              "      <td>80.924638</td>\n",
              "      <td>3.302801</td>\n",
              "      <td>14.852799</td>\n",
              "      <td>0.781834</td>\n",
              "    </tr>\n",
              "    <tr>\n",
              "      <th>min</th>\n",
              "      <td>3.902476</td>\n",
              "      <td>73.492234</td>\n",
              "      <td>320.942611</td>\n",
              "      <td>1.683993</td>\n",
              "      <td>267.202392</td>\n",
              "      <td>181.483754</td>\n",
              "      <td>4.371899</td>\n",
              "      <td>27.559355</td>\n",
              "      <td>1.450000</td>\n",
              "    </tr>\n",
              "    <tr>\n",
              "      <th>25%</th>\n",
              "      <td>6.336324</td>\n",
              "      <td>178.294976</td>\n",
              "      <td>15732.309141</td>\n",
              "      <td>6.179466</td>\n",
              "      <td>319.375688</td>\n",
              "      <td>365.437205</td>\n",
              "      <td>12.066597</td>\n",
              "      <td>57.125641</td>\n",
              "      <td>3.436425</td>\n",
              "    </tr>\n",
              "    <tr>\n",
              "      <th>50%</th>\n",
              "      <td>7.036752</td>\n",
              "      <td>197.509503</td>\n",
              "      <td>20777.043748</td>\n",
              "      <td>7.121018</td>\n",
              "      <td>333.073546</td>\n",
              "      <td>421.926811</td>\n",
              "      <td>14.220645</td>\n",
              "      <td>66.622485</td>\n",
              "      <td>3.939948</td>\n",
              "    </tr>\n",
              "    <tr>\n",
              "      <th>75%</th>\n",
              "      <td>7.814319</td>\n",
              "      <td>216.418957</td>\n",
              "      <td>27002.973216</td>\n",
              "      <td>8.073607</td>\n",
              "      <td>347.883714</td>\n",
              "      <td>482.349100</td>\n",
              "      <td>16.576036</td>\n",
              "      <td>76.666609</td>\n",
              "      <td>4.492202</td>\n",
              "    </tr>\n",
              "    <tr>\n",
              "      <th>max</th>\n",
              "      <td>10.252816</td>\n",
              "      <td>317.338124</td>\n",
              "      <td>61227.196008</td>\n",
              "      <td>12.912187</td>\n",
              "      <td>400.373526</td>\n",
              "      <td>753.342620</td>\n",
              "      <td>28.300000</td>\n",
              "      <td>107.189584</td>\n",
              "      <td>6.739000</td>\n",
              "    </tr>\n",
              "  </tbody>\n",
              "</table>\n",
              "</div>\n",
              "      <button class=\"colab-df-convert\" onclick=\"convertToInteractive('df-0c389cb1-d74a-4117-8d02-ac31c785f064')\"\n",
              "              title=\"Convert this dataframe to an interactive table.\"\n",
              "              style=\"display:none;\">\n",
              "        \n",
              "  <svg xmlns=\"http://www.w3.org/2000/svg\" height=\"24px\"viewBox=\"0 0 24 24\"\n",
              "       width=\"24px\">\n",
              "    <path d=\"M0 0h24v24H0V0z\" fill=\"none\"/>\n",
              "    <path d=\"M18.56 5.44l.94 2.06.94-2.06 2.06-.94-2.06-.94-.94-2.06-.94 2.06-2.06.94zm-11 1L8.5 8.5l.94-2.06 2.06-.94-2.06-.94L8.5 2.5l-.94 2.06-2.06.94zm10 10l.94 2.06.94-2.06 2.06-.94-2.06-.94-.94-2.06-.94 2.06-2.06.94z\"/><path d=\"M17.41 7.96l-1.37-1.37c-.4-.4-.92-.59-1.43-.59-.52 0-1.04.2-1.43.59L10.3 9.45l-7.72 7.72c-.78.78-.78 2.05 0 2.83L4 21.41c.39.39.9.59 1.41.59.51 0 1.02-.2 1.41-.59l7.78-7.78 2.81-2.81c.8-.78.8-2.07 0-2.86zM5.41 20L4 18.59l7.72-7.72 1.47 1.35L5.41 20z\"/>\n",
              "  </svg>\n",
              "      </button>\n",
              "      \n",
              "  <style>\n",
              "    .colab-df-container {\n",
              "      display:flex;\n",
              "      flex-wrap:wrap;\n",
              "      gap: 12px;\n",
              "    }\n",
              "\n",
              "    .colab-df-convert {\n",
              "      background-color: #E8F0FE;\n",
              "      border: none;\n",
              "      border-radius: 50%;\n",
              "      cursor: pointer;\n",
              "      display: none;\n",
              "      fill: #1967D2;\n",
              "      height: 32px;\n",
              "      padding: 0 0 0 0;\n",
              "      width: 32px;\n",
              "    }\n",
              "\n",
              "    .colab-df-convert:hover {\n",
              "      background-color: #E2EBFA;\n",
              "      box-shadow: 0px 1px 2px rgba(60, 64, 67, 0.3), 0px 1px 3px 1px rgba(60, 64, 67, 0.15);\n",
              "      fill: #174EA6;\n",
              "    }\n",
              "\n",
              "    [theme=dark] .colab-df-convert {\n",
              "      background-color: #3B4455;\n",
              "      fill: #D2E3FC;\n",
              "    }\n",
              "\n",
              "    [theme=dark] .colab-df-convert:hover {\n",
              "      background-color: #434B5C;\n",
              "      box-shadow: 0px 1px 3px 1px rgba(0, 0, 0, 0.15);\n",
              "      filter: drop-shadow(0px 1px 2px rgba(0, 0, 0, 0.3));\n",
              "      fill: #FFFFFF;\n",
              "    }\n",
              "  </style>\n",
              "\n",
              "      <script>\n",
              "        const buttonEl =\n",
              "          document.querySelector('#df-0c389cb1-d74a-4117-8d02-ac31c785f064 button.colab-df-convert');\n",
              "        buttonEl.style.display =\n",
              "          google.colab.kernel.accessAllowed ? 'block' : 'none';\n",
              "\n",
              "        async function convertToInteractive(key) {\n",
              "          const element = document.querySelector('#df-0c389cb1-d74a-4117-8d02-ac31c785f064');\n",
              "          const dataTable =\n",
              "            await google.colab.kernel.invokeFunction('convertToInteractive',\n",
              "                                                     [key], {});\n",
              "          if (!dataTable) return;\n",
              "\n",
              "          const docLinkHtml = 'Like what you see? Visit the ' +\n",
              "            '<a target=\"_blank\" href=https://colab.research.google.com/notebooks/data_table.ipynb>data table notebook</a>'\n",
              "            + ' to learn more about interactive tables.';\n",
              "          element.innerHTML = '';\n",
              "          dataTable['output_type'] = 'display_data';\n",
              "          await google.colab.output.renderOutput(dataTable, element);\n",
              "          const docLink = document.createElement('div');\n",
              "          docLink.innerHTML = docLinkHtml;\n",
              "          element.appendChild(docLink);\n",
              "        }\n",
              "      </script>\n",
              "    </div>\n",
              "  </div>\n",
              "  "
            ]
          },
          "metadata": {},
          "execution_count": 106
        }
      ]
    },
    {
      "cell_type": "code",
      "source": [
        "type(X)"
      ],
      "metadata": {
        "colab": {
          "base_uri": "https://localhost:8080/"
        },
        "id": "vrkjJ1uuMm_e",
        "outputId": "5433dc43-0798-44d6-d9db-2b02feb78339"
      },
      "execution_count": null,
      "outputs": [
        {
          "output_type": "execute_result",
          "data": {
            "text/plain": [
              "pandas.core.frame.DataFrame"
            ]
          },
          "metadata": {},
          "execution_count": 107
        }
      ]
    },
    {
      "cell_type": "code",
      "source": [
        "from sklearn import preprocessing\n",
        "standards=preprocessing.StandardScaler()\n",
        "X=standards.fit_transform(X)"
      ],
      "metadata": {
        "id": "oAXQHZQ8MrBo"
      },
      "execution_count": null,
      "outputs": []
    },
    {
      "cell_type": "code",
      "source": [
        "X=pd.DataFrame(X)\n",
        "X.describe()"
      ],
      "metadata": {
        "colab": {
          "base_uri": "https://localhost:8080/",
          "height": 300
        },
        "id": "Ef0ByRWtMvJW",
        "outputId": "b747d21f-6b44-4847-a905-89fcedadafce"
      },
      "execution_count": null,
      "outputs": [
        {
          "output_type": "execute_result",
          "data": {
            "text/plain": [
              "                  0             1             2             3             4  \\\n",
              "count  2.836000e+03  2.836000e+03  2.836000e+03  2.836000e+03  2.836000e+03   \n",
              "mean  -4.810444e-16 -8.593659e-16  4.509792e-17  9.295182e-16 -3.607833e-16   \n",
              "std    1.000176e+00  1.000176e+00  1.000176e+00  1.000176e+00  1.000176e+00   \n",
              "min   -2.561637e+00 -3.971157e+00 -2.563891e+00 -3.583686e+00 -2.496145e+00   \n",
              "25%   -5.942231e-01 -6.035614e-01 -7.234037e-01 -6.179584e-01 -5.335710e-01   \n",
              "50%   -2.802833e-02  1.385342e-02 -1.209411e-01  3.196718e-03 -1.830620e-02   \n",
              "75%    6.005216e-01  6.214654e-01  6.225845e-01  6.316333e-01  5.387997e-01   \n",
              "max    2.571693e+00  3.864272e+00  4.709779e+00  3.823713e+00  2.513280e+00   \n",
              "\n",
              "                  5             6             7             8  \n",
              "count  2.836000e+03  2.836000e+03  2.836000e+03  2.836000e+03  \n",
              "mean  -1.052285e-16 -1.590954e-16 -1.002176e-16 -1.084855e-15  \n",
              "std    1.000176e+00  1.000176e+00  1.000176e+00  1.000176e+00  \n",
              "min   -3.025466e+00 -3.007396e+00 -2.625764e+00 -3.207328e+00  \n",
              "25%   -7.519199e-01 -6.772361e-01 -6.347928e-01 -6.661556e-01  \n",
              "50%   -5.374478e-02 -2.493299e-02  4.717565e-03 -2.201378e-02  \n",
              "75%    6.930358e-01  6.883422e-01  6.810813e-01  6.844675e-01  \n",
              "max    4.042341e+00  4.238671e+00  2.736476e+00  3.558727e+00  "
            ],
            "text/html": [
              "\n",
              "  <div id=\"df-3a57228a-160d-4d72-a21f-57626ba4c9f6\">\n",
              "    <div class=\"colab-df-container\">\n",
              "      <div>\n",
              "<style scoped>\n",
              "    .dataframe tbody tr th:only-of-type {\n",
              "        vertical-align: middle;\n",
              "    }\n",
              "\n",
              "    .dataframe tbody tr th {\n",
              "        vertical-align: top;\n",
              "    }\n",
              "\n",
              "    .dataframe thead th {\n",
              "        text-align: right;\n",
              "    }\n",
              "</style>\n",
              "<table border=\"1\" class=\"dataframe\">\n",
              "  <thead>\n",
              "    <tr style=\"text-align: right;\">\n",
              "      <th></th>\n",
              "      <th>0</th>\n",
              "      <th>1</th>\n",
              "      <th>2</th>\n",
              "      <th>3</th>\n",
              "      <th>4</th>\n",
              "      <th>5</th>\n",
              "      <th>6</th>\n",
              "      <th>7</th>\n",
              "      <th>8</th>\n",
              "    </tr>\n",
              "  </thead>\n",
              "  <tbody>\n",
              "    <tr>\n",
              "      <th>count</th>\n",
              "      <td>2.836000e+03</td>\n",
              "      <td>2.836000e+03</td>\n",
              "      <td>2.836000e+03</td>\n",
              "      <td>2.836000e+03</td>\n",
              "      <td>2.836000e+03</td>\n",
              "      <td>2.836000e+03</td>\n",
              "      <td>2.836000e+03</td>\n",
              "      <td>2.836000e+03</td>\n",
              "      <td>2.836000e+03</td>\n",
              "    </tr>\n",
              "    <tr>\n",
              "      <th>mean</th>\n",
              "      <td>-4.810444e-16</td>\n",
              "      <td>-8.593659e-16</td>\n",
              "      <td>4.509792e-17</td>\n",
              "      <td>9.295182e-16</td>\n",
              "      <td>-3.607833e-16</td>\n",
              "      <td>-1.052285e-16</td>\n",
              "      <td>-1.590954e-16</td>\n",
              "      <td>-1.002176e-16</td>\n",
              "      <td>-1.084855e-15</td>\n",
              "    </tr>\n",
              "    <tr>\n",
              "      <th>std</th>\n",
              "      <td>1.000176e+00</td>\n",
              "      <td>1.000176e+00</td>\n",
              "      <td>1.000176e+00</td>\n",
              "      <td>1.000176e+00</td>\n",
              "      <td>1.000176e+00</td>\n",
              "      <td>1.000176e+00</td>\n",
              "      <td>1.000176e+00</td>\n",
              "      <td>1.000176e+00</td>\n",
              "      <td>1.000176e+00</td>\n",
              "    </tr>\n",
              "    <tr>\n",
              "      <th>min</th>\n",
              "      <td>-2.561637e+00</td>\n",
              "      <td>-3.971157e+00</td>\n",
              "      <td>-2.563891e+00</td>\n",
              "      <td>-3.583686e+00</td>\n",
              "      <td>-2.496145e+00</td>\n",
              "      <td>-3.025466e+00</td>\n",
              "      <td>-3.007396e+00</td>\n",
              "      <td>-2.625764e+00</td>\n",
              "      <td>-3.207328e+00</td>\n",
              "    </tr>\n",
              "    <tr>\n",
              "      <th>25%</th>\n",
              "      <td>-5.942231e-01</td>\n",
              "      <td>-6.035614e-01</td>\n",
              "      <td>-7.234037e-01</td>\n",
              "      <td>-6.179584e-01</td>\n",
              "      <td>-5.335710e-01</td>\n",
              "      <td>-7.519199e-01</td>\n",
              "      <td>-6.772361e-01</td>\n",
              "      <td>-6.347928e-01</td>\n",
              "      <td>-6.661556e-01</td>\n",
              "    </tr>\n",
              "    <tr>\n",
              "      <th>50%</th>\n",
              "      <td>-2.802833e-02</td>\n",
              "      <td>1.385342e-02</td>\n",
              "      <td>-1.209411e-01</td>\n",
              "      <td>3.196718e-03</td>\n",
              "      <td>-1.830620e-02</td>\n",
              "      <td>-5.374478e-02</td>\n",
              "      <td>-2.493299e-02</td>\n",
              "      <td>4.717565e-03</td>\n",
              "      <td>-2.201378e-02</td>\n",
              "    </tr>\n",
              "    <tr>\n",
              "      <th>75%</th>\n",
              "      <td>6.005216e-01</td>\n",
              "      <td>6.214654e-01</td>\n",
              "      <td>6.225845e-01</td>\n",
              "      <td>6.316333e-01</td>\n",
              "      <td>5.387997e-01</td>\n",
              "      <td>6.930358e-01</td>\n",
              "      <td>6.883422e-01</td>\n",
              "      <td>6.810813e-01</td>\n",
              "      <td>6.844675e-01</td>\n",
              "    </tr>\n",
              "    <tr>\n",
              "      <th>max</th>\n",
              "      <td>2.571693e+00</td>\n",
              "      <td>3.864272e+00</td>\n",
              "      <td>4.709779e+00</td>\n",
              "      <td>3.823713e+00</td>\n",
              "      <td>2.513280e+00</td>\n",
              "      <td>4.042341e+00</td>\n",
              "      <td>4.238671e+00</td>\n",
              "      <td>2.736476e+00</td>\n",
              "      <td>3.558727e+00</td>\n",
              "    </tr>\n",
              "  </tbody>\n",
              "</table>\n",
              "</div>\n",
              "      <button class=\"colab-df-convert\" onclick=\"convertToInteractive('df-3a57228a-160d-4d72-a21f-57626ba4c9f6')\"\n",
              "              title=\"Convert this dataframe to an interactive table.\"\n",
              "              style=\"display:none;\">\n",
              "        \n",
              "  <svg xmlns=\"http://www.w3.org/2000/svg\" height=\"24px\"viewBox=\"0 0 24 24\"\n",
              "       width=\"24px\">\n",
              "    <path d=\"M0 0h24v24H0V0z\" fill=\"none\"/>\n",
              "    <path d=\"M18.56 5.44l.94 2.06.94-2.06 2.06-.94-2.06-.94-.94-2.06-.94 2.06-2.06.94zm-11 1L8.5 8.5l.94-2.06 2.06-.94-2.06-.94L8.5 2.5l-.94 2.06-2.06.94zm10 10l.94 2.06.94-2.06 2.06-.94-2.06-.94-.94-2.06-.94 2.06-2.06.94z\"/><path d=\"M17.41 7.96l-1.37-1.37c-.4-.4-.92-.59-1.43-.59-.52 0-1.04.2-1.43.59L10.3 9.45l-7.72 7.72c-.78.78-.78 2.05 0 2.83L4 21.41c.39.39.9.59 1.41.59.51 0 1.02-.2 1.41-.59l7.78-7.78 2.81-2.81c.8-.78.8-2.07 0-2.86zM5.41 20L4 18.59l7.72-7.72 1.47 1.35L5.41 20z\"/>\n",
              "  </svg>\n",
              "      </button>\n",
              "      \n",
              "  <style>\n",
              "    .colab-df-container {\n",
              "      display:flex;\n",
              "      flex-wrap:wrap;\n",
              "      gap: 12px;\n",
              "    }\n",
              "\n",
              "    .colab-df-convert {\n",
              "      background-color: #E8F0FE;\n",
              "      border: none;\n",
              "      border-radius: 50%;\n",
              "      cursor: pointer;\n",
              "      display: none;\n",
              "      fill: #1967D2;\n",
              "      height: 32px;\n",
              "      padding: 0 0 0 0;\n",
              "      width: 32px;\n",
              "    }\n",
              "\n",
              "    .colab-df-convert:hover {\n",
              "      background-color: #E2EBFA;\n",
              "      box-shadow: 0px 1px 2px rgba(60, 64, 67, 0.3), 0px 1px 3px 1px rgba(60, 64, 67, 0.15);\n",
              "      fill: #174EA6;\n",
              "    }\n",
              "\n",
              "    [theme=dark] .colab-df-convert {\n",
              "      background-color: #3B4455;\n",
              "      fill: #D2E3FC;\n",
              "    }\n",
              "\n",
              "    [theme=dark] .colab-df-convert:hover {\n",
              "      background-color: #434B5C;\n",
              "      box-shadow: 0px 1px 3px 1px rgba(0, 0, 0, 0.15);\n",
              "      filter: drop-shadow(0px 1px 2px rgba(0, 0, 0, 0.3));\n",
              "      fill: #FFFFFF;\n",
              "    }\n",
              "  </style>\n",
              "\n",
              "      <script>\n",
              "        const buttonEl =\n",
              "          document.querySelector('#df-3a57228a-160d-4d72-a21f-57626ba4c9f6 button.colab-df-convert');\n",
              "        buttonEl.style.display =\n",
              "          google.colab.kernel.accessAllowed ? 'block' : 'none';\n",
              "\n",
              "        async function convertToInteractive(key) {\n",
              "          const element = document.querySelector('#df-3a57228a-160d-4d72-a21f-57626ba4c9f6');\n",
              "          const dataTable =\n",
              "            await google.colab.kernel.invokeFunction('convertToInteractive',\n",
              "                                                     [key], {});\n",
              "          if (!dataTable) return;\n",
              "\n",
              "          const docLinkHtml = 'Like what you see? Visit the ' +\n",
              "            '<a target=\"_blank\" href=https://colab.research.google.com/notebooks/data_table.ipynb>data table notebook</a>'\n",
              "            + ' to learn more about interactive tables.';\n",
              "          element.innerHTML = '';\n",
              "          dataTable['output_type'] = 'display_data';\n",
              "          await google.colab.output.renderOutput(dataTable, element);\n",
              "          const docLink = document.createElement('div');\n",
              "          docLink.innerHTML = docLinkHtml;\n",
              "          element.appendChild(docLink);\n",
              "        }\n",
              "      </script>\n",
              "    </div>\n",
              "  </div>\n",
              "  "
            ]
          },
          "metadata": {},
          "execution_count": 109
        }
      ]
    },
    {
      "cell_type": "code",
      "source": [
        "X_train,X_test,y_train,y_test=train_test_split(X,y, random_state=42,test_size=0.2)\n",
        "lr=linear_model.LogisticRegression()\n",
        "model=lr.fit(X_train,y_train)\n",
        "prediction=model.predict(X_test)\n",
        "print('MSE IS :',mean_squared_error(y_test,prediction))\n",
        "print('R squared value is :',r2_score(y_test,prediction))"
      ],
      "metadata": {
        "colab": {
          "base_uri": "https://localhost:8080/"
        },
        "id": "eA-f6fcdMyrL",
        "outputId": "dbb2f125-9641-420b-e6d9-b77f21685508"
      },
      "execution_count": null,
      "outputs": [
        {
          "output_type": "stream",
          "name": "stdout",
          "text": [
            "MSE IS : 0.34683098591549294\n",
            "R squared value is : -0.5309973045822105\n"
          ]
        }
      ]
    },
    {
      "cell_type": "code",
      "source": [
        "X=data.drop('Potability',axis=1)\n",
        "X.describe()"
      ],
      "metadata": {
        "colab": {
          "base_uri": "https://localhost:8080/",
          "height": 300
        },
        "id": "NqVJwNLNM4Fs",
        "outputId": "a6d8ffd3-3bfd-4970-a193-4d2103ef8e79"
      },
      "execution_count": null,
      "outputs": [
        {
          "output_type": "execute_result",
          "data": {
            "text/plain": [
              "                ph     Hardness        Solids  Chloramines      Sulfate  \\\n",
              "count  2836.000000  2836.000000   2836.000000  2836.000000  2836.000000   \n",
              "mean      7.071425   197.078371  21789.746988     7.116172   333.560200   \n",
              "std       1.237298    31.126426   8375.000453     1.516075    26.588802   \n",
              "min       3.902476    73.492234    320.942611     1.683993   267.202392   \n",
              "25%       6.336324   178.294976  15732.309141     6.179466   319.375688   \n",
              "50%       7.036752   197.509503  20777.043748     7.121018   333.073546   \n",
              "75%       7.814319   216.418957  27002.973216     8.073607   347.883714   \n",
              "max      10.252816   317.338124  61227.196008    12.912187   400.373526   \n",
              "\n",
              "       Conductivity  Organic_carbon  Trihalomethanes    Turbidity  \n",
              "count   2836.000000     2836.000000      2836.000000  2836.000000  \n",
              "mean     426.275320       14.302979        66.552428     3.957156  \n",
              "std       80.924638        3.302801        14.852799     0.781834  \n",
              "min      181.483754        4.371899        27.559355     1.450000  \n",
              "25%      365.437205       12.066597        57.125641     3.436425  \n",
              "50%      421.926811       14.220645        66.622485     3.939948  \n",
              "75%      482.349100       16.576036        76.666609     4.492202  \n",
              "max      753.342620       28.300000       107.189584     6.739000  "
            ],
            "text/html": [
              "\n",
              "  <div id=\"df-95b44634-3683-4777-991b-8f9bbc20cd83\">\n",
              "    <div class=\"colab-df-container\">\n",
              "      <div>\n",
              "<style scoped>\n",
              "    .dataframe tbody tr th:only-of-type {\n",
              "        vertical-align: middle;\n",
              "    }\n",
              "\n",
              "    .dataframe tbody tr th {\n",
              "        vertical-align: top;\n",
              "    }\n",
              "\n",
              "    .dataframe thead th {\n",
              "        text-align: right;\n",
              "    }\n",
              "</style>\n",
              "<table border=\"1\" class=\"dataframe\">\n",
              "  <thead>\n",
              "    <tr style=\"text-align: right;\">\n",
              "      <th></th>\n",
              "      <th>ph</th>\n",
              "      <th>Hardness</th>\n",
              "      <th>Solids</th>\n",
              "      <th>Chloramines</th>\n",
              "      <th>Sulfate</th>\n",
              "      <th>Conductivity</th>\n",
              "      <th>Organic_carbon</th>\n",
              "      <th>Trihalomethanes</th>\n",
              "      <th>Turbidity</th>\n",
              "    </tr>\n",
              "  </thead>\n",
              "  <tbody>\n",
              "    <tr>\n",
              "      <th>count</th>\n",
              "      <td>2836.000000</td>\n",
              "      <td>2836.000000</td>\n",
              "      <td>2836.000000</td>\n",
              "      <td>2836.000000</td>\n",
              "      <td>2836.000000</td>\n",
              "      <td>2836.000000</td>\n",
              "      <td>2836.000000</td>\n",
              "      <td>2836.000000</td>\n",
              "      <td>2836.000000</td>\n",
              "    </tr>\n",
              "    <tr>\n",
              "      <th>mean</th>\n",
              "      <td>7.071425</td>\n",
              "      <td>197.078371</td>\n",
              "      <td>21789.746988</td>\n",
              "      <td>7.116172</td>\n",
              "      <td>333.560200</td>\n",
              "      <td>426.275320</td>\n",
              "      <td>14.302979</td>\n",
              "      <td>66.552428</td>\n",
              "      <td>3.957156</td>\n",
              "    </tr>\n",
              "    <tr>\n",
              "      <th>std</th>\n",
              "      <td>1.237298</td>\n",
              "      <td>31.126426</td>\n",
              "      <td>8375.000453</td>\n",
              "      <td>1.516075</td>\n",
              "      <td>26.588802</td>\n",
              "      <td>80.924638</td>\n",
              "      <td>3.302801</td>\n",
              "      <td>14.852799</td>\n",
              "      <td>0.781834</td>\n",
              "    </tr>\n",
              "    <tr>\n",
              "      <th>min</th>\n",
              "      <td>3.902476</td>\n",
              "      <td>73.492234</td>\n",
              "      <td>320.942611</td>\n",
              "      <td>1.683993</td>\n",
              "      <td>267.202392</td>\n",
              "      <td>181.483754</td>\n",
              "      <td>4.371899</td>\n",
              "      <td>27.559355</td>\n",
              "      <td>1.450000</td>\n",
              "    </tr>\n",
              "    <tr>\n",
              "      <th>25%</th>\n",
              "      <td>6.336324</td>\n",
              "      <td>178.294976</td>\n",
              "      <td>15732.309141</td>\n",
              "      <td>6.179466</td>\n",
              "      <td>319.375688</td>\n",
              "      <td>365.437205</td>\n",
              "      <td>12.066597</td>\n",
              "      <td>57.125641</td>\n",
              "      <td>3.436425</td>\n",
              "    </tr>\n",
              "    <tr>\n",
              "      <th>50%</th>\n",
              "      <td>7.036752</td>\n",
              "      <td>197.509503</td>\n",
              "      <td>20777.043748</td>\n",
              "      <td>7.121018</td>\n",
              "      <td>333.073546</td>\n",
              "      <td>421.926811</td>\n",
              "      <td>14.220645</td>\n",
              "      <td>66.622485</td>\n",
              "      <td>3.939948</td>\n",
              "    </tr>\n",
              "    <tr>\n",
              "      <th>75%</th>\n",
              "      <td>7.814319</td>\n",
              "      <td>216.418957</td>\n",
              "      <td>27002.973216</td>\n",
              "      <td>8.073607</td>\n",
              "      <td>347.883714</td>\n",
              "      <td>482.349100</td>\n",
              "      <td>16.576036</td>\n",
              "      <td>76.666609</td>\n",
              "      <td>4.492202</td>\n",
              "    </tr>\n",
              "    <tr>\n",
              "      <th>max</th>\n",
              "      <td>10.252816</td>\n",
              "      <td>317.338124</td>\n",
              "      <td>61227.196008</td>\n",
              "      <td>12.912187</td>\n",
              "      <td>400.373526</td>\n",
              "      <td>753.342620</td>\n",
              "      <td>28.300000</td>\n",
              "      <td>107.189584</td>\n",
              "      <td>6.739000</td>\n",
              "    </tr>\n",
              "  </tbody>\n",
              "</table>\n",
              "</div>\n",
              "      <button class=\"colab-df-convert\" onclick=\"convertToInteractive('df-95b44634-3683-4777-991b-8f9bbc20cd83')\"\n",
              "              title=\"Convert this dataframe to an interactive table.\"\n",
              "              style=\"display:none;\">\n",
              "        \n",
              "  <svg xmlns=\"http://www.w3.org/2000/svg\" height=\"24px\"viewBox=\"0 0 24 24\"\n",
              "       width=\"24px\">\n",
              "    <path d=\"M0 0h24v24H0V0z\" fill=\"none\"/>\n",
              "    <path d=\"M18.56 5.44l.94 2.06.94-2.06 2.06-.94-2.06-.94-.94-2.06-.94 2.06-2.06.94zm-11 1L8.5 8.5l.94-2.06 2.06-.94-2.06-.94L8.5 2.5l-.94 2.06-2.06.94zm10 10l.94 2.06.94-2.06 2.06-.94-2.06-.94-.94-2.06-.94 2.06-2.06.94z\"/><path d=\"M17.41 7.96l-1.37-1.37c-.4-.4-.92-.59-1.43-.59-.52 0-1.04.2-1.43.59L10.3 9.45l-7.72 7.72c-.78.78-.78 2.05 0 2.83L4 21.41c.39.39.9.59 1.41.59.51 0 1.02-.2 1.41-.59l7.78-7.78 2.81-2.81c.8-.78.8-2.07 0-2.86zM5.41 20L4 18.59l7.72-7.72 1.47 1.35L5.41 20z\"/>\n",
              "  </svg>\n",
              "      </button>\n",
              "      \n",
              "  <style>\n",
              "    .colab-df-container {\n",
              "      display:flex;\n",
              "      flex-wrap:wrap;\n",
              "      gap: 12px;\n",
              "    }\n",
              "\n",
              "    .colab-df-convert {\n",
              "      background-color: #E8F0FE;\n",
              "      border: none;\n",
              "      border-radius: 50%;\n",
              "      cursor: pointer;\n",
              "      display: none;\n",
              "      fill: #1967D2;\n",
              "      height: 32px;\n",
              "      padding: 0 0 0 0;\n",
              "      width: 32px;\n",
              "    }\n",
              "\n",
              "    .colab-df-convert:hover {\n",
              "      background-color: #E2EBFA;\n",
              "      box-shadow: 0px 1px 2px rgba(60, 64, 67, 0.3), 0px 1px 3px 1px rgba(60, 64, 67, 0.15);\n",
              "      fill: #174EA6;\n",
              "    }\n",
              "\n",
              "    [theme=dark] .colab-df-convert {\n",
              "      background-color: #3B4455;\n",
              "      fill: #D2E3FC;\n",
              "    }\n",
              "\n",
              "    [theme=dark] .colab-df-convert:hover {\n",
              "      background-color: #434B5C;\n",
              "      box-shadow: 0px 1px 3px 1px rgba(0, 0, 0, 0.15);\n",
              "      filter: drop-shadow(0px 1px 2px rgba(0, 0, 0, 0.3));\n",
              "      fill: #FFFFFF;\n",
              "    }\n",
              "  </style>\n",
              "\n",
              "      <script>\n",
              "        const buttonEl =\n",
              "          document.querySelector('#df-95b44634-3683-4777-991b-8f9bbc20cd83 button.colab-df-convert');\n",
              "        buttonEl.style.display =\n",
              "          google.colab.kernel.accessAllowed ? 'block' : 'none';\n",
              "\n",
              "        async function convertToInteractive(key) {\n",
              "          const element = document.querySelector('#df-95b44634-3683-4777-991b-8f9bbc20cd83');\n",
              "          const dataTable =\n",
              "            await google.colab.kernel.invokeFunction('convertToInteractive',\n",
              "                                                     [key], {});\n",
              "          if (!dataTable) return;\n",
              "\n",
              "          const docLinkHtml = 'Like what you see? Visit the ' +\n",
              "            '<a target=\"_blank\" href=https://colab.research.google.com/notebooks/data_table.ipynb>data table notebook</a>'\n",
              "            + ' to learn more about interactive tables.';\n",
              "          element.innerHTML = '';\n",
              "          dataTable['output_type'] = 'display_data';\n",
              "          await google.colab.output.renderOutput(dataTable, element);\n",
              "          const docLink = document.createElement('div');\n",
              "          docLink.innerHTML = docLinkHtml;\n",
              "          element.appendChild(docLink);\n",
              "        }\n",
              "      </script>\n",
              "    </div>\n",
              "  </div>\n",
              "  "
            ]
          },
          "metadata": {},
          "execution_count": 111
        }
      ]
    },
    {
      "cell_type": "code",
      "source": [
        "min_max=preprocessing.MinMaxScaler(feature_range=(0,1))\n",
        "X=min_max.fit_transform(X)\n",
        "X=pd.DataFrame(X)\n",
        "X.describe()"
      ],
      "metadata": {
        "colab": {
          "base_uri": "https://localhost:8080/",
          "height": 300
        },
        "id": "GRjbm2x5NIZ2",
        "outputId": "daf0264d-0920-4f01-d74e-66b5170b2990"
      },
      "execution_count": null,
      "outputs": [
        {
          "output_type": "execute_result",
          "data": {
            "text/plain": [
              "                 0            1            2            3            4  \\\n",
              "count  2836.000000  2836.000000  2836.000000  2836.000000  2836.000000   \n",
              "mean      0.499020     0.506821     0.352489     0.483798     0.498290   \n",
              "std       0.194840     0.127648     0.137506     0.135024     0.199659   \n",
              "min       0.000000     0.000000     0.000000     0.000000     0.000000   \n",
              "25%       0.383263     0.429791     0.253034     0.400374     0.391776   \n",
              "50%       0.493560     0.508589     0.335862     0.484230     0.494635   \n",
              "75%       0.616005     0.586135     0.438084     0.569069     0.605847   \n",
              "max       1.000000     1.000000     1.000000     1.000000     1.000000   \n",
              "\n",
              "                 5            6            7            8  \n",
              "count  2836.000000  2836.000000  2836.000000  2836.000000  \n",
              "mean      0.428063     0.415038     0.489677     0.474032  \n",
              "std       0.141512     0.138030     0.186522     0.147823  \n",
              "min       0.000000     0.000000     0.000000     0.000000  \n",
              "25%       0.321676     0.321576     0.371295     0.375577  \n",
              "50%       0.420459     0.411597     0.490557     0.470779  \n",
              "75%       0.526118     0.510034     0.616691     0.575194  \n",
              "max       1.000000     1.000000     1.000000     1.000000  "
            ],
            "text/html": [
              "\n",
              "  <div id=\"df-9624ad02-85f0-4c1a-b2c9-beb66536f96b\">\n",
              "    <div class=\"colab-df-container\">\n",
              "      <div>\n",
              "<style scoped>\n",
              "    .dataframe tbody tr th:only-of-type {\n",
              "        vertical-align: middle;\n",
              "    }\n",
              "\n",
              "    .dataframe tbody tr th {\n",
              "        vertical-align: top;\n",
              "    }\n",
              "\n",
              "    .dataframe thead th {\n",
              "        text-align: right;\n",
              "    }\n",
              "</style>\n",
              "<table border=\"1\" class=\"dataframe\">\n",
              "  <thead>\n",
              "    <tr style=\"text-align: right;\">\n",
              "      <th></th>\n",
              "      <th>0</th>\n",
              "      <th>1</th>\n",
              "      <th>2</th>\n",
              "      <th>3</th>\n",
              "      <th>4</th>\n",
              "      <th>5</th>\n",
              "      <th>6</th>\n",
              "      <th>7</th>\n",
              "      <th>8</th>\n",
              "    </tr>\n",
              "  </thead>\n",
              "  <tbody>\n",
              "    <tr>\n",
              "      <th>count</th>\n",
              "      <td>2836.000000</td>\n",
              "      <td>2836.000000</td>\n",
              "      <td>2836.000000</td>\n",
              "      <td>2836.000000</td>\n",
              "      <td>2836.000000</td>\n",
              "      <td>2836.000000</td>\n",
              "      <td>2836.000000</td>\n",
              "      <td>2836.000000</td>\n",
              "      <td>2836.000000</td>\n",
              "    </tr>\n",
              "    <tr>\n",
              "      <th>mean</th>\n",
              "      <td>0.499020</td>\n",
              "      <td>0.506821</td>\n",
              "      <td>0.352489</td>\n",
              "      <td>0.483798</td>\n",
              "      <td>0.498290</td>\n",
              "      <td>0.428063</td>\n",
              "      <td>0.415038</td>\n",
              "      <td>0.489677</td>\n",
              "      <td>0.474032</td>\n",
              "    </tr>\n",
              "    <tr>\n",
              "      <th>std</th>\n",
              "      <td>0.194840</td>\n",
              "      <td>0.127648</td>\n",
              "      <td>0.137506</td>\n",
              "      <td>0.135024</td>\n",
              "      <td>0.199659</td>\n",
              "      <td>0.141512</td>\n",
              "      <td>0.138030</td>\n",
              "      <td>0.186522</td>\n",
              "      <td>0.147823</td>\n",
              "    </tr>\n",
              "    <tr>\n",
              "      <th>min</th>\n",
              "      <td>0.000000</td>\n",
              "      <td>0.000000</td>\n",
              "      <td>0.000000</td>\n",
              "      <td>0.000000</td>\n",
              "      <td>0.000000</td>\n",
              "      <td>0.000000</td>\n",
              "      <td>0.000000</td>\n",
              "      <td>0.000000</td>\n",
              "      <td>0.000000</td>\n",
              "    </tr>\n",
              "    <tr>\n",
              "      <th>25%</th>\n",
              "      <td>0.383263</td>\n",
              "      <td>0.429791</td>\n",
              "      <td>0.253034</td>\n",
              "      <td>0.400374</td>\n",
              "      <td>0.391776</td>\n",
              "      <td>0.321676</td>\n",
              "      <td>0.321576</td>\n",
              "      <td>0.371295</td>\n",
              "      <td>0.375577</td>\n",
              "    </tr>\n",
              "    <tr>\n",
              "      <th>50%</th>\n",
              "      <td>0.493560</td>\n",
              "      <td>0.508589</td>\n",
              "      <td>0.335862</td>\n",
              "      <td>0.484230</td>\n",
              "      <td>0.494635</td>\n",
              "      <td>0.420459</td>\n",
              "      <td>0.411597</td>\n",
              "      <td>0.490557</td>\n",
              "      <td>0.470779</td>\n",
              "    </tr>\n",
              "    <tr>\n",
              "      <th>75%</th>\n",
              "      <td>0.616005</td>\n",
              "      <td>0.586135</td>\n",
              "      <td>0.438084</td>\n",
              "      <td>0.569069</td>\n",
              "      <td>0.605847</td>\n",
              "      <td>0.526118</td>\n",
              "      <td>0.510034</td>\n",
              "      <td>0.616691</td>\n",
              "      <td>0.575194</td>\n",
              "    </tr>\n",
              "    <tr>\n",
              "      <th>max</th>\n",
              "      <td>1.000000</td>\n",
              "      <td>1.000000</td>\n",
              "      <td>1.000000</td>\n",
              "      <td>1.000000</td>\n",
              "      <td>1.000000</td>\n",
              "      <td>1.000000</td>\n",
              "      <td>1.000000</td>\n",
              "      <td>1.000000</td>\n",
              "      <td>1.000000</td>\n",
              "    </tr>\n",
              "  </tbody>\n",
              "</table>\n",
              "</div>\n",
              "      <button class=\"colab-df-convert\" onclick=\"convertToInteractive('df-9624ad02-85f0-4c1a-b2c9-beb66536f96b')\"\n",
              "              title=\"Convert this dataframe to an interactive table.\"\n",
              "              style=\"display:none;\">\n",
              "        \n",
              "  <svg xmlns=\"http://www.w3.org/2000/svg\" height=\"24px\"viewBox=\"0 0 24 24\"\n",
              "       width=\"24px\">\n",
              "    <path d=\"M0 0h24v24H0V0z\" fill=\"none\"/>\n",
              "    <path d=\"M18.56 5.44l.94 2.06.94-2.06 2.06-.94-2.06-.94-.94-2.06-.94 2.06-2.06.94zm-11 1L8.5 8.5l.94-2.06 2.06-.94-2.06-.94L8.5 2.5l-.94 2.06-2.06.94zm10 10l.94 2.06.94-2.06 2.06-.94-2.06-.94-.94-2.06-.94 2.06-2.06.94z\"/><path d=\"M17.41 7.96l-1.37-1.37c-.4-.4-.92-.59-1.43-.59-.52 0-1.04.2-1.43.59L10.3 9.45l-7.72 7.72c-.78.78-.78 2.05 0 2.83L4 21.41c.39.39.9.59 1.41.59.51 0 1.02-.2 1.41-.59l7.78-7.78 2.81-2.81c.8-.78.8-2.07 0-2.86zM5.41 20L4 18.59l7.72-7.72 1.47 1.35L5.41 20z\"/>\n",
              "  </svg>\n",
              "      </button>\n",
              "      \n",
              "  <style>\n",
              "    .colab-df-container {\n",
              "      display:flex;\n",
              "      flex-wrap:wrap;\n",
              "      gap: 12px;\n",
              "    }\n",
              "\n",
              "    .colab-df-convert {\n",
              "      background-color: #E8F0FE;\n",
              "      border: none;\n",
              "      border-radius: 50%;\n",
              "      cursor: pointer;\n",
              "      display: none;\n",
              "      fill: #1967D2;\n",
              "      height: 32px;\n",
              "      padding: 0 0 0 0;\n",
              "      width: 32px;\n",
              "    }\n",
              "\n",
              "    .colab-df-convert:hover {\n",
              "      background-color: #E2EBFA;\n",
              "      box-shadow: 0px 1px 2px rgba(60, 64, 67, 0.3), 0px 1px 3px 1px rgba(60, 64, 67, 0.15);\n",
              "      fill: #174EA6;\n",
              "    }\n",
              "\n",
              "    [theme=dark] .colab-df-convert {\n",
              "      background-color: #3B4455;\n",
              "      fill: #D2E3FC;\n",
              "    }\n",
              "\n",
              "    [theme=dark] .colab-df-convert:hover {\n",
              "      background-color: #434B5C;\n",
              "      box-shadow: 0px 1px 3px 1px rgba(0, 0, 0, 0.15);\n",
              "      filter: drop-shadow(0px 1px 2px rgba(0, 0, 0, 0.3));\n",
              "      fill: #FFFFFF;\n",
              "    }\n",
              "  </style>\n",
              "\n",
              "      <script>\n",
              "        const buttonEl =\n",
              "          document.querySelector('#df-9624ad02-85f0-4c1a-b2c9-beb66536f96b button.colab-df-convert');\n",
              "        buttonEl.style.display =\n",
              "          google.colab.kernel.accessAllowed ? 'block' : 'none';\n",
              "\n",
              "        async function convertToInteractive(key) {\n",
              "          const element = document.querySelector('#df-9624ad02-85f0-4c1a-b2c9-beb66536f96b');\n",
              "          const dataTable =\n",
              "            await google.colab.kernel.invokeFunction('convertToInteractive',\n",
              "                                                     [key], {});\n",
              "          if (!dataTable) return;\n",
              "\n",
              "          const docLinkHtml = 'Like what you see? Visit the ' +\n",
              "            '<a target=\"_blank\" href=https://colab.research.google.com/notebooks/data_table.ipynb>data table notebook</a>'\n",
              "            + ' to learn more about interactive tables.';\n",
              "          element.innerHTML = '';\n",
              "          dataTable['output_type'] = 'display_data';\n",
              "          await google.colab.output.renderOutput(dataTable, element);\n",
              "          const docLink = document.createElement('div');\n",
              "          docLink.innerHTML = docLinkHtml;\n",
              "          element.appendChild(docLink);\n",
              "        }\n",
              "      </script>\n",
              "    </div>\n",
              "  </div>\n",
              "  "
            ]
          },
          "metadata": {},
          "execution_count": 112
        }
      ]
    },
    {
      "cell_type": "code",
      "source": [
        "X_train,X_test,y_train,y_test=train_test_split(X,y,random_state=42,test_size=0.2)\n",
        "lr=linear_model.LogisticRegression()\n",
        "model=lr.fit(X_train,y_train)\n",
        "prediction=model.predict(X_test)\n",
        "print('MSE IS :',mean_squared_error(y_test,predictions))\n",
        "print('R squared value is :',r2_score(y_test,prediction))"
      ],
      "metadata": {
        "colab": {
          "base_uri": "https://localhost:8080/"
        },
        "id": "WTf0EJ1INQ3-",
        "outputId": "6c719ccd-a9e8-469b-b533-01cf6b6b9a0b"
      },
      "execution_count": null,
      "outputs": [
        {
          "output_type": "stream",
          "name": "stdout",
          "text": [
            "MSE IS : 0.34683098591549294\n",
            "R squared value is : -0.5309973045822105\n"
          ]
        }
      ]
    },
    {
      "cell_type": "code",
      "source": [
        "X=data.drop('Potability',axis=1)\n",
        "X.describe()"
      ],
      "metadata": {
        "colab": {
          "base_uri": "https://localhost:8080/",
          "height": 300
        },
        "id": "Vd71zcVCNWOM",
        "outputId": "ed063e64-3717-40ba-ce72-c851025f3153"
      },
      "execution_count": null,
      "outputs": [
        {
          "output_type": "execute_result",
          "data": {
            "text/plain": [
              "                ph     Hardness        Solids  Chloramines      Sulfate  \\\n",
              "count  2836.000000  2836.000000   2836.000000  2836.000000  2836.000000   \n",
              "mean      7.071425   197.078371  21789.746988     7.116172   333.560200   \n",
              "std       1.237298    31.126426   8375.000453     1.516075    26.588802   \n",
              "min       3.902476    73.492234    320.942611     1.683993   267.202392   \n",
              "25%       6.336324   178.294976  15732.309141     6.179466   319.375688   \n",
              "50%       7.036752   197.509503  20777.043748     7.121018   333.073546   \n",
              "75%       7.814319   216.418957  27002.973216     8.073607   347.883714   \n",
              "max      10.252816   317.338124  61227.196008    12.912187   400.373526   \n",
              "\n",
              "       Conductivity  Organic_carbon  Trihalomethanes    Turbidity  \n",
              "count   2836.000000     2836.000000      2836.000000  2836.000000  \n",
              "mean     426.275320       14.302979        66.552428     3.957156  \n",
              "std       80.924638        3.302801        14.852799     0.781834  \n",
              "min      181.483754        4.371899        27.559355     1.450000  \n",
              "25%      365.437205       12.066597        57.125641     3.436425  \n",
              "50%      421.926811       14.220645        66.622485     3.939948  \n",
              "75%      482.349100       16.576036        76.666609     4.492202  \n",
              "max      753.342620       28.300000       107.189584     6.739000  "
            ],
            "text/html": [
              "\n",
              "  <div id=\"df-03f59736-2b96-4d6b-9487-99b3aacb1747\">\n",
              "    <div class=\"colab-df-container\">\n",
              "      <div>\n",
              "<style scoped>\n",
              "    .dataframe tbody tr th:only-of-type {\n",
              "        vertical-align: middle;\n",
              "    }\n",
              "\n",
              "    .dataframe tbody tr th {\n",
              "        vertical-align: top;\n",
              "    }\n",
              "\n",
              "    .dataframe thead th {\n",
              "        text-align: right;\n",
              "    }\n",
              "</style>\n",
              "<table border=\"1\" class=\"dataframe\">\n",
              "  <thead>\n",
              "    <tr style=\"text-align: right;\">\n",
              "      <th></th>\n",
              "      <th>ph</th>\n",
              "      <th>Hardness</th>\n",
              "      <th>Solids</th>\n",
              "      <th>Chloramines</th>\n",
              "      <th>Sulfate</th>\n",
              "      <th>Conductivity</th>\n",
              "      <th>Organic_carbon</th>\n",
              "      <th>Trihalomethanes</th>\n",
              "      <th>Turbidity</th>\n",
              "    </tr>\n",
              "  </thead>\n",
              "  <tbody>\n",
              "    <tr>\n",
              "      <th>count</th>\n",
              "      <td>2836.000000</td>\n",
              "      <td>2836.000000</td>\n",
              "      <td>2836.000000</td>\n",
              "      <td>2836.000000</td>\n",
              "      <td>2836.000000</td>\n",
              "      <td>2836.000000</td>\n",
              "      <td>2836.000000</td>\n",
              "      <td>2836.000000</td>\n",
              "      <td>2836.000000</td>\n",
              "    </tr>\n",
              "    <tr>\n",
              "      <th>mean</th>\n",
              "      <td>7.071425</td>\n",
              "      <td>197.078371</td>\n",
              "      <td>21789.746988</td>\n",
              "      <td>7.116172</td>\n",
              "      <td>333.560200</td>\n",
              "      <td>426.275320</td>\n",
              "      <td>14.302979</td>\n",
              "      <td>66.552428</td>\n",
              "      <td>3.957156</td>\n",
              "    </tr>\n",
              "    <tr>\n",
              "      <th>std</th>\n",
              "      <td>1.237298</td>\n",
              "      <td>31.126426</td>\n",
              "      <td>8375.000453</td>\n",
              "      <td>1.516075</td>\n",
              "      <td>26.588802</td>\n",
              "      <td>80.924638</td>\n",
              "      <td>3.302801</td>\n",
              "      <td>14.852799</td>\n",
              "      <td>0.781834</td>\n",
              "    </tr>\n",
              "    <tr>\n",
              "      <th>min</th>\n",
              "      <td>3.902476</td>\n",
              "      <td>73.492234</td>\n",
              "      <td>320.942611</td>\n",
              "      <td>1.683993</td>\n",
              "      <td>267.202392</td>\n",
              "      <td>181.483754</td>\n",
              "      <td>4.371899</td>\n",
              "      <td>27.559355</td>\n",
              "      <td>1.450000</td>\n",
              "    </tr>\n",
              "    <tr>\n",
              "      <th>25%</th>\n",
              "      <td>6.336324</td>\n",
              "      <td>178.294976</td>\n",
              "      <td>15732.309141</td>\n",
              "      <td>6.179466</td>\n",
              "      <td>319.375688</td>\n",
              "      <td>365.437205</td>\n",
              "      <td>12.066597</td>\n",
              "      <td>57.125641</td>\n",
              "      <td>3.436425</td>\n",
              "    </tr>\n",
              "    <tr>\n",
              "      <th>50%</th>\n",
              "      <td>7.036752</td>\n",
              "      <td>197.509503</td>\n",
              "      <td>20777.043748</td>\n",
              "      <td>7.121018</td>\n",
              "      <td>333.073546</td>\n",
              "      <td>421.926811</td>\n",
              "      <td>14.220645</td>\n",
              "      <td>66.622485</td>\n",
              "      <td>3.939948</td>\n",
              "    </tr>\n",
              "    <tr>\n",
              "      <th>75%</th>\n",
              "      <td>7.814319</td>\n",
              "      <td>216.418957</td>\n",
              "      <td>27002.973216</td>\n",
              "      <td>8.073607</td>\n",
              "      <td>347.883714</td>\n",
              "      <td>482.349100</td>\n",
              "      <td>16.576036</td>\n",
              "      <td>76.666609</td>\n",
              "      <td>4.492202</td>\n",
              "    </tr>\n",
              "    <tr>\n",
              "      <th>max</th>\n",
              "      <td>10.252816</td>\n",
              "      <td>317.338124</td>\n",
              "      <td>61227.196008</td>\n",
              "      <td>12.912187</td>\n",
              "      <td>400.373526</td>\n",
              "      <td>753.342620</td>\n",
              "      <td>28.300000</td>\n",
              "      <td>107.189584</td>\n",
              "      <td>6.739000</td>\n",
              "    </tr>\n",
              "  </tbody>\n",
              "</table>\n",
              "</div>\n",
              "      <button class=\"colab-df-convert\" onclick=\"convertToInteractive('df-03f59736-2b96-4d6b-9487-99b3aacb1747')\"\n",
              "              title=\"Convert this dataframe to an interactive table.\"\n",
              "              style=\"display:none;\">\n",
              "        \n",
              "  <svg xmlns=\"http://www.w3.org/2000/svg\" height=\"24px\"viewBox=\"0 0 24 24\"\n",
              "       width=\"24px\">\n",
              "    <path d=\"M0 0h24v24H0V0z\" fill=\"none\"/>\n",
              "    <path d=\"M18.56 5.44l.94 2.06.94-2.06 2.06-.94-2.06-.94-.94-2.06-.94 2.06-2.06.94zm-11 1L8.5 8.5l.94-2.06 2.06-.94-2.06-.94L8.5 2.5l-.94 2.06-2.06.94zm10 10l.94 2.06.94-2.06 2.06-.94-2.06-.94-.94-2.06-.94 2.06-2.06.94z\"/><path d=\"M17.41 7.96l-1.37-1.37c-.4-.4-.92-.59-1.43-.59-.52 0-1.04.2-1.43.59L10.3 9.45l-7.72 7.72c-.78.78-.78 2.05 0 2.83L4 21.41c.39.39.9.59 1.41.59.51 0 1.02-.2 1.41-.59l7.78-7.78 2.81-2.81c.8-.78.8-2.07 0-2.86zM5.41 20L4 18.59l7.72-7.72 1.47 1.35L5.41 20z\"/>\n",
              "  </svg>\n",
              "      </button>\n",
              "      \n",
              "  <style>\n",
              "    .colab-df-container {\n",
              "      display:flex;\n",
              "      flex-wrap:wrap;\n",
              "      gap: 12px;\n",
              "    }\n",
              "\n",
              "    .colab-df-convert {\n",
              "      background-color: #E8F0FE;\n",
              "      border: none;\n",
              "      border-radius: 50%;\n",
              "      cursor: pointer;\n",
              "      display: none;\n",
              "      fill: #1967D2;\n",
              "      height: 32px;\n",
              "      padding: 0 0 0 0;\n",
              "      width: 32px;\n",
              "    }\n",
              "\n",
              "    .colab-df-convert:hover {\n",
              "      background-color: #E2EBFA;\n",
              "      box-shadow: 0px 1px 2px rgba(60, 64, 67, 0.3), 0px 1px 3px 1px rgba(60, 64, 67, 0.15);\n",
              "      fill: #174EA6;\n",
              "    }\n",
              "\n",
              "    [theme=dark] .colab-df-convert {\n",
              "      background-color: #3B4455;\n",
              "      fill: #D2E3FC;\n",
              "    }\n",
              "\n",
              "    [theme=dark] .colab-df-convert:hover {\n",
              "      background-color: #434B5C;\n",
              "      box-shadow: 0px 1px 3px 1px rgba(0, 0, 0, 0.15);\n",
              "      filter: drop-shadow(0px 1px 2px rgba(0, 0, 0, 0.3));\n",
              "      fill: #FFFFFF;\n",
              "    }\n",
              "  </style>\n",
              "\n",
              "      <script>\n",
              "        const buttonEl =\n",
              "          document.querySelector('#df-03f59736-2b96-4d6b-9487-99b3aacb1747 button.colab-df-convert');\n",
              "        buttonEl.style.display =\n",
              "          google.colab.kernel.accessAllowed ? 'block' : 'none';\n",
              "\n",
              "        async function convertToInteractive(key) {\n",
              "          const element = document.querySelector('#df-03f59736-2b96-4d6b-9487-99b3aacb1747');\n",
              "          const dataTable =\n",
              "            await google.colab.kernel.invokeFunction('convertToInteractive',\n",
              "                                                     [key], {});\n",
              "          if (!dataTable) return;\n",
              "\n",
              "          const docLinkHtml = 'Like what you see? Visit the ' +\n",
              "            '<a target=\"_blank\" href=https://colab.research.google.com/notebooks/data_table.ipynb>data table notebook</a>'\n",
              "            + ' to learn more about interactive tables.';\n",
              "          element.innerHTML = '';\n",
              "          dataTable['output_type'] = 'display_data';\n",
              "          await google.colab.output.renderOutput(dataTable, element);\n",
              "          const docLink = document.createElement('div');\n",
              "          docLink.innerHTML = docLinkHtml;\n",
              "          element.appendChild(docLink);\n",
              "        }\n",
              "      </script>\n",
              "    </div>\n",
              "  </div>\n",
              "  "
            ]
          },
          "metadata": {},
          "execution_count": 114
        }
      ]
    },
    {
      "cell_type": "code",
      "source": [
        "X=pd.DataFrame(X)\n",
        "X.describe()"
      ],
      "metadata": {
        "colab": {
          "base_uri": "https://localhost:8080/",
          "height": 300
        },
        "id": "emMocQCbNjvd",
        "outputId": "035ccc44-d1bc-4b2d-abdb-92290d987153"
      },
      "execution_count": null,
      "outputs": [
        {
          "output_type": "execute_result",
          "data": {
            "text/plain": [
              "                ph     Hardness        Solids  Chloramines      Sulfate  \\\n",
              "count  2836.000000  2836.000000   2836.000000  2836.000000  2836.000000   \n",
              "mean      7.071425   197.078371  21789.746988     7.116172   333.560200   \n",
              "std       1.237298    31.126426   8375.000453     1.516075    26.588802   \n",
              "min       3.902476    73.492234    320.942611     1.683993   267.202392   \n",
              "25%       6.336324   178.294976  15732.309141     6.179466   319.375688   \n",
              "50%       7.036752   197.509503  20777.043748     7.121018   333.073546   \n",
              "75%       7.814319   216.418957  27002.973216     8.073607   347.883714   \n",
              "max      10.252816   317.338124  61227.196008    12.912187   400.373526   \n",
              "\n",
              "       Conductivity  Organic_carbon  Trihalomethanes    Turbidity  \n",
              "count   2836.000000     2836.000000      2836.000000  2836.000000  \n",
              "mean     426.275320       14.302979        66.552428     3.957156  \n",
              "std       80.924638        3.302801        14.852799     0.781834  \n",
              "min      181.483754        4.371899        27.559355     1.450000  \n",
              "25%      365.437205       12.066597        57.125641     3.436425  \n",
              "50%      421.926811       14.220645        66.622485     3.939948  \n",
              "75%      482.349100       16.576036        76.666609     4.492202  \n",
              "max      753.342620       28.300000       107.189584     6.739000  "
            ],
            "text/html": [
              "\n",
              "  <div id=\"df-1d1652bf-0444-4872-a338-5f63fc6374e4\">\n",
              "    <div class=\"colab-df-container\">\n",
              "      <div>\n",
              "<style scoped>\n",
              "    .dataframe tbody tr th:only-of-type {\n",
              "        vertical-align: middle;\n",
              "    }\n",
              "\n",
              "    .dataframe tbody tr th {\n",
              "        vertical-align: top;\n",
              "    }\n",
              "\n",
              "    .dataframe thead th {\n",
              "        text-align: right;\n",
              "    }\n",
              "</style>\n",
              "<table border=\"1\" class=\"dataframe\">\n",
              "  <thead>\n",
              "    <tr style=\"text-align: right;\">\n",
              "      <th></th>\n",
              "      <th>ph</th>\n",
              "      <th>Hardness</th>\n",
              "      <th>Solids</th>\n",
              "      <th>Chloramines</th>\n",
              "      <th>Sulfate</th>\n",
              "      <th>Conductivity</th>\n",
              "      <th>Organic_carbon</th>\n",
              "      <th>Trihalomethanes</th>\n",
              "      <th>Turbidity</th>\n",
              "    </tr>\n",
              "  </thead>\n",
              "  <tbody>\n",
              "    <tr>\n",
              "      <th>count</th>\n",
              "      <td>2836.000000</td>\n",
              "      <td>2836.000000</td>\n",
              "      <td>2836.000000</td>\n",
              "      <td>2836.000000</td>\n",
              "      <td>2836.000000</td>\n",
              "      <td>2836.000000</td>\n",
              "      <td>2836.000000</td>\n",
              "      <td>2836.000000</td>\n",
              "      <td>2836.000000</td>\n",
              "    </tr>\n",
              "    <tr>\n",
              "      <th>mean</th>\n",
              "      <td>7.071425</td>\n",
              "      <td>197.078371</td>\n",
              "      <td>21789.746988</td>\n",
              "      <td>7.116172</td>\n",
              "      <td>333.560200</td>\n",
              "      <td>426.275320</td>\n",
              "      <td>14.302979</td>\n",
              "      <td>66.552428</td>\n",
              "      <td>3.957156</td>\n",
              "    </tr>\n",
              "    <tr>\n",
              "      <th>std</th>\n",
              "      <td>1.237298</td>\n",
              "      <td>31.126426</td>\n",
              "      <td>8375.000453</td>\n",
              "      <td>1.516075</td>\n",
              "      <td>26.588802</td>\n",
              "      <td>80.924638</td>\n",
              "      <td>3.302801</td>\n",
              "      <td>14.852799</td>\n",
              "      <td>0.781834</td>\n",
              "    </tr>\n",
              "    <tr>\n",
              "      <th>min</th>\n",
              "      <td>3.902476</td>\n",
              "      <td>73.492234</td>\n",
              "      <td>320.942611</td>\n",
              "      <td>1.683993</td>\n",
              "      <td>267.202392</td>\n",
              "      <td>181.483754</td>\n",
              "      <td>4.371899</td>\n",
              "      <td>27.559355</td>\n",
              "      <td>1.450000</td>\n",
              "    </tr>\n",
              "    <tr>\n",
              "      <th>25%</th>\n",
              "      <td>6.336324</td>\n",
              "      <td>178.294976</td>\n",
              "      <td>15732.309141</td>\n",
              "      <td>6.179466</td>\n",
              "      <td>319.375688</td>\n",
              "      <td>365.437205</td>\n",
              "      <td>12.066597</td>\n",
              "      <td>57.125641</td>\n",
              "      <td>3.436425</td>\n",
              "    </tr>\n",
              "    <tr>\n",
              "      <th>50%</th>\n",
              "      <td>7.036752</td>\n",
              "      <td>197.509503</td>\n",
              "      <td>20777.043748</td>\n",
              "      <td>7.121018</td>\n",
              "      <td>333.073546</td>\n",
              "      <td>421.926811</td>\n",
              "      <td>14.220645</td>\n",
              "      <td>66.622485</td>\n",
              "      <td>3.939948</td>\n",
              "    </tr>\n",
              "    <tr>\n",
              "      <th>75%</th>\n",
              "      <td>7.814319</td>\n",
              "      <td>216.418957</td>\n",
              "      <td>27002.973216</td>\n",
              "      <td>8.073607</td>\n",
              "      <td>347.883714</td>\n",
              "      <td>482.349100</td>\n",
              "      <td>16.576036</td>\n",
              "      <td>76.666609</td>\n",
              "      <td>4.492202</td>\n",
              "    </tr>\n",
              "    <tr>\n",
              "      <th>max</th>\n",
              "      <td>10.252816</td>\n",
              "      <td>317.338124</td>\n",
              "      <td>61227.196008</td>\n",
              "      <td>12.912187</td>\n",
              "      <td>400.373526</td>\n",
              "      <td>753.342620</td>\n",
              "      <td>28.300000</td>\n",
              "      <td>107.189584</td>\n",
              "      <td>6.739000</td>\n",
              "    </tr>\n",
              "  </tbody>\n",
              "</table>\n",
              "</div>\n",
              "      <button class=\"colab-df-convert\" onclick=\"convertToInteractive('df-1d1652bf-0444-4872-a338-5f63fc6374e4')\"\n",
              "              title=\"Convert this dataframe to an interactive table.\"\n",
              "              style=\"display:none;\">\n",
              "        \n",
              "  <svg xmlns=\"http://www.w3.org/2000/svg\" height=\"24px\"viewBox=\"0 0 24 24\"\n",
              "       width=\"24px\">\n",
              "    <path d=\"M0 0h24v24H0V0z\" fill=\"none\"/>\n",
              "    <path d=\"M18.56 5.44l.94 2.06.94-2.06 2.06-.94-2.06-.94-.94-2.06-.94 2.06-2.06.94zm-11 1L8.5 8.5l.94-2.06 2.06-.94-2.06-.94L8.5 2.5l-.94 2.06-2.06.94zm10 10l.94 2.06.94-2.06 2.06-.94-2.06-.94-.94-2.06-.94 2.06-2.06.94z\"/><path d=\"M17.41 7.96l-1.37-1.37c-.4-.4-.92-.59-1.43-.59-.52 0-1.04.2-1.43.59L10.3 9.45l-7.72 7.72c-.78.78-.78 2.05 0 2.83L4 21.41c.39.39.9.59 1.41.59.51 0 1.02-.2 1.41-.59l7.78-7.78 2.81-2.81c.8-.78.8-2.07 0-2.86zM5.41 20L4 18.59l7.72-7.72 1.47 1.35L5.41 20z\"/>\n",
              "  </svg>\n",
              "      </button>\n",
              "      \n",
              "  <style>\n",
              "    .colab-df-container {\n",
              "      display:flex;\n",
              "      flex-wrap:wrap;\n",
              "      gap: 12px;\n",
              "    }\n",
              "\n",
              "    .colab-df-convert {\n",
              "      background-color: #E8F0FE;\n",
              "      border: none;\n",
              "      border-radius: 50%;\n",
              "      cursor: pointer;\n",
              "      display: none;\n",
              "      fill: #1967D2;\n",
              "      height: 32px;\n",
              "      padding: 0 0 0 0;\n",
              "      width: 32px;\n",
              "    }\n",
              "\n",
              "    .colab-df-convert:hover {\n",
              "      background-color: #E2EBFA;\n",
              "      box-shadow: 0px 1px 2px rgba(60, 64, 67, 0.3), 0px 1px 3px 1px rgba(60, 64, 67, 0.15);\n",
              "      fill: #174EA6;\n",
              "    }\n",
              "\n",
              "    [theme=dark] .colab-df-convert {\n",
              "      background-color: #3B4455;\n",
              "      fill: #D2E3FC;\n",
              "    }\n",
              "\n",
              "    [theme=dark] .colab-df-convert:hover {\n",
              "      background-color: #434B5C;\n",
              "      box-shadow: 0px 1px 3px 1px rgba(0, 0, 0, 0.15);\n",
              "      filter: drop-shadow(0px 1px 2px rgba(0, 0, 0, 0.3));\n",
              "      fill: #FFFFFF;\n",
              "    }\n",
              "  </style>\n",
              "\n",
              "      <script>\n",
              "        const buttonEl =\n",
              "          document.querySelector('#df-1d1652bf-0444-4872-a338-5f63fc6374e4 button.colab-df-convert');\n",
              "        buttonEl.style.display =\n",
              "          google.colab.kernel.accessAllowed ? 'block' : 'none';\n",
              "\n",
              "        async function convertToInteractive(key) {\n",
              "          const element = document.querySelector('#df-1d1652bf-0444-4872-a338-5f63fc6374e4');\n",
              "          const dataTable =\n",
              "            await google.colab.kernel.invokeFunction('convertToInteractive',\n",
              "                                                     [key], {});\n",
              "          if (!dataTable) return;\n",
              "\n",
              "          const docLinkHtml = 'Like what you see? Visit the ' +\n",
              "            '<a target=\"_blank\" href=https://colab.research.google.com/notebooks/data_table.ipynb>data table notebook</a>'\n",
              "            + ' to learn more about interactive tables.';\n",
              "          element.innerHTML = '';\n",
              "          dataTable['output_type'] = 'display_data';\n",
              "          await google.colab.output.renderOutput(dataTable, element);\n",
              "          const docLink = document.createElement('div');\n",
              "          docLink.innerHTML = docLinkHtml;\n",
              "          element.appendChild(docLink);\n",
              "        }\n",
              "      </script>\n",
              "    </div>\n",
              "  </div>\n",
              "  "
            ]
          },
          "metadata": {},
          "execution_count": 115
        }
      ]
    },
    {
      "cell_type": "code",
      "source": [
        "X_train,X_test,y_train,y_test=train_test_split(X,y,random_state=42,test_size=0.2)\n",
        "lr=linear_model.LogisticRegression()\n",
        "model=lr.fit(X_train,y_train)\n",
        "prediction=model.predict(X_test)\n",
        "print('MSE IS :',mean_squared_error(y_test,predictions))\n",
        "print('R squared value is :',r2_score(y_test,predictions))"
      ],
      "metadata": {
        "colab": {
          "base_uri": "https://localhost:8080/"
        },
        "id": "I9br6SMnNoiy",
        "outputId": "fb5c1be6-7e65-4ef3-aff7-3cdc94f902eb"
      },
      "execution_count": null,
      "outputs": [
        {
          "output_type": "stream",
          "name": "stdout",
          "text": [
            "MSE IS : 0.34683098591549294\n",
            "R squared value is : -0.5309973045822105\n"
          ]
        }
      ]
    },
    {
      "cell_type": "code",
      "source": [],
      "metadata": {
        "id": "_uxIorNsNuhG"
      },
      "execution_count": null,
      "outputs": []
    }
  ]
}