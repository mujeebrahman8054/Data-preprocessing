{
  "nbformat": 4,
  "nbformat_minor": 0,
  "metadata": {
    "colab": {
      "name": "data preprocessing heart disease.ipynb",
      "provenance": []
    },
    "kernelspec": {
      "name": "python3",
      "display_name": "Python 3"
    },
    "language_info": {
      "name": "python"
    }
  },
  "cells": [
    {
      "cell_type": "code",
      "execution_count": null,
      "metadata": {
        "id": "a8kfJ7resQEc"
      },
      "outputs": [],
      "source": [
        "import numpy as np\n",
        "import pandas as pd\n",
        "import matplotlib.pyplot as plt\n",
        "import seaborn as sns"
      ]
    },
    {
      "cell_type": "code",
      "source": [
        "data=pd.read_csv('/content/drive/MyDrive/Heart Disease.csv')"
      ],
      "metadata": {
        "id": "-QuNf_F_sZmN"
      },
      "execution_count": null,
      "outputs": []
    },
    {
      "cell_type": "code",
      "source": [
        "data.head()"
      ],
      "metadata": {
        "colab": {
          "base_uri": "https://localhost:8080/",
          "height": 270
        },
        "id": "R7THmXAjssAh",
        "outputId": "f851ea1c-5076-468c-a9eb-f14d7170e65f"
      },
      "execution_count": null,
      "outputs": [
        {
          "output_type": "execute_result",
          "data": {
            "text/plain": [
              "   male  age  education  currentSmoker  cigsPerDay  BPMeds  prevalentStroke  \\\n",
              "0     1   39        4.0              0         0.0     0.0                0   \n",
              "1     0   46        2.0              0         0.0     0.0                0   \n",
              "2     1   48        1.0              1        20.0     0.0                0   \n",
              "3     0   61        3.0              1        30.0     0.0                0   \n",
              "4     0   46        3.0              1        23.0     0.0                0   \n",
              "\n",
              "   prevalentHyp  diabetes  totChol  sysBP  diaBP    BMI  heartRate  glucose  \\\n",
              "0             0         0    195.0  106.0   70.0  26.97       80.0     77.0   \n",
              "1             0         0    250.0  121.0   81.0  28.73       95.0     76.0   \n",
              "2             0         0    245.0  127.5   80.0  25.34       75.0     70.0   \n",
              "3             1         0    225.0  150.0   95.0  28.58       65.0    103.0   \n",
              "4             0         0    285.0  130.0   84.0  23.10       85.0     85.0   \n",
              "\n",
              "   TenYearCHD  \n",
              "0           0  \n",
              "1           0  \n",
              "2           0  \n",
              "3           1  \n",
              "4           0  "
            ],
            "text/html": [
              "\n",
              "  <div id=\"df-f86e3f48-01cd-4ae6-8863-6ef1d9fcdcd7\">\n",
              "    <div class=\"colab-df-container\">\n",
              "      <div>\n",
              "<style scoped>\n",
              "    .dataframe tbody tr th:only-of-type {\n",
              "        vertical-align: middle;\n",
              "    }\n",
              "\n",
              "    .dataframe tbody tr th {\n",
              "        vertical-align: top;\n",
              "    }\n",
              "\n",
              "    .dataframe thead th {\n",
              "        text-align: right;\n",
              "    }\n",
              "</style>\n",
              "<table border=\"1\" class=\"dataframe\">\n",
              "  <thead>\n",
              "    <tr style=\"text-align: right;\">\n",
              "      <th></th>\n",
              "      <th>male</th>\n",
              "      <th>age</th>\n",
              "      <th>education</th>\n",
              "      <th>currentSmoker</th>\n",
              "      <th>cigsPerDay</th>\n",
              "      <th>BPMeds</th>\n",
              "      <th>prevalentStroke</th>\n",
              "      <th>prevalentHyp</th>\n",
              "      <th>diabetes</th>\n",
              "      <th>totChol</th>\n",
              "      <th>sysBP</th>\n",
              "      <th>diaBP</th>\n",
              "      <th>BMI</th>\n",
              "      <th>heartRate</th>\n",
              "      <th>glucose</th>\n",
              "      <th>TenYearCHD</th>\n",
              "    </tr>\n",
              "  </thead>\n",
              "  <tbody>\n",
              "    <tr>\n",
              "      <th>0</th>\n",
              "      <td>1</td>\n",
              "      <td>39</td>\n",
              "      <td>4.0</td>\n",
              "      <td>0</td>\n",
              "      <td>0.0</td>\n",
              "      <td>0.0</td>\n",
              "      <td>0</td>\n",
              "      <td>0</td>\n",
              "      <td>0</td>\n",
              "      <td>195.0</td>\n",
              "      <td>106.0</td>\n",
              "      <td>70.0</td>\n",
              "      <td>26.97</td>\n",
              "      <td>80.0</td>\n",
              "      <td>77.0</td>\n",
              "      <td>0</td>\n",
              "    </tr>\n",
              "    <tr>\n",
              "      <th>1</th>\n",
              "      <td>0</td>\n",
              "      <td>46</td>\n",
              "      <td>2.0</td>\n",
              "      <td>0</td>\n",
              "      <td>0.0</td>\n",
              "      <td>0.0</td>\n",
              "      <td>0</td>\n",
              "      <td>0</td>\n",
              "      <td>0</td>\n",
              "      <td>250.0</td>\n",
              "      <td>121.0</td>\n",
              "      <td>81.0</td>\n",
              "      <td>28.73</td>\n",
              "      <td>95.0</td>\n",
              "      <td>76.0</td>\n",
              "      <td>0</td>\n",
              "    </tr>\n",
              "    <tr>\n",
              "      <th>2</th>\n",
              "      <td>1</td>\n",
              "      <td>48</td>\n",
              "      <td>1.0</td>\n",
              "      <td>1</td>\n",
              "      <td>20.0</td>\n",
              "      <td>0.0</td>\n",
              "      <td>0</td>\n",
              "      <td>0</td>\n",
              "      <td>0</td>\n",
              "      <td>245.0</td>\n",
              "      <td>127.5</td>\n",
              "      <td>80.0</td>\n",
              "      <td>25.34</td>\n",
              "      <td>75.0</td>\n",
              "      <td>70.0</td>\n",
              "      <td>0</td>\n",
              "    </tr>\n",
              "    <tr>\n",
              "      <th>3</th>\n",
              "      <td>0</td>\n",
              "      <td>61</td>\n",
              "      <td>3.0</td>\n",
              "      <td>1</td>\n",
              "      <td>30.0</td>\n",
              "      <td>0.0</td>\n",
              "      <td>0</td>\n",
              "      <td>1</td>\n",
              "      <td>0</td>\n",
              "      <td>225.0</td>\n",
              "      <td>150.0</td>\n",
              "      <td>95.0</td>\n",
              "      <td>28.58</td>\n",
              "      <td>65.0</td>\n",
              "      <td>103.0</td>\n",
              "      <td>1</td>\n",
              "    </tr>\n",
              "    <tr>\n",
              "      <th>4</th>\n",
              "      <td>0</td>\n",
              "      <td>46</td>\n",
              "      <td>3.0</td>\n",
              "      <td>1</td>\n",
              "      <td>23.0</td>\n",
              "      <td>0.0</td>\n",
              "      <td>0</td>\n",
              "      <td>0</td>\n",
              "      <td>0</td>\n",
              "      <td>285.0</td>\n",
              "      <td>130.0</td>\n",
              "      <td>84.0</td>\n",
              "      <td>23.10</td>\n",
              "      <td>85.0</td>\n",
              "      <td>85.0</td>\n",
              "      <td>0</td>\n",
              "    </tr>\n",
              "  </tbody>\n",
              "</table>\n",
              "</div>\n",
              "      <button class=\"colab-df-convert\" onclick=\"convertToInteractive('df-f86e3f48-01cd-4ae6-8863-6ef1d9fcdcd7')\"\n",
              "              title=\"Convert this dataframe to an interactive table.\"\n",
              "              style=\"display:none;\">\n",
              "        \n",
              "  <svg xmlns=\"http://www.w3.org/2000/svg\" height=\"24px\"viewBox=\"0 0 24 24\"\n",
              "       width=\"24px\">\n",
              "    <path d=\"M0 0h24v24H0V0z\" fill=\"none\"/>\n",
              "    <path d=\"M18.56 5.44l.94 2.06.94-2.06 2.06-.94-2.06-.94-.94-2.06-.94 2.06-2.06.94zm-11 1L8.5 8.5l.94-2.06 2.06-.94-2.06-.94L8.5 2.5l-.94 2.06-2.06.94zm10 10l.94 2.06.94-2.06 2.06-.94-2.06-.94-.94-2.06-.94 2.06-2.06.94z\"/><path d=\"M17.41 7.96l-1.37-1.37c-.4-.4-.92-.59-1.43-.59-.52 0-1.04.2-1.43.59L10.3 9.45l-7.72 7.72c-.78.78-.78 2.05 0 2.83L4 21.41c.39.39.9.59 1.41.59.51 0 1.02-.2 1.41-.59l7.78-7.78 2.81-2.81c.8-.78.8-2.07 0-2.86zM5.41 20L4 18.59l7.72-7.72 1.47 1.35L5.41 20z\"/>\n",
              "  </svg>\n",
              "      </button>\n",
              "      \n",
              "  <style>\n",
              "    .colab-df-container {\n",
              "      display:flex;\n",
              "      flex-wrap:wrap;\n",
              "      gap: 12px;\n",
              "    }\n",
              "\n",
              "    .colab-df-convert {\n",
              "      background-color: #E8F0FE;\n",
              "      border: none;\n",
              "      border-radius: 50%;\n",
              "      cursor: pointer;\n",
              "      display: none;\n",
              "      fill: #1967D2;\n",
              "      height: 32px;\n",
              "      padding: 0 0 0 0;\n",
              "      width: 32px;\n",
              "    }\n",
              "\n",
              "    .colab-df-convert:hover {\n",
              "      background-color: #E2EBFA;\n",
              "      box-shadow: 0px 1px 2px rgba(60, 64, 67, 0.3), 0px 1px 3px 1px rgba(60, 64, 67, 0.15);\n",
              "      fill: #174EA6;\n",
              "    }\n",
              "\n",
              "    [theme=dark] .colab-df-convert {\n",
              "      background-color: #3B4455;\n",
              "      fill: #D2E3FC;\n",
              "    }\n",
              "\n",
              "    [theme=dark] .colab-df-convert:hover {\n",
              "      background-color: #434B5C;\n",
              "      box-shadow: 0px 1px 3px 1px rgba(0, 0, 0, 0.15);\n",
              "      filter: drop-shadow(0px 1px 2px rgba(0, 0, 0, 0.3));\n",
              "      fill: #FFFFFF;\n",
              "    }\n",
              "  </style>\n",
              "\n",
              "      <script>\n",
              "        const buttonEl =\n",
              "          document.querySelector('#df-f86e3f48-01cd-4ae6-8863-6ef1d9fcdcd7 button.colab-df-convert');\n",
              "        buttonEl.style.display =\n",
              "          google.colab.kernel.accessAllowed ? 'block' : 'none';\n",
              "\n",
              "        async function convertToInteractive(key) {\n",
              "          const element = document.querySelector('#df-f86e3f48-01cd-4ae6-8863-6ef1d9fcdcd7');\n",
              "          const dataTable =\n",
              "            await google.colab.kernel.invokeFunction('convertToInteractive',\n",
              "                                                     [key], {});\n",
              "          if (!dataTable) return;\n",
              "\n",
              "          const docLinkHtml = 'Like what you see? Visit the ' +\n",
              "            '<a target=\"_blank\" href=https://colab.research.google.com/notebooks/data_table.ipynb>data table notebook</a>'\n",
              "            + ' to learn more about interactive tables.';\n",
              "          element.innerHTML = '';\n",
              "          dataTable['output_type'] = 'display_data';\n",
              "          await google.colab.output.renderOutput(dataTable, element);\n",
              "          const docLink = document.createElement('div');\n",
              "          docLink.innerHTML = docLinkHtml;\n",
              "          element.appendChild(docLink);\n",
              "        }\n",
              "      </script>\n",
              "    </div>\n",
              "  </div>\n",
              "  "
            ]
          },
          "metadata": {},
          "execution_count": 3
        }
      ]
    },
    {
      "cell_type": "code",
      "source": [
        "data.info"
      ],
      "metadata": {
        "colab": {
          "base_uri": "https://localhost:8080/"
        },
        "id": "0W8Xt33CsujS",
        "outputId": "8553ae9e-1268-4ee9-8818-789546bd6049"
      },
      "execution_count": null,
      "outputs": [
        {
          "output_type": "execute_result",
          "data": {
            "text/plain": [
              "<bound method DataFrame.info of       male  age  education  currentSmoker  cigsPerDay  BPMeds  \\\n",
              "0        1   39        4.0              0         0.0     0.0   \n",
              "1        0   46        2.0              0         0.0     0.0   \n",
              "2        1   48        1.0              1        20.0     0.0   \n",
              "3        0   61        3.0              1        30.0     0.0   \n",
              "4        0   46        3.0              1        23.0     0.0   \n",
              "...    ...  ...        ...            ...         ...     ...   \n",
              "4233     1   50        1.0              1         1.0     0.0   \n",
              "4234     1   51        3.0              1        43.0     0.0   \n",
              "4235     0   48        2.0              1        20.0     NaN   \n",
              "4236     0   44        1.0              1        15.0     0.0   \n",
              "4237     0   52        2.0              0         0.0     0.0   \n",
              "\n",
              "      prevalentStroke  prevalentHyp  diabetes  totChol  sysBP  diaBP    BMI  \\\n",
              "0                   0             0         0    195.0  106.0   70.0  26.97   \n",
              "1                   0             0         0    250.0  121.0   81.0  28.73   \n",
              "2                   0             0         0    245.0  127.5   80.0  25.34   \n",
              "3                   0             1         0    225.0  150.0   95.0  28.58   \n",
              "4                   0             0         0    285.0  130.0   84.0  23.10   \n",
              "...               ...           ...       ...      ...    ...    ...    ...   \n",
              "4233                0             1         0    313.0  179.0   92.0  25.97   \n",
              "4234                0             0         0    207.0  126.5   80.0  19.71   \n",
              "4235                0             0         0    248.0  131.0   72.0  22.00   \n",
              "4236                0             0         0    210.0  126.5   87.0  19.16   \n",
              "4237                0             0         0    269.0  133.5   83.0  21.47   \n",
              "\n",
              "      heartRate  glucose  TenYearCHD  \n",
              "0          80.0     77.0           0  \n",
              "1          95.0     76.0           0  \n",
              "2          75.0     70.0           0  \n",
              "3          65.0    103.0           1  \n",
              "4          85.0     85.0           0  \n",
              "...         ...      ...         ...  \n",
              "4233       66.0     86.0           1  \n",
              "4234       65.0     68.0           0  \n",
              "4235       84.0     86.0           0  \n",
              "4236       86.0      NaN           0  \n",
              "4237       80.0    107.0           0  \n",
              "\n",
              "[4238 rows x 16 columns]>"
            ]
          },
          "metadata": {},
          "execution_count": 4
        }
      ]
    },
    {
      "cell_type": "code",
      "source": [
        "data.isna().sum()"
      ],
      "metadata": {
        "colab": {
          "base_uri": "https://localhost:8080/"
        },
        "id": "7FqVmBMhtIzc",
        "outputId": "5008d180-5753-4e48-c643-5e26df7ef3ef"
      },
      "execution_count": null,
      "outputs": [
        {
          "output_type": "execute_result",
          "data": {
            "text/plain": [
              "male                 0\n",
              "age                  0\n",
              "education          105\n",
              "currentSmoker        0\n",
              "cigsPerDay          29\n",
              "BPMeds              53\n",
              "prevalentStroke      0\n",
              "prevalentHyp         0\n",
              "diabetes             0\n",
              "totChol             50\n",
              "sysBP                0\n",
              "diaBP                0\n",
              "BMI                 19\n",
              "heartRate            1\n",
              "glucose            388\n",
              "TenYearCHD           0\n",
              "dtype: int64"
            ]
          },
          "metadata": {},
          "execution_count": 6
        }
      ]
    },
    {
      "cell_type": "code",
      "source": [
        "data.dtypes"
      ],
      "metadata": {
        "colab": {
          "base_uri": "https://localhost:8080/"
        },
        "id": "zfmJmaPxtOB2",
        "outputId": "80dcf080-7a9c-4242-9fab-f57e899abab3"
      },
      "execution_count": null,
      "outputs": [
        {
          "output_type": "execute_result",
          "data": {
            "text/plain": [
              "male                 int64\n",
              "age                  int64\n",
              "education          float64\n",
              "currentSmoker        int64\n",
              "cigsPerDay         float64\n",
              "BPMeds             float64\n",
              "prevalentStroke      int64\n",
              "prevalentHyp         int64\n",
              "diabetes             int64\n",
              "totChol            float64\n",
              "sysBP              float64\n",
              "diaBP              float64\n",
              "BMI                float64\n",
              "heartRate          float64\n",
              "glucose            float64\n",
              "TenYearCHD           int64\n",
              "dtype: object"
            ]
          },
          "metadata": {},
          "execution_count": 7
        }
      ]
    },
    {
      "cell_type": "code",
      "source": [
        "data.columns"
      ],
      "metadata": {
        "colab": {
          "base_uri": "https://localhost:8080/"
        },
        "id": "Tp5Io8VktrJF",
        "outputId": "0ef1e5bf-76c9-46db-9e36-1afbdd5119c8"
      },
      "execution_count": null,
      "outputs": [
        {
          "output_type": "execute_result",
          "data": {
            "text/plain": [
              "Index(['male', 'age', 'education', 'currentSmoker', 'cigsPerDay', 'BPMeds',\n",
              "       'prevalentStroke', 'prevalentHyp', 'diabetes', 'totChol', 'sysBP',\n",
              "       'diaBP', 'BMI', 'heartRate', 'glucose', 'TenYearCHD'],\n",
              "      dtype='object')"
            ]
          },
          "metadata": {},
          "execution_count": 8
        }
      ]
    },
    {
      "cell_type": "code",
      "source": [
        "for i in ['education','cigsPerDay','BPMeds','totChol','BMI','heartRate','glucose']:\n",
        "  data[i]=data[i].fillna(data[i].median())"
      ],
      "metadata": {
        "id": "Ls3N3lqptxf8"
      },
      "execution_count": null,
      "outputs": []
    },
    {
      "cell_type": "code",
      "source": [
        "data.isna().sum()"
      ],
      "metadata": {
        "colab": {
          "base_uri": "https://localhost:8080/"
        },
        "id": "pfjoTvFrujBW",
        "outputId": "2ca0500a-30a6-42aa-e3fa-644ef46b9c8b"
      },
      "execution_count": null,
      "outputs": [
        {
          "output_type": "execute_result",
          "data": {
            "text/plain": [
              "male               0\n",
              "age                0\n",
              "education          0\n",
              "currentSmoker      0\n",
              "cigsPerDay         0\n",
              "BPMeds             0\n",
              "prevalentStroke    0\n",
              "prevalentHyp       0\n",
              "diabetes           0\n",
              "totChol            0\n",
              "sysBP              0\n",
              "diaBP              0\n",
              "BMI                0\n",
              "heartRate          0\n",
              "glucose            0\n",
              "TenYearCHD         0\n",
              "dtype: int64"
            ]
          },
          "metadata": {},
          "execution_count": 10
        }
      ]
    },
    {
      "cell_type": "code",
      "source": [
        "data.head()"
      ],
      "metadata": {
        "colab": {
          "base_uri": "https://localhost:8080/",
          "height": 270
        },
        "id": "uuvVNja7uome",
        "outputId": "c324d565-19ce-4351-a737-4b6c8b8e8a12"
      },
      "execution_count": null,
      "outputs": [
        {
          "output_type": "execute_result",
          "data": {
            "text/plain": [
              "   male  age  education  currentSmoker  cigsPerDay  BPMeds  prevalentStroke  \\\n",
              "0     1   39        4.0              0         0.0     0.0                0   \n",
              "1     0   46        2.0              0         0.0     0.0                0   \n",
              "2     1   48        1.0              1        20.0     0.0                0   \n",
              "3     0   61        3.0              1        30.0     0.0                0   \n",
              "4     0   46        3.0              1        23.0     0.0                0   \n",
              "\n",
              "   prevalentHyp  diabetes  totChol  sysBP  diaBP    BMI  heartRate  glucose  \\\n",
              "0             0         0    195.0  106.0   70.0  26.97       80.0     77.0   \n",
              "1             0         0    250.0  121.0   81.0  28.73       95.0     76.0   \n",
              "2             0         0    245.0  127.5   80.0  25.34       75.0     70.0   \n",
              "3             1         0    225.0  150.0   95.0  28.58       65.0    103.0   \n",
              "4             0         0    285.0  130.0   84.0  23.10       85.0     85.0   \n",
              "\n",
              "   TenYearCHD  \n",
              "0           0  \n",
              "1           0  \n",
              "2           0  \n",
              "3           1  \n",
              "4           0  "
            ],
            "text/html": [
              "\n",
              "  <div id=\"df-1c2bcad2-f11a-47ea-baae-880d7d26265b\">\n",
              "    <div class=\"colab-df-container\">\n",
              "      <div>\n",
              "<style scoped>\n",
              "    .dataframe tbody tr th:only-of-type {\n",
              "        vertical-align: middle;\n",
              "    }\n",
              "\n",
              "    .dataframe tbody tr th {\n",
              "        vertical-align: top;\n",
              "    }\n",
              "\n",
              "    .dataframe thead th {\n",
              "        text-align: right;\n",
              "    }\n",
              "</style>\n",
              "<table border=\"1\" class=\"dataframe\">\n",
              "  <thead>\n",
              "    <tr style=\"text-align: right;\">\n",
              "      <th></th>\n",
              "      <th>male</th>\n",
              "      <th>age</th>\n",
              "      <th>education</th>\n",
              "      <th>currentSmoker</th>\n",
              "      <th>cigsPerDay</th>\n",
              "      <th>BPMeds</th>\n",
              "      <th>prevalentStroke</th>\n",
              "      <th>prevalentHyp</th>\n",
              "      <th>diabetes</th>\n",
              "      <th>totChol</th>\n",
              "      <th>sysBP</th>\n",
              "      <th>diaBP</th>\n",
              "      <th>BMI</th>\n",
              "      <th>heartRate</th>\n",
              "      <th>glucose</th>\n",
              "      <th>TenYearCHD</th>\n",
              "    </tr>\n",
              "  </thead>\n",
              "  <tbody>\n",
              "    <tr>\n",
              "      <th>0</th>\n",
              "      <td>1</td>\n",
              "      <td>39</td>\n",
              "      <td>4.0</td>\n",
              "      <td>0</td>\n",
              "      <td>0.0</td>\n",
              "      <td>0.0</td>\n",
              "      <td>0</td>\n",
              "      <td>0</td>\n",
              "      <td>0</td>\n",
              "      <td>195.0</td>\n",
              "      <td>106.0</td>\n",
              "      <td>70.0</td>\n",
              "      <td>26.97</td>\n",
              "      <td>80.0</td>\n",
              "      <td>77.0</td>\n",
              "      <td>0</td>\n",
              "    </tr>\n",
              "    <tr>\n",
              "      <th>1</th>\n",
              "      <td>0</td>\n",
              "      <td>46</td>\n",
              "      <td>2.0</td>\n",
              "      <td>0</td>\n",
              "      <td>0.0</td>\n",
              "      <td>0.0</td>\n",
              "      <td>0</td>\n",
              "      <td>0</td>\n",
              "      <td>0</td>\n",
              "      <td>250.0</td>\n",
              "      <td>121.0</td>\n",
              "      <td>81.0</td>\n",
              "      <td>28.73</td>\n",
              "      <td>95.0</td>\n",
              "      <td>76.0</td>\n",
              "      <td>0</td>\n",
              "    </tr>\n",
              "    <tr>\n",
              "      <th>2</th>\n",
              "      <td>1</td>\n",
              "      <td>48</td>\n",
              "      <td>1.0</td>\n",
              "      <td>1</td>\n",
              "      <td>20.0</td>\n",
              "      <td>0.0</td>\n",
              "      <td>0</td>\n",
              "      <td>0</td>\n",
              "      <td>0</td>\n",
              "      <td>245.0</td>\n",
              "      <td>127.5</td>\n",
              "      <td>80.0</td>\n",
              "      <td>25.34</td>\n",
              "      <td>75.0</td>\n",
              "      <td>70.0</td>\n",
              "      <td>0</td>\n",
              "    </tr>\n",
              "    <tr>\n",
              "      <th>3</th>\n",
              "      <td>0</td>\n",
              "      <td>61</td>\n",
              "      <td>3.0</td>\n",
              "      <td>1</td>\n",
              "      <td>30.0</td>\n",
              "      <td>0.0</td>\n",
              "      <td>0</td>\n",
              "      <td>1</td>\n",
              "      <td>0</td>\n",
              "      <td>225.0</td>\n",
              "      <td>150.0</td>\n",
              "      <td>95.0</td>\n",
              "      <td>28.58</td>\n",
              "      <td>65.0</td>\n",
              "      <td>103.0</td>\n",
              "      <td>1</td>\n",
              "    </tr>\n",
              "    <tr>\n",
              "      <th>4</th>\n",
              "      <td>0</td>\n",
              "      <td>46</td>\n",
              "      <td>3.0</td>\n",
              "      <td>1</td>\n",
              "      <td>23.0</td>\n",
              "      <td>0.0</td>\n",
              "      <td>0</td>\n",
              "      <td>0</td>\n",
              "      <td>0</td>\n",
              "      <td>285.0</td>\n",
              "      <td>130.0</td>\n",
              "      <td>84.0</td>\n",
              "      <td>23.10</td>\n",
              "      <td>85.0</td>\n",
              "      <td>85.0</td>\n",
              "      <td>0</td>\n",
              "    </tr>\n",
              "  </tbody>\n",
              "</table>\n",
              "</div>\n",
              "      <button class=\"colab-df-convert\" onclick=\"convertToInteractive('df-1c2bcad2-f11a-47ea-baae-880d7d26265b')\"\n",
              "              title=\"Convert this dataframe to an interactive table.\"\n",
              "              style=\"display:none;\">\n",
              "        \n",
              "  <svg xmlns=\"http://www.w3.org/2000/svg\" height=\"24px\"viewBox=\"0 0 24 24\"\n",
              "       width=\"24px\">\n",
              "    <path d=\"M0 0h24v24H0V0z\" fill=\"none\"/>\n",
              "    <path d=\"M18.56 5.44l.94 2.06.94-2.06 2.06-.94-2.06-.94-.94-2.06-.94 2.06-2.06.94zm-11 1L8.5 8.5l.94-2.06 2.06-.94-2.06-.94L8.5 2.5l-.94 2.06-2.06.94zm10 10l.94 2.06.94-2.06 2.06-.94-2.06-.94-.94-2.06-.94 2.06-2.06.94z\"/><path d=\"M17.41 7.96l-1.37-1.37c-.4-.4-.92-.59-1.43-.59-.52 0-1.04.2-1.43.59L10.3 9.45l-7.72 7.72c-.78.78-.78 2.05 0 2.83L4 21.41c.39.39.9.59 1.41.59.51 0 1.02-.2 1.41-.59l7.78-7.78 2.81-2.81c.8-.78.8-2.07 0-2.86zM5.41 20L4 18.59l7.72-7.72 1.47 1.35L5.41 20z\"/>\n",
              "  </svg>\n",
              "      </button>\n",
              "      \n",
              "  <style>\n",
              "    .colab-df-container {\n",
              "      display:flex;\n",
              "      flex-wrap:wrap;\n",
              "      gap: 12px;\n",
              "    }\n",
              "\n",
              "    .colab-df-convert {\n",
              "      background-color: #E8F0FE;\n",
              "      border: none;\n",
              "      border-radius: 50%;\n",
              "      cursor: pointer;\n",
              "      display: none;\n",
              "      fill: #1967D2;\n",
              "      height: 32px;\n",
              "      padding: 0 0 0 0;\n",
              "      width: 32px;\n",
              "    }\n",
              "\n",
              "    .colab-df-convert:hover {\n",
              "      background-color: #E2EBFA;\n",
              "      box-shadow: 0px 1px 2px rgba(60, 64, 67, 0.3), 0px 1px 3px 1px rgba(60, 64, 67, 0.15);\n",
              "      fill: #174EA6;\n",
              "    }\n",
              "\n",
              "    [theme=dark] .colab-df-convert {\n",
              "      background-color: #3B4455;\n",
              "      fill: #D2E3FC;\n",
              "    }\n",
              "\n",
              "    [theme=dark] .colab-df-convert:hover {\n",
              "      background-color: #434B5C;\n",
              "      box-shadow: 0px 1px 3px 1px rgba(0, 0, 0, 0.15);\n",
              "      filter: drop-shadow(0px 1px 2px rgba(0, 0, 0, 0.3));\n",
              "      fill: #FFFFFF;\n",
              "    }\n",
              "  </style>\n",
              "\n",
              "      <script>\n",
              "        const buttonEl =\n",
              "          document.querySelector('#df-1c2bcad2-f11a-47ea-baae-880d7d26265b button.colab-df-convert');\n",
              "        buttonEl.style.display =\n",
              "          google.colab.kernel.accessAllowed ? 'block' : 'none';\n",
              "\n",
              "        async function convertToInteractive(key) {\n",
              "          const element = document.querySelector('#df-1c2bcad2-f11a-47ea-baae-880d7d26265b');\n",
              "          const dataTable =\n",
              "            await google.colab.kernel.invokeFunction('convertToInteractive',\n",
              "                                                     [key], {});\n",
              "          if (!dataTable) return;\n",
              "\n",
              "          const docLinkHtml = 'Like what you see? Visit the ' +\n",
              "            '<a target=\"_blank\" href=https://colab.research.google.com/notebooks/data_table.ipynb>data table notebook</a>'\n",
              "            + ' to learn more about interactive tables.';\n",
              "          element.innerHTML = '';\n",
              "          dataTable['output_type'] = 'display_data';\n",
              "          await google.colab.output.renderOutput(dataTable, element);\n",
              "          const docLink = document.createElement('div');\n",
              "          docLink.innerHTML = docLinkHtml;\n",
              "          element.appendChild(docLink);\n",
              "        }\n",
              "      </script>\n",
              "    </div>\n",
              "  </div>\n",
              "  "
            ]
          },
          "metadata": {},
          "execution_count": 11
        }
      ]
    },
    {
      "cell_type": "code",
      "source": [
        "plt.boxplot(data['education'])\n",
        "plt.title('Box plot of education')"
      ],
      "metadata": {
        "colab": {
          "base_uri": "https://localhost:8080/",
          "height": 298
        },
        "id": "Uxv4V8AdvTXP",
        "outputId": "95a822b5-481d-434b-cbe5-bdbf490a3014"
      },
      "execution_count": null,
      "outputs": [
        {
          "output_type": "execute_result",
          "data": {
            "text/plain": [
              "Text(0.5, 1.0, 'Box plot of education')"
            ]
          },
          "metadata": {},
          "execution_count": 12
        },
        {
          "output_type": "display_data",
          "data": {
            "text/plain": [
              "<Figure size 432x288 with 1 Axes>"
            ],
            "image/png": "[encoded data removed]"
          },
          "metadata": {
            "needs_background": "light"
          }
        }
      ]
    },
    {
      "cell_type": "code",
      "source": [
        "plt.boxplot(data['currentSmoker'])\n",
        "plt.title('Box plot of currentSmoker')"
      ],
      "metadata": {
        "colab": {
          "base_uri": "https://localhost:8080/",
          "height": 298
        },
        "id": "X9sJNiQ02Jx0",
        "outputId": "e2bd8dc9-d98c-4424-bf26-2729355afd38"
      },
      "execution_count": null,
      "outputs": [
        {
          "output_type": "execute_result",
          "data": {
            "text/plain": [
              "Text(0.5, 1.0, 'Box plot of currentSmoker')"
            ]
          },
          "metadata": {},
          "execution_count": 14
        },
        {
          "output_type": "display_data",
          "data": {
            "text/plain": [
              "<Figure size 432x288 with 1 Axes>"
            ],
            "image/png": "[encoded data removed]"
          },
          "metadata": {
            "needs_background": "light"
          }
        }
      ]
    },
    {
      "cell_type": "code",
      "source": [
        "plt.boxplot(data['cigsPerDay'])\n",
        "plt.title('Box plot of cigsPerDay')"
      ],
      "metadata": {
        "colab": {
          "base_uri": "https://localhost:8080/",
          "height": 298
        },
        "id": "B7YyIlk42XRI",
        "outputId": "c518f1c5-898e-4118-d59a-2bb9b9b9f886"
      },
      "execution_count": null,
      "outputs": [
        {
          "output_type": "execute_result",
          "data": {
            "text/plain": [
              "Text(0.5, 1.0, 'Box plot of cigsPerDay')"
            ]
          },
          "metadata": {},
          "execution_count": 15
        },
        {
          "output_type": "display_data",
          "data": {
            "text/plain": [
              "<Figure size 432x288 with 1 Axes>"
            ],
            "image/png": "[encoded data removed]"
          },
          "metadata": {
            "needs_background": "light"
          }
        }
      ]
    },
    {
      "cell_type": "code",
      "source": [
        "q1=np.percentile(data['cigsPerDay'],25,interpolation='midpoint')\n",
        "q2=np.percentile(data['cigsPerDay'],50,interpolation='midpoint')\n",
        "q3=np.percentile(data['cigsPerDay'],75,interpolation='midpoint')\n",
        "print(q1)\n",
        "print(q2)\n",
        "print(q3)"
      ],
      "metadata": {
        "colab": {
          "base_uri": "https://localhost:8080/"
        },
        "id": "cgTLrpoI2oGZ",
        "outputId": "ac82d530-b392-40a5-ddd8-a6897c6d672c"
      },
      "execution_count": null,
      "outputs": [
        {
          "output_type": "stream",
          "name": "stdout",
          "text": [
            "0.0\n",
            "0.0\n",
            "20.0\n"
          ]
        }
      ]
    },
    {
      "cell_type": "code",
      "source": [
        "iqr=q3-q1\n",
        "low_limit=q1-1.5*iqr\n",
        "up_limit=q3+1.5*iqr\n",
        "\n",
        "print(low_limit)\n",
        "print(up_limit)"
      ],
      "metadata": {
        "colab": {
          "base_uri": "https://localhost:8080/"
        },
        "id": "a0PSG_c029S3",
        "outputId": "e905367f-3f6a-4e0a-d06e-194291715cad"
      },
      "execution_count": null,
      "outputs": [
        {
          "output_type": "stream",
          "name": "stdout",
          "text": [
            "-30.0\n",
            "50.0\n"
          ]
        }
      ]
    },
    {
      "cell_type": "code",
      "source": [
        "outlier=[]\n",
        "for X in data['cigsPerDay']:\n",
        "   if((X>up_limit) or (X<low_limit)):\n",
        "     outlier.append(X)\n",
        "\n",
        "outlier"
      ],
      "metadata": {
        "colab": {
          "base_uri": "https://localhost:8080/"
        },
        "id": "trDgd0V03D2I",
        "outputId": "37bd4f16-f474-42b8-dc93-81f3ac64b5ba"
      },
      "execution_count": null,
      "outputs": [
        {
          "output_type": "execute_result",
          "data": {
            "text/plain": [
              "[60.0, 60.0, 60.0, 60.0, 60.0, 60.0, 60.0, 60.0, 60.0, 70.0, 60.0, 60.0]"
            ]
          },
          "metadata": {},
          "execution_count": 18
        }
      ]
    },
    {
      "cell_type": "code",
      "source": [
        "ind1=data['cigsPerDay']>up_limit\n",
        "data.loc[ind1].index"
      ],
      "metadata": {
        "colab": {
          "base_uri": "https://localhost:8080/"
        },
        "id": "s8kGPm8Y3R8-",
        "outputId": "982997d0-8cfc-439e-df47-b2b5ac5b97aa"
      },
      "execution_count": null,
      "outputs": [
        {
          "output_type": "execute_result",
          "data": {
            "text/plain": [
              "Int64Index([327, 721, 1054, 1452, 1468, 1488, 1849, 2709, 2710, 3008, 3673,\n",
              "            3928],\n",
              "           dtype='int64')"
            ]
          },
          "metadata": {},
          "execution_count": 21
        }
      ]
    },
    {
      "cell_type": "code",
      "source": [
        "data.drop([327, 721, 1054, 1452, 1468, 1488, 1849, 2709, 2710, 3008, 3673,\n",
        "            3928],inplace=True)"
      ],
      "metadata": {
        "id": "cpX2Q8Xz3zut"
      },
      "execution_count": null,
      "outputs": []
    },
    {
      "cell_type": "code",
      "source": [
        "plt.boxplot(data['cigsPerDay'])\n",
        "plt.title('Box plot of cigsPerDay')"
      ],
      "metadata": {
        "colab": {
          "base_uri": "https://localhost:8080/",
          "height": 298
        },
        "id": "yYEDnknM4HAT",
        "outputId": "00837f0c-3c06-46a0-d92c-381125bc8f88"
      },
      "execution_count": null,
      "outputs": [
        {
          "output_type": "execute_result",
          "data": {
            "text/plain": [
              "Text(0.5, 1.0, 'Box plot of cigsPerDay')"
            ]
          },
          "metadata": {},
          "execution_count": 23
        },
        {
          "output_type": "display_data",
          "data": {
            "text/plain": [
              "<Figure size 432x288 with 1 Axes>"
            ],
            "image/png": "[encoded data removed]"
          },
          "metadata": {
            "needs_background": "light"
          }
        }
      ]
    },
    {
      "cell_type": "code",
      "source": [
        "plt.boxplot(data['BPMeds'])\n",
        "plt.title('Box plot of BPMeds')"
      ],
      "metadata": {
        "colab": {
          "base_uri": "https://localhost:8080/",
          "height": 298
        },
        "id": "0saTXp814OZ4",
        "outputId": "62f19f1e-620d-4dec-8d17-ab15d392a138"
      },
      "execution_count": null,
      "outputs": [
        {
          "output_type": "execute_result",
          "data": {
            "text/plain": [
              "Text(0.5, 1.0, 'Box plot of BPMeds')"
            ]
          },
          "metadata": {},
          "execution_count": 24
        },
        {
          "output_type": "display_data",
          "data": {
            "text/plain": [
              "<Figure size 432x288 with 1 Axes>"
            ],
            "image/png": "[encoded data removed]"
          },
          "metadata": {
            "needs_background": "light"
          }
        }
      ]
    },
    {
      "cell_type": "code",
      "source": [
        "q1=np.percentile(data['BPMeds'],25,interpolation='midpoint')\n",
        "q2=np.percentile(data['BPMeds'],50,interpolation='midpoint')\n",
        "q3=np.percentile(data['BPMeds'],75,interpolation='midpoint')\n",
        "print(q1)\n",
        "print(q2)\n",
        "print(q3)"
      ],
      "metadata": {
        "colab": {
          "base_uri": "https://localhost:8080/"
        },
        "id": "nmCmzB1E4aqS",
        "outputId": "b168da92-f782-4cc0-f1be-d2cd5ae0405a"
      },
      "execution_count": null,
      "outputs": [
        {
          "output_type": "stream",
          "name": "stdout",
          "text": [
            "0.0\n",
            "0.0\n",
            "0.0\n"
          ]
        }
      ]
    },
    {
      "cell_type": "code",
      "source": [
        "iqr=q3-q1\n",
        "low_limit=q1-1.5*iqr\n",
        "up_limit=q3+1.5*iqr\n",
        "\n",
        "print(low_limit)\n",
        "print(up_limit)"
      ],
      "metadata": {
        "colab": {
          "base_uri": "https://localhost:8080/"
        },
        "id": "r46zLYXu4ojy",
        "outputId": "e5060735-2e37-43b5-f24b-e676efdca1a4"
      },
      "execution_count": null,
      "outputs": [
        {
          "output_type": "stream",
          "name": "stdout",
          "text": [
            "0.0\n",
            "0.0\n"
          ]
        }
      ]
    },
    {
      "cell_type": "code",
      "source": [
        "outlier=[]\n",
        "for X in data['BPMeds']:\n",
        "   if((X>up_limit) or (X<low_limit)):\n",
        "     outlier.append(X)\n",
        "\n",
        "outlier"
      ],
      "metadata": {
        "colab": {
          "base_uri": "https://localhost:8080/"
        },
        "id": "nQWLJP9C4yhc",
        "outputId": "98b4e922-b271-43fb-aede-dc0692cc2dd9"
      },
      "execution_count": null,
      "outputs": [
        {
          "output_type": "execute_result",
          "data": {
            "text/plain": [
              "[1.0,\n",
              " 1.0,\n",
              " 1.0,\n",
              " 1.0,\n",
              " 1.0,\n",
              " 1.0,\n",
              " 1.0,\n",
              " 1.0,\n",
              " 1.0,\n",
              " 1.0,\n",
              " 1.0,\n",
              " 1.0,\n",
              " 1.0,\n",
              " 1.0,\n",
              " 1.0,\n",
              " 1.0,\n",
              " 1.0,\n",
              " 1.0,\n",
              " 1.0,\n",
              " 1.0,\n",
              " 1.0,\n",
              " 1.0,\n",
              " 1.0,\n",
              " 1.0,\n",
              " 1.0,\n",
              " 1.0,\n",
              " 1.0,\n",
              " 1.0,\n",
              " 1.0,\n",
              " 1.0,\n",
              " 1.0,\n",
              " 1.0,\n",
              " 1.0,\n",
              " 1.0,\n",
              " 1.0,\n",
              " 1.0,\n",
              " 1.0,\n",
              " 1.0,\n",
              " 1.0,\n",
              " 1.0,\n",
              " 1.0,\n",
              " 1.0,\n",
              " 1.0,\n",
              " 1.0,\n",
              " 1.0,\n",
              " 1.0,\n",
              " 1.0,\n",
              " 1.0,\n",
              " 1.0,\n",
              " 1.0,\n",
              " 1.0,\n",
              " 1.0,\n",
              " 1.0,\n",
              " 1.0,\n",
              " 1.0,\n",
              " 1.0,\n",
              " 1.0,\n",
              " 1.0,\n",
              " 1.0,\n",
              " 1.0,\n",
              " 1.0,\n",
              " 1.0,\n",
              " 1.0,\n",
              " 1.0,\n",
              " 1.0,\n",
              " 1.0,\n",
              " 1.0,\n",
              " 1.0,\n",
              " 1.0,\n",
              " 1.0,\n",
              " 1.0,\n",
              " 1.0,\n",
              " 1.0,\n",
              " 1.0,\n",
              " 1.0,\n",
              " 1.0,\n",
              " 1.0,\n",
              " 1.0,\n",
              " 1.0,\n",
              " 1.0,\n",
              " 1.0,\n",
              " 1.0,\n",
              " 1.0,\n",
              " 1.0,\n",
              " 1.0,\n",
              " 1.0,\n",
              " 1.0,\n",
              " 1.0,\n",
              " 1.0,\n",
              " 1.0,\n",
              " 1.0,\n",
              " 1.0,\n",
              " 1.0,\n",
              " 1.0,\n",
              " 1.0,\n",
              " 1.0,\n",
              " 1.0,\n",
              " 1.0,\n",
              " 1.0,\n",
              " 1.0,\n",
              " 1.0,\n",
              " 1.0,\n",
              " 1.0,\n",
              " 1.0,\n",
              " 1.0,\n",
              " 1.0,\n",
              " 1.0,\n",
              " 1.0,\n",
              " 1.0,\n",
              " 1.0,\n",
              " 1.0,\n",
              " 1.0,\n",
              " 1.0,\n",
              " 1.0,\n",
              " 1.0,\n",
              " 1.0,\n",
              " 1.0,\n",
              " 1.0,\n",
              " 1.0,\n",
              " 1.0,\n",
              " 1.0,\n",
              " 1.0,\n",
              " 1.0,\n",
              " 1.0]"
            ]
          },
          "metadata": {},
          "execution_count": 28
        }
      ]
    },
    {
      "cell_type": "code",
      "source": [
        "plt.boxplot(data['totChol'])\n",
        "plt.title('Box plot of totChol')"
      ],
      "metadata": {
        "colab": {
          "base_uri": "https://localhost:8080/",
          "height": 298
        },
        "id": "ep5iUzeb45UU",
        "outputId": "bd1a5105-f1d7-4c7c-82bb-b21f3efb3856"
      },
      "execution_count": null,
      "outputs": [
        {
          "output_type": "execute_result",
          "data": {
            "text/plain": [
              "Text(0.5, 1.0, 'Box plot of totChol')"
            ]
          },
          "metadata": {},
          "execution_count": 29
        },
        {
          "output_type": "display_data",
          "data": {
            "text/plain": [
              "<Figure size 432x288 with 1 Axes>"
            ],
            "image/png": "[encoded data removed]"
          },
          "metadata": {
            "needs_background": "light"
          }
        }
      ]
    },
    {
      "cell_type": "code",
      "source": [
        "q1=np.percentile(data['totChol'],25,interpolation='midpoint')\n",
        "q2=np.percentile(data['totChol'],50,interpolation='midpoint')\n",
        "q3=np.percentile(data['totChol'],75,interpolation='midpoint')\n",
        "print(q1)\n",
        "print(q2)\n",
        "print(q3)"
      ],
      "metadata": {
        "colab": {
          "base_uri": "https://localhost:8080/"
        },
        "id": "DalsTUYH5Y2y",
        "outputId": "cbd2aea6-6ff3-41b6-a099-beb4da39a60b"
      },
      "execution_count": null,
      "outputs": [
        {
          "output_type": "stream",
          "name": "stdout",
          "text": [
            "206.0\n",
            "234.0\n",
            "262.0\n"
          ]
        }
      ]
    },
    {
      "cell_type": "code",
      "source": [
        "iqr=q3-q1\n",
        "low_limit=q1-1.5*iqr\n",
        "up_limit=q3+1.5*iqr\n",
        "\n",
        "print(low_limit)\n",
        "print(up_limit)"
      ],
      "metadata": {
        "colab": {
          "base_uri": "https://localhost:8080/"
        },
        "id": "ikX1LCe35eAW",
        "outputId": "6b6007fd-08e9-4693-8310-b5342334d315"
      },
      "execution_count": null,
      "outputs": [
        {
          "output_type": "stream",
          "name": "stdout",
          "text": [
            "122.0\n",
            "346.0\n"
          ]
        }
      ]
    },
    {
      "cell_type": "code",
      "source": [
        "outlier=[]\n",
        "for X in data['totChol']:\n",
        "   if((X>up_limit) or (X<low_limit)):\n",
        "     outlier.append(X)\n",
        "\n",
        "outlier"
      ],
      "metadata": {
        "colab": {
          "base_uri": "https://localhost:8080/"
        },
        "id": "p9sL8YaX5oci",
        "outputId": "94949e17-c3f8-4f13-cbd2-83b8847f094e"
      },
      "execution_count": null,
      "outputs": [
        {
          "output_type": "execute_result",
          "data": {
            "text/plain": [
              "[464.0,\n",
              " 352.0,\n",
              " 368.0,\n",
              " 370.0,\n",
              " 439.0,\n",
              " 398.0,\n",
              " 355.0,\n",
              " 353.0,\n",
              " 360.0,\n",
              " 372.0,\n",
              " 352.0,\n",
              " 600.0,\n",
              " 392.0,\n",
              " 358.0,\n",
              " 391.0,\n",
              " 410.0,\n",
              " 356.0,\n",
              " 107.0,\n",
              " 372.0,\n",
              " 366.0,\n",
              " 365.0,\n",
              " 362.0,\n",
              " 410.0,\n",
              " 351.0,\n",
              " 390.0,\n",
              " 405.0,\n",
              " 359.0,\n",
              " 350.0,\n",
              " 380.0,\n",
              " 355.0,\n",
              " 390.0,\n",
              " 371.0,\n",
              " 113.0,\n",
              " 350.0,\n",
              " 354.0,\n",
              " 382.0,\n",
              " 364.0,\n",
              " 367.0,\n",
              " 352.0,\n",
              " 432.0,\n",
              " 351.0,\n",
              " 696.0,\n",
              " 363.0,\n",
              " 382.0,\n",
              " 361.0,\n",
              " 453.0,\n",
              " 352.0,\n",
              " 366.0,\n",
              " 410.0,\n",
              " 350.0,\n",
              " 391.0,\n",
              " 358.0,\n",
              " 347.0,\n",
              " 373.0,\n",
              " 385.0,\n",
              " 366.0,\n",
              " 119.0]"
            ]
          },
          "metadata": {},
          "execution_count": 34
        }
      ]
    },
    {
      "cell_type": "code",
      "source": [
        "ind1=data['totChol']>up_limit\n",
        "data.loc[ind1].index"
      ],
      "metadata": {
        "colab": {
          "base_uri": "https://localhost:8080/"
        },
        "id": "K5N8mZnU5sKf",
        "outputId": "29c172db-a5e0-44af-b556-dc30797e4e86"
      },
      "execution_count": null,
      "outputs": [
        {
          "output_type": "execute_result",
          "data": {
            "text/plain": [
              "Int64Index([ 194,  259,  333,  533,  543,  617,  670,  920,  926,  998, 1103,\n",
              "            1111, 1150, 1389, 1447, 1544, 1610, 1691, 1710, 1870, 1932, 1937,\n",
              "            2014, 2024, 2206, 2208, 2275, 2349, 2363, 2368, 2488, 2575, 2602,\n",
              "            2607, 2671, 2797, 2972, 2985, 3056, 3160, 3165, 3394, 3418, 3474,\n",
              "            3532, 3571, 3806, 3810, 3816, 3844, 3865, 3916, 4001, 4003],\n",
              "           dtype='int64')"
            ]
          },
          "metadata": {},
          "execution_count": 36
        }
      ]
    },
    {
      "cell_type": "code",
      "source": [
        "data.drop([194,  259,  333,  533,  543,  617,  670,  920,  926,  998, 1103,\n",
        "            1111, 1150, 1389, 1447, 1544, 1610, 1691, 1710, 1870, 1932, 1937,\n",
        "            2014, 2024, 2206, 2208, 2275, 2349, 2363, 2368, 2488, 2575, 2602,\n",
        "            2607, 2671, 2797, 2972, 2985, 3056, 3160, 3165, 3394, 3418, 3474,\n",
        "            3532, 3571, 3806, 3810, 3816, 3844, 3865, 3916, 4001, 4003],inplace=True)"
      ],
      "metadata": {
        "id": "JU36XMsH6NMs"
      },
      "execution_count": null,
      "outputs": []
    },
    {
      "cell_type": "code",
      "source": [
        "ind2=data['totChol']<low_limit\n",
        "data.loc[ind2].index"
      ],
      "metadata": {
        "colab": {
          "base_uri": "https://localhost:8080/"
        },
        "id": "oKnxf4jf6g6Q",
        "outputId": "0080f12c-cfda-48f3-e387-70bc04af7265"
      },
      "execution_count": null,
      "outputs": [
        {
          "output_type": "execute_result",
          "data": {
            "text/plain": [
              "Int64Index([1624, 2525, 4066], dtype='int64')"
            ]
          },
          "metadata": {},
          "execution_count": 38
        }
      ]
    },
    {
      "cell_type": "code",
      "source": [
        "data.drop([1624, 2525, 4066],inplace=True)"
      ],
      "metadata": {
        "id": "nz2Ejeks6ojQ"
      },
      "execution_count": null,
      "outputs": []
    },
    {
      "cell_type": "code",
      "source": [
        "plt.boxplot(data['totChol'])\n",
        "plt.title('Box plot of totChol')"
      ],
      "metadata": {
        "colab": {
          "base_uri": "https://localhost:8080/",
          "height": 298
        },
        "id": "M0-fKMJc6wez",
        "outputId": "2ffa5f31-21c0-43e3-d7f4-2a15d1ceba9b"
      },
      "execution_count": null,
      "outputs": [
        {
          "output_type": "execute_result",
          "data": {
            "text/plain": [
              "Text(0.5, 1.0, 'Box plot of totChol')"
            ]
          },
          "metadata": {},
          "execution_count": 40
        },
        {
          "output_type": "display_data",
          "data": {
            "text/plain": [
              "<Figure size 432x288 with 1 Axes>"
            ],
            "image/png": "[encoded data removed]"
          },
          "metadata": {
            "needs_background": "light"
          }
        }
      ]
    },
    {
      "cell_type": "code",
      "source": [
        "plt.boxplot(data['sysBP'])\n",
        "plt.title('Box plot of sysBP')"
      ],
      "metadata": {
        "colab": {
          "base_uri": "https://localhost:8080/",
          "height": 298
        },
        "id": "V1kl6gnD61mP",
        "outputId": "2f7703b6-75d2-4548-8d56-36fcaa5ac8da"
      },
      "execution_count": null,
      "outputs": [
        {
          "output_type": "execute_result",
          "data": {
            "text/plain": [
              "Text(0.5, 1.0, 'Box plot of sysBP')"
            ]
          },
          "metadata": {},
          "execution_count": 41
        },
        {
          "output_type": "display_data",
          "data": {
            "text/plain": [
              "<Figure size 432x288 with 1 Axes>"
            ],
            "image/png": "[encoded data removed]"
          },
          "metadata": {
            "needs_background": "light"
          }
        }
      ]
    },
    {
      "cell_type": "code",
      "source": [
        "q1=np.percentile(data['sysBP'],25,interpolation='midpoint')\n",
        "q2=np.percentile(data['sysBP'],50,interpolation='midpoint')\n",
        "q3=np.percentile(data['sysBP'],75,interpolation='midpoint')\n",
        "print(q1)\n",
        "print(q2)\n",
        "print(q3)"
      ],
      "metadata": {
        "colab": {
          "base_uri": "https://localhost:8080/"
        },
        "id": "GA7JwLM57Aw-",
        "outputId": "1ea4fce0-142b-43ad-cb67-100c23842d27"
      },
      "execution_count": null,
      "outputs": [
        {
          "output_type": "stream",
          "name": "stdout",
          "text": [
            "117.0\n",
            "128.0\n",
            "143.5\n"
          ]
        }
      ]
    },
    {
      "cell_type": "code",
      "source": [
        "iqr=q3-q1\n",
        "low_limit=q1-1.5*iqr\n",
        "up_limit=q3+1.5*iqr\n",
        "\n",
        "print(low_limit)\n",
        "print(up_limit)"
      ],
      "metadata": {
        "colab": {
          "base_uri": "https://localhost:8080/"
        },
        "id": "GWvlNBk27GK5",
        "outputId": "4cafed22-38fd-4466-c480-e4faec7b0260"
      },
      "execution_count": null,
      "outputs": [
        {
          "output_type": "stream",
          "name": "stdout",
          "text": [
            "77.25\n",
            "183.25\n"
          ]
        }
      ]
    },
    {
      "cell_type": "code",
      "source": [
        "outlier=[]\n",
        "for X in data['sysBP']:\n",
        "   if((X>up_limit) or (X<low_limit)):\n",
        "     outlier.append(X)\n",
        "\n",
        "outlier"
      ],
      "metadata": {
        "colab": {
          "base_uri": "https://localhost:8080/"
        },
        "id": "8-At3Ryg7RS2",
        "outputId": "5116c556-f19c-4f1e-bb92-fd813882f2f9"
      },
      "execution_count": null,
      "outputs": [
        {
          "output_type": "execute_result",
          "data": {
            "text/plain": [
              "[206.0,\n",
              " 190.0,\n",
              " 200.0,\n",
              " 187.0,\n",
              " 212.0,\n",
              " 191.0,\n",
              " 200.0,\n",
              " 189.0,\n",
              " 195.0,\n",
              " 189.0,\n",
              " 215.0,\n",
              " 188.0,\n",
              " 197.0,\n",
              " 209.0,\n",
              " 295.0,\n",
              " 189.0,\n",
              " 188.0,\n",
              " 185.0,\n",
              " 220.0,\n",
              " 205.5,\n",
              " 186.0,\n",
              " 192.0,\n",
              " 185.0,\n",
              " 195.0,\n",
              " 200.0,\n",
              " 244.0,\n",
              " 213.0,\n",
              " 206.0,\n",
              " 199.0,\n",
              " 184.0,\n",
              " 198.0,\n",
              " 206.0,\n",
              " 201.0,\n",
              " 189.0,\n",
              " 184.0,\n",
              " 243.0,\n",
              " 184.0,\n",
              " 187.5,\n",
              " 185.5,\n",
              " 195.0,\n",
              " 199.0,\n",
              " 186.5,\n",
              " 186.0,\n",
              " 204.0,\n",
              " 217.0,\n",
              " 196.0,\n",
              " 193.0,\n",
              " 187.0,\n",
              " 196.0,\n",
              " 189.0,\n",
              " 196.0,\n",
              " 190.0,\n",
              " 185.0,\n",
              " 202.0,\n",
              " 195.0,\n",
              " 200.0,\n",
              " 232.0,\n",
              " 191.0,\n",
              " 235.0,\n",
              " 188.0,\n",
              " 205.0,\n",
              " 185.0,\n",
              " 220.0,\n",
              " 210.0,\n",
              " 184.0,\n",
              " 193.0,\n",
              " 188.5,\n",
              " 190.0,\n",
              " 185.0,\n",
              " 192.0,\n",
              " 199.0,\n",
              " 197.5,\n",
              " 190.0,\n",
              " 195.0,\n",
              " 210.0,\n",
              " 184.5,\n",
              " 202.5,\n",
              " 191.5,\n",
              " 208.0,\n",
              " 191.0,\n",
              " 205.0,\n",
              " 190.0,\n",
              " 210.0,\n",
              " 190.0,\n",
              " 197.0,\n",
              " 198.0,\n",
              " 190.0,\n",
              " 185.0,\n",
              " 204.0,\n",
              " 207.5,\n",
              " 191.0,\n",
              " 195.0,\n",
              " 198.0,\n",
              " 197.0,\n",
              " 186.5,\n",
              " 193.0,\n",
              " 215.0,\n",
              " 196.0,\n",
              " 199.5,\n",
              " 193.0,\n",
              " 195.0,\n",
              " 248.0,\n",
              " 196.0,\n",
              " 202.0,\n",
              " 185.0,\n",
              " 185.0,\n",
              " 230.0,\n",
              " 197.0,\n",
              " 189.0,\n",
              " 214.0,\n",
              " 196.0,\n",
              " 192.5,\n",
              " 188.0,\n",
              " 187.0,\n",
              " 194.0,\n",
              " 207.0,\n",
              " 185.5,\n",
              " 213.0,\n",
              " 192.5,\n",
              " 192.5,\n",
              " 200.0,\n",
              " 187.0,\n",
              " 190.0,\n",
              " 206.0,\n",
              " 210.0,\n",
              " 195.0,\n",
              " 188.0,\n",
              " 190.0]"
            ]
          },
          "metadata": {},
          "execution_count": 45
        }
      ]
    },
    {
      "cell_type": "code",
      "source": [
        "ind1=data['sysBP']>up_limit\n",
        "data.loc[ind1].index"
      ],
      "metadata": {
        "colab": {
          "base_uri": "https://localhost:8080/"
        },
        "id": "AN1RFb707X_R",
        "outputId": "82bb3552-7bd5-4604-a13b-ccf43dc9cbf1"
      },
      "execution_count": null,
      "outputs": [
        {
          "output_type": "execute_result",
          "data": {
            "text/plain": [
              "Int64Index([  44,   66,   87,  108,  153,  158,  249,  255,  294,  328,\n",
              "            ...\n",
              "            4058, 4075, 4076, 4084, 4115, 4123, 4173, 4193, 4222, 4228],\n",
              "           dtype='int64', length=128)"
            ]
          },
          "metadata": {},
          "execution_count": 46
        }
      ]
    },
    {
      "cell_type": "code",
      "source": [
        "data.drop(data.loc[ind1].index,inplace=True)"
      ],
      "metadata": {
        "id": "vSPssGR87rnp"
      },
      "execution_count": null,
      "outputs": []
    },
    {
      "cell_type": "code",
      "source": [
        "plt.boxplot(data['sysBP'])\n",
        "plt.title('Box plot of sysBP')"
      ],
      "metadata": {
        "colab": {
          "base_uri": "https://localhost:8080/",
          "height": 298
        },
        "id": "6DKwPpcU75-E",
        "outputId": "73e75aa2-04ca-47d7-88b8-53702b1b8c14"
      },
      "execution_count": null,
      "outputs": [
        {
          "output_type": "execute_result",
          "data": {
            "text/plain": [
              "Text(0.5, 1.0, 'Box plot of sysBP')"
            ]
          },
          "metadata": {},
          "execution_count": 104
        },
        {
          "output_type": "display_data",
          "data": {
            "text/plain": [
              "<Figure size 432x288 with 1 Axes>"
            ],
            "image/png": "[encoded data removed]"
          },
          "metadata": {
            "needs_background": "light"
          }
        }
      ]
    },
    {
      "cell_type": "code",
      "source": [
        "data.head()"
      ],
      "metadata": {
        "colab": {
          "base_uri": "https://localhost:8080/",
          "height": 270
        },
        "id": "sTwhqomy_a0H",
        "outputId": "110d1f2f-f62c-4e9d-cf31-91a7924e36f5"
      },
      "execution_count": null,
      "outputs": [
        {
          "output_type": "execute_result",
          "data": {
            "text/plain": [
              "   male  age  education  currentSmoker  cigsPerDay  BPMeds  prevalentStroke  \\\n",
              "0     1   39        4.0              0         0.0     0.0                0   \n",
              "1     0   46        2.0              0         0.0     0.0                0   \n",
              "2     1   48        1.0              1        20.0     0.0                0   \n",
              "3     0   61        3.0              1        30.0     0.0                0   \n",
              "4     0   46        3.0              1        23.0     0.0                0   \n",
              "\n",
              "   prevalentHyp  diabetes  totChol  sysBP  diaBP    BMI  heartRate  glucose  \\\n",
              "0             0         0    195.0  106.0   70.0  26.97       80.0     77.0   \n",
              "1             0         0    250.0  121.0   81.0  28.73       95.0     76.0   \n",
              "2             0         0    245.0  127.5   80.0  25.34       75.0     70.0   \n",
              "3             1         0    225.0  150.0   95.0  28.58       65.0    103.0   \n",
              "4             0         0    285.0  130.0   84.0  23.10       85.0     85.0   \n",
              "\n",
              "   TenYearCHD  \n",
              "0           0  \n",
              "1           0  \n",
              "2           0  \n",
              "3           1  \n",
              "4           0  "
            ],
            "text/html": [
              "\n",
              "  <div id=\"df-89ad06ea-70d7-448f-91c3-c58590e63f47\">\n",
              "    <div class=\"colab-df-container\">\n",
              "      <div>\n",
              "<style scoped>\n",
              "    .dataframe tbody tr th:only-of-type {\n",
              "        vertical-align: middle;\n",
              "    }\n",
              "\n",
              "    .dataframe tbody tr th {\n",
              "        vertical-align: top;\n",
              "    }\n",
              "\n",
              "    .dataframe thead th {\n",
              "        text-align: right;\n",
              "    }\n",
              "</style>\n",
              "<table border=\"1\" class=\"dataframe\">\n",
              "  <thead>\n",
              "    <tr style=\"text-align: right;\">\n",
              "      <th></th>\n",
              "      <th>male</th>\n",
              "      <th>age</th>\n",
              "      <th>education</th>\n",
              "      <th>currentSmoker</th>\n",
              "      <th>cigsPerDay</th>\n",
              "      <th>BPMeds</th>\n",
              "      <th>prevalentStroke</th>\n",
              "      <th>prevalentHyp</th>\n",
              "      <th>diabetes</th>\n",
              "      <th>totChol</th>\n",
              "      <th>sysBP</th>\n",
              "      <th>diaBP</th>\n",
              "      <th>BMI</th>\n",
              "      <th>heartRate</th>\n",
              "      <th>glucose</th>\n",
              "      <th>TenYearCHD</th>\n",
              "    </tr>\n",
              "  </thead>\n",
              "  <tbody>\n",
              "    <tr>\n",
              "      <th>0</th>\n",
              "      <td>1</td>\n",
              "      <td>39</td>\n",
              "      <td>4.0</td>\n",
              "      <td>0</td>\n",
              "      <td>0.0</td>\n",
              "      <td>0.0</td>\n",
              "      <td>0</td>\n",
              "      <td>0</td>\n",
              "      <td>0</td>\n",
              "      <td>195.0</td>\n",
              "      <td>106.0</td>\n",
              "      <td>70.0</td>\n",
              "      <td>26.97</td>\n",
              "      <td>80.0</td>\n",
              "      <td>77.0</td>\n",
              "      <td>0</td>\n",
              "    </tr>\n",
              "    <tr>\n",
              "      <th>1</th>\n",
              "      <td>0</td>\n",
              "      <td>46</td>\n",
              "      <td>2.0</td>\n",
              "      <td>0</td>\n",
              "      <td>0.0</td>\n",
              "      <td>0.0</td>\n",
              "      <td>0</td>\n",
              "      <td>0</td>\n",
              "      <td>0</td>\n",
              "      <td>250.0</td>\n",
              "      <td>121.0</td>\n",
              "      <td>81.0</td>\n",
              "      <td>28.73</td>\n",
              "      <td>95.0</td>\n",
              "      <td>76.0</td>\n",
              "      <td>0</td>\n",
              "    </tr>\n",
              "    <tr>\n",
              "      <th>2</th>\n",
              "      <td>1</td>\n",
              "      <td>48</td>\n",
              "      <td>1.0</td>\n",
              "      <td>1</td>\n",
              "      <td>20.0</td>\n",
              "      <td>0.0</td>\n",
              "      <td>0</td>\n",
              "      <td>0</td>\n",
              "      <td>0</td>\n",
              "      <td>245.0</td>\n",
              "      <td>127.5</td>\n",
              "      <td>80.0</td>\n",
              "      <td>25.34</td>\n",
              "      <td>75.0</td>\n",
              "      <td>70.0</td>\n",
              "      <td>0</td>\n",
              "    </tr>\n",
              "    <tr>\n",
              "      <th>3</th>\n",
              "      <td>0</td>\n",
              "      <td>61</td>\n",
              "      <td>3.0</td>\n",
              "      <td>1</td>\n",
              "      <td>30.0</td>\n",
              "      <td>0.0</td>\n",
              "      <td>0</td>\n",
              "      <td>1</td>\n",
              "      <td>0</td>\n",
              "      <td>225.0</td>\n",
              "      <td>150.0</td>\n",
              "      <td>95.0</td>\n",
              "      <td>28.58</td>\n",
              "      <td>65.0</td>\n",
              "      <td>103.0</td>\n",
              "      <td>1</td>\n",
              "    </tr>\n",
              "    <tr>\n",
              "      <th>4</th>\n",
              "      <td>0</td>\n",
              "      <td>46</td>\n",
              "      <td>3.0</td>\n",
              "      <td>1</td>\n",
              "      <td>23.0</td>\n",
              "      <td>0.0</td>\n",
              "      <td>0</td>\n",
              "      <td>0</td>\n",
              "      <td>0</td>\n",
              "      <td>285.0</td>\n",
              "      <td>130.0</td>\n",
              "      <td>84.0</td>\n",
              "      <td>23.10</td>\n",
              "      <td>85.0</td>\n",
              "      <td>85.0</td>\n",
              "      <td>0</td>\n",
              "    </tr>\n",
              "  </tbody>\n",
              "</table>\n",
              "</div>\n",
              "      <button class=\"colab-df-convert\" onclick=\"convertToInteractive('df-89ad06ea-70d7-448f-91c3-c58590e63f47')\"\n",
              "              title=\"Convert this dataframe to an interactive table.\"\n",
              "              style=\"display:none;\">\n",
              "        \n",
              "  <svg xmlns=\"http://www.w3.org/2000/svg\" height=\"24px\"viewBox=\"0 0 24 24\"\n",
              "       width=\"24px\">\n",
              "    <path d=\"M0 0h24v24H0V0z\" fill=\"none\"/>\n",
              "    <path d=\"M18.56 5.44l.94 2.06.94-2.06 2.06-.94-2.06-.94-.94-2.06-.94 2.06-2.06.94zm-11 1L8.5 8.5l.94-2.06 2.06-.94-2.06-.94L8.5 2.5l-.94 2.06-2.06.94zm10 10l.94 2.06.94-2.06 2.06-.94-2.06-.94-.94-2.06-.94 2.06-2.06.94z\"/><path d=\"M17.41 7.96l-1.37-1.37c-.4-.4-.92-.59-1.43-.59-.52 0-1.04.2-1.43.59L10.3 9.45l-7.72 7.72c-.78.78-.78 2.05 0 2.83L4 21.41c.39.39.9.59 1.41.59.51 0 1.02-.2 1.41-.59l7.78-7.78 2.81-2.81c.8-.78.8-2.07 0-2.86zM5.41 20L4 18.59l7.72-7.72 1.47 1.35L5.41 20z\"/>\n",
              "  </svg>\n",
              "      </button>\n",
              "      \n",
              "  <style>\n",
              "    .colab-df-container {\n",
              "      display:flex;\n",
              "      flex-wrap:wrap;\n",
              "      gap: 12px;\n",
              "    }\n",
              "\n",
              "    .colab-df-convert {\n",
              "      background-color: #E8F0FE;\n",
              "      border: none;\n",
              "      border-radius: 50%;\n",
              "      cursor: pointer;\n",
              "      display: none;\n",
              "      fill: #1967D2;\n",
              "      height: 32px;\n",
              "      padding: 0 0 0 0;\n",
              "      width: 32px;\n",
              "    }\n",
              "\n",
              "    .colab-df-convert:hover {\n",
              "      background-color: #E2EBFA;\n",
              "      box-shadow: 0px 1px 2px rgba(60, 64, 67, 0.3), 0px 1px 3px 1px rgba(60, 64, 67, 0.15);\n",
              "      fill: #174EA6;\n",
              "    }\n",
              "\n",
              "    [theme=dark] .colab-df-convert {\n",
              "      background-color: #3B4455;\n",
              "      fill: #D2E3FC;\n",
              "    }\n",
              "\n",
              "    [theme=dark] .colab-df-convert:hover {\n",
              "      background-color: #434B5C;\n",
              "      box-shadow: 0px 1px 3px 1px rgba(0, 0, 0, 0.15);\n",
              "      filter: drop-shadow(0px 1px 2px rgba(0, 0, 0, 0.3));\n",
              "      fill: #FFFFFF;\n",
              "    }\n",
              "  </style>\n",
              "\n",
              "      <script>\n",
              "        const buttonEl =\n",
              "          document.querySelector('#df-89ad06ea-70d7-448f-91c3-c58590e63f47 button.colab-df-convert');\n",
              "        buttonEl.style.display =\n",
              "          google.colab.kernel.accessAllowed ? 'block' : 'none';\n",
              "\n",
              "        async function convertToInteractive(key) {\n",
              "          const element = document.querySelector('#df-89ad06ea-70d7-448f-91c3-c58590e63f47');\n",
              "          const dataTable =\n",
              "            await google.colab.kernel.invokeFunction('convertToInteractive',\n",
              "                                                     [key], {});\n",
              "          if (!dataTable) return;\n",
              "\n",
              "          const docLinkHtml = 'Like what you see? Visit the ' +\n",
              "            '<a target=\"_blank\" href=https://colab.research.google.com/notebooks/data_table.ipynb>data table notebook</a>'\n",
              "            + ' to learn more about interactive tables.';\n",
              "          element.innerHTML = '';\n",
              "          dataTable['output_type'] = 'display_data';\n",
              "          await google.colab.output.renderOutput(dataTable, element);\n",
              "          const docLink = document.createElement('div');\n",
              "          docLink.innerHTML = docLinkHtml;\n",
              "          element.appendChild(docLink);\n",
              "        }\n",
              "      </script>\n",
              "    </div>\n",
              "  </div>\n",
              "  "
            ]
          },
          "metadata": {},
          "execution_count": 59
        }
      ]
    },
    {
      "cell_type": "code",
      "source": [
        "plt.boxplot(data['diaBP'])\n",
        "plt.title('Box plot of diaBP')"
      ],
      "metadata": {
        "colab": {
          "base_uri": "https://localhost:8080/",
          "height": 298
        },
        "id": "LmOj7jBj_lFn",
        "outputId": "766b8bb6-73c2-4d09-fc77-1eab2b801e13"
      },
      "execution_count": null,
      "outputs": [
        {
          "output_type": "execute_result",
          "data": {
            "text/plain": [
              "Text(0.5, 1.0, 'Box plot of diaBP')"
            ]
          },
          "metadata": {},
          "execution_count": 60
        },
        {
          "output_type": "display_data",
          "data": {
            "text/plain": [
              "<Figure size 432x288 with 1 Axes>"
            ],
            "image/png": "[encoded data removed]"
          },
          "metadata": {
            "needs_background": "light"
          }
        }
      ]
    },
    {
      "cell_type": "code",
      "source": [
        "q1=np.percentile(data['diaBP'],25,interpolation='midpoint')\n",
        "q2=np.percentile(data['diaBP'],50,interpolation='midpoint')\n",
        "q3=np.percentile(data['diaBP'],75,interpolation='midpoint')\n",
        "print(q1)\n",
        "print(q2)\n",
        "print(q3)"
      ],
      "metadata": {
        "colab": {
          "base_uri": "https://localhost:8080/"
        },
        "id": "PvjGCsLr_wpo",
        "outputId": "4431380f-42cc-4e00-ec7a-970791226557"
      },
      "execution_count": null,
      "outputs": [
        {
          "output_type": "stream",
          "name": "stdout",
          "text": [
            "74.5\n",
            "82.0\n",
            "89.0\n"
          ]
        }
      ]
    },
    {
      "cell_type": "code",
      "source": [
        "iqr=q3-q1\n",
        "low_limit=q1-1.5*iqr\n",
        "up_limit=q3+1.5*iqr\n",
        "\n",
        "print(low_limit)\n",
        "print(up_limit)"
      ],
      "metadata": {
        "colab": {
          "base_uri": "https://localhost:8080/"
        },
        "id": "3uyDsAOm_7oq",
        "outputId": "5ac95121-b8a5-47c7-dc25-041d157bdf23"
      },
      "execution_count": null,
      "outputs": [
        {
          "output_type": "stream",
          "name": "stdout",
          "text": [
            "52.75\n",
            "110.75\n"
          ]
        }
      ]
    },
    {
      "cell_type": "code",
      "source": [
        "outlier=[]\n",
        "for X in data['diaBP']:\n",
        "   if((X>up_limit) or (X<low_limit)):\n",
        "     outlier.append(X)\n",
        "\n",
        "outlier"
      ],
      "metadata": {
        "colab": {
          "base_uri": "https://localhost:8080/"
        },
        "id": "6t8nhTJhAAzR",
        "outputId": "bf6fd908-c1dc-47f7-9910-41852a7ed5a5"
      },
      "execution_count": null,
      "outputs": [
        {
          "output_type": "execute_result",
          "data": {
            "text/plain": [
              "[121.0,\n",
              " 114.0,\n",
              " 112.0,\n",
              " 123.0,\n",
              " 120.0,\n",
              " 118.0,\n",
              " 120.0,\n",
              " 133.0,\n",
              " 135.0,\n",
              " 117.0,\n",
              " 121.0,\n",
              " 114.0,\n",
              " 118.0,\n",
              " 114.5,\n",
              " 118.0,\n",
              " 140.0,\n",
              " 124.0,\n",
              " 115.0,\n",
              " 115.0,\n",
              " 112.0,\n",
              " 142.5,\n",
              " 117.5,\n",
              " 116.5,\n",
              " 118.0,\n",
              " 112.0,\n",
              " 116.0,\n",
              " 120.0,\n",
              " 119.0,\n",
              " 118.0,\n",
              " 132.0,\n",
              " 124.0,\n",
              " 123.0,\n",
              " 120.0,\n",
              " 114.0,\n",
              " 50.0,\n",
              " 136.0,\n",
              " 51.0,\n",
              " 120.0,\n",
              " 128.0,\n",
              " 111.0,\n",
              " 120.0,\n",
              " 111.0,\n",
              " 115.0,\n",
              " 114.0,\n",
              " 125.0,\n",
              " 112.5,\n",
              " 130.0,\n",
              " 113.0,\n",
              " 117.0,\n",
              " 136.0,\n",
              " 130.0,\n",
              " 135.0,\n",
              " 112.0,\n",
              " 115.0,\n",
              " 114.0,\n",
              " 118.0,\n",
              " 113.0,\n",
              " 121.0,\n",
              " 118.0,\n",
              " 111.0,\n",
              " 113.0,\n",
              " 129.0,\n",
              " 111.0,\n",
              " 112.5,\n",
              " 120.0,\n",
              " 52.0,\n",
              " 130.0,\n",
              " 112.5,\n",
              " 124.0,\n",
              " 111.0,\n",
              " 121.0,\n",
              " 52.0,\n",
              " 48.0,\n",
              " 118.0,\n",
              " 112.5,\n",
              " 113.0,\n",
              " 113.0,\n",
              " 112.0,\n",
              " 111.0,\n",
              " 130.0,\n",
              " 122.5,\n",
              " 115.5,\n",
              " 133.0]"
            ]
          },
          "metadata": {},
          "execution_count": 64
        }
      ]
    },
    {
      "cell_type": "code",
      "source": [
        "ind1=data['diaBP']>up_limit\n",
        "data.loc[ind1].index"
      ],
      "metadata": {
        "colab": {
          "base_uri": "https://localhost:8080/"
        },
        "id": "sg5gzZEKAGUT",
        "outputId": "43fdb8fd-2895-452d-b6b1-710129f20d79"
      },
      "execution_count": null,
      "outputs": [
        {
          "output_type": "execute_result",
          "data": {
            "text/plain": [
              "Int64Index([  28,   46,  359,  407,  409,  414,  423,  446,  481,  524,  531,\n",
              "             588,  590,  738,  797,  833,  864,  923, 1041, 1144, 1189, 1347,\n",
              "            1384, 1567, 1588, 1589, 1608, 1614, 1619, 1751, 1760, 1808, 1878,\n",
              "            1902, 1989, 2088, 2093, 2170, 2179, 2245, 2282, 2304, 2307, 2367,\n",
              "            2416, 2448, 2510, 2608, 2657, 2683, 2731, 2733, 2755, 2775, 2864,\n",
              "            2872, 2930, 2961, 3057, 3062, 3094, 3320, 3322, 3489, 3496, 3554,\n",
              "            3580, 3635, 3709, 3745, 3819, 3846, 3924, 3927, 3953, 3981, 4036,\n",
              "            4040],\n",
              "           dtype='int64')"
            ]
          },
          "metadata": {},
          "execution_count": 65
        }
      ]
    },
    {
      "cell_type": "code",
      "source": [
        "data.drop([ 28,   46,  359,  407,  409,  414,  423,  446,  481,  524,  531,\n",
        "             588,  590,  738,  797,  833,  864,  923, 1041, 1144, 1189, 1347,\n",
        "            1384, 1567, 1588, 1589, 1608, 1614, 1619, 1751, 1760, 1808, 1878,\n",
        "            1902, 1989, 2088, 2093, 2170, 2179, 2245, 2282, 2304, 2307, 2367,\n",
        "            2416, 2448, 2510, 2608, 2657, 2683, 2731, 2733, 2755, 2775, 2864,\n",
        "            2872, 2930, 2961, 3057, 3062, 3094, 3320, 3322, 3489, 3496, 3554,\n",
        "            3580, 3635, 3709, 3745, 3819, 3846, 3924, 3927, 3953, 3981, 4036,\n",
        "            4040],inplace=True)"
      ],
      "metadata": {
        "id": "X5qzjMZXAdzH"
      },
      "execution_count": null,
      "outputs": []
    },
    {
      "cell_type": "code",
      "source": [
        "ind2=data['diaBP']<low_limit\n",
        "data.loc[ind2].index"
      ],
      "metadata": {
        "colab": {
          "base_uri": "https://localhost:8080/"
        },
        "id": "Lw0A3VC3AteZ",
        "outputId": "4d4e9a0e-898e-4d92-8b7d-cf93669cd978"
      },
      "execution_count": null,
      "outputs": [
        {
          "output_type": "execute_result",
          "data": {
            "text/plain": [
              "Int64Index([1924, 1997, 3328, 3641, 3645], dtype='int64')"
            ]
          },
          "metadata": {},
          "execution_count": 67
        }
      ]
    },
    {
      "cell_type": "code",
      "source": [
        "data.drop([1924, 1997, 3328, 3641, 3645],inplace=True)"
      ],
      "metadata": {
        "id": "c9p1ufuDA4P2"
      },
      "execution_count": null,
      "outputs": []
    },
    {
      "cell_type": "code",
      "source": [
        "plt.boxplot(data['diaBP'])\n",
        "plt.title('Box plot of diaBP')"
      ],
      "metadata": {
        "colab": {
          "base_uri": "https://localhost:8080/",
          "height": 298
        },
        "id": "AboIA8AzBBqv",
        "outputId": "18a09120-3639-4dee-9ea1-b7ce2d01b172"
      },
      "execution_count": null,
      "outputs": [
        {
          "output_type": "execute_result",
          "data": {
            "text/plain": [
              "Text(0.5, 1.0, 'Box plot of diaBP')"
            ]
          },
          "metadata": {},
          "execution_count": 69
        },
        {
          "output_type": "display_data",
          "data": {
            "text/plain": [
              "<Figure size 432x288 with 1 Axes>"
            ],
            "image/png": "[encoded data removed]"
          },
          "metadata": {
            "needs_background": "light"
          }
        }
      ]
    },
    {
      "cell_type": "code",
      "source": [
        "plt.boxplot(data['BMI'])\n",
        "plt.title('Box plot of BMI')"
      ],
      "metadata": {
        "colab": {
          "base_uri": "https://localhost:8080/",
          "height": 298
        },
        "id": "HUm2Bf86BIAk",
        "outputId": "f77602ba-05e8-4a2f-fdc3-92b5fa1ee56a"
      },
      "execution_count": null,
      "outputs": [
        {
          "output_type": "execute_result",
          "data": {
            "text/plain": [
              "Text(0.5, 1.0, 'Box plot of BMI')"
            ]
          },
          "metadata": {},
          "execution_count": 70
        },
        {
          "output_type": "display_data",
          "data": {
            "text/plain": [
              "<Figure size 432x288 with 1 Axes>"
            ],
            "image/png": "[encoded data removed]"
          },
          "metadata": {
            "needs_background": "light"
          }
        }
      ]
    },
    {
      "cell_type": "code",
      "source": [
        "q1=np.percentile(data['BMI'],25,interpolation='midpoint')\n",
        "q2=np.percentile(data['BMI'],50,interpolation='midpoint')\n",
        "q3=np.percentile(data['BMI'],75,interpolation='midpoint')\n",
        "print(q1)\n",
        "print(q2)\n",
        "print(q3)"
      ],
      "metadata": {
        "colab": {
          "base_uri": "https://localhost:8080/"
        },
        "id": "WFdxLgtOBWmg",
        "outputId": "a79bebf6-1d4c-41b7-ec04-5692ff0e15fd"
      },
      "execution_count": null,
      "outputs": [
        {
          "output_type": "stream",
          "name": "stdout",
          "text": [
            "23.05\n",
            "25.36\n",
            "27.94\n"
          ]
        }
      ]
    },
    {
      "cell_type": "code",
      "source": [
        "iqr=q3-q1\n",
        "low_limit=q1-1.5*iqr\n",
        "up_limit=q3+1.5*iqr\n",
        "\n",
        "print(low_limit)\n",
        "print(up_limit)"
      ],
      "metadata": {
        "colab": {
          "base_uri": "https://localhost:8080/"
        },
        "id": "pi0pZOW8BiGg",
        "outputId": "8a25e02e-6ff4-4eb3-b730-7878593ad706"
      },
      "execution_count": null,
      "outputs": [
        {
          "output_type": "stream",
          "name": "stdout",
          "text": [
            "15.715\n",
            "35.275000000000006\n"
          ]
        }
      ]
    },
    {
      "cell_type": "code",
      "source": [
        "outlier=[]\n",
        "for X in data['BMI']:\n",
        "   if((X>up_limit) or (X<low_limit)):\n",
        "     outlier.append(X)\n",
        "\n",
        "outlier"
      ],
      "metadata": {
        "colab": {
          "base_uri": "https://localhost:8080/"
        },
        "id": "B_cIzXVKBnG5",
        "outputId": "c221390d-7b98-4099-8023-365bd85e3c9d"
      },
      "execution_count": null,
      "outputs": [
        {
          "output_type": "execute_result",
          "data": {
            "text/plain": [
              "[38.53,\n",
              " 40.11,\n",
              " 45.8,\n",
              " 42.15,\n",
              " 36.81,\n",
              " 38.39,\n",
              " 42.0,\n",
              " 38.14,\n",
              " 15.54,\n",
              " 36.12,\n",
              " 36.11,\n",
              " 45.79,\n",
              " 36.62,\n",
              " 37.48,\n",
              " 39.6,\n",
              " 44.09,\n",
              " 40.58,\n",
              " 43.69,\n",
              " 42.53,\n",
              " 36.21,\n",
              " 36.52,\n",
              " 38.88,\n",
              " 35.45,\n",
              " 38.38,\n",
              " 35.99,\n",
              " 35.85,\n",
              " 38.75,\n",
              " 44.55,\n",
              " 39.64,\n",
              " 36.46,\n",
              " 38.06,\n",
              " 35.78,\n",
              " 39.91,\n",
              " 35.85,\n",
              " 38.43,\n",
              " 36.04,\n",
              " 35.42,\n",
              " 37.04,\n",
              " 44.71,\n",
              " 38.54,\n",
              " 38.42,\n",
              " 39.54,\n",
              " 35.62,\n",
              " 36.91,\n",
              " 39.08,\n",
              " 39.69,\n",
              " 36.65,\n",
              " 39.82,\n",
              " 35.42,\n",
              " 36.79,\n",
              " 37.02,\n",
              " 35.35,\n",
              " 35.96,\n",
              " 35.53,\n",
              " 37.38,\n",
              " 36.54,\n",
              " 38.11,\n",
              " 40.21,\n",
              " 37.15,\n",
              " 39.4,\n",
              " 40.81,\n",
              " 39.21,\n",
              " 36.01,\n",
              " 35.35,\n",
              " 35.31,\n",
              " 38.31,\n",
              " 35.68,\n",
              " 38.96,\n",
              " 39.94,\n",
              " 39.94,\n",
              " 39.22,\n",
              " 41.29,\n",
              " 40.08,\n",
              " 36.18,\n",
              " 41.61,\n",
              " 40.38,\n",
              " 37.58,\n",
              " 38.94,\n",
              " 37.3,\n",
              " 38.17,\n",
              " 36.07,\n",
              " 39.17]"
            ]
          },
          "metadata": {},
          "execution_count": 74
        }
      ]
    },
    {
      "cell_type": "code",
      "source": [
        "ind1=data['BMI']>up_limit\n",
        "data.loc[ind1].index"
      ],
      "metadata": {
        "colab": {
          "base_uri": "https://localhost:8080/"
        },
        "id": "6WBmDnVFCDPI",
        "outputId": "b8485aee-09ff-4405-f94c-20a500cfd399"
      },
      "execution_count": null,
      "outputs": [
        {
          "output_type": "execute_result",
          "data": {
            "text/plain": [
              "Int64Index([  35,   37,   78,  114,  123,  143,  165,  264,  421,  432,  433,\n",
              "             551,  580,  675,  750,  829,  894,  969, 1023, 1176, 1183, 1211,\n",
              "            1286, 1422, 1486, 1520, 1525, 1715, 1761, 1853, 1884, 1985, 2008,\n",
              "            2019, 2030, 2083, 2120, 2162, 2167, 2180, 2262, 2295, 2352, 2373,\n",
              "            2388, 2463, 2492, 2532, 2562, 2569, 2595, 2611, 2614, 2620, 2649,\n",
              "            2668, 2697, 2798, 2883, 2907, 2986, 3093, 3144, 3365, 3366, 3481,\n",
              "            3522, 3581, 3648, 3657, 3659, 3678, 3726, 3738, 3899, 3915, 3952,\n",
              "            3994, 4132, 4190, 4215],\n",
              "           dtype='int64')"
            ]
          },
          "metadata": {},
          "execution_count": 75
        }
      ]
    },
    {
      "cell_type": "code",
      "source": [
        "data.drop([35,   37,   78,  114,  123,  143,  165,  264,  421,  432,  433,\n",
        "             551,  580,  675,  750,  829,  894,  969, 1023, 1176, 1183, 1211,\n",
        "            1286, 1422, 1486, 1520, 1525, 1715, 1761, 1853, 1884, 1985, 2008,\n",
        "            2019, 2030, 2083, 2120, 2162, 2167, 2180, 2262, 2295, 2352, 2373,\n",
        "            2388, 2463, 2492, 2532, 2562, 2569, 2595, 2611, 2614, 2620, 2649,\n",
        "            2668, 2697, 2798, 2883, 2907, 2986, 3093, 3144, 3365, 3366, 3481,\n",
        "            3522, 3581, 3648, 3657, 3659, 3678, 3726, 3738, 3899, 3915, 3952,\n",
        "            3994, 4132, 4190, 4215],inplace=True)"
      ],
      "metadata": {
        "id": "pZZA5c5ECcQA"
      },
      "execution_count": null,
      "outputs": []
    },
    {
      "cell_type": "code",
      "source": [
        "plt.boxplot(data['BMI'])\n",
        "plt.title('Box plot of BMI')"
      ],
      "metadata": {
        "colab": {
          "base_uri": "https://localhost:8080/",
          "height": 298
        },
        "id": "Z_Obr08WClMC",
        "outputId": "c5f2b8fc-d0d7-4a36-93ce-b08d58e061b8"
      },
      "execution_count": null,
      "outputs": [
        {
          "output_type": "execute_result",
          "data": {
            "text/plain": [
              "Text(0.5, 1.0, 'Box plot of BMI')"
            ]
          },
          "metadata": {},
          "execution_count": 78
        },
        {
          "output_type": "display_data",
          "data": {
            "text/plain": [
              "<Figure size 432x288 with 1 Axes>"
            ],
            "image/png": "[encoded data removed]"
          },
          "metadata": {
            "needs_background": "light"
          }
        }
      ]
    },
    {
      "cell_type": "code",
      "source": [
        "plt.boxplot(data['heartRate'])\n",
        "plt.title('Box plot of heartRate')"
      ],
      "metadata": {
        "colab": {
          "base_uri": "https://localhost:8080/",
          "height": 298
        },
        "id": "gkIemnhPC4qx",
        "outputId": "dcd99234-e335-4a90-abec-16529eed47c1"
      },
      "execution_count": null,
      "outputs": [
        {
          "output_type": "execute_result",
          "data": {
            "text/plain": [
              "Text(0.5, 1.0, 'Box plot of heartRate')"
            ]
          },
          "metadata": {},
          "execution_count": 79
        },
        {
          "output_type": "display_data",
          "data": {
            "text/plain": [
              "<Figure size 432x288 with 1 Axes>"
            ],
            "image/png": "[encoded data removed]"
          },
          "metadata": {
            "needs_background": "light"
          }
        }
      ]
    },
    {
      "cell_type": "code",
      "source": [
        "q1=np.percentile(data['heartRate'],25,interpolation='midpoint')\n",
        "q2=np.percentile(data['heartRate'],50,interpolation='midpoint')\n",
        "q3=np.percentile(data['heartRate'],75,interpolation='midpoint')\n",
        "print(q1)\n",
        "print(q2)\n",
        "print(q3)"
      ],
      "metadata": {
        "colab": {
          "base_uri": "https://localhost:8080/"
        },
        "id": "VN3B1LEDDC04",
        "outputId": "390a1dba-13df-41c4-8be2-fd234d80ad8f"
      },
      "execution_count": null,
      "outputs": [
        {
          "output_type": "stream",
          "name": "stdout",
          "text": [
            "68.0\n",
            "75.0\n",
            "82.0\n"
          ]
        }
      ]
    },
    {
      "cell_type": "code",
      "source": [
        "iqr=q3-q1\n",
        "low_limit=q1-1.5*iqr\n",
        "up_limit=q3+1.5*iqr\n",
        "\n",
        "print(low_limit)\n",
        "print(up_limit)"
      ],
      "metadata": {
        "colab": {
          "base_uri": "https://localhost:8080/"
        },
        "id": "oloBDt_3DNOP",
        "outputId": "707d7aa6-7679-4ce4-d860-d93a23f595ea"
      },
      "execution_count": null,
      "outputs": [
        {
          "output_type": "stream",
          "name": "stdout",
          "text": [
            "47.0\n",
            "103.0\n"
          ]
        }
      ]
    },
    {
      "cell_type": "code",
      "source": [
        "outlier=[]\n",
        "for X in data['heartRate']:\n",
        "   if((X>up_limit) or (X<low_limit)):\n",
        "     outlier.append(X)\n",
        "\n",
        "outlier"
      ],
      "metadata": {
        "colab": {
          "base_uri": "https://localhost:8080/"
        },
        "id": "M7asO7khDR8G",
        "outputId": "ab4aefb1-5ca3-42ed-9ebb-735be9ee6414"
      },
      "execution_count": null,
      "outputs": [
        {
          "output_type": "execute_result",
          "data": {
            "text/plain": [
              "[110.0,\n",
              " 105.0,\n",
              " 110.0,\n",
              " 140.0,\n",
              " 130.0,\n",
              " 108.0,\n",
              " 105.0,\n",
              " 110.0,\n",
              " 105.0,\n",
              " 105.0,\n",
              " 108.0,\n",
              " 105.0,\n",
              " 110.0,\n",
              " 106.0,\n",
              " 110.0,\n",
              " 104.0,\n",
              " 110.0,\n",
              " 108.0,\n",
              " 110.0,\n",
              " 108.0,\n",
              " 105.0,\n",
              " 110.0,\n",
              " 112.0,\n",
              " 125.0,\n",
              " 110.0,\n",
              " 44.0,\n",
              " 105.0,\n",
              " 112.0,\n",
              " 108.0,\n",
              " 110.0,\n",
              " 110.0,\n",
              " 110.0,\n",
              " 105.0,\n",
              " 110.0,\n",
              " 110.0,\n",
              " 45.0,\n",
              " 110.0,\n",
              " 110.0,\n",
              " 122.0,\n",
              " 110.0,\n",
              " 106.0,\n",
              " 110.0,\n",
              " 107.0,\n",
              " 107.0,\n",
              " 120.0,\n",
              " 108.0,\n",
              " 120.0,\n",
              " 110.0,\n",
              " 120.0,\n",
              " 105.0,\n",
              " 110.0,\n",
              " 105.0,\n",
              " 143.0,\n",
              " 110.0,\n",
              " 110.0,\n",
              " 120.0,\n",
              " 110.0,\n",
              " 115.0,\n",
              " 115.0,\n",
              " 104.0,\n",
              " 105.0,\n",
              " 105.0,\n",
              " 110.0,\n",
              " 107.0,\n",
              " 105.0,\n",
              " 110.0,\n",
              " 115.0,\n",
              " 45.0,\n",
              " 120.0,\n",
              " 108.0,\n",
              " 110.0,\n",
              " 122.0,\n",
              " 110.0,\n",
              " 120.0,\n",
              " 108.0,\n",
              " 110.0,\n",
              " 110.0,\n",
              " 125.0,\n",
              " 125.0,\n",
              " 112.0,\n",
              " 46.0]"
            ]
          },
          "metadata": {},
          "execution_count": 82
        }
      ]
    },
    {
      "cell_type": "code",
      "source": [
        "ind1=data['heartRate']>up_limit\n",
        "data.loc[ind1].index"
      ],
      "metadata": {
        "colab": {
          "base_uri": "https://localhost:8080/"
        },
        "id": "k_VvhoB4EIpD",
        "outputId": "05d7dbab-f397-4c8d-ccca-51839aa1638e"
      },
      "execution_count": null,
      "outputs": [
        {
          "output_type": "execute_result",
          "data": {
            "text/plain": [
              "Int64Index([ 162,  216,  270,  339,  358,  382,  492,  523,  562,  609,  630,\n",
              "             639,  697,  722,  740,  742,  824,  909,  911,  913,  980,  983,\n",
              "            1008, 1022, 1182, 1462, 1470, 1521, 1570, 1617, 1728, 1783, 1790,\n",
              "            1807, 1881, 2041, 2237, 2242, 2299, 2382, 2434, 2459, 2482, 2646,\n",
              "            2663, 2750, 2922, 3037, 3098, 3112, 3142, 3164, 3194, 3225, 3231,\n",
              "            3233, 3242, 3343, 3391, 3425, 3456, 3495, 3505, 3573, 3585, 3747,\n",
              "            3773, 3800, 3862, 3875, 3901, 3912, 3957, 3964, 4053, 4070, 4164],\n",
              "           dtype='int64')"
            ]
          },
          "metadata": {},
          "execution_count": 83
        }
      ]
    },
    {
      "cell_type": "code",
      "source": [
        "data.drop([162,  216,  270,  339,  358,  382,  492,  523,  562,  609,  630,\n",
        "             639,  697,  722,  740,  742,  824,  909,  911,  913,  980,  983,\n",
        "            1008, 1022, 1182, 1462, 1470, 1521, 1570, 1617, 1728, 1783, 1790,\n",
        "            1807, 1881, 2041, 2237, 2242, 2299, 2382, 2434, 2459, 2482, 2646,\n",
        "            2663, 2750, 2922, 3037, 3098, 3112, 3142, 3164, 3194, 3225, 3231,\n",
        "            3233, 3242, 3343, 3391, 3425, 3456, 3495, 3505, 3573, 3585, 3747,\n",
        "            3773, 3800, 3862, 3875, 3901, 3912, 3957, 3964, 4053, 4070, 4164],inplace=True)"
      ],
      "metadata": {
        "id": "rBz06MLYEb_W"
      },
      "execution_count": null,
      "outputs": []
    },
    {
      "cell_type": "code",
      "source": [
        "ind2=data['heartRate']<low_limit\n",
        "data.loc[ind2].index"
      ],
      "metadata": {
        "colab": {
          "base_uri": "https://localhost:8080/"
        },
        "id": "a_F6LR_OEokB",
        "outputId": "4e9e51a4-8e93-49c9-cd8f-fa8690b9abdb"
      },
      "execution_count": null,
      "outputs": [
        {
          "output_type": "execute_result",
          "data": {
            "text/plain": [
              "Int64Index([1233, 1844, 3740, 4195], dtype='int64')"
            ]
          },
          "metadata": {},
          "execution_count": 86
        }
      ]
    },
    {
      "cell_type": "code",
      "source": [
        "data.drop([1233, 1844, 3740, 4195],inplace=True)"
      ],
      "metadata": {
        "id": "Lb-9-iVUEwDr"
      },
      "execution_count": null,
      "outputs": []
    },
    {
      "cell_type": "code",
      "source": [
        "plt.boxplot(data['heartRate'])\n",
        "plt.title('Box plot of heartRate')"
      ],
      "metadata": {
        "colab": {
          "base_uri": "https://localhost:8080/",
          "height": 298
        },
        "id": "B_oO6CIVFAEw",
        "outputId": "95a5b743-3909-4116-aab5-3d7b9302ab49"
      },
      "execution_count": null,
      "outputs": [
        {
          "output_type": "execute_result",
          "data": {
            "text/plain": [
              "Text(0.5, 1.0, 'Box plot of heartRate')"
            ]
          },
          "metadata": {},
          "execution_count": 88
        },
        {
          "output_type": "display_data",
          "data": {
            "text/plain": [
              "<Figure size 432x288 with 1 Axes>"
            ],
            "image/png": "[encoded data removed]"
          },
          "metadata": {
            "needs_background": "light"
          }
        }
      ]
    },
    {
      "cell_type": "code",
      "source": [
        "data.head()"
      ],
      "metadata": {
        "colab": {
          "base_uri": "https://localhost:8080/",
          "height": 270
        },
        "id": "47RPLL-TFEqc",
        "outputId": "84d24b65-3eac-4ee8-b829-16bea7c12da7"
      },
      "execution_count": null,
      "outputs": [
        {
          "output_type": "execute_result",
          "data": {
            "text/plain": [
              "   male  age  education  currentSmoker  cigsPerDay  BPMeds  prevalentStroke  \\\n",
              "0     1   39        4.0              0         0.0     0.0                0   \n",
              "1     0   46        2.0              0         0.0     0.0                0   \n",
              "2     1   48        1.0              1        20.0     0.0                0   \n",
              "3     0   61        3.0              1        30.0     0.0                0   \n",
              "4     0   46        3.0              1        23.0     0.0                0   \n",
              "\n",
              "   prevalentHyp  diabetes  totChol  sysBP  diaBP    BMI  heartRate  glucose  \\\n",
              "0             0         0    195.0  106.0   70.0  26.97       80.0     77.0   \n",
              "1             0         0    250.0  121.0   81.0  28.73       95.0     76.0   \n",
              "2             0         0    245.0  127.5   80.0  25.34       75.0     70.0   \n",
              "3             1         0    225.0  150.0   95.0  28.58       65.0    103.0   \n",
              "4             0         0    285.0  130.0   84.0  23.10       85.0     85.0   \n",
              "\n",
              "   TenYearCHD  \n",
              "0           0  \n",
              "1           0  \n",
              "2           0  \n",
              "3           1  \n",
              "4           0  "
            ],
            "text/html": [
              "\n",
              "  <div id=\"df-c04ef1e2-87ee-4652-bbc6-ed163b33fe66\">\n",
              "    <div class=\"colab-df-container\">\n",
              "      <div>\n",
              "<style scoped>\n",
              "    .dataframe tbody tr th:only-of-type {\n",
              "        vertical-align: middle;\n",
              "    }\n",
              "\n",
              "    .dataframe tbody tr th {\n",
              "        vertical-align: top;\n",
              "    }\n",
              "\n",
              "    .dataframe thead th {\n",
              "        text-align: right;\n",
              "    }\n",
              "</style>\n",
              "<table border=\"1\" class=\"dataframe\">\n",
              "  <thead>\n",
              "    <tr style=\"text-align: right;\">\n",
              "      <th></th>\n",
              "      <th>male</th>\n",
              "      <th>age</th>\n",
              "      <th>education</th>\n",
              "      <th>currentSmoker</th>\n",
              "      <th>cigsPerDay</th>\n",
              "      <th>BPMeds</th>\n",
              "      <th>prevalentStroke</th>\n",
              "      <th>prevalentHyp</th>\n",
              "      <th>diabetes</th>\n",
              "      <th>totChol</th>\n",
              "      <th>sysBP</th>\n",
              "      <th>diaBP</th>\n",
              "      <th>BMI</th>\n",
              "      <th>heartRate</th>\n",
              "      <th>glucose</th>\n",
              "      <th>TenYearCHD</th>\n",
              "    </tr>\n",
              "  </thead>\n",
              "  <tbody>\n",
              "    <tr>\n",
              "      <th>0</th>\n",
              "      <td>1</td>\n",
              "      <td>39</td>\n",
              "      <td>4.0</td>\n",
              "      <td>0</td>\n",
              "      <td>0.0</td>\n",
              "      <td>0.0</td>\n",
              "      <td>0</td>\n",
              "      <td>0</td>\n",
              "      <td>0</td>\n",
              "      <td>195.0</td>\n",
              "      <td>106.0</td>\n",
              "      <td>70.0</td>\n",
              "      <td>26.97</td>\n",
              "      <td>80.0</td>\n",
              "      <td>77.0</td>\n",
              "      <td>0</td>\n",
              "    </tr>\n",
              "    <tr>\n",
              "      <th>1</th>\n",
              "      <td>0</td>\n",
              "      <td>46</td>\n",
              "      <td>2.0</td>\n",
              "      <td>0</td>\n",
              "      <td>0.0</td>\n",
              "      <td>0.0</td>\n",
              "      <td>0</td>\n",
              "      <td>0</td>\n",
              "      <td>0</td>\n",
              "      <td>250.0</td>\n",
              "      <td>121.0</td>\n",
              "      <td>81.0</td>\n",
              "      <td>28.73</td>\n",
              "      <td>95.0</td>\n",
              "      <td>76.0</td>\n",
              "      <td>0</td>\n",
              "    </tr>\n",
              "    <tr>\n",
              "      <th>2</th>\n",
              "      <td>1</td>\n",
              "      <td>48</td>\n",
              "      <td>1.0</td>\n",
              "      <td>1</td>\n",
              "      <td>20.0</td>\n",
              "      <td>0.0</td>\n",
              "      <td>0</td>\n",
              "      <td>0</td>\n",
              "      <td>0</td>\n",
              "      <td>245.0</td>\n",
              "      <td>127.5</td>\n",
              "      <td>80.0</td>\n",
              "      <td>25.34</td>\n",
              "      <td>75.0</td>\n",
              "      <td>70.0</td>\n",
              "      <td>0</td>\n",
              "    </tr>\n",
              "    <tr>\n",
              "      <th>3</th>\n",
              "      <td>0</td>\n",
              "      <td>61</td>\n",
              "      <td>3.0</td>\n",
              "      <td>1</td>\n",
              "      <td>30.0</td>\n",
              "      <td>0.0</td>\n",
              "      <td>0</td>\n",
              "      <td>1</td>\n",
              "      <td>0</td>\n",
              "      <td>225.0</td>\n",
              "      <td>150.0</td>\n",
              "      <td>95.0</td>\n",
              "      <td>28.58</td>\n",
              "      <td>65.0</td>\n",
              "      <td>103.0</td>\n",
              "      <td>1</td>\n",
              "    </tr>\n",
              "    <tr>\n",
              "      <th>4</th>\n",
              "      <td>0</td>\n",
              "      <td>46</td>\n",
              "      <td>3.0</td>\n",
              "      <td>1</td>\n",
              "      <td>23.0</td>\n",
              "      <td>0.0</td>\n",
              "      <td>0</td>\n",
              "      <td>0</td>\n",
              "      <td>0</td>\n",
              "      <td>285.0</td>\n",
              "      <td>130.0</td>\n",
              "      <td>84.0</td>\n",
              "      <td>23.10</td>\n",
              "      <td>85.0</td>\n",
              "      <td>85.0</td>\n",
              "      <td>0</td>\n",
              "    </tr>\n",
              "  </tbody>\n",
              "</table>\n",
              "</div>\n",
              "      <button class=\"colab-df-convert\" onclick=\"convertToInteractive('df-c04ef1e2-87ee-4652-bbc6-ed163b33fe66')\"\n",
              "              title=\"Convert this dataframe to an interactive table.\"\n",
              "              style=\"display:none;\">\n",
              "        \n",
              "  <svg xmlns=\"http://www.w3.org/2000/svg\" height=\"24px\"viewBox=\"0 0 24 24\"\n",
              "       width=\"24px\">\n",
              "    <path d=\"M0 0h24v24H0V0z\" fill=\"none\"/>\n",
              "    <path d=\"M18.56 5.44l.94 2.06.94-2.06 2.06-.94-2.06-.94-.94-2.06-.94 2.06-2.06.94zm-11 1L8.5 8.5l.94-2.06 2.06-.94-2.06-.94L8.5 2.5l-.94 2.06-2.06.94zm10 10l.94 2.06.94-2.06 2.06-.94-2.06-.94-.94-2.06-.94 2.06-2.06.94z\"/><path d=\"M17.41 7.96l-1.37-1.37c-.4-.4-.92-.59-1.43-.59-.52 0-1.04.2-1.43.59L10.3 9.45l-7.72 7.72c-.78.78-.78 2.05 0 2.83L4 21.41c.39.39.9.59 1.41.59.51 0 1.02-.2 1.41-.59l7.78-7.78 2.81-2.81c.8-.78.8-2.07 0-2.86zM5.41 20L4 18.59l7.72-7.72 1.47 1.35L5.41 20z\"/>\n",
              "  </svg>\n",
              "      </button>\n",
              "      \n",
              "  <style>\n",
              "    .colab-df-container {\n",
              "      display:flex;\n",
              "      flex-wrap:wrap;\n",
              "      gap: 12px;\n",
              "    }\n",
              "\n",
              "    .colab-df-convert {\n",
              "      background-color: #E8F0FE;\n",
              "      border: none;\n",
              "      border-radius: 50%;\n",
              "      cursor: pointer;\n",
              "      display: none;\n",
              "      fill: #1967D2;\n",
              "      height: 32px;\n",
              "      padding: 0 0 0 0;\n",
              "      width: 32px;\n",
              "    }\n",
              "\n",
              "    .colab-df-convert:hover {\n",
              "      background-color: #E2EBFA;\n",
              "      box-shadow: 0px 1px 2px rgba(60, 64, 67, 0.3), 0px 1px 3px 1px rgba(60, 64, 67, 0.15);\n",
              "      fill: #174EA6;\n",
              "    }\n",
              "\n",
              "    [theme=dark] .colab-df-convert {\n",
              "      background-color: #3B4455;\n",
              "      fill: #D2E3FC;\n",
              "    }\n",
              "\n",
              "    [theme=dark] .colab-df-convert:hover {\n",
              "      background-color: #434B5C;\n",
              "      box-shadow: 0px 1px 3px 1px rgba(0, 0, 0, 0.15);\n",
              "      filter: drop-shadow(0px 1px 2px rgba(0, 0, 0, 0.3));\n",
              "      fill: #FFFFFF;\n",
              "    }\n",
              "  </style>\n",
              "\n",
              "      <script>\n",
              "        const buttonEl =\n",
              "          document.querySelector('#df-c04ef1e2-87ee-4652-bbc6-ed163b33fe66 button.colab-df-convert');\n",
              "        buttonEl.style.display =\n",
              "          google.colab.kernel.accessAllowed ? 'block' : 'none';\n",
              "\n",
              "        async function convertToInteractive(key) {\n",
              "          const element = document.querySelector('#df-c04ef1e2-87ee-4652-bbc6-ed163b33fe66');\n",
              "          const dataTable =\n",
              "            await google.colab.kernel.invokeFunction('convertToInteractive',\n",
              "                                                     [key], {});\n",
              "          if (!dataTable) return;\n",
              "\n",
              "          const docLinkHtml = 'Like what you see? Visit the ' +\n",
              "            '<a target=\"_blank\" href=https://colab.research.google.com/notebooks/data_table.ipynb>data table notebook</a>'\n",
              "            + ' to learn more about interactive tables.';\n",
              "          element.innerHTML = '';\n",
              "          dataTable['output_type'] = 'display_data';\n",
              "          await google.colab.output.renderOutput(dataTable, element);\n",
              "          const docLink = document.createElement('div');\n",
              "          docLink.innerHTML = docLinkHtml;\n",
              "          element.appendChild(docLink);\n",
              "        }\n",
              "      </script>\n",
              "    </div>\n",
              "  </div>\n",
              "  "
            ]
          },
          "metadata": {},
          "execution_count": 89
        }
      ]
    },
    {
      "cell_type": "code",
      "source": [
        "plt.boxplot(data['glucose'])\n",
        "plt.title('Box plot of glucose')"
      ],
      "metadata": {
        "colab": {
          "base_uri": "https://localhost:8080/",
          "height": 298
        },
        "id": "zXmzUGDOFKQW",
        "outputId": "5ea4a246-784f-4966-eb8d-292452cc6822"
      },
      "execution_count": null,
      "outputs": [
        {
          "output_type": "execute_result",
          "data": {
            "text/plain": [
              "Text(0.5, 1.0, 'Box plot of glucose')"
            ]
          },
          "metadata": {},
          "execution_count": 90
        },
        {
          "output_type": "display_data",
          "data": {
            "text/plain": [
              "<Figure size 432x288 with 1 Axes>"
            ],
            "image/png": "[encoded data removed]"
          },
          "metadata": {
            "needs_background": "light"
          }
        }
      ]
    },
    {
      "cell_type": "code",
      "source": [
        "q1=np.percentile(data['glucose'],25,interpolation='midpoint')\n",
        "q2=np.percentile(data['glucose'],50,interpolation='midpoint')\n",
        "q3=np.percentile(data['glucose'],75,interpolation='midpoint')\n",
        "print(q1)\n",
        "print(q2)\n",
        "print(q3)"
      ],
      "metadata": {
        "colab": {
          "base_uri": "https://localhost:8080/"
        },
        "id": "KAjHDFDAFRwF",
        "outputId": "244e72dc-1b11-40e7-b975-7bb3099ed676"
      },
      "execution_count": null,
      "outputs": [
        {
          "output_type": "stream",
          "name": "stdout",
          "text": [
            "72.0\n",
            "78.0\n",
            "85.0\n"
          ]
        }
      ]
    },
    {
      "cell_type": "code",
      "source": [
        "iqr=q3-q1\n",
        "low_limit=q1-1.5*iqr\n",
        "up_limit=q3+1.5*iqr\n",
        "\n",
        "print(low_limit)\n",
        "print(up_limit)"
      ],
      "metadata": {
        "colab": {
          "base_uri": "https://localhost:8080/"
        },
        "id": "cq4mGs9iFcCk",
        "outputId": "8903adb3-3514-4ea9-cbd6-ba91f376ec2b"
      },
      "execution_count": null,
      "outputs": [
        {
          "output_type": "stream",
          "name": "stdout",
          "text": [
            "52.5\n",
            "104.5\n"
          ]
        }
      ]
    },
    {
      "cell_type": "code",
      "source": [
        "outlier=[]\n",
        "for X in data['glucose']:\n",
        "   if((X>up_limit) or (X<low_limit)):\n",
        "     outlier.append(X)\n",
        "\n",
        "outlier"
      ],
      "metadata": {
        "colab": {
          "base_uri": "https://localhost:8080/"
        },
        "id": "D3WYzSrIFhqE",
        "outputId": "72b3b7a5-c8c2-496c-de22-e5ab3048639d"
      },
      "execution_count": null,
      "outputs": [
        {
          "output_type": "execute_result",
          "data": {
            "text/plain": [
              "[113.0,\n",
              " 45.0,\n",
              " 126.0,\n",
              " 120.0,\n",
              " 105.0,\n",
              " 117.0,\n",
              " 107.0,\n",
              " 132.0,\n",
              " 105.0,\n",
              " 107.0,\n",
              " 120.0,\n",
              " 113.0,\n",
              " 105.0,\n",
              " 115.0,\n",
              " 117.0,\n",
              " 113.0,\n",
              " 140.0,\n",
              " 118.0,\n",
              " 113.0,\n",
              " 114.0,\n",
              " 160.0,\n",
              " 110.0,\n",
              " 117.0,\n",
              " 115.0,\n",
              " 123.0,\n",
              " 108.0,\n",
              " 107.0,\n",
              " 145.0,\n",
              " 105.0,\n",
              " 126.0,\n",
              " 118.0,\n",
              " 108.0,\n",
              " 108.0,\n",
              " 117.0,\n",
              " 120.0,\n",
              " 122.0,\n",
              " 137.0,\n",
              " 106.0,\n",
              " 127.0,\n",
              " 205.0,\n",
              " 114.0,\n",
              " 115.0,\n",
              " 113.0,\n",
              " 45.0,\n",
              " 118.0,\n",
              " 113.0,\n",
              " 118.0,\n",
              " 112.0,\n",
              " 107.0,\n",
              " 106.0,\n",
              " 105.0,\n",
              " 47.0,\n",
              " 108.0,\n",
              " 115.0,\n",
              " 112.0,\n",
              " 216.0,\n",
              " 163.0,\n",
              " 113.0,\n",
              " 112.0,\n",
              " 107.0,\n",
              " 144.0,\n",
              " 145.0,\n",
              " 121.0,\n",
              " 172.0,\n",
              " 105.0,\n",
              " 124.0,\n",
              " 112.0,\n",
              " 111.0,\n",
              " 126.0,\n",
              " 113.0,\n",
              " 110.0,\n",
              " 186.0,\n",
              " 223.0,\n",
              " 117.0,\n",
              " 107.0,\n",
              " 325.0,\n",
              " 114.0,\n",
              " 108.0,\n",
              " 44.0,\n",
              " 156.0,\n",
              " 107.0,\n",
              " 268.0,\n",
              " 122.0,\n",
              " 117.0,\n",
              " 50.0,\n",
              " 274.0,\n",
              " 292.0,\n",
              " 111.0,\n",
              " 118.0,\n",
              " 114.0,\n",
              " 112.0,\n",
              " 116.0,\n",
              " 108.0,\n",
              " 114.0,\n",
              " 127.0,\n",
              " 120.0,\n",
              " 115.0,\n",
              " 105.0,\n",
              " 107.0,\n",
              " 115.0,\n",
              " 118.0,\n",
              " 255.0,\n",
              " 107.0,\n",
              " 110.0,\n",
              " 123.0,\n",
              " 136.0,\n",
              " 123.0,\n",
              " 127.0,\n",
              " 105.0,\n",
              " 131.0,\n",
              " 297.0,\n",
              " 50.0,\n",
              " 107.0,\n",
              " 118.0,\n",
              " 132.0,\n",
              " 43.0,\n",
              " 113.0,\n",
              " 173.0,\n",
              " 48.0,\n",
              " 118.0,\n",
              " 126.0,\n",
              " 107.0,\n",
              " 115.0,\n",
              " 206.0,\n",
              " 140.0,\n",
              " 108.0,\n",
              " 106.0,\n",
              " 386.0,\n",
              " 121.0,\n",
              " 155.0,\n",
              " 215.0,\n",
              " 150.0,\n",
              " 112.0,\n",
              " 108.0,\n",
              " 147.0,\n",
              " 117.0,\n",
              " 123.0,\n",
              " 110.0,\n",
              " 118.0,\n",
              " 115.0,\n",
              " 112.0,\n",
              " 106.0,\n",
              " 108.0,\n",
              " 105.0,\n",
              " 52.0,\n",
              " 320.0,\n",
              " 132.0,\n",
              " 106.0,\n",
              " 140.0,\n",
              " 109.0,\n",
              " 108.0,\n",
              " 44.0,\n",
              " 170.0,\n",
              " 137.0,\n",
              " 254.0,\n",
              " 394.0,\n",
              " 394.0,\n",
              " 124.0,\n",
              " 106.0,\n",
              " 244.0,\n",
              " 106.0,\n",
              " 130.0,\n",
              " 107.0,\n",
              " 115.0,\n",
              " 142.0,\n",
              " 106.0,\n",
              " 106.0,\n",
              " 108.0,\n",
              " 137.0,\n",
              " 45.0,\n",
              " 105.0,\n",
              " 117.0,\n",
              " 119.0,\n",
              " 135.0,\n",
              " 107.0,\n",
              " 167.0,\n",
              " 47.0,\n",
              " 135.0,\n",
              " 207.0,\n",
              " 110.0,\n",
              " 45.0,\n",
              " 115.0,\n",
              " 129.0,\n",
              " 115.0,\n",
              " 110.0,\n",
              " 112.0,\n",
              " 137.0,\n",
              " 115.0,\n",
              " 177.0,\n",
              " 119.0,\n",
              " 108.0,\n",
              " 250.0,\n",
              " 136.0,\n",
              " 113.0,\n",
              " 117.0,\n",
              " 116.0,\n",
              " 107.0,\n",
              " 294.0,\n",
              " 115.0,\n",
              " 166.0,\n",
              " 123.0,\n",
              " 52.0,\n",
              " 125.0,\n",
              " 108.0,\n",
              " 332.0,\n",
              " 109.0,\n",
              " 348.0,\n",
              " 248.0,\n",
              " 116.0,\n",
              " 105.0,\n",
              " 110.0,\n",
              " 370.0,\n",
              " 173.0,\n",
              " 40.0,\n",
              " 120.0,\n",
              " 110.0,\n",
              " 117.0,\n",
              " 50.0,\n",
              " 193.0,\n",
              " 191.0,\n",
              " 115.0,\n",
              " 210.0,\n",
              " 113.0,\n",
              " 120.0,\n",
              " 116.0,\n",
              " 105.0,\n",
              " 107.0]"
            ]
          },
          "metadata": {},
          "execution_count": 93
        }
      ]
    },
    {
      "cell_type": "code",
      "source": [
        "ind1=data['glucose']>up_limit\n",
        "data.loc[ind1].index"
      ],
      "metadata": {
        "colab": {
          "base_uri": "https://localhost:8080/"
        },
        "id": "YW3eS0ucFo14",
        "outputId": "b5a41096-5fa0-42bf-b836-44bc06d0dfc1"
      },
      "execution_count": null,
      "outputs": [
        {
          "output_type": "execute_result",
          "data": {
            "text/plain": [
              "Int64Index([  22,   96,   98,  101,  115,  157,  212,  227,  257,  284,\n",
              "            ...\n",
              "            4014, 4042, 4064, 4087, 4096, 4118, 4203, 4209, 4225, 4237],\n",
              "           dtype='int64', length=211)"
            ]
          },
          "metadata": {},
          "execution_count": 95
        }
      ]
    },
    {
      "cell_type": "code",
      "source": [
        "data.drop([ 22,   96,   98,  101,  115,  157,  212,  227,  257,  284,4014, 4042, 4064, 4087, 4096, 4118, 4203, 4209, 4225, 4237],inplace=True)"
      ],
      "metadata": {
        "id": "en5i78OYF3Eb"
      },
      "execution_count": null,
      "outputs": []
    },
    {
      "cell_type": "code",
      "source": [
        "ind2=data['glucose']<low_limit\n",
        "data.loc[ind2].index"
      ],
      "metadata": {
        "colab": {
          "base_uri": "https://localhost:8080/"
        },
        "id": "WuEqd0luGOo7",
        "outputId": "303dfffe-cf5a-4113-e45f-6921998104fd"
      },
      "execution_count": null,
      "outputs": [
        {
          "output_type": "execute_result",
          "data": {
            "text/plain": [
              "Int64Index([  65,  796,  919, 1419, 1629, 2149, 2225, 2250, 2795, 2854, 3269,\n",
              "            3393, 3473, 3777, 3975, 4024],\n",
              "           dtype='int64')"
            ]
          },
          "metadata": {},
          "execution_count": 97
        }
      ]
    },
    {
      "cell_type": "code",
      "source": [
        "data.drop(data.loc[ind1].index,inplace=True)"
      ],
      "metadata": {
        "id": "UcGxsRppGYpf"
      },
      "execution_count": null,
      "outputs": []
    },
    {
      "cell_type": "code",
      "source": [
        "plt.boxplot(data['glucose'])\n",
        "plt.title('Box plot of glucose')"
      ],
      "metadata": {
        "colab": {
          "base_uri": "https://localhost:8080/",
          "height": 298
        },
        "id": "j97UhfeTGhbe",
        "outputId": "d8091d07-70fa-4edf-9f86-20828c600aa9"
      },
      "execution_count": null,
      "outputs": [
        {
          "output_type": "execute_result",
          "data": {
            "text/plain": [
              "Text(0.5, 1.0, 'Box plot of glucose')"
            ]
          },
          "metadata": {},
          "execution_count": 102
        },
        {
          "output_type": "display_data",
          "data": {
            "text/plain": [
              "<Figure size 432x288 with 1 Axes>"
            ],
            "image/png": "[encoded data removed]"
          },
          "metadata": {
            "needs_background": "light"
          }
        }
      ]
    },
    {
      "cell_type": "code",
      "source": [
        "plt.boxplot(data['TenYearCHD'])\n",
        "plt.title('Box plot of TenYearCHD')"
      ],
      "metadata": {
        "colab": {
          "base_uri": "https://localhost:8080/",
          "height": 298
        },
        "id": "fOQ8XHP2Gmkd",
        "outputId": "fd372872-33c8-4220-b559-cf90fe5947ad"
      },
      "execution_count": null,
      "outputs": [
        {
          "output_type": "execute_result",
          "data": {
            "text/plain": [
              "Text(0.5, 1.0, 'Box plot of TenYearCHD')"
            ]
          },
          "metadata": {},
          "execution_count": 105
        },
        {
          "output_type": "display_data",
          "data": {
            "text/plain": [
              "<Figure size 432x288 with 1 Axes>"
            ],
            "image/png": "[encoded data removed]"
          },
          "metadata": {
            "needs_background": "light"
          }
        }
      ]
    },
    {
      "cell_type": "code",
      "source": [
        "data=pd.get_dummies(data)\n",
        "data.head()"
      ],
      "metadata": {
        "colab": {
          "base_uri": "https://localhost:8080/",
          "height": 270
        },
        "id": "p54Eni7THnHk",
        "outputId": "c8fb5204-299b-4a2a-f0ad-72c7bcfa967c"
      },
      "execution_count": null,
      "outputs": [
        {
          "output_type": "execute_result",
          "data": {
            "text/plain": [
              "   male  age  education  currentSmoker  cigsPerDay  BPMeds  prevalentStroke  \\\n",
              "0     1   39        4.0              0         0.0     0.0                0   \n",
              "1     0   46        2.0              0         0.0     0.0                0   \n",
              "2     1   48        1.0              1        20.0     0.0                0   \n",
              "3     0   61        3.0              1        30.0     0.0                0   \n",
              "4     0   46        3.0              1        23.0     0.0                0   \n",
              "\n",
              "   prevalentHyp  diabetes  totChol  sysBP  diaBP    BMI  heartRate  glucose  \\\n",
              "0             0         0    195.0  106.0   70.0  26.97       80.0     77.0   \n",
              "1             0         0    250.0  121.0   81.0  28.73       95.0     76.0   \n",
              "2             0         0    245.0  127.5   80.0  25.34       75.0     70.0   \n",
              "3             1         0    225.0  150.0   95.0  28.58       65.0    103.0   \n",
              "4             0         0    285.0  130.0   84.0  23.10       85.0     85.0   \n",
              "\n",
              "   TenYearCHD  \n",
              "0           0  \n",
              "1           0  \n",
              "2           0  \n",
              "3           1  \n",
              "4           0  "
            ],
            "text/html": [
              "\n",
              "  <div id=\"df-90cd2351-63f2-42ed-9143-f917dd320225\">\n",
              "    <div class=\"colab-df-container\">\n",
              "      <div>\n",
              "<style scoped>\n",
              "    .dataframe tbody tr th:only-of-type {\n",
              "        vertical-align: middle;\n",
              "    }\n",
              "\n",
              "    .dataframe tbody tr th {\n",
              "        vertical-align: top;\n",
              "    }\n",
              "\n",
              "    .dataframe thead th {\n",
              "        text-align: right;\n",
              "    }\n",
              "</style>\n",
              "<table border=\"1\" class=\"dataframe\">\n",
              "  <thead>\n",
              "    <tr style=\"text-align: right;\">\n",
              "      <th></th>\n",
              "      <th>male</th>\n",
              "      <th>age</th>\n",
              "      <th>education</th>\n",
              "      <th>currentSmoker</th>\n",
              "      <th>cigsPerDay</th>\n",
              "      <th>BPMeds</th>\n",
              "      <th>prevalentStroke</th>\n",
              "      <th>prevalentHyp</th>\n",
              "      <th>diabetes</th>\n",
              "      <th>totChol</th>\n",
              "      <th>sysBP</th>\n",
              "      <th>diaBP</th>\n",
              "      <th>BMI</th>\n",
              "      <th>heartRate</th>\n",
              "      <th>glucose</th>\n",
              "      <th>TenYearCHD</th>\n",
              "    </tr>\n",
              "  </thead>\n",
              "  <tbody>\n",
              "    <tr>\n",
              "      <th>0</th>\n",
              "      <td>1</td>\n",
              "      <td>39</td>\n",
              "      <td>4.0</td>\n",
              "      <td>0</td>\n",
              "      <td>0.0</td>\n",
              "      <td>0.0</td>\n",
              "      <td>0</td>\n",
              "      <td>0</td>\n",
              "      <td>0</td>\n",
              "      <td>195.0</td>\n",
              "      <td>106.0</td>\n",
              "      <td>70.0</td>\n",
              "      <td>26.97</td>\n",
              "      <td>80.0</td>\n",
              "      <td>77.0</td>\n",
              "      <td>0</td>\n",
              "    </tr>\n",
              "    <tr>\n",
              "      <th>1</th>\n",
              "      <td>0</td>\n",
              "      <td>46</td>\n",
              "      <td>2.0</td>\n",
              "      <td>0</td>\n",
              "      <td>0.0</td>\n",
              "      <td>0.0</td>\n",
              "      <td>0</td>\n",
              "      <td>0</td>\n",
              "      <td>0</td>\n",
              "      <td>250.0</td>\n",
              "      <td>121.0</td>\n",
              "      <td>81.0</td>\n",
              "      <td>28.73</td>\n",
              "      <td>95.0</td>\n",
              "      <td>76.0</td>\n",
              "      <td>0</td>\n",
              "    </tr>\n",
              "    <tr>\n",
              "      <th>2</th>\n",
              "      <td>1</td>\n",
              "      <td>48</td>\n",
              "      <td>1.0</td>\n",
              "      <td>1</td>\n",
              "      <td>20.0</td>\n",
              "      <td>0.0</td>\n",
              "      <td>0</td>\n",
              "      <td>0</td>\n",
              "      <td>0</td>\n",
              "      <td>245.0</td>\n",
              "      <td>127.5</td>\n",
              "      <td>80.0</td>\n",
              "      <td>25.34</td>\n",
              "      <td>75.0</td>\n",
              "      <td>70.0</td>\n",
              "      <td>0</td>\n",
              "    </tr>\n",
              "    <tr>\n",
              "      <th>3</th>\n",
              "      <td>0</td>\n",
              "      <td>61</td>\n",
              "      <td>3.0</td>\n",
              "      <td>1</td>\n",
              "      <td>30.0</td>\n",
              "      <td>0.0</td>\n",
              "      <td>0</td>\n",
              "      <td>1</td>\n",
              "      <td>0</td>\n",
              "      <td>225.0</td>\n",
              "      <td>150.0</td>\n",
              "      <td>95.0</td>\n",
              "      <td>28.58</td>\n",
              "      <td>65.0</td>\n",
              "      <td>103.0</td>\n",
              "      <td>1</td>\n",
              "    </tr>\n",
              "    <tr>\n",
              "      <th>4</th>\n",
              "      <td>0</td>\n",
              "      <td>46</td>\n",
              "      <td>3.0</td>\n",
              "      <td>1</td>\n",
              "      <td>23.0</td>\n",
              "      <td>0.0</td>\n",
              "      <td>0</td>\n",
              "      <td>0</td>\n",
              "      <td>0</td>\n",
              "      <td>285.0</td>\n",
              "      <td>130.0</td>\n",
              "      <td>84.0</td>\n",
              "      <td>23.10</td>\n",
              "      <td>85.0</td>\n",
              "      <td>85.0</td>\n",
              "      <td>0</td>\n",
              "    </tr>\n",
              "  </tbody>\n",
              "</table>\n",
              "</div>\n",
              "      <button class=\"colab-df-convert\" onclick=\"convertToInteractive('df-90cd2351-63f2-42ed-9143-f917dd320225')\"\n",
              "              title=\"Convert this dataframe to an interactive table.\"\n",
              "              style=\"display:none;\">\n",
              "        \n",
              "  <svg xmlns=\"http://www.w3.org/2000/svg\" height=\"24px\"viewBox=\"0 0 24 24\"\n",
              "       width=\"24px\">\n",
              "    <path d=\"M0 0h24v24H0V0z\" fill=\"none\"/>\n",
              "    <path d=\"M18.56 5.44l.94 2.06.94-2.06 2.06-.94-2.06-.94-.94-2.06-.94 2.06-2.06.94zm-11 1L8.5 8.5l.94-2.06 2.06-.94-2.06-.94L8.5 2.5l-.94 2.06-2.06.94zm10 10l.94 2.06.94-2.06 2.06-.94-2.06-.94-.94-2.06-.94 2.06-2.06.94z\"/><path d=\"M17.41 7.96l-1.37-1.37c-.4-.4-.92-.59-1.43-.59-.52 0-1.04.2-1.43.59L10.3 9.45l-7.72 7.72c-.78.78-.78 2.05 0 2.83L4 21.41c.39.39.9.59 1.41.59.51 0 1.02-.2 1.41-.59l7.78-7.78 2.81-2.81c.8-.78.8-2.07 0-2.86zM5.41 20L4 18.59l7.72-7.72 1.47 1.35L5.41 20z\"/>\n",
              "  </svg>\n",
              "      </button>\n",
              "      \n",
              "  <style>\n",
              "    .colab-df-container {\n",
              "      display:flex;\n",
              "      flex-wrap:wrap;\n",
              "      gap: 12px;\n",
              "    }\n",
              "\n",
              "    .colab-df-convert {\n",
              "      background-color: #E8F0FE;\n",
              "      border: none;\n",
              "      border-radius: 50%;\n",
              "      cursor: pointer;\n",
              "      display: none;\n",
              "      fill: #1967D2;\n",
              "      height: 32px;\n",
              "      padding: 0 0 0 0;\n",
              "      width: 32px;\n",
              "    }\n",
              "\n",
              "    .colab-df-convert:hover {\n",
              "      background-color: #E2EBFA;\n",
              "      box-shadow: 0px 1px 2px rgba(60, 64, 67, 0.3), 0px 1px 3px 1px rgba(60, 64, 67, 0.15);\n",
              "      fill: #174EA6;\n",
              "    }\n",
              "\n",
              "    [theme=dark] .colab-df-convert {\n",
              "      background-color: #3B4455;\n",
              "      fill: #D2E3FC;\n",
              "    }\n",
              "\n",
              "    [theme=dark] .colab-df-convert:hover {\n",
              "      background-color: #434B5C;\n",
              "      box-shadow: 0px 1px 3px 1px rgba(0, 0, 0, 0.15);\n",
              "      filter: drop-shadow(0px 1px 2px rgba(0, 0, 0, 0.3));\n",
              "      fill: #FFFFFF;\n",
              "    }\n",
              "  </style>\n",
              "\n",
              "      <script>\n",
              "        const buttonEl =\n",
              "          document.querySelector('#df-90cd2351-63f2-42ed-9143-f917dd320225 button.colab-df-convert');\n",
              "        buttonEl.style.display =\n",
              "          google.colab.kernel.accessAllowed ? 'block' : 'none';\n",
              "\n",
              "        async function convertToInteractive(key) {\n",
              "          const element = document.querySelector('#df-90cd2351-63f2-42ed-9143-f917dd320225');\n",
              "          const dataTable =\n",
              "            await google.colab.kernel.invokeFunction('convertToInteractive',\n",
              "                                                     [key], {});\n",
              "          if (!dataTable) return;\n",
              "\n",
              "          const docLinkHtml = 'Like what you see? Visit the ' +\n",
              "            '<a target=\"_blank\" href=https://colab.research.google.com/notebooks/data_table.ipynb>data table notebook</a>'\n",
              "            + ' to learn more about interactive tables.';\n",
              "          element.innerHTML = '';\n",
              "          dataTable['output_type'] = 'display_data';\n",
              "          await google.colab.output.renderOutput(dataTable, element);\n",
              "          const docLink = document.createElement('div');\n",
              "          docLink.innerHTML = docLinkHtml;\n",
              "          element.appendChild(docLink);\n",
              "        }\n",
              "      </script>\n",
              "    </div>\n",
              "  </div>\n",
              "  "
            ]
          },
          "metadata": {},
          "execution_count": 106
        }
      ]
    },
    {
      "cell_type": "code",
      "source": [
        "corrmatrix=data.corr()\n",
        "plt.subplots(figsize=(20,8))\n",
        "sns.heatmap(corrmatrix,vmin=0.4,vmax=0.9,annot=True,linewidths=0.2,cmap='YlGnBu')"
      ],
      "metadata": {
        "colab": {
          "base_uri": "https://localhost:8080/",
          "height": 573
        },
        "id": "4vqbHfRIH2tM",
        "outputId": "404c7ea6-2d95-4d40-97e0-d724a1301be5"
      },
      "execution_count": null,
      "outputs": [
        {
          "output_type": "execute_result",
          "data": {
            "text/plain": [
              "<matplotlib.axes._subplots.AxesSubplot at 0x7f5b4a1cbd10>"
            ]
          },
          "metadata": {},
          "execution_count": 107
        },
        {
          "output_type": "display_data",
          "data": {
            "text/plain": [
              "<Figure size 1440x576 with 2 Axes>"
            ],
            "image/png": "[encoded data removed]"
          },
          "metadata": {
            "needs_background": "light"
          }
        }
      ]
    },
    {
      "cell_type": "code",
      "source": [
        "y=data['TenYearCHD']\n",
        "X=data.drop('TenYearCHD',axis=1)"
      ],
      "metadata": {
        "id": "H5vpwTEPIGV3"
      },
      "execution_count": null,
      "outputs": []
    },
    {
      "cell_type": "code",
      "source": [
        "from sklearn.model_selection import train_test_split\n",
        "X_train,X_test,y_train,y_test=train_test_split(X,y,random_state=42,test_size=0.2)"
      ],
      "metadata": {
        "id": "Vk9tRlaBIa10"
      },
      "execution_count": null,
      "outputs": []
    },
    {
      "cell_type": "code",
      "source": [
        "from sklearn import linear_model\n",
        "lr=linear_model.LogisticRegression()\n",
        "model=lr.fit(X_train,y_train)\n",
        "predictions=model.predict(X_test)\n",
        "predictions"
      ],
      "metadata": {
        "colab": {
          "base_uri": "https://localhost:8080/"
        },
        "id": "J6eHk2TwIhu7",
        "outputId": "0b9c483a-ebfa-40db-cc1d-de8924eb0988"
      },
      "execution_count": null,
      "outputs": [
        {
          "output_type": "stream",
          "name": "stderr",
          "text": [
            "/usr/local/lib/python3.7/dist-packages/sklearn/linear_model/_logistic.py:818: ConvergenceWarning: lbfgs failed to converge (status=1):\n",
            "STOP: TOTAL NO. of ITERATIONS REACHED LIMIT.\n",
            "\n",
            "Increase the number of iterations (max_iter) or scale the data as shown in:\n",
            "    https://scikit-learn.org/stable/modules/preprocessing.html\n",
            "Please also refer to the documentation for alternative solver options:\n",
            "    https://scikit-learn.org/stable/modules/linear_model.html#logistic-regression\n",
            "  extra_warning_msg=_LOGISTIC_SOLVER_CONVERGENCE_MSG,\n"
          ]
        },
        {
          "output_type": "execute_result",
          "data": {
            "text/plain": [
              "array([0, 0, 0, 0, 0, 0, 0, 0, 0, 0, 0, 0, 0, 0, 0, 0, 0, 0, 0, 0, 0, 0,\n",
              "       0, 0, 0, 0, 0, 0, 0, 0, 0, 0, 0, 0, 0, 0, 0, 0, 0, 0, 0, 0, 0, 0,\n",
              "       0, 0, 0, 0, 0, 0, 0, 0, 0, 0, 0, 0, 0, 0, 0, 0, 0, 0, 0, 0, 0, 0,\n",
              "       0, 0, 0, 0, 0, 0, 0, 0, 0, 0, 0, 0, 0, 0, 0, 0, 0, 0, 0, 0, 0, 0,\n",
              "       0, 0, 0, 0, 0, 0, 0, 0, 0, 0, 0, 0, 0, 0, 0, 0, 0, 0, 0, 0, 0, 0,\n",
              "       0, 0, 0, 0, 0, 0, 0, 0, 0, 0, 0, 0, 0, 0, 0, 0, 0, 0, 0, 0, 0, 0,\n",
              "       0, 0, 0, 0, 0, 0, 0, 0, 0, 0, 0, 0, 0, 1, 0, 0, 0, 0, 0, 0, 0, 0,\n",
              "       0, 0, 0, 0, 0, 0, 0, 0, 0, 0, 0, 0, 0, 0, 0, 0, 0, 0, 0, 0, 0, 0,\n",
              "       0, 0, 0, 0, 0, 0, 0, 0, 0, 0, 0, 0, 0, 0, 0, 0, 0, 0, 0, 0, 0, 0,\n",
              "       0, 0, 0, 0, 0, 0, 0, 0, 0, 0, 0, 0, 0, 0, 0, 0, 0, 0, 0, 0, 0, 0,\n",
              "       0, 0, 0, 0, 0, 0, 0, 0, 0, 0, 0, 0, 0, 0, 0, 0, 0, 0, 0, 0, 0, 0,\n",
              "       0, 0, 0, 0, 0, 0, 0, 0, 0, 0, 0, 0, 0, 0, 0, 0, 0, 0, 0, 0, 0, 0,\n",
              "       0, 0, 0, 0, 0, 0, 0, 0, 0, 0, 0, 0, 0, 0, 0, 0, 0, 0, 0, 0, 0, 0,\n",
              "       0, 0, 0, 0, 0, 0, 0, 0, 0, 0, 0, 0, 0, 0, 0, 0, 0, 0, 0, 0, 0, 0,\n",
              "       0, 0, 0, 1, 0, 0, 0, 0, 0, 0, 0, 0, 0, 0, 0, 0, 0, 0, 0, 0, 0, 0,\n",
              "       0, 0, 0, 0, 0, 0, 0, 0, 0, 0, 0, 0, 0, 0, 0, 0, 0, 0, 0, 0, 0, 0,\n",
              "       0, 0, 0, 0, 0, 0, 0, 0, 0, 0, 0, 0, 0, 0, 0, 0, 0, 0, 0, 0, 0, 0,\n",
              "       0, 0, 0, 0, 0, 0, 0, 0, 0, 0, 0, 0, 0, 0, 0, 0, 0, 0, 0, 0, 0, 0,\n",
              "       0, 0, 0, 0, 0, 0, 0, 0, 0, 0, 0, 0, 0, 0, 0, 0, 0, 0, 0, 0, 0, 0,\n",
              "       0, 0, 0, 0, 0, 0, 0, 0, 0, 0, 0, 0, 0, 0, 0, 0, 0, 0, 0, 0, 0, 0,\n",
              "       0, 0, 0, 0, 0, 0, 0, 0, 0, 0, 0, 0, 0, 0, 0, 0, 0, 0, 0, 0, 0, 0,\n",
              "       0, 0, 0, 0, 0, 0, 0, 0, 0, 0, 0, 0, 0, 0, 0, 0, 0, 0, 0, 0, 0, 0,\n",
              "       0, 0, 0, 0, 0, 0, 0, 0, 0, 0, 0, 0, 0, 0, 0, 0, 0, 0, 0, 0, 0, 0,\n",
              "       0, 0, 0, 0, 0, 0, 0, 0, 0, 0, 0, 0, 0, 0, 0, 0, 0, 0, 0, 0, 0, 0,\n",
              "       0, 0, 0, 0, 0, 0, 0, 0, 0, 0, 0, 0, 0, 0, 0, 0, 0, 0, 0, 0, 0, 0,\n",
              "       0, 0, 0, 0, 0, 0, 0, 0, 0, 0, 0, 0, 0, 0, 0, 0, 0, 0, 0, 0, 0, 0,\n",
              "       0, 0, 0, 0, 0, 0, 0, 0, 0, 0, 0, 0, 0, 0, 0, 0, 0, 0, 0, 0, 0, 0,\n",
              "       0, 0, 0, 0, 0, 0, 0, 0, 0, 0, 0, 0, 0, 0, 0, 0, 0, 0, 0, 0, 0, 0,\n",
              "       0, 0, 0, 0, 0, 0, 0, 0, 0, 0, 0, 0, 0, 0, 0, 0, 0, 0, 0, 0, 0, 0,\n",
              "       0, 0, 0, 0, 0, 0, 0, 0, 0, 0, 1, 0, 0, 0, 0, 0, 0, 0, 0, 0, 0, 0,\n",
              "       0, 0, 0, 0, 0, 0, 0, 0, 0, 0, 0, 0, 0, 0, 0, 0, 0, 0, 0, 0, 0, 0,\n",
              "       0, 0, 0, 0, 0, 0, 0, 0, 0, 0, 0, 0, 0, 0, 0, 0, 0, 0, 0, 0, 0, 0,\n",
              "       0, 0, 0, 0, 0, 0, 0, 0, 0, 0, 0, 0, 0, 0, 0, 0, 0, 0, 0, 0, 0, 0,\n",
              "       0, 0, 0, 0, 0, 0, 0, 0, 0, 0])"
            ]
          },
          "metadata": {},
          "execution_count": 110
        }
      ]
    },
    {
      "cell_type": "code",
      "source": [
        "print(y_test)"
      ],
      "metadata": {
        "colab": {
          "base_uri": "https://localhost:8080/"
        },
        "id": "rkZCXyWwImQR",
        "outputId": "ea5e647c-5f66-43f7-e21b-2238ad2b0fb0"
      },
      "execution_count": null,
      "outputs": [
        {
          "output_type": "stream",
          "name": "stdout",
          "text": [
            "2440    0\n",
            "1996    0\n",
            "4218    0\n",
            "3262    0\n",
            "1936    0\n",
            "       ..\n",
            "1632    0\n",
            "26      0\n",
            "3618    0\n",
            "784     1\n",
            "1156    0\n",
            "Name: TenYearCHD, Length: 736, dtype: int64\n"
          ]
        }
      ]
    },
    {
      "cell_type": "code",
      "source": [
        "from sklearn.metrics import mean_squared_error\n",
        "print('MSC is:',mean_squared_error(y_test,predictions))"
      ],
      "metadata": {
        "colab": {
          "base_uri": "https://localhost:8080/"
        },
        "id": "2t3LuaVDItbv",
        "outputId": "2dba6626-5cbc-43fc-f821-493ce8a14f5c"
      },
      "execution_count": null,
      "outputs": [
        {
          "output_type": "stream",
          "name": "stdout",
          "text": [
            "MSC is: 0.12228260869565218\n"
          ]
        }
      ]
    },
    {
      "cell_type": "code",
      "source": [
        "from sklearn.metrics import r2_score\n",
        "print('R squared value is :',r2_score(y_test,predictions))"
      ],
      "metadata": {
        "colab": {
          "base_uri": "https://localhost:8080/"
        },
        "id": "q_ghuhAWI0CQ",
        "outputId": "88f5fc6c-4137-4f49-d913-f40763b99e84"
      },
      "execution_count": null,
      "outputs": [
        {
          "output_type": "stream",
          "name": "stdout",
          "text": [
            "R squared value is : -0.1285458727319191\n"
          ]
        }
      ]
    },
    {
      "cell_type": "code",
      "source": [
        "X.describe()"
      ],
      "metadata": {
        "colab": {
          "base_uri": "https://localhost:8080/",
          "height": 364
        },
        "id": "wEvw7hCEJbCw",
        "outputId": "87a11be8-db8f-4f2f-cd1b-329eacd83f49"
      },
      "execution_count": null,
      "outputs": [
        {
          "output_type": "execute_result",
          "data": {
            "text/plain": [
              "              male          age    education  currentSmoker   cigsPerDay  \\\n",
              "count  3677.000000  3677.000000  3677.000000    3677.000000  3677.000000   \n",
              "mean      0.435953    49.169432     2.009247       0.500952     9.016318   \n",
              "std       0.495948     8.522508     1.007546       0.500067    11.660563   \n",
              "min       0.000000    32.000000     1.000000       0.000000     0.000000   \n",
              "25%       0.000000    42.000000     1.000000       0.000000     0.000000   \n",
              "50%       0.000000    48.000000     2.000000       1.000000     0.000000   \n",
              "75%       1.000000    56.000000     3.000000       1.000000    20.000000   \n",
              "max       1.000000    70.000000     4.000000       1.000000    50.000000   \n",
              "\n",
              "            BPMeds  prevalentStroke  prevalentHyp     diabetes      totChol  \\\n",
              "count  3677.000000      3677.000000   3677.000000  3677.000000  3677.000000   \n",
              "mean      0.022573         0.004895      0.270873     0.005439   234.266522   \n",
              "std       0.148557         0.069804      0.444471     0.073560    40.300985   \n",
              "min       0.000000         0.000000      0.000000     0.000000   124.000000   \n",
              "25%       0.000000         0.000000      0.000000     0.000000   205.000000   \n",
              "50%       0.000000         0.000000      0.000000     0.000000   233.000000   \n",
              "75%       0.000000         0.000000      1.000000     0.000000   260.000000   \n",
              "max       1.000000         1.000000      1.000000     1.000000   346.000000   \n",
              "\n",
              "             sysBP        diaBP          BMI    heartRate      glucose  \n",
              "count  3677.000000  3677.000000  3677.000000  3677.000000  3677.000000  \n",
              "mean    129.743813    81.678270    25.394912    74.716073    77.927386  \n",
              "std      19.355377    10.490142     3.457989    10.805929     9.809164  \n",
              "min      83.500000    53.000000    15.540000    47.000000    53.000000  \n",
              "25%     116.000000    74.000000    22.980000    67.000000    72.000000  \n",
              "50%     127.000000    81.000000    25.210000    75.000000    78.000000  \n",
              "75%     140.500000    88.000000    27.720000    80.000000    84.000000  \n",
              "max     230.000000   110.500000    35.200000   103.000000   104.000000  "
            ],
            "text/html": [
              "\n",
              "  <div id=\"df-0049728b-af42-40f2-a9cd-bbfbd4856c0b\">\n",
              "    <div class=\"colab-df-container\">\n",
              "      <div>\n",
              "<style scoped>\n",
              "    .dataframe tbody tr th:only-of-type {\n",
              "        vertical-align: middle;\n",
              "    }\n",
              "\n",
              "    .dataframe tbody tr th {\n",
              "        vertical-align: top;\n",
              "    }\n",
              "\n",
              "    .dataframe thead th {\n",
              "        text-align: right;\n",
              "    }\n",
              "</style>\n",
              "<table border=\"1\" class=\"dataframe\">\n",
              "  <thead>\n",
              "    <tr style=\"text-align: right;\">\n",
              "      <th></th>\n",
              "      <th>male</th>\n",
              "      <th>age</th>\n",
              "      <th>education</th>\n",
              "      <th>currentSmoker</th>\n",
              "      <th>cigsPerDay</th>\n",
              "      <th>BPMeds</th>\n",
              "      <th>prevalentStroke</th>\n",
              "      <th>prevalentHyp</th>\n",
              "      <th>diabetes</th>\n",
              "      <th>totChol</th>\n",
              "      <th>sysBP</th>\n",
              "      <th>diaBP</th>\n",
              "      <th>BMI</th>\n",
              "      <th>heartRate</th>\n",
              "      <th>glucose</th>\n",
              "    </tr>\n",
              "  </thead>\n",
              "  <tbody>\n",
              "    <tr>\n",
              "      <th>count</th>\n",
              "      <td>3677.000000</td>\n",
              "      <td>3677.000000</td>\n",
              "      <td>3677.000000</td>\n",
              "      <td>3677.000000</td>\n",
              "      <td>3677.000000</td>\n",
              "      <td>3677.000000</td>\n",
              "      <td>3677.000000</td>\n",
              "      <td>3677.000000</td>\n",
              "      <td>3677.000000</td>\n",
              "      <td>3677.000000</td>\n",
              "      <td>3677.000000</td>\n",
              "      <td>3677.000000</td>\n",
              "      <td>3677.000000</td>\n",
              "      <td>3677.000000</td>\n",
              "      <td>3677.000000</td>\n",
              "    </tr>\n",
              "    <tr>\n",
              "      <th>mean</th>\n",
              "      <td>0.435953</td>\n",
              "      <td>49.169432</td>\n",
              "      <td>2.009247</td>\n",
              "      <td>0.500952</td>\n",
              "      <td>9.016318</td>\n",
              "      <td>0.022573</td>\n",
              "      <td>0.004895</td>\n",
              "      <td>0.270873</td>\n",
              "      <td>0.005439</td>\n",
              "      <td>234.266522</td>\n",
              "      <td>129.743813</td>\n",
              "      <td>81.678270</td>\n",
              "      <td>25.394912</td>\n",
              "      <td>74.716073</td>\n",
              "      <td>77.927386</td>\n",
              "    </tr>\n",
              "    <tr>\n",
              "      <th>std</th>\n",
              "      <td>0.495948</td>\n",
              "      <td>8.522508</td>\n",
              "      <td>1.007546</td>\n",
              "      <td>0.500067</td>\n",
              "      <td>11.660563</td>\n",
              "      <td>0.148557</td>\n",
              "      <td>0.069804</td>\n",
              "      <td>0.444471</td>\n",
              "      <td>0.073560</td>\n",
              "      <td>40.300985</td>\n",
              "      <td>19.355377</td>\n",
              "      <td>10.490142</td>\n",
              "      <td>3.457989</td>\n",
              "      <td>10.805929</td>\n",
              "      <td>9.809164</td>\n",
              "    </tr>\n",
              "    <tr>\n",
              "      <th>min</th>\n",
              "      <td>0.000000</td>\n",
              "      <td>32.000000</td>\n",
              "      <td>1.000000</td>\n",
              "      <td>0.000000</td>\n",
              "      <td>0.000000</td>\n",
              "      <td>0.000000</td>\n",
              "      <td>0.000000</td>\n",
              "      <td>0.000000</td>\n",
              "      <td>0.000000</td>\n",
              "      <td>124.000000</td>\n",
              "      <td>83.500000</td>\n",
              "      <td>53.000000</td>\n",
              "      <td>15.540000</td>\n",
              "      <td>47.000000</td>\n",
              "      <td>53.000000</td>\n",
              "    </tr>\n",
              "    <tr>\n",
              "      <th>25%</th>\n",
              "      <td>0.000000</td>\n",
              "      <td>42.000000</td>\n",
              "      <td>1.000000</td>\n",
              "      <td>0.000000</td>\n",
              "      <td>0.000000</td>\n",
              "      <td>0.000000</td>\n",
              "      <td>0.000000</td>\n",
              "      <td>0.000000</td>\n",
              "      <td>0.000000</td>\n",
              "      <td>205.000000</td>\n",
              "      <td>116.000000</td>\n",
              "      <td>74.000000</td>\n",
              "      <td>22.980000</td>\n",
              "      <td>67.000000</td>\n",
              "      <td>72.000000</td>\n",
              "    </tr>\n",
              "    <tr>\n",
              "      <th>50%</th>\n",
              "      <td>0.000000</td>\n",
              "      <td>48.000000</td>\n",
              "      <td>2.000000</td>\n",
              "      <td>1.000000</td>\n",
              "      <td>0.000000</td>\n",
              "      <td>0.000000</td>\n",
              "      <td>0.000000</td>\n",
              "      <td>0.000000</td>\n",
              "      <td>0.000000</td>\n",
              "      <td>233.000000</td>\n",
              "      <td>127.000000</td>\n",
              "      <td>81.000000</td>\n",
              "      <td>25.210000</td>\n",
              "      <td>75.000000</td>\n",
              "      <td>78.000000</td>\n",
              "    </tr>\n",
              "    <tr>\n",
              "      <th>75%</th>\n",
              "      <td>1.000000</td>\n",
              "      <td>56.000000</td>\n",
              "      <td>3.000000</td>\n",
              "      <td>1.000000</td>\n",
              "      <td>20.000000</td>\n",
              "      <td>0.000000</td>\n",
              "      <td>0.000000</td>\n",
              "      <td>1.000000</td>\n",
              "      <td>0.000000</td>\n",
              "      <td>260.000000</td>\n",
              "      <td>140.500000</td>\n",
              "      <td>88.000000</td>\n",
              "      <td>27.720000</td>\n",
              "      <td>80.000000</td>\n",
              "      <td>84.000000</td>\n",
              "    </tr>\n",
              "    <tr>\n",
              "      <th>max</th>\n",
              "      <td>1.000000</td>\n",
              "      <td>70.000000</td>\n",
              "      <td>4.000000</td>\n",
              "      <td>1.000000</td>\n",
              "      <td>50.000000</td>\n",
              "      <td>1.000000</td>\n",
              "      <td>1.000000</td>\n",
              "      <td>1.000000</td>\n",
              "      <td>1.000000</td>\n",
              "      <td>346.000000</td>\n",
              "      <td>230.000000</td>\n",
              "      <td>110.500000</td>\n",
              "      <td>35.200000</td>\n",
              "      <td>103.000000</td>\n",
              "      <td>104.000000</td>\n",
              "    </tr>\n",
              "  </tbody>\n",
              "</table>\n",
              "</div>\n",
              "      <button class=\"colab-df-convert\" onclick=\"convertToInteractive('df-0049728b-af42-40f2-a9cd-bbfbd4856c0b')\"\n",
              "              title=\"Convert this dataframe to an interactive table.\"\n",
              "              style=\"display:none;\">\n",
              "        \n",
              "  <svg xmlns=\"http://www.w3.org/2000/svg\" height=\"24px\"viewBox=\"0 0 24 24\"\n",
              "       width=\"24px\">\n",
              "    <path d=\"M0 0h24v24H0V0z\" fill=\"none\"/>\n",
              "    <path d=\"M18.56 5.44l.94 2.06.94-2.06 2.06-.94-2.06-.94-.94-2.06-.94 2.06-2.06.94zm-11 1L8.5 8.5l.94-2.06 2.06-.94-2.06-.94L8.5 2.5l-.94 2.06-2.06.94zm10 10l.94 2.06.94-2.06 2.06-.94-2.06-.94-.94-2.06-.94 2.06-2.06.94z\"/><path d=\"M17.41 7.96l-1.37-1.37c-.4-.4-.92-.59-1.43-.59-.52 0-1.04.2-1.43.59L10.3 9.45l-7.72 7.72c-.78.78-.78 2.05 0 2.83L4 21.41c.39.39.9.59 1.41.59.51 0 1.02-.2 1.41-.59l7.78-7.78 2.81-2.81c.8-.78.8-2.07 0-2.86zM5.41 20L4 18.59l7.72-7.72 1.47 1.35L5.41 20z\"/>\n",
              "  </svg>\n",
              "      </button>\n",
              "      \n",
              "  <style>\n",
              "    .colab-df-container {\n",
              "      display:flex;\n",
              "      flex-wrap:wrap;\n",
              "      gap: 12px;\n",
              "    }\n",
              "\n",
              "    .colab-df-convert {\n",
              "      background-color: #E8F0FE;\n",
              "      border: none;\n",
              "      border-radius: 50%;\n",
              "      cursor: pointer;\n",
              "      display: none;\n",
              "      fill: #1967D2;\n",
              "      height: 32px;\n",
              "      padding: 0 0 0 0;\n",
              "      width: 32px;\n",
              "    }\n",
              "\n",
              "    .colab-df-convert:hover {\n",
              "      background-color: #E2EBFA;\n",
              "      box-shadow: 0px 1px 2px rgba(60, 64, 67, 0.3), 0px 1px 3px 1px rgba(60, 64, 67, 0.15);\n",
              "      fill: #174EA6;\n",
              "    }\n",
              "\n",
              "    [theme=dark] .colab-df-convert {\n",
              "      background-color: #3B4455;\n",
              "      fill: #D2E3FC;\n",
              "    }\n",
              "\n",
              "    [theme=dark] .colab-df-convert:hover {\n",
              "      background-color: #434B5C;\n",
              "      box-shadow: 0px 1px 3px 1px rgba(0, 0, 0, 0.15);\n",
              "      filter: drop-shadow(0px 1px 2px rgba(0, 0, 0, 0.3));\n",
              "      fill: #FFFFFF;\n",
              "    }\n",
              "  </style>\n",
              "\n",
              "      <script>\n",
              "        const buttonEl =\n",
              "          document.querySelector('#df-0049728b-af42-40f2-a9cd-bbfbd4856c0b button.colab-df-convert');\n",
              "        buttonEl.style.display =\n",
              "          google.colab.kernel.accessAllowed ? 'block' : 'none';\n",
              "\n",
              "        async function convertToInteractive(key) {\n",
              "          const element = document.querySelector('#df-0049728b-af42-40f2-a9cd-bbfbd4856c0b');\n",
              "          const dataTable =\n",
              "            await google.colab.kernel.invokeFunction('convertToInteractive',\n",
              "                                                     [key], {});\n",
              "          if (!dataTable) return;\n",
              "\n",
              "          const docLinkHtml = 'Like what you see? Visit the ' +\n",
              "            '<a target=\"_blank\" href=https://colab.research.google.com/notebooks/data_table.ipynb>data table notebook</a>'\n",
              "            + ' to learn more about interactive tables.';\n",
              "          element.innerHTML = '';\n",
              "          dataTable['output_type'] = 'display_data';\n",
              "          await google.colab.output.renderOutput(dataTable, element);\n",
              "          const docLink = document.createElement('div');\n",
              "          docLink.innerHTML = docLinkHtml;\n",
              "          element.appendChild(docLink);\n",
              "        }\n",
              "      </script>\n",
              "    </div>\n",
              "  </div>\n",
              "  "
            ]
          },
          "metadata": {},
          "execution_count": 117
        }
      ]
    },
    {
      "cell_type": "code",
      "source": [
        "type(X)"
      ],
      "metadata": {
        "colab": {
          "base_uri": "https://localhost:8080/"
        },
        "id": "ZEmrgWo6JvPg",
        "outputId": "0a6f0184-1092-4237-a42e-a735c16ed116"
      },
      "execution_count": null,
      "outputs": [
        {
          "output_type": "execute_result",
          "data": {
            "text/plain": [
              "pandas.core.frame.DataFrame"
            ]
          },
          "metadata": {},
          "execution_count": 118
        }
      ]
    },
    {
      "cell_type": "code",
      "source": [
        "from sklearn import preprocessing\n",
        "standards=preprocessing.StandardScaler()\n",
        "X=standards.fit_transform(X)"
      ],
      "metadata": {
        "id": "lmZ7MeFcJ1vx"
      },
      "execution_count": null,
      "outputs": []
    },
    {
      "cell_type": "code",
      "source": [
        "X=pd.DataFrame(X)\n",
        "X.describe()"
      ],
      "metadata": {
        "colab": {
          "base_uri": "https://localhost:8080/",
          "height": 451
        },
        "id": "8EpUqRcHJ7x9",
        "outputId": "d1d8ad3d-115b-402e-db94-e0ad0fdbdbff"
      },
      "execution_count": null,
      "outputs": [
        {
          "output_type": "execute_result",
          "data": {
            "text/plain": [
              "                 0             1             2             3             4   \\\n",
              "count  3.677000e+03  3.677000e+03  3.677000e+03  3.677000e+03  3.677000e+03   \n",
              "mean   6.183674e-17  1.207749e-16  1.942060e-16 -5.410714e-17 -8.502551e-17   \n",
              "std    1.000136e+00  1.000136e+00  1.000136e+00  1.000136e+00  1.000136e+00   \n",
              "min   -8.791488e-01 -2.014872e+00 -1.001824e+00 -1.001906e+00 -7.733369e-01   \n",
              "25%   -8.791488e-01 -8.413493e-01 -1.001824e+00 -1.001906e+00 -7.733369e-01   \n",
              "50%   -8.791488e-01 -1.372355e-01 -9.178666e-03  9.980981e-01 -7.733369e-01   \n",
              "75%    1.137464e+00  8.015830e-01  9.834671e-01  9.980981e-01  9.420794e-01   \n",
              "max    1.137464e+00  2.444515e+00  1.976113e+00  9.980981e-01  3.515204e+00   \n",
              "\n",
              "                 5             6             7             8             9   \\\n",
              "count  3.677000e+03  3.677000e+03  3.677000e+03  3.677000e+03  3.677000e+03   \n",
              "mean  -2.125638e-17  7.729592e-18 -3.478316e-17  1.062819e-17  3.420344e-16   \n",
              "std    1.000136e+00  1.000136e+00  1.000136e+00  1.000136e+00  1.000136e+00   \n",
              "min   -1.519673e-01 -7.013827e-02 -6.095106e-01 -7.395244e-02 -2.736447e+00   \n",
              "25%   -1.519673e-01 -7.013827e-02 -6.095106e-01 -7.395244e-02 -7.262974e-01   \n",
              "50%   -1.519673e-01 -7.013827e-02 -6.095106e-01 -7.395244e-02 -3.143084e-02   \n",
              "75%   -1.519673e-01 -7.013827e-02  1.640661e+00 -7.395244e-02  6.386191e-01   \n",
              "max    6.580365e+00  1.425755e+01  1.640661e+00  1.352220e+01  2.772852e+00   \n",
              "\n",
              "                 10            11            12            13            14  \n",
              "count  3.677000e+03  3.677000e+03  3.677000e+03  3.677000e+03  3.677000e+03  \n",
              "mean   1.545918e-16 -3.690880e-16 -1.198087e-16 -5.217475e-17 -5.565306e-16  \n",
              "std    1.000136e+00  1.000136e+00  1.000136e+00  1.000136e+00  1.000136e+00  \n",
              "min   -2.389522e+00 -2.734202e+00 -2.850284e+00 -2.565244e+00 -2.541580e+00  \n",
              "25%   -7.101738e-01 -7.320506e-01 -6.984522e-01 -7.141563e-01 -6.043525e-01  \n",
              "50%   -1.417790e-01 -6.466667e-02 -5.348101e-02  2.627870e-02  7.403630e-03  \n",
              "75%    5.557965e-01  6.027172e-01  6.724731e-01  4.890506e-01  6.191597e-01  \n",
              "max    5.180463e+00  2.747880e+00  2.835874e+00  2.617801e+00  2.658347e+00  "
            ],
            "text/html": [
              "\n",
              "  <div id=\"df-10e85636-a72c-477b-8abb-ddef44448d3a\">\n",
              "    <div class=\"colab-df-container\">\n",
              "      <div>\n",
              "<style scoped>\n",
              "    .dataframe tbody tr th:only-of-type {\n",
              "        vertical-align: middle;\n",
              "    }\n",
              "\n",
              "    .dataframe tbody tr th {\n",
              "        vertical-align: top;\n",
              "    }\n",
              "\n",
              "    .dataframe thead th {\n",
              "        text-align: right;\n",
              "    }\n",
              "</style>\n",
              "<table border=\"1\" class=\"dataframe\">\n",
              "  <thead>\n",
              "    <tr style=\"text-align: right;\">\n",
              "      <th></th>\n",
              "      <th>0</th>\n",
              "      <th>1</th>\n",
              "      <th>2</th>\n",
              "      <th>3</th>\n",
              "      <th>4</th>\n",
              "      <th>5</th>\n",
              "      <th>6</th>\n",
              "      <th>7</th>\n",
              "      <th>8</th>\n",
              "      <th>9</th>\n",
              "      <th>10</th>\n",
              "      <th>11</th>\n",
              "      <th>12</th>\n",
              "      <th>13</th>\n",
              "      <th>14</th>\n",
              "    </tr>\n",
              "  </thead>\n",
              "  <tbody>\n",
              "    <tr>\n",
              "      <th>count</th>\n",
              "      <td>3.677000e+03</td>\n",
              "      <td>3.677000e+03</td>\n",
              "      <td>3.677000e+03</td>\n",
              "      <td>3.677000e+03</td>\n",
              "      <td>3.677000e+03</td>\n",
              "      <td>3.677000e+03</td>\n",
              "      <td>3.677000e+03</td>\n",
              "      <td>3.677000e+03</td>\n",
              "      <td>3.677000e+03</td>\n",
              "      <td>3.677000e+03</td>\n",
              "      <td>3.677000e+03</td>\n",
              "      <td>3.677000e+03</td>\n",
              "      <td>3.677000e+03</td>\n",
              "      <td>3.677000e+03</td>\n",
              "      <td>3.677000e+03</td>\n",
              "    </tr>\n",
              "    <tr>\n",
              "      <th>mean</th>\n",
              "      <td>6.183674e-17</td>\n",
              "      <td>1.207749e-16</td>\n",
              "      <td>1.942060e-16</td>\n",
              "      <td>-5.410714e-17</td>\n",
              "      <td>-8.502551e-17</td>\n",
              "      <td>-2.125638e-17</td>\n",
              "      <td>7.729592e-18</td>\n",
              "      <td>-3.478316e-17</td>\n",
              "      <td>1.062819e-17</td>\n",
              "      <td>3.420344e-16</td>\n",
              "      <td>1.545918e-16</td>\n",
              "      <td>-3.690880e-16</td>\n",
              "      <td>-1.198087e-16</td>\n",
              "      <td>-5.217475e-17</td>\n",
              "      <td>-5.565306e-16</td>\n",
              "    </tr>\n",
              "    <tr>\n",
              "      <th>std</th>\n",
              "      <td>1.000136e+00</td>\n",
              "      <td>1.000136e+00</td>\n",
              "      <td>1.000136e+00</td>\n",
              "      <td>1.000136e+00</td>\n",
              "      <td>1.000136e+00</td>\n",
              "      <td>1.000136e+00</td>\n",
              "      <td>1.000136e+00</td>\n",
              "      <td>1.000136e+00</td>\n",
              "      <td>1.000136e+00</td>\n",
              "      <td>1.000136e+00</td>\n",
              "      <td>1.000136e+00</td>\n",
              "      <td>1.000136e+00</td>\n",
              "      <td>1.000136e+00</td>\n",
              "      <td>1.000136e+00</td>\n",
              "      <td>1.000136e+00</td>\n",
              "    </tr>\n",
              "    <tr>\n",
              "      <th>min</th>\n",
              "      <td>-8.791488e-01</td>\n",
              "      <td>-2.014872e+00</td>\n",
              "      <td>-1.001824e+00</td>\n",
              "      <td>-1.001906e+00</td>\n",
              "      <td>-7.733369e-01</td>\n",
              "      <td>-1.519673e-01</td>\n",
              "      <td>-7.013827e-02</td>\n",
              "      <td>-6.095106e-01</td>\n",
              "      <td>-7.395244e-02</td>\n",
              "      <td>-2.736447e+00</td>\n",
              "      <td>-2.389522e+00</td>\n",
              "      <td>-2.734202e+00</td>\n",
              "      <td>-2.850284e+00</td>\n",
              "      <td>-2.565244e+00</td>\n",
              "      <td>-2.541580e+00</td>\n",
              "    </tr>\n",
              "    <tr>\n",
              "      <th>25%</th>\n",
              "      <td>-8.791488e-01</td>\n",
              "      <td>-8.413493e-01</td>\n",
              "      <td>-1.001824e+00</td>\n",
              "      <td>-1.001906e+00</td>\n",
              "      <td>-7.733369e-01</td>\n",
              "      <td>-1.519673e-01</td>\n",
              "      <td>-7.013827e-02</td>\n",
              "      <td>-6.095106e-01</td>\n",
              "      <td>-7.395244e-02</td>\n",
              "      <td>-7.262974e-01</td>\n",
              "      <td>-7.101738e-01</td>\n",
              "      <td>-7.320506e-01</td>\n",
              "      <td>-6.984522e-01</td>\n",
              "      <td>-7.141563e-01</td>\n",
              "      <td>-6.043525e-01</td>\n",
              "    </tr>\n",
              "    <tr>\n",
              "      <th>50%</th>\n",
              "      <td>-8.791488e-01</td>\n",
              "      <td>-1.372355e-01</td>\n",
              "      <td>-9.178666e-03</td>\n",
              "      <td>9.980981e-01</td>\n",
              "      <td>-7.733369e-01</td>\n",
              "      <td>-1.519673e-01</td>\n",
              "      <td>-7.013827e-02</td>\n",
              "      <td>-6.095106e-01</td>\n",
              "      <td>-7.395244e-02</td>\n",
              "      <td>-3.143084e-02</td>\n",
              "      <td>-1.417790e-01</td>\n",
              "      <td>-6.466667e-02</td>\n",
              "      <td>-5.348101e-02</td>\n",
              "      <td>2.627870e-02</td>\n",
              "      <td>7.403630e-03</td>\n",
              "    </tr>\n",
              "    <tr>\n",
              "      <th>75%</th>\n",
              "      <td>1.137464e+00</td>\n",
              "      <td>8.015830e-01</td>\n",
              "      <td>9.834671e-01</td>\n",
              "      <td>9.980981e-01</td>\n",
              "      <td>9.420794e-01</td>\n",
              "      <td>-1.519673e-01</td>\n",
              "      <td>-7.013827e-02</td>\n",
              "      <td>1.640661e+00</td>\n",
              "      <td>-7.395244e-02</td>\n",
              "      <td>6.386191e-01</td>\n",
              "      <td>5.557965e-01</td>\n",
              "      <td>6.027172e-01</td>\n",
              "      <td>6.724731e-01</td>\n",
              "      <td>4.890506e-01</td>\n",
              "      <td>6.191597e-01</td>\n",
              "    </tr>\n",
              "    <tr>\n",
              "      <th>max</th>\n",
              "      <td>1.137464e+00</td>\n",
              "      <td>2.444515e+00</td>\n",
              "      <td>1.976113e+00</td>\n",
              "      <td>9.980981e-01</td>\n",
              "      <td>3.515204e+00</td>\n",
              "      <td>6.580365e+00</td>\n",
              "      <td>1.425755e+01</td>\n",
              "      <td>1.640661e+00</td>\n",
              "      <td>1.352220e+01</td>\n",
              "      <td>2.772852e+00</td>\n",
              "      <td>5.180463e+00</td>\n",
              "      <td>2.747880e+00</td>\n",
              "      <td>2.835874e+00</td>\n",
              "      <td>2.617801e+00</td>\n",
              "      <td>2.658347e+00</td>\n",
              "    </tr>\n",
              "  </tbody>\n",
              "</table>\n",
              "</div>\n",
              "      <button class=\"colab-df-convert\" onclick=\"convertToInteractive('df-10e85636-a72c-477b-8abb-ddef44448d3a')\"\n",
              "              title=\"Convert this dataframe to an interactive table.\"\n",
              "              style=\"display:none;\">\n",
              "        \n",
              "  <svg xmlns=\"http://www.w3.org/2000/svg\" height=\"24px\"viewBox=\"0 0 24 24\"\n",
              "       width=\"24px\">\n",
              "    <path d=\"M0 0h24v24H0V0z\" fill=\"none\"/>\n",
              "    <path d=\"M18.56 5.44l.94 2.06.94-2.06 2.06-.94-2.06-.94-.94-2.06-.94 2.06-2.06.94zm-11 1L8.5 8.5l.94-2.06 2.06-.94-2.06-.94L8.5 2.5l-.94 2.06-2.06.94zm10 10l.94 2.06.94-2.06 2.06-.94-2.06-.94-.94-2.06-.94 2.06-2.06.94z\"/><path d=\"M17.41 7.96l-1.37-1.37c-.4-.4-.92-.59-1.43-.59-.52 0-1.04.2-1.43.59L10.3 9.45l-7.72 7.72c-.78.78-.78 2.05 0 2.83L4 21.41c.39.39.9.59 1.41.59.51 0 1.02-.2 1.41-.59l7.78-7.78 2.81-2.81c.8-.78.8-2.07 0-2.86zM5.41 20L4 18.59l7.72-7.72 1.47 1.35L5.41 20z\"/>\n",
              "  </svg>\n",
              "      </button>\n",
              "      \n",
              "  <style>\n",
              "    .colab-df-container {\n",
              "      display:flex;\n",
              "      flex-wrap:wrap;\n",
              "      gap: 12px;\n",
              "    }\n",
              "\n",
              "    .colab-df-convert {\n",
              "      background-color: #E8F0FE;\n",
              "      border: none;\n",
              "      border-radius: 50%;\n",
              "      cursor: pointer;\n",
              "      display: none;\n",
              "      fill: #1967D2;\n",
              "      height: 32px;\n",
              "      padding: 0 0 0 0;\n",
              "      width: 32px;\n",
              "    }\n",
              "\n",
              "    .colab-df-convert:hover {\n",
              "      background-color: #E2EBFA;\n",
              "      box-shadow: 0px 1px 2px rgba(60, 64, 67, 0.3), 0px 1px 3px 1px rgba(60, 64, 67, 0.15);\n",
              "      fill: #174EA6;\n",
              "    }\n",
              "\n",
              "    [theme=dark] .colab-df-convert {\n",
              "      background-color: #3B4455;\n",
              "      fill: #D2E3FC;\n",
              "    }\n",
              "\n",
              "    [theme=dark] .colab-df-convert:hover {\n",
              "      background-color: #434B5C;\n",
              "      box-shadow: 0px 1px 3px 1px rgba(0, 0, 0, 0.15);\n",
              "      filter: drop-shadow(0px 1px 2px rgba(0, 0, 0, 0.3));\n",
              "      fill: #FFFFFF;\n",
              "    }\n",
              "  </style>\n",
              "\n",
              "      <script>\n",
              "        const buttonEl =\n",
              "          document.querySelector('#df-10e85636-a72c-477b-8abb-ddef44448d3a button.colab-df-convert');\n",
              "        buttonEl.style.display =\n",
              "          google.colab.kernel.accessAllowed ? 'block' : 'none';\n",
              "\n",
              "        async function convertToInteractive(key) {\n",
              "          const element = document.querySelector('#df-10e85636-a72c-477b-8abb-ddef44448d3a');\n",
              "          const dataTable =\n",
              "            await google.colab.kernel.invokeFunction('convertToInteractive',\n",
              "                                                     [key], {});\n",
              "          if (!dataTable) return;\n",
              "\n",
              "          const docLinkHtml = 'Like what you see? Visit the ' +\n",
              "            '<a target=\"_blank\" href=https://colab.research.google.com/notebooks/data_table.ipynb>data table notebook</a>'\n",
              "            + ' to learn more about interactive tables.';\n",
              "          element.innerHTML = '';\n",
              "          dataTable['output_type'] = 'display_data';\n",
              "          await google.colab.output.renderOutput(dataTable, element);\n",
              "          const docLink = document.createElement('div');\n",
              "          docLink.innerHTML = docLinkHtml;\n",
              "          element.appendChild(docLink);\n",
              "        }\n",
              "      </script>\n",
              "    </div>\n",
              "  </div>\n",
              "  "
            ]
          },
          "metadata": {},
          "execution_count": 121
        }
      ]
    },
    {
      "cell_type": "code",
      "source": [
        "X_train,X_test,y_train,y_test=train_test_split(X,y, random_state=42,test_size=0.2)\n",
        "lr=linear_model.LogisticRegression()\n",
        "model=lr.fit(X_train,y_train)\n",
        "prediction=model.predict(X_test)\n",
        "print('MSE IS :',mean_squared_error(y_test,prediction))\n",
        "print('R squared value is :',r2_score(y_test,prediction))"
      ],
      "metadata": {
        "colab": {
          "base_uri": "https://localhost:8080/"
        },
        "id": "aeNMy66YKBDZ",
        "outputId": "2d4efe33-7df6-409a-c620-fbdc32082902"
      },
      "execution_count": null,
      "outputs": [
        {
          "output_type": "stream",
          "name": "stdout",
          "text": [
            "MSE IS : 0.11548913043478261\n",
            "R squared value is : -0.06584887980236798\n"
          ]
        }
      ]
    },
    {
      "cell_type": "code",
      "source": [
        "X=data.drop('TenYearCHD',axis=1)\n",
        "X.describe()"
      ],
      "metadata": {
        "colab": {
          "base_uri": "https://localhost:8080/",
          "height": 364
        },
        "id": "Gz_mLKudKTxw",
        "outputId": "665c1bd1-b056-4e87-a30a-d53dff29d995"
      },
      "execution_count": null,
      "outputs": [
        {
          "output_type": "execute_result",
          "data": {
            "text/plain": [
              "              male          age    education  currentSmoker   cigsPerDay  \\\n",
              "count  3677.000000  3677.000000  3677.000000    3677.000000  3677.000000   \n",
              "mean      0.435953    49.169432     2.009247       0.500952     9.016318   \n",
              "std       0.495948     8.522508     1.007546       0.500067    11.660563   \n",
              "min       0.000000    32.000000     1.000000       0.000000     0.000000   \n",
              "25%       0.000000    42.000000     1.000000       0.000000     0.000000   \n",
              "50%       0.000000    48.000000     2.000000       1.000000     0.000000   \n",
              "75%       1.000000    56.000000     3.000000       1.000000    20.000000   \n",
              "max       1.000000    70.000000     4.000000       1.000000    50.000000   \n",
              "\n",
              "            BPMeds  prevalentStroke  prevalentHyp     diabetes      totChol  \\\n",
              "count  3677.000000      3677.000000   3677.000000  3677.000000  3677.000000   \n",
              "mean      0.022573         0.004895      0.270873     0.005439   234.266522   \n",
              "std       0.148557         0.069804      0.444471     0.073560    40.300985   \n",
              "min       0.000000         0.000000      0.000000     0.000000   124.000000   \n",
              "25%       0.000000         0.000000      0.000000     0.000000   205.000000   \n",
              "50%       0.000000         0.000000      0.000000     0.000000   233.000000   \n",
              "75%       0.000000         0.000000      1.000000     0.000000   260.000000   \n",
              "max       1.000000         1.000000      1.000000     1.000000   346.000000   \n",
              "\n",
              "             sysBP        diaBP          BMI    heartRate      glucose  \n",
              "count  3677.000000  3677.000000  3677.000000  3677.000000  3677.000000  \n",
              "mean    129.743813    81.678270    25.394912    74.716073    77.927386  \n",
              "std      19.355377    10.490142     3.457989    10.805929     9.809164  \n",
              "min      83.500000    53.000000    15.540000    47.000000    53.000000  \n",
              "25%     116.000000    74.000000    22.980000    67.000000    72.000000  \n",
              "50%     127.000000    81.000000    25.210000    75.000000    78.000000  \n",
              "75%     140.500000    88.000000    27.720000    80.000000    84.000000  \n",
              "max     230.000000   110.500000    35.200000   103.000000   104.000000  "
            ],
            "text/html": [
              "\n",
              "  <div id=\"df-6c28115c-4c37-4f48-87d7-f643697cb264\">\n",
              "    <div class=\"colab-df-container\">\n",
              "      <div>\n",
              "<style scoped>\n",
              "    .dataframe tbody tr th:only-of-type {\n",
              "        vertical-align: middle;\n",
              "    }\n",
              "\n",
              "    .dataframe tbody tr th {\n",
              "        vertical-align: top;\n",
              "    }\n",
              "\n",
              "    .dataframe thead th {\n",
              "        text-align: right;\n",
              "    }\n",
              "</style>\n",
              "<table border=\"1\" class=\"dataframe\">\n",
              "  <thead>\n",
              "    <tr style=\"text-align: right;\">\n",
              "      <th></th>\n",
              "      <th>male</th>\n",
              "      <th>age</th>\n",
              "      <th>education</th>\n",
              "      <th>currentSmoker</th>\n",
              "      <th>cigsPerDay</th>\n",
              "      <th>BPMeds</th>\n",
              "      <th>prevalentStroke</th>\n",
              "      <th>prevalentHyp</th>\n",
              "      <th>diabetes</th>\n",
              "      <th>totChol</th>\n",
              "      <th>sysBP</th>\n",
              "      <th>diaBP</th>\n",
              "      <th>BMI</th>\n",
              "      <th>heartRate</th>\n",
              "      <th>glucose</th>\n",
              "    </tr>\n",
              "  </thead>\n",
              "  <tbody>\n",
              "    <tr>\n",
              "      <th>count</th>\n",
              "      <td>3677.000000</td>\n",
              "      <td>3677.000000</td>\n",
              "      <td>3677.000000</td>\n",
              "      <td>3677.000000</td>\n",
              "      <td>3677.000000</td>\n",
              "      <td>3677.000000</td>\n",
              "      <td>3677.000000</td>\n",
              "      <td>3677.000000</td>\n",
              "      <td>3677.000000</td>\n",
              "      <td>3677.000000</td>\n",
              "      <td>3677.000000</td>\n",
              "      <td>3677.000000</td>\n",
              "      <td>3677.000000</td>\n",
              "      <td>3677.000000</td>\n",
              "      <td>3677.000000</td>\n",
              "    </tr>\n",
              "    <tr>\n",
              "      <th>mean</th>\n",
              "      <td>0.435953</td>\n",
              "      <td>49.169432</td>\n",
              "      <td>2.009247</td>\n",
              "      <td>0.500952</td>\n",
              "      <td>9.016318</td>\n",
              "      <td>0.022573</td>\n",
              "      <td>0.004895</td>\n",
              "      <td>0.270873</td>\n",
              "      <td>0.005439</td>\n",
              "      <td>234.266522</td>\n",
              "      <td>129.743813</td>\n",
              "      <td>81.678270</td>\n",
              "      <td>25.394912</td>\n",
              "      <td>74.716073</td>\n",
              "      <td>77.927386</td>\n",
              "    </tr>\n",
              "    <tr>\n",
              "      <th>std</th>\n",
              "      <td>0.495948</td>\n",
              "      <td>8.522508</td>\n",
              "      <td>1.007546</td>\n",
              "      <td>0.500067</td>\n",
              "      <td>11.660563</td>\n",
              "      <td>0.148557</td>\n",
              "      <td>0.069804</td>\n",
              "      <td>0.444471</td>\n",
              "      <td>0.073560</td>\n",
              "      <td>40.300985</td>\n",
              "      <td>19.355377</td>\n",
              "      <td>10.490142</td>\n",
              "      <td>3.457989</td>\n",
              "      <td>10.805929</td>\n",
              "      <td>9.809164</td>\n",
              "    </tr>\n",
              "    <tr>\n",
              "      <th>min</th>\n",
              "      <td>0.000000</td>\n",
              "      <td>32.000000</td>\n",
              "      <td>1.000000</td>\n",
              "      <td>0.000000</td>\n",
              "      <td>0.000000</td>\n",
              "      <td>0.000000</td>\n",
              "      <td>0.000000</td>\n",
              "      <td>0.000000</td>\n",
              "      <td>0.000000</td>\n",
              "      <td>124.000000</td>\n",
              "      <td>83.500000</td>\n",
              "      <td>53.000000</td>\n",
              "      <td>15.540000</td>\n",
              "      <td>47.000000</td>\n",
              "      <td>53.000000</td>\n",
              "    </tr>\n",
              "    <tr>\n",
              "      <th>25%</th>\n",
              "      <td>0.000000</td>\n",
              "      <td>42.000000</td>\n",
              "      <td>1.000000</td>\n",
              "      <td>0.000000</td>\n",
              "      <td>0.000000</td>\n",
              "      <td>0.000000</td>\n",
              "      <td>0.000000</td>\n",
              "      <td>0.000000</td>\n",
              "      <td>0.000000</td>\n",
              "      <td>205.000000</td>\n",
              "      <td>116.000000</td>\n",
              "      <td>74.000000</td>\n",
              "      <td>22.980000</td>\n",
              "      <td>67.000000</td>\n",
              "      <td>72.000000</td>\n",
              "    </tr>\n",
              "    <tr>\n",
              "      <th>50%</th>\n",
              "      <td>0.000000</td>\n",
              "      <td>48.000000</td>\n",
              "      <td>2.000000</td>\n",
              "      <td>1.000000</td>\n",
              "      <td>0.000000</td>\n",
              "      <td>0.000000</td>\n",
              "      <td>0.000000</td>\n",
              "      <td>0.000000</td>\n",
              "      <td>0.000000</td>\n",
              "      <td>233.000000</td>\n",
              "      <td>127.000000</td>\n",
              "      <td>81.000000</td>\n",
              "      <td>25.210000</td>\n",
              "      <td>75.000000</td>\n",
              "      <td>78.000000</td>\n",
              "    </tr>\n",
              "    <tr>\n",
              "      <th>75%</th>\n",
              "      <td>1.000000</td>\n",
              "      <td>56.000000</td>\n",
              "      <td>3.000000</td>\n",
              "      <td>1.000000</td>\n",
              "      <td>20.000000</td>\n",
              "      <td>0.000000</td>\n",
              "      <td>0.000000</td>\n",
              "      <td>1.000000</td>\n",
              "      <td>0.000000</td>\n",
              "      <td>260.000000</td>\n",
              "      <td>140.500000</td>\n",
              "      <td>88.000000</td>\n",
              "      <td>27.720000</td>\n",
              "      <td>80.000000</td>\n",
              "      <td>84.000000</td>\n",
              "    </tr>\n",
              "    <tr>\n",
              "      <th>max</th>\n",
              "      <td>1.000000</td>\n",
              "      <td>70.000000</td>\n",
              "      <td>4.000000</td>\n",
              "      <td>1.000000</td>\n",
              "      <td>50.000000</td>\n",
              "      <td>1.000000</td>\n",
              "      <td>1.000000</td>\n",
              "      <td>1.000000</td>\n",
              "      <td>1.000000</td>\n",
              "      <td>346.000000</td>\n",
              "      <td>230.000000</td>\n",
              "      <td>110.500000</td>\n",
              "      <td>35.200000</td>\n",
              "      <td>103.000000</td>\n",
              "      <td>104.000000</td>\n",
              "    </tr>\n",
              "  </tbody>\n",
              "</table>\n",
              "</div>\n",
              "      <button class=\"colab-df-convert\" onclick=\"convertToInteractive('df-6c28115c-4c37-4f48-87d7-f643697cb264')\"\n",
              "              title=\"Convert this dataframe to an interactive table.\"\n",
              "              style=\"display:none;\">\n",
              "        \n",
              "  <svg xmlns=\"http://www.w3.org/2000/svg\" height=\"24px\"viewBox=\"0 0 24 24\"\n",
              "       width=\"24px\">\n",
              "    <path d=\"M0 0h24v24H0V0z\" fill=\"none\"/>\n",
              "    <path d=\"M18.56 5.44l.94 2.06.94-2.06 2.06-.94-2.06-.94-.94-2.06-.94 2.06-2.06.94zm-11 1L8.5 8.5l.94-2.06 2.06-.94-2.06-.94L8.5 2.5l-.94 2.06-2.06.94zm10 10l.94 2.06.94-2.06 2.06-.94-2.06-.94-.94-2.06-.94 2.06-2.06.94z\"/><path d=\"M17.41 7.96l-1.37-1.37c-.4-.4-.92-.59-1.43-.59-.52 0-1.04.2-1.43.59L10.3 9.45l-7.72 7.72c-.78.78-.78 2.05 0 2.83L4 21.41c.39.39.9.59 1.41.59.51 0 1.02-.2 1.41-.59l7.78-7.78 2.81-2.81c.8-.78.8-2.07 0-2.86zM5.41 20L4 18.59l7.72-7.72 1.47 1.35L5.41 20z\"/>\n",
              "  </svg>\n",
              "      </button>\n",
              "      \n",
              "  <style>\n",
              "    .colab-df-container {\n",
              "      display:flex;\n",
              "      flex-wrap:wrap;\n",
              "      gap: 12px;\n",
              "    }\n",
              "\n",
              "    .colab-df-convert {\n",
              "      background-color: #E8F0FE;\n",
              "      border: none;\n",
              "      border-radius: 50%;\n",
              "      cursor: pointer;\n",
              "      display: none;\n",
              "      fill: #1967D2;\n",
              "      height: 32px;\n",
              "      padding: 0 0 0 0;\n",
              "      width: 32px;\n",
              "    }\n",
              "\n",
              "    .colab-df-convert:hover {\n",
              "      background-color: #E2EBFA;\n",
              "      box-shadow: 0px 1px 2px rgba(60, 64, 67, 0.3), 0px 1px 3px 1px rgba(60, 64, 67, 0.15);\n",
              "      fill: #174EA6;\n",
              "    }\n",
              "\n",
              "    [theme=dark] .colab-df-convert {\n",
              "      background-color: #3B4455;\n",
              "      fill: #D2E3FC;\n",
              "    }\n",
              "\n",
              "    [theme=dark] .colab-df-convert:hover {\n",
              "      background-color: #434B5C;\n",
              "      box-shadow: 0px 1px 3px 1px rgba(0, 0, 0, 0.15);\n",
              "      filter: drop-shadow(0px 1px 2px rgba(0, 0, 0, 0.3));\n",
              "      fill: #FFFFFF;\n",
              "    }\n",
              "  </style>\n",
              "\n",
              "      <script>\n",
              "        const buttonEl =\n",
              "          document.querySelector('#df-6c28115c-4c37-4f48-87d7-f643697cb264 button.colab-df-convert');\n",
              "        buttonEl.style.display =\n",
              "          google.colab.kernel.accessAllowed ? 'block' : 'none';\n",
              "\n",
              "        async function convertToInteractive(key) {\n",
              "          const element = document.querySelector('#df-6c28115c-4c37-4f48-87d7-f643697cb264');\n",
              "          const dataTable =\n",
              "            await google.colab.kernel.invokeFunction('convertToInteractive',\n",
              "                                                     [key], {});\n",
              "          if (!dataTable) return;\n",
              "\n",
              "          const docLinkHtml = 'Like what you see? Visit the ' +\n",
              "            '<a target=\"_blank\" href=https://colab.research.google.com/notebooks/data_table.ipynb>data table notebook</a>'\n",
              "            + ' to learn more about interactive tables.';\n",
              "          element.innerHTML = '';\n",
              "          dataTable['output_type'] = 'display_data';\n",
              "          await google.colab.output.renderOutput(dataTable, element);\n",
              "          const docLink = document.createElement('div');\n",
              "          docLink.innerHTML = docLinkHtml;\n",
              "          element.appendChild(docLink);\n",
              "        }\n",
              "      </script>\n",
              "    </div>\n",
              "  </div>\n",
              "  "
            ]
          },
          "metadata": {},
          "execution_count": 123
        }
      ]
    },
    {
      "cell_type": "code",
      "source": [
        "min_max=preprocessing.MinMaxScaler(feature_range=(0,1))\n",
        "X=min_max.fit_transform(X)\n",
        "X=pd.DataFrame(X)\n",
        "X.describe()"
      ],
      "metadata": {
        "colab": {
          "base_uri": "https://localhost:8080/",
          "height": 364
        },
        "id": "JnS-viUlLmRf",
        "outputId": "a846308c-b83c-45bf-9890-ea1fe585b4eb"
      },
      "execution_count": null,
      "outputs": [
        {
          "output_type": "execute_result",
          "data": {
            "text/plain": [
              "                0            1            2            3            4   \\\n",
              "count  3677.000000  3677.000000  3677.000000  3677.000000  3677.000000   \n",
              "mean      0.435953     0.451827     0.336416     0.500952     0.180326   \n",
              "std       0.495948     0.224277     0.335849     0.500067     0.233211   \n",
              "min       0.000000     0.000000     0.000000     0.000000     0.000000   \n",
              "25%       0.000000     0.263158     0.000000     0.000000     0.000000   \n",
              "50%       0.000000     0.421053     0.333333     1.000000     0.000000   \n",
              "75%       1.000000     0.631579     0.666667     1.000000     0.400000   \n",
              "max       1.000000     1.000000     1.000000     1.000000     1.000000   \n",
              "\n",
              "                5            6            7            8            9   \\\n",
              "count  3677.000000  3677.000000  3677.000000  3677.000000  3677.000000   \n",
              "mean      0.022573     0.004895     0.270873     0.005439     0.496696   \n",
              "std       0.148557     0.069804     0.444471     0.073560     0.181536   \n",
              "min       0.000000     0.000000     0.000000     0.000000     0.000000   \n",
              "25%       0.000000     0.000000     0.000000     0.000000     0.364865   \n",
              "50%       0.000000     0.000000     0.000000     0.000000     0.490991   \n",
              "75%       0.000000     0.000000     1.000000     0.000000     0.612613   \n",
              "max       1.000000     1.000000     1.000000     1.000000     1.000000   \n",
              "\n",
              "                10           11           12           13           14  \n",
              "count  3677.000000  3677.000000  3677.000000  3677.000000  3677.000000  \n",
              "mean      0.315657     0.498753     0.501267     0.494930     0.488772  \n",
              "std       0.132119     0.182437     0.175890     0.192963     0.192337  \n",
              "min       0.000000     0.000000     0.000000     0.000000     0.000000  \n",
              "25%       0.221843     0.365217     0.378433     0.357143     0.372549  \n",
              "50%       0.296928     0.486957     0.491862     0.500000     0.490196  \n",
              "75%       0.389078     0.608696     0.619532     0.589286     0.607843  \n",
              "max       1.000000     1.000000     1.000000     1.000000     1.000000  "
            ],
            "text/html": [
              "\n",
              "  <div id=\"df-478f020f-3886-415a-8ca3-39c7b930f6bf\">\n",
              "    <div class=\"colab-df-container\">\n",
              "      <div>\n",
              "<style scoped>\n",
              "    .dataframe tbody tr th:only-of-type {\n",
              "        vertical-align: middle;\n",
              "    }\n",
              "\n",
              "    .dataframe tbody tr th {\n",
              "        vertical-align: top;\n",
              "    }\n",
              "\n",
              "    .dataframe thead th {\n",
              "        text-align: right;\n",
              "    }\n",
              "</style>\n",
              "<table border=\"1\" class=\"dataframe\">\n",
              "  <thead>\n",
              "    <tr style=\"text-align: right;\">\n",
              "      <th></th>\n",
              "      <th>0</th>\n",
              "      <th>1</th>\n",
              "      <th>2</th>\n",
              "      <th>3</th>\n",
              "      <th>4</th>\n",
              "      <th>5</th>\n",
              "      <th>6</th>\n",
              "      <th>7</th>\n",
              "      <th>8</th>\n",
              "      <th>9</th>\n",
              "      <th>10</th>\n",
              "      <th>11</th>\n",
              "      <th>12</th>\n",
              "      <th>13</th>\n",
              "      <th>14</th>\n",
              "    </tr>\n",
              "  </thead>\n",
              "  <tbody>\n",
              "    <tr>\n",
              "      <th>count</th>\n",
              "      <td>3677.000000</td>\n",
              "      <td>3677.000000</td>\n",
              "      <td>3677.000000</td>\n",
              "      <td>3677.000000</td>\n",
              "      <td>3677.000000</td>\n",
              "      <td>3677.000000</td>\n",
              "      <td>3677.000000</td>\n",
              "      <td>3677.000000</td>\n",
              "      <td>3677.000000</td>\n",
              "      <td>3677.000000</td>\n",
              "      <td>3677.000000</td>\n",
              "      <td>3677.000000</td>\n",
              "      <td>3677.000000</td>\n",
              "      <td>3677.000000</td>\n",
              "      <td>3677.000000</td>\n",
              "    </tr>\n",
              "    <tr>\n",
              "      <th>mean</th>\n",
              "      <td>0.435953</td>\n",
              "      <td>0.451827</td>\n",
              "      <td>0.336416</td>\n",
              "      <td>0.500952</td>\n",
              "      <td>0.180326</td>\n",
              "      <td>0.022573</td>\n",
              "      <td>0.004895</td>\n",
              "      <td>0.270873</td>\n",
              "      <td>0.005439</td>\n",
              "      <td>0.496696</td>\n",
              "      <td>0.315657</td>\n",
              "      <td>0.498753</td>\n",
              "      <td>0.501267</td>\n",
              "      <td>0.494930</td>\n",
              "      <td>0.488772</td>\n",
              "    </tr>\n",
              "    <tr>\n",
              "      <th>std</th>\n",
              "      <td>0.495948</td>\n",
              "      <td>0.224277</td>\n",
              "      <td>0.335849</td>\n",
              "      <td>0.500067</td>\n",
              "      <td>0.233211</td>\n",
              "      <td>0.148557</td>\n",
              "      <td>0.069804</td>\n",
              "      <td>0.444471</td>\n",
              "      <td>0.073560</td>\n",
              "      <td>0.181536</td>\n",
              "      <td>0.132119</td>\n",
              "      <td>0.182437</td>\n",
              "      <td>0.175890</td>\n",
              "      <td>0.192963</td>\n",
              "      <td>0.192337</td>\n",
              "    </tr>\n",
              "    <tr>\n",
              "      <th>min</th>\n",
              "      <td>0.000000</td>\n",
              "      <td>0.000000</td>\n",
              "      <td>0.000000</td>\n",
              "      <td>0.000000</td>\n",
              "      <td>0.000000</td>\n",
              "      <td>0.000000</td>\n",
              "      <td>0.000000</td>\n",
              "      <td>0.000000</td>\n",
              "      <td>0.000000</td>\n",
              "      <td>0.000000</td>\n",
              "      <td>0.000000</td>\n",
              "      <td>0.000000</td>\n",
              "      <td>0.000000</td>\n",
              "      <td>0.000000</td>\n",
              "      <td>0.000000</td>\n",
              "    </tr>\n",
              "    <tr>\n",
              "      <th>25%</th>\n",
              "      <td>0.000000</td>\n",
              "      <td>0.263158</td>\n",
              "      <td>0.000000</td>\n",
              "      <td>0.000000</td>\n",
              "      <td>0.000000</td>\n",
              "      <td>0.000000</td>\n",
              "      <td>0.000000</td>\n",
              "      <td>0.000000</td>\n",
              "      <td>0.000000</td>\n",
              "      <td>0.364865</td>\n",
              "      <td>0.221843</td>\n",
              "      <td>0.365217</td>\n",
              "      <td>0.378433</td>\n",
              "      <td>0.357143</td>\n",
              "      <td>0.372549</td>\n",
              "    </tr>\n",
              "    <tr>\n",
              "      <th>50%</th>\n",
              "      <td>0.000000</td>\n",
              "      <td>0.421053</td>\n",
              "      <td>0.333333</td>\n",
              "      <td>1.000000</td>\n",
              "      <td>0.000000</td>\n",
              "      <td>0.000000</td>\n",
              "      <td>0.000000</td>\n",
              "      <td>0.000000</td>\n",
              "      <td>0.000000</td>\n",
              "      <td>0.490991</td>\n",
              "      <td>0.296928</td>\n",
              "      <td>0.486957</td>\n",
              "      <td>0.491862</td>\n",
              "      <td>0.500000</td>\n",
              "      <td>0.490196</td>\n",
              "    </tr>\n",
              "    <tr>\n",
              "      <th>75%</th>\n",
              "      <td>1.000000</td>\n",
              "      <td>0.631579</td>\n",
              "      <td>0.666667</td>\n",
              "      <td>1.000000</td>\n",
              "      <td>0.400000</td>\n",
              "      <td>0.000000</td>\n",
              "      <td>0.000000</td>\n",
              "      <td>1.000000</td>\n",
              "      <td>0.000000</td>\n",
              "      <td>0.612613</td>\n",
              "      <td>0.389078</td>\n",
              "      <td>0.608696</td>\n",
              "      <td>0.619532</td>\n",
              "      <td>0.589286</td>\n",
              "      <td>0.607843</td>\n",
              "    </tr>\n",
              "    <tr>\n",
              "      <th>max</th>\n",
              "      <td>1.000000</td>\n",
              "      <td>1.000000</td>\n",
              "      <td>1.000000</td>\n",
              "      <td>1.000000</td>\n",
              "      <td>1.000000</td>\n",
              "      <td>1.000000</td>\n",
              "      <td>1.000000</td>\n",
              "      <td>1.000000</td>\n",
              "      <td>1.000000</td>\n",
              "      <td>1.000000</td>\n",
              "      <td>1.000000</td>\n",
              "      <td>1.000000</td>\n",
              "      <td>1.000000</td>\n",
              "      <td>1.000000</td>\n",
              "      <td>1.000000</td>\n",
              "    </tr>\n",
              "  </tbody>\n",
              "</table>\n",
              "</div>\n",
              "      <button class=\"colab-df-convert\" onclick=\"convertToInteractive('df-478f020f-3886-415a-8ca3-39c7b930f6bf')\"\n",
              "              title=\"Convert this dataframe to an interactive table.\"\n",
              "              style=\"display:none;\">\n",
              "        \n",
              "  <svg xmlns=\"http://www.w3.org/2000/svg\" height=\"24px\"viewBox=\"0 0 24 24\"\n",
              "       width=\"24px\">\n",
              "    <path d=\"M0 0h24v24H0V0z\" fill=\"none\"/>\n",
              "    <path d=\"M18.56 5.44l.94 2.06.94-2.06 2.06-.94-2.06-.94-.94-2.06-.94 2.06-2.06.94zm-11 1L8.5 8.5l.94-2.06 2.06-.94-2.06-.94L8.5 2.5l-.94 2.06-2.06.94zm10 10l.94 2.06.94-2.06 2.06-.94-2.06-.94-.94-2.06-.94 2.06-2.06.94z\"/><path d=\"M17.41 7.96l-1.37-1.37c-.4-.4-.92-.59-1.43-.59-.52 0-1.04.2-1.43.59L10.3 9.45l-7.72 7.72c-.78.78-.78 2.05 0 2.83L4 21.41c.39.39.9.59 1.41.59.51 0 1.02-.2 1.41-.59l7.78-7.78 2.81-2.81c.8-.78.8-2.07 0-2.86zM5.41 20L4 18.59l7.72-7.72 1.47 1.35L5.41 20z\"/>\n",
              "  </svg>\n",
              "      </button>\n",
              "      \n",
              "  <style>\n",
              "    .colab-df-container {\n",
              "      display:flex;\n",
              "      flex-wrap:wrap;\n",
              "      gap: 12px;\n",
              "    }\n",
              "\n",
              "    .colab-df-convert {\n",
              "      background-color: #E8F0FE;\n",
              "      border: none;\n",
              "      border-radius: 50%;\n",
              "      cursor: pointer;\n",
              "      display: none;\n",
              "      fill: #1967D2;\n",
              "      height: 32px;\n",
              "      padding: 0 0 0 0;\n",
              "      width: 32px;\n",
              "    }\n",
              "\n",
              "    .colab-df-convert:hover {\n",
              "      background-color: #E2EBFA;\n",
              "      box-shadow: 0px 1px 2px rgba(60, 64, 67, 0.3), 0px 1px 3px 1px rgba(60, 64, 67, 0.15);\n",
              "      fill: #174EA6;\n",
              "    }\n",
              "\n",
              "    [theme=dark] .colab-df-convert {\n",
              "      background-color: #3B4455;\n",
              "      fill: #D2E3FC;\n",
              "    }\n",
              "\n",
              "    [theme=dark] .colab-df-convert:hover {\n",
              "      background-color: #434B5C;\n",
              "      box-shadow: 0px 1px 3px 1px rgba(0, 0, 0, 0.15);\n",
              "      filter: drop-shadow(0px 1px 2px rgba(0, 0, 0, 0.3));\n",
              "      fill: #FFFFFF;\n",
              "    }\n",
              "  </style>\n",
              "\n",
              "      <script>\n",
              "        const buttonEl =\n",
              "          document.querySelector('#df-478f020f-3886-415a-8ca3-39c7b930f6bf button.colab-df-convert');\n",
              "        buttonEl.style.display =\n",
              "          google.colab.kernel.accessAllowed ? 'block' : 'none';\n",
              "\n",
              "        async function convertToInteractive(key) {\n",
              "          const element = document.querySelector('#df-478f020f-3886-415a-8ca3-39c7b930f6bf');\n",
              "          const dataTable =\n",
              "            await google.colab.kernel.invokeFunction('convertToInteractive',\n",
              "                                                     [key], {});\n",
              "          if (!dataTable) return;\n",
              "\n",
              "          const docLinkHtml = 'Like what you see? Visit the ' +\n",
              "            '<a target=\"_blank\" href=https://colab.research.google.com/notebooks/data_table.ipynb>data table notebook</a>'\n",
              "            + ' to learn more about interactive tables.';\n",
              "          element.innerHTML = '';\n",
              "          dataTable['output_type'] = 'display_data';\n",
              "          await google.colab.output.renderOutput(dataTable, element);\n",
              "          const docLink = document.createElement('div');\n",
              "          docLink.innerHTML = docLinkHtml;\n",
              "          element.appendChild(docLink);\n",
              "        }\n",
              "      </script>\n",
              "    </div>\n",
              "  </div>\n",
              "  "
            ]
          },
          "metadata": {},
          "execution_count": 124
        }
      ]
    },
    {
      "cell_type": "code",
      "source": [
        "X_train,X_test,y_train,y_test=train_test_split(X,y,random_state=42,test_size=0.2)\n",
        "lr=linear_model.LogisticRegression()\n",
        "model=lr.fit(X_train,y_train)\n",
        "prediction=model.predict(X_test)\n",
        "print('MSE IS :',mean_squared_error(y_test,predictions))\n",
        "print('R squared value is :',r2_score(y_test,prediction))"
      ],
      "metadata": {
        "colab": {
          "base_uri": "https://localhost:8080/"
        },
        "id": "z4qCxPokLs_4",
        "outputId": "0be30063-0285-4573-af08-70975a657ff4"
      },
      "execution_count": null,
      "outputs": [
        {
          "output_type": "stream",
          "name": "stdout",
          "text": [
            "MSE IS : 0.12228260869565218\n",
            "R squared value is : -0.06584887980236798\n"
          ]
        }
      ]
    },
    {
      "cell_type": "code",
      "source": [
        "X=data.drop('TenYearCHD',axis=1)\n",
        "X.describe()"
      ],
      "metadata": {
        "colab": {
          "base_uri": "https://localhost:8080/",
          "height": 364
        },
        "id": "Hn3xzziFL4rS",
        "outputId": "40a07131-9b9b-4784-d4b2-b03e39e5f15e"
      },
      "execution_count": null,
      "outputs": [
        {
          "output_type": "execute_result",
          "data": {
            "text/plain": [
              "              male          age    education  currentSmoker   cigsPerDay  \\\n",
              "count  3677.000000  3677.000000  3677.000000    3677.000000  3677.000000   \n",
              "mean      0.435953    49.169432     2.009247       0.500952     9.016318   \n",
              "std       0.495948     8.522508     1.007546       0.500067    11.660563   \n",
              "min       0.000000    32.000000     1.000000       0.000000     0.000000   \n",
              "25%       0.000000    42.000000     1.000000       0.000000     0.000000   \n",
              "50%       0.000000    48.000000     2.000000       1.000000     0.000000   \n",
              "75%       1.000000    56.000000     3.000000       1.000000    20.000000   \n",
              "max       1.000000    70.000000     4.000000       1.000000    50.000000   \n",
              "\n",
              "            BPMeds  prevalentStroke  prevalentHyp     diabetes      totChol  \\\n",
              "count  3677.000000      3677.000000   3677.000000  3677.000000  3677.000000   \n",
              "mean      0.022573         0.004895      0.270873     0.005439   234.266522   \n",
              "std       0.148557         0.069804      0.444471     0.073560    40.300985   \n",
              "min       0.000000         0.000000      0.000000     0.000000   124.000000   \n",
              "25%       0.000000         0.000000      0.000000     0.000000   205.000000   \n",
              "50%       0.000000         0.000000      0.000000     0.000000   233.000000   \n",
              "75%       0.000000         0.000000      1.000000     0.000000   260.000000   \n",
              "max       1.000000         1.000000      1.000000     1.000000   346.000000   \n",
              "\n",
              "             sysBP        diaBP          BMI    heartRate      glucose  \n",
              "count  3677.000000  3677.000000  3677.000000  3677.000000  3677.000000  \n",
              "mean    129.743813    81.678270    25.394912    74.716073    77.927386  \n",
              "std      19.355377    10.490142     3.457989    10.805929     9.809164  \n",
              "min      83.500000    53.000000    15.540000    47.000000    53.000000  \n",
              "25%     116.000000    74.000000    22.980000    67.000000    72.000000  \n",
              "50%     127.000000    81.000000    25.210000    75.000000    78.000000  \n",
              "75%     140.500000    88.000000    27.720000    80.000000    84.000000  \n",
              "max     230.000000   110.500000    35.200000   103.000000   104.000000  "
            ],
            "text/html": [
              "\n",
              "  <div id=\"df-d412c8e4-b611-4f8d-a052-700a8a10ffb9\">\n",
              "    <div class=\"colab-df-container\">\n",
              "      <div>\n",
              "<style scoped>\n",
              "    .dataframe tbody tr th:only-of-type {\n",
              "        vertical-align: middle;\n",
              "    }\n",
              "\n",
              "    .dataframe tbody tr th {\n",
              "        vertical-align: top;\n",
              "    }\n",
              "\n",
              "    .dataframe thead th {\n",
              "        text-align: right;\n",
              "    }\n",
              "</style>\n",
              "<table border=\"1\" class=\"dataframe\">\n",
              "  <thead>\n",
              "    <tr style=\"text-align: right;\">\n",
              "      <th></th>\n",
              "      <th>male</th>\n",
              "      <th>age</th>\n",
              "      <th>education</th>\n",
              "      <th>currentSmoker</th>\n",
              "      <th>cigsPerDay</th>\n",
              "      <th>BPMeds</th>\n",
              "      <th>prevalentStroke</th>\n",
              "      <th>prevalentHyp</th>\n",
              "      <th>diabetes</th>\n",
              "      <th>totChol</th>\n",
              "      <th>sysBP</th>\n",
              "      <th>diaBP</th>\n",
              "      <th>BMI</th>\n",
              "      <th>heartRate</th>\n",
              "      <th>glucose</th>\n",
              "    </tr>\n",
              "  </thead>\n",
              "  <tbody>\n",
              "    <tr>\n",
              "      <th>count</th>\n",
              "      <td>3677.000000</td>\n",
              "      <td>3677.000000</td>\n",
              "      <td>3677.000000</td>\n",
              "      <td>3677.000000</td>\n",
              "      <td>3677.000000</td>\n",
              "      <td>3677.000000</td>\n",
              "      <td>3677.000000</td>\n",
              "      <td>3677.000000</td>\n",
              "      <td>3677.000000</td>\n",
              "      <td>3677.000000</td>\n",
              "      <td>3677.000000</td>\n",
              "      <td>3677.000000</td>\n",
              "      <td>3677.000000</td>\n",
              "      <td>3677.000000</td>\n",
              "      <td>3677.000000</td>\n",
              "    </tr>\n",
              "    <tr>\n",
              "      <th>mean</th>\n",
              "      <td>0.435953</td>\n",
              "      <td>49.169432</td>\n",
              "      <td>2.009247</td>\n",
              "      <td>0.500952</td>\n",
              "      <td>9.016318</td>\n",
              "      <td>0.022573</td>\n",
              "      <td>0.004895</td>\n",
              "      <td>0.270873</td>\n",
              "      <td>0.005439</td>\n",
              "      <td>234.266522</td>\n",
              "      <td>129.743813</td>\n",
              "      <td>81.678270</td>\n",
              "      <td>25.394912</td>\n",
              "      <td>74.716073</td>\n",
              "      <td>77.927386</td>\n",
              "    </tr>\n",
              "    <tr>\n",
              "      <th>std</th>\n",
              "      <td>0.495948</td>\n",
              "      <td>8.522508</td>\n",
              "      <td>1.007546</td>\n",
              "      <td>0.500067</td>\n",
              "      <td>11.660563</td>\n",
              "      <td>0.148557</td>\n",
              "      <td>0.069804</td>\n",
              "      <td>0.444471</td>\n",
              "      <td>0.073560</td>\n",
              "      <td>40.300985</td>\n",
              "      <td>19.355377</td>\n",
              "      <td>10.490142</td>\n",
              "      <td>3.457989</td>\n",
              "      <td>10.805929</td>\n",
              "      <td>9.809164</td>\n",
              "    </tr>\n",
              "    <tr>\n",
              "      <th>min</th>\n",
              "      <td>0.000000</td>\n",
              "      <td>32.000000</td>\n",
              "      <td>1.000000</td>\n",
              "      <td>0.000000</td>\n",
              "      <td>0.000000</td>\n",
              "      <td>0.000000</td>\n",
              "      <td>0.000000</td>\n",
              "      <td>0.000000</td>\n",
              "      <td>0.000000</td>\n",
              "      <td>124.000000</td>\n",
              "      <td>83.500000</td>\n",
              "      <td>53.000000</td>\n",
              "      <td>15.540000</td>\n",
              "      <td>47.000000</td>\n",
              "      <td>53.000000</td>\n",
              "    </tr>\n",
              "    <tr>\n",
              "      <th>25%</th>\n",
              "      <td>0.000000</td>\n",
              "      <td>42.000000</td>\n",
              "      <td>1.000000</td>\n",
              "      <td>0.000000</td>\n",
              "      <td>0.000000</td>\n",
              "      <td>0.000000</td>\n",
              "      <td>0.000000</td>\n",
              "      <td>0.000000</td>\n",
              "      <td>0.000000</td>\n",
              "      <td>205.000000</td>\n",
              "      <td>116.000000</td>\n",
              "      <td>74.000000</td>\n",
              "      <td>22.980000</td>\n",
              "      <td>67.000000</td>\n",
              "      <td>72.000000</td>\n",
              "    </tr>\n",
              "    <tr>\n",
              "      <th>50%</th>\n",
              "      <td>0.000000</td>\n",
              "      <td>48.000000</td>\n",
              "      <td>2.000000</td>\n",
              "      <td>1.000000</td>\n",
              "      <td>0.000000</td>\n",
              "      <td>0.000000</td>\n",
              "      <td>0.000000</td>\n",
              "      <td>0.000000</td>\n",
              "      <td>0.000000</td>\n",
              "      <td>233.000000</td>\n",
              "      <td>127.000000</td>\n",
              "      <td>81.000000</td>\n",
              "      <td>25.210000</td>\n",
              "      <td>75.000000</td>\n",
              "      <td>78.000000</td>\n",
              "    </tr>\n",
              "    <tr>\n",
              "      <th>75%</th>\n",
              "      <td>1.000000</td>\n",
              "      <td>56.000000</td>\n",
              "      <td>3.000000</td>\n",
              "      <td>1.000000</td>\n",
              "      <td>20.000000</td>\n",
              "      <td>0.000000</td>\n",
              "      <td>0.000000</td>\n",
              "      <td>1.000000</td>\n",
              "      <td>0.000000</td>\n",
              "      <td>260.000000</td>\n",
              "      <td>140.500000</td>\n",
              "      <td>88.000000</td>\n",
              "      <td>27.720000</td>\n",
              "      <td>80.000000</td>\n",
              "      <td>84.000000</td>\n",
              "    </tr>\n",
              "    <tr>\n",
              "      <th>max</th>\n",
              "      <td>1.000000</td>\n",
              "      <td>70.000000</td>\n",
              "      <td>4.000000</td>\n",
              "      <td>1.000000</td>\n",
              "      <td>50.000000</td>\n",
              "      <td>1.000000</td>\n",
              "      <td>1.000000</td>\n",
              "      <td>1.000000</td>\n",
              "      <td>1.000000</td>\n",
              "      <td>346.000000</td>\n",
              "      <td>230.000000</td>\n",
              "      <td>110.500000</td>\n",
              "      <td>35.200000</td>\n",
              "      <td>103.000000</td>\n",
              "      <td>104.000000</td>\n",
              "    </tr>\n",
              "  </tbody>\n",
              "</table>\n",
              "</div>\n",
              "      <button class=\"colab-df-convert\" onclick=\"convertToInteractive('df-d412c8e4-b611-4f8d-a052-700a8a10ffb9')\"\n",
              "              title=\"Convert this dataframe to an interactive table.\"\n",
              "              style=\"display:none;\">\n",
              "        \n",
              "  <svg xmlns=\"http://www.w3.org/2000/svg\" height=\"24px\"viewBox=\"0 0 24 24\"\n",
              "       width=\"24px\">\n",
              "    <path d=\"M0 0h24v24H0V0z\" fill=\"none\"/>\n",
              "    <path d=\"M18.56 5.44l.94 2.06.94-2.06 2.06-.94-2.06-.94-.94-2.06-.94 2.06-2.06.94zm-11 1L8.5 8.5l.94-2.06 2.06-.94-2.06-.94L8.5 2.5l-.94 2.06-2.06.94zm10 10l.94 2.06.94-2.06 2.06-.94-2.06-.94-.94-2.06-.94 2.06-2.06.94z\"/><path d=\"M17.41 7.96l-1.37-1.37c-.4-.4-.92-.59-1.43-.59-.52 0-1.04.2-1.43.59L10.3 9.45l-7.72 7.72c-.78.78-.78 2.05 0 2.83L4 21.41c.39.39.9.59 1.41.59.51 0 1.02-.2 1.41-.59l7.78-7.78 2.81-2.81c.8-.78.8-2.07 0-2.86zM5.41 20L4 18.59l7.72-7.72 1.47 1.35L5.41 20z\"/>\n",
              "  </svg>\n",
              "      </button>\n",
              "      \n",
              "  <style>\n",
              "    .colab-df-container {\n",
              "      display:flex;\n",
              "      flex-wrap:wrap;\n",
              "      gap: 12px;\n",
              "    }\n",
              "\n",
              "    .colab-df-convert {\n",
              "      background-color: #E8F0FE;\n",
              "      border: none;\n",
              "      border-radius: 50%;\n",
              "      cursor: pointer;\n",
              "      display: none;\n",
              "      fill: #1967D2;\n",
              "      height: 32px;\n",
              "      padding: 0 0 0 0;\n",
              "      width: 32px;\n",
              "    }\n",
              "\n",
              "    .colab-df-convert:hover {\n",
              "      background-color: #E2EBFA;\n",
              "      box-shadow: 0px 1px 2px rgba(60, 64, 67, 0.3), 0px 1px 3px 1px rgba(60, 64, 67, 0.15);\n",
              "      fill: #174EA6;\n",
              "    }\n",
              "\n",
              "    [theme=dark] .colab-df-convert {\n",
              "      background-color: #3B4455;\n",
              "      fill: #D2E3FC;\n",
              "    }\n",
              "\n",
              "    [theme=dark] .colab-df-convert:hover {\n",
              "      background-color: #434B5C;\n",
              "      box-shadow: 0px 1px 3px 1px rgba(0, 0, 0, 0.15);\n",
              "      filter: drop-shadow(0px 1px 2px rgba(0, 0, 0, 0.3));\n",
              "      fill: #FFFFFF;\n",
              "    }\n",
              "  </style>\n",
              "\n",
              "      <script>\n",
              "        const buttonEl =\n",
              "          document.querySelector('#df-d412c8e4-b611-4f8d-a052-700a8a10ffb9 button.colab-df-convert');\n",
              "        buttonEl.style.display =\n",
              "          google.colab.kernel.accessAllowed ? 'block' : 'none';\n",
              "\n",
              "        async function convertToInteractive(key) {\n",
              "          const element = document.querySelector('#df-d412c8e4-b611-4f8d-a052-700a8a10ffb9');\n",
              "          const dataTable =\n",
              "            await google.colab.kernel.invokeFunction('convertToInteractive',\n",
              "                                                     [key], {});\n",
              "          if (!dataTable) return;\n",
              "\n",
              "          const docLinkHtml = 'Like what you see? Visit the ' +\n",
              "            '<a target=\"_blank\" href=https://colab.research.google.com/notebooks/data_table.ipynb>data table notebook</a>'\n",
              "            + ' to learn more about interactive tables.';\n",
              "          element.innerHTML = '';\n",
              "          dataTable['output_type'] = 'display_data';\n",
              "          await google.colab.output.renderOutput(dataTable, element);\n",
              "          const docLink = document.createElement('div');\n",
              "          docLink.innerHTML = docLinkHtml;\n",
              "          element.appendChild(docLink);\n",
              "        }\n",
              "      </script>\n",
              "    </div>\n",
              "  </div>\n",
              "  "
            ]
          },
          "metadata": {},
          "execution_count": 126
        }
      ]
    },
    {
      "cell_type": "code",
      "source": [
        "X=pd.DataFrame(X)\n",
        "X.describe()"
      ],
      "metadata": {
        "colab": {
          "base_uri": "https://localhost:8080/",
          "height": 364
        },
        "id": "2KiXMnNMMMs-",
        "outputId": "4a9d38bf-0ffc-4bed-f96c-9cab6ee18e67"
      },
      "execution_count": null,
      "outputs": [
        {
          "output_type": "execute_result",
          "data": {
            "text/plain": [
              "              male          age    education  currentSmoker   cigsPerDay  \\\n",
              "count  3677.000000  3677.000000  3677.000000    3677.000000  3677.000000   \n",
              "mean      0.435953    49.169432     2.009247       0.500952     9.016318   \n",
              "std       0.495948     8.522508     1.007546       0.500067    11.660563   \n",
              "min       0.000000    32.000000     1.000000       0.000000     0.000000   \n",
              "25%       0.000000    42.000000     1.000000       0.000000     0.000000   \n",
              "50%       0.000000    48.000000     2.000000       1.000000     0.000000   \n",
              "75%       1.000000    56.000000     3.000000       1.000000    20.000000   \n",
              "max       1.000000    70.000000     4.000000       1.000000    50.000000   \n",
              "\n",
              "            BPMeds  prevalentStroke  prevalentHyp     diabetes      totChol  \\\n",
              "count  3677.000000      3677.000000   3677.000000  3677.000000  3677.000000   \n",
              "mean      0.022573         0.004895      0.270873     0.005439   234.266522   \n",
              "std       0.148557         0.069804      0.444471     0.073560    40.300985   \n",
              "min       0.000000         0.000000      0.000000     0.000000   124.000000   \n",
              "25%       0.000000         0.000000      0.000000     0.000000   205.000000   \n",
              "50%       0.000000         0.000000      0.000000     0.000000   233.000000   \n",
              "75%       0.000000         0.000000      1.000000     0.000000   260.000000   \n",
              "max       1.000000         1.000000      1.000000     1.000000   346.000000   \n",
              "\n",
              "             sysBP        diaBP          BMI    heartRate      glucose  \n",
              "count  3677.000000  3677.000000  3677.000000  3677.000000  3677.000000  \n",
              "mean    129.743813    81.678270    25.394912    74.716073    77.927386  \n",
              "std      19.355377    10.490142     3.457989    10.805929     9.809164  \n",
              "min      83.500000    53.000000    15.540000    47.000000    53.000000  \n",
              "25%     116.000000    74.000000    22.980000    67.000000    72.000000  \n",
              "50%     127.000000    81.000000    25.210000    75.000000    78.000000  \n",
              "75%     140.500000    88.000000    27.720000    80.000000    84.000000  \n",
              "max     230.000000   110.500000    35.200000   103.000000   104.000000  "
            ],
            "text/html": [
              "\n",
              "  <div id=\"df-148056d3-4e4e-4e7b-8dc4-6b57a964a1e4\">\n",
              "    <div class=\"colab-df-container\">\n",
              "      <div>\n",
              "<style scoped>\n",
              "    .dataframe tbody tr th:only-of-type {\n",
              "        vertical-align: middle;\n",
              "    }\n",
              "\n",
              "    .dataframe tbody tr th {\n",
              "        vertical-align: top;\n",
              "    }\n",
              "\n",
              "    .dataframe thead th {\n",
              "        text-align: right;\n",
              "    }\n",
              "</style>\n",
              "<table border=\"1\" class=\"dataframe\">\n",
              "  <thead>\n",
              "    <tr style=\"text-align: right;\">\n",
              "      <th></th>\n",
              "      <th>male</th>\n",
              "      <th>age</th>\n",
              "      <th>education</th>\n",
              "      <th>currentSmoker</th>\n",
              "      <th>cigsPerDay</th>\n",
              "      <th>BPMeds</th>\n",
              "      <th>prevalentStroke</th>\n",
              "      <th>prevalentHyp</th>\n",
              "      <th>diabetes</th>\n",
              "      <th>totChol</th>\n",
              "      <th>sysBP</th>\n",
              "      <th>diaBP</th>\n",
              "      <th>BMI</th>\n",
              "      <th>heartRate</th>\n",
              "      <th>glucose</th>\n",
              "    </tr>\n",
              "  </thead>\n",
              "  <tbody>\n",
              "    <tr>\n",
              "      <th>count</th>\n",
              "      <td>3677.000000</td>\n",
              "      <td>3677.000000</td>\n",
              "      <td>3677.000000</td>\n",
              "      <td>3677.000000</td>\n",
              "      <td>3677.000000</td>\n",
              "      <td>3677.000000</td>\n",
              "      <td>3677.000000</td>\n",
              "      <td>3677.000000</td>\n",
              "      <td>3677.000000</td>\n",
              "      <td>3677.000000</td>\n",
              "      <td>3677.000000</td>\n",
              "      <td>3677.000000</td>\n",
              "      <td>3677.000000</td>\n",
              "      <td>3677.000000</td>\n",
              "      <td>3677.000000</td>\n",
              "    </tr>\n",
              "    <tr>\n",
              "      <th>mean</th>\n",
              "      <td>0.435953</td>\n",
              "      <td>49.169432</td>\n",
              "      <td>2.009247</td>\n",
              "      <td>0.500952</td>\n",
              "      <td>9.016318</td>\n",
              "      <td>0.022573</td>\n",
              "      <td>0.004895</td>\n",
              "      <td>0.270873</td>\n",
              "      <td>0.005439</td>\n",
              "      <td>234.266522</td>\n",
              "      <td>129.743813</td>\n",
              "      <td>81.678270</td>\n",
              "      <td>25.394912</td>\n",
              "      <td>74.716073</td>\n",
              "      <td>77.927386</td>\n",
              "    </tr>\n",
              "    <tr>\n",
              "      <th>std</th>\n",
              "      <td>0.495948</td>\n",
              "      <td>8.522508</td>\n",
              "      <td>1.007546</td>\n",
              "      <td>0.500067</td>\n",
              "      <td>11.660563</td>\n",
              "      <td>0.148557</td>\n",
              "      <td>0.069804</td>\n",
              "      <td>0.444471</td>\n",
              "      <td>0.073560</td>\n",
              "      <td>40.300985</td>\n",
              "      <td>19.355377</td>\n",
              "      <td>10.490142</td>\n",
              "      <td>3.457989</td>\n",
              "      <td>10.805929</td>\n",
              "      <td>9.809164</td>\n",
              "    </tr>\n",
              "    <tr>\n",
              "      <th>min</th>\n",
              "      <td>0.000000</td>\n",
              "      <td>32.000000</td>\n",
              "      <td>1.000000</td>\n",
              "      <td>0.000000</td>\n",
              "      <td>0.000000</td>\n",
              "      <td>0.000000</td>\n",
              "      <td>0.000000</td>\n",
              "      <td>0.000000</td>\n",
              "      <td>0.000000</td>\n",
              "      <td>124.000000</td>\n",
              "      <td>83.500000</td>\n",
              "      <td>53.000000</td>\n",
              "      <td>15.540000</td>\n",
              "      <td>47.000000</td>\n",
              "      <td>53.000000</td>\n",
              "    </tr>\n",
              "    <tr>\n",
              "      <th>25%</th>\n",
              "      <td>0.000000</td>\n",
              "      <td>42.000000</td>\n",
              "      <td>1.000000</td>\n",
              "      <td>0.000000</td>\n",
              "      <td>0.000000</td>\n",
              "      <td>0.000000</td>\n",
              "      <td>0.000000</td>\n",
              "      <td>0.000000</td>\n",
              "      <td>0.000000</td>\n",
              "      <td>205.000000</td>\n",
              "      <td>116.000000</td>\n",
              "      <td>74.000000</td>\n",
              "      <td>22.980000</td>\n",
              "      <td>67.000000</td>\n",
              "      <td>72.000000</td>\n",
              "    </tr>\n",
              "    <tr>\n",
              "      <th>50%</th>\n",
              "      <td>0.000000</td>\n",
              "      <td>48.000000</td>\n",
              "      <td>2.000000</td>\n",
              "      <td>1.000000</td>\n",
              "      <td>0.000000</td>\n",
              "      <td>0.000000</td>\n",
              "      <td>0.000000</td>\n",
              "      <td>0.000000</td>\n",
              "      <td>0.000000</td>\n",
              "      <td>233.000000</td>\n",
              "      <td>127.000000</td>\n",
              "      <td>81.000000</td>\n",
              "      <td>25.210000</td>\n",
              "      <td>75.000000</td>\n",
              "      <td>78.000000</td>\n",
              "    </tr>\n",
              "    <tr>\n",
              "      <th>75%</th>\n",
              "      <td>1.000000</td>\n",
              "      <td>56.000000</td>\n",
              "      <td>3.000000</td>\n",
              "      <td>1.000000</td>\n",
              "      <td>20.000000</td>\n",
              "      <td>0.000000</td>\n",
              "      <td>0.000000</td>\n",
              "      <td>1.000000</td>\n",
              "      <td>0.000000</td>\n",
              "      <td>260.000000</td>\n",
              "      <td>140.500000</td>\n",
              "      <td>88.000000</td>\n",
              "      <td>27.720000</td>\n",
              "      <td>80.000000</td>\n",
              "      <td>84.000000</td>\n",
              "    </tr>\n",
              "    <tr>\n",
              "      <th>max</th>\n",
              "      <td>1.000000</td>\n",
              "      <td>70.000000</td>\n",
              "      <td>4.000000</td>\n",
              "      <td>1.000000</td>\n",
              "      <td>50.000000</td>\n",
              "      <td>1.000000</td>\n",
              "      <td>1.000000</td>\n",
              "      <td>1.000000</td>\n",
              "      <td>1.000000</td>\n",
              "      <td>346.000000</td>\n",
              "      <td>230.000000</td>\n",
              "      <td>110.500000</td>\n",
              "      <td>35.200000</td>\n",
              "      <td>103.000000</td>\n",
              "      <td>104.000000</td>\n",
              "    </tr>\n",
              "  </tbody>\n",
              "</table>\n",
              "</div>\n",
              "      <button class=\"colab-df-convert\" onclick=\"convertToInteractive('df-148056d3-4e4e-4e7b-8dc4-6b57a964a1e4')\"\n",
              "              title=\"Convert this dataframe to an interactive table.\"\n",
              "              style=\"display:none;\">\n",
              "        \n",
              "  <svg xmlns=\"http://www.w3.org/2000/svg\" height=\"24px\"viewBox=\"0 0 24 24\"\n",
              "       width=\"24px\">\n",
              "    <path d=\"M0 0h24v24H0V0z\" fill=\"none\"/>\n",
              "    <path d=\"M18.56 5.44l.94 2.06.94-2.06 2.06-.94-2.06-.94-.94-2.06-.94 2.06-2.06.94zm-11 1L8.5 8.5l.94-2.06 2.06-.94-2.06-.94L8.5 2.5l-.94 2.06-2.06.94zm10 10l.94 2.06.94-2.06 2.06-.94-2.06-.94-.94-2.06-.94 2.06-2.06.94z\"/><path d=\"M17.41 7.96l-1.37-1.37c-.4-.4-.92-.59-1.43-.59-.52 0-1.04.2-1.43.59L10.3 9.45l-7.72 7.72c-.78.78-.78 2.05 0 2.83L4 21.41c.39.39.9.59 1.41.59.51 0 1.02-.2 1.41-.59l7.78-7.78 2.81-2.81c.8-.78.8-2.07 0-2.86zM5.41 20L4 18.59l7.72-7.72 1.47 1.35L5.41 20z\"/>\n",
              "  </svg>\n",
              "      </button>\n",
              "      \n",
              "  <style>\n",
              "    .colab-df-container {\n",
              "      display:flex;\n",
              "      flex-wrap:wrap;\n",
              "      gap: 12px;\n",
              "    }\n",
              "\n",
              "    .colab-df-convert {\n",
              "      background-color: #E8F0FE;\n",
              "      border: none;\n",
              "      border-radius: 50%;\n",
              "      cursor: pointer;\n",
              "      display: none;\n",
              "      fill: #1967D2;\n",
              "      height: 32px;\n",
              "      padding: 0 0 0 0;\n",
              "      width: 32px;\n",
              "    }\n",
              "\n",
              "    .colab-df-convert:hover {\n",
              "      background-color: #E2EBFA;\n",
              "      box-shadow: 0px 1px 2px rgba(60, 64, 67, 0.3), 0px 1px 3px 1px rgba(60, 64, 67, 0.15);\n",
              "      fill: #174EA6;\n",
              "    }\n",
              "\n",
              "    [theme=dark] .colab-df-convert {\n",
              "      background-color: #3B4455;\n",
              "      fill: #D2E3FC;\n",
              "    }\n",
              "\n",
              "    [theme=dark] .colab-df-convert:hover {\n",
              "      background-color: #434B5C;\n",
              "      box-shadow: 0px 1px 3px 1px rgba(0, 0, 0, 0.15);\n",
              "      filter: drop-shadow(0px 1px 2px rgba(0, 0, 0, 0.3));\n",
              "      fill: #FFFFFF;\n",
              "    }\n",
              "  </style>\n",
              "\n",
              "      <script>\n",
              "        const buttonEl =\n",
              "          document.querySelector('#df-148056d3-4e4e-4e7b-8dc4-6b57a964a1e4 button.colab-df-convert');\n",
              "        buttonEl.style.display =\n",
              "          google.colab.kernel.accessAllowed ? 'block' : 'none';\n",
              "\n",
              "        async function convertToInteractive(key) {\n",
              "          const element = document.querySelector('#df-148056d3-4e4e-4e7b-8dc4-6b57a964a1e4');\n",
              "          const dataTable =\n",
              "            await google.colab.kernel.invokeFunction('convertToInteractive',\n",
              "                                                     [key], {});\n",
              "          if (!dataTable) return;\n",
              "\n",
              "          const docLinkHtml = 'Like what you see? Visit the ' +\n",
              "            '<a target=\"_blank\" href=https://colab.research.google.com/notebooks/data_table.ipynb>data table notebook</a>'\n",
              "            + ' to learn more about interactive tables.';\n",
              "          element.innerHTML = '';\n",
              "          dataTable['output_type'] = 'display_data';\n",
              "          await google.colab.output.renderOutput(dataTable, element);\n",
              "          const docLink = document.createElement('div');\n",
              "          docLink.innerHTML = docLinkHtml;\n",
              "          element.appendChild(docLink);\n",
              "        }\n",
              "      </script>\n",
              "    </div>\n",
              "  </div>\n",
              "  "
            ]
          },
          "metadata": {},
          "execution_count": 127
        }
      ]
    },
    {
      "cell_type": "code",
      "source": [
        "X_train,X_test,y_train,y_test=train_test_split(X,y,random_state=42,test_size=0.2)\n",
        "lr=linear_model.LogisticRegression()\n",
        "model=lr.fit(X_train,y_train)\n",
        "prediction=model.predict(X_test)\n",
        "print('MSE IS :',mean_squared_error(y_test,predictions))\n",
        "print('R squared value is :',r2_score(y_test,predictions))"
      ],
      "metadata": {
        "colab": {
          "base_uri": "https://localhost:8080/"
        },
        "id": "NjRJ1trhMce5",
        "outputId": "2dd89ff0-5f15-4701-b686-b2b1a8ed5d63"
      },
      "execution_count": null,
      "outputs": [
        {
          "output_type": "stream",
          "name": "stdout",
          "text": [
            "MSE IS : 0.12228260869565218\n",
            "R squared value is : -0.1285458727319191\n"
          ]
        },
        {
          "output_type": "stream",
          "name": "stderr",
          "text": [
            "/usr/local/lib/python3.7/dist-packages/sklearn/linear_model/_logistic.py:818: ConvergenceWarning: lbfgs failed to converge (status=1):\n",
            "STOP: TOTAL NO. of ITERATIONS REACHED LIMIT.\n",
            "\n",
            "Increase the number of iterations (max_iter) or scale the data as shown in:\n",
            "    https://scikit-learn.org/stable/modules/preprocessing.html\n",
            "Please also refer to the documentation for alternative solver options:\n",
            "    https://scikit-learn.org/stable/modules/linear_model.html#logistic-regression\n",
            "  extra_warning_msg=_LOGISTIC_SOLVER_CONVERGENCE_MSG,\n"
          ]
        }
      ]
    },
    {
      "cell_type": "code",
      "source": [
        "corrmatrix=data.corr()\n",
        "plt.subplots(figsize=(20,8))\n",
        "sns.heatmap(corrmatrix,vmin=0.4,vmax=0.9,annot=True,linewidths=0.2,cmap='YlGnBu')"
      ],
      "metadata": {
        "colab": {
          "base_uri": "https://localhost:8080/",
          "height": 573
        },
        "id": "fxxxpapuMnA3",
        "outputId": "24af666b-cf65-4540-ec2f-b74fe34588b5"
      },
      "execution_count": null,
      "outputs": [
        {
          "output_type": "execute_result",
          "data": {
            "text/plain": [
              "<matplotlib.axes._subplots.AxesSubplot at 0x7f5b4515cbd0>"
            ]
          },
          "metadata": {},
          "execution_count": 129
        },
        {
          "output_type": "display_data",
          "data": {
            "text/plain": [
              "<Figure size 1440x576 with 2 Axes>"
            ],
            "image/png": "[encoded data removed]"
          },
          "metadata": {
            "needs_background": "light"
          }
        }
      ]
    },
    {
      "cell_type": "code",
      "source": [
        "data.columns"
      ],
      "metadata": {
        "colab": {
          "base_uri": "https://localhost:8080/"
        },
        "id": "dE1Wv720My42",
        "outputId": "affefa0b-684a-4626-a825-70f354be5457"
      },
      "execution_count": null,
      "outputs": [
        {
          "output_type": "execute_result",
          "data": {
            "text/plain": [
              "Index(['male', 'age', 'education', 'currentSmoker', 'cigsPerDay', 'BPMeds',\n",
              "       'prevalentStroke', 'prevalentHyp', 'diabetes', 'totChol', 'sysBP',\n",
              "       'diaBP', 'BMI', 'heartRate', 'glucose', 'TenYearCHD'],\n",
              "      dtype='object')"
            ]
          },
          "metadata": {},
          "execution_count": 130
        }
      ]
    },
    {
      "cell_type": "code",
      "source": [
        "data.drop(['currentSmoker','cigsPerDay','sysBP','diaBP'],axis=1,inplace=True)"
      ],
      "metadata": {
        "id": "BqqzmxLwM13W"
      },
      "execution_count": null,
      "outputs": []
    },
    {
      "cell_type": "code",
      "source": [
        "y=data['TenYearCHD']\n",
        "X=data.drop('TenYearCHD',axis=1)\n",
        "X_train,X_test,y_train,y_test=train_test_split(X,y,random_state=42,test_size=0.2)\n",
        "lr=linear_model.LogisticRegression()\n",
        "model=lr.fit(X_train,y_train)\n",
        "prediction=model.predict(X_test)\n",
        "print('MSE IS :',mean_squared_error(y_test,prediction))\n",
        "print('R squared value is :',r2_score(y_test,predictions))"
      ],
      "metadata": {
        "colab": {
          "base_uri": "https://localhost:8080/"
        },
        "id": "NvUmpxJONZI8",
        "outputId": "63de936c-d2d0-49e5-9774-3870bd8a1603"
      },
      "execution_count": null,
      "outputs": [
        {
          "output_type": "stream",
          "name": "stdout",
          "text": [
            "MSE IS : 0.12364130434782608\n",
            "R squared value is : -0.1285458727319191\n"
          ]
        },
        {
          "output_type": "stream",
          "name": "stderr",
          "text": [
            "/usr/local/lib/python3.7/dist-packages/sklearn/linear_model/_logistic.py:818: ConvergenceWarning: lbfgs failed to converge (status=1):\n",
            "STOP: TOTAL NO. of ITERATIONS REACHED LIMIT.\n",
            "\n",
            "Increase the number of iterations (max_iter) or scale the data as shown in:\n",
            "    https://scikit-learn.org/stable/modules/preprocessing.html\n",
            "Please also refer to the documentation for alternative solver options:\n",
            "    https://scikit-learn.org/stable/modules/linear_model.html#logistic-regression\n",
            "  extra_warning_msg=_LOGISTIC_SOLVER_CONVERGENCE_MSG,\n"
          ]
        }
      ]
    },
    {
      "cell_type": "code",
      "source": [],
      "metadata": {
        "id": "HuHE-GNZNmoQ"
      },
      "execution_count": null,
      "outputs": []
    }
  ]
}